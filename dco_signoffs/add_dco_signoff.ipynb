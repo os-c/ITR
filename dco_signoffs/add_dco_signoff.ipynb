{
 "cells": [
  {
   "cell_type": "markdown",
   "metadata": {
    "collapsed": true,
    "pycharm": {
     "name": "#%% md\n"
    }
   },
   "source": [
    "## Example of adding DCO signoff to previous unsigned commits\n",
    "The result is a .txt file (named as -Name-.txt) with the following statement:\n",
    "I, -Name-, hereby sign-off-by all of my past commits to this repo subject to the Developer Certificate of Origin (DCO),\n",
    "Version 1.1. In the past I have used emails: -email addresses-\n",
    "-SHA- -Commit message-\n",
    "etc.\n",
    "\n",
    "Please note that the supplied functions use the [GitPython](https://gitpython.readthedocs.io/en/stable/index.html) package. This package can be installed with the command:\n",
    "`pip install GitPython`"
   ]
  },
  {
   "cell_type": "markdown",
   "source": [
    "Import functions"
   ],
   "metadata": {
    "collapsed": false,
    "pycharm": {
     "name": "#%% md\n"
    }
   }
  },
  {
   "cell_type": "code",
   "execution_count": null,
   "outputs": [],
   "source": [
    "from dco import get_unsigned_commits, get_authors, get_authors_unsigned_commits, add_dco_signoff_to_file"
   ],
   "metadata": {
    "collapsed": false,
    "pycharm": {
     "name": "#%%\n"
    }
   }
  },
  {
   "cell_type": "markdown",
   "source": [
    "Specify the local path to the ITR repository, initialize a GitPython Repo object and checkout the develop branch:"
   ],
   "metadata": {
    "collapsed": false
   }
  },
  {
   "cell_type": "code",
   "execution_count": null,
   "outputs": [],
   "source": [
    "GIT_PATH = 'C:\\src\\ITR' # Supply path to local git repository, e.g. 'C:\\src\\ITR'\n",
    "repo = git.Repo(GIT_PATH)\n",
    "repo.heads.develop.checkout()"
   ],
   "metadata": {
    "collapsed": false,
    "pycharm": {
     "name": "#%%\n"
    }
   }
  },
  {
   "cell_type": "markdown",
   "source": [
    "Next, list all authors of currently unsigned commits."
   ],
   "metadata": {
    "collapsed": false,
    "pycharm": {
     "name": "#%% md\n"
    }
   }
  },
  {
   "cell_type": "code",
   "execution_count": null,
   "outputs": [],
   "source": [
    "print(get_authors_unsigned_commits(repo))"
   ],
   "metadata": {
    "collapsed": false,
    "pycharm": {
     "name": "#%%\n"
    }
   }
  },
  {
   "cell_type": "markdown",
   "source": [
    "Identify which of the listed authors you are or are responsible for, and assign them to a variable. Note that the value\n",
    "assigned to the name variable equals the name of the resulting file."
   ],
   "metadata": {
    "collapsed": false,
    "pycharm": {
     "name": "#%% md\n"
    }
   }
  },
  {
   "cell_type": "code",
   "execution_count": null,
   "outputs": [],
   "source": [
    "name = \"Your name\"\n",
    "authors = [\"Author name\"]\n",
    "email_addresses = ['past email address of author']\n",
    "add_dco_signoff_to_file(repo, name, authors, email_addresses)"
   ],
   "metadata": {
    "collapsed": false,
    "pycharm": {
     "name": "#%%\n"
    }
   }
  },
  {
   "cell_type": "markdown",
   "source": [
    "If you are signing off on behalf of someone else, for example a former employee of your company, please add a message as\n",
    "a complete string of the form:\n",
    "I, -Name-, hereby sign-off-by all of my past commits to this repo subject to the Developer Certificate of Origin (DCO),\n",
    "Version 1.1. In the past I have used emails: -email addresses-\n",
    "\n",
    "Provide your name and the name of the person you are signing off for as the `name` variable.\n",
    "\n",
    "For example:"
   ],
   "metadata": {
    "collapsed": false,
    "pycharm": {
     "name": "#%% md\n"
    }
   }
  },
  {
   "cell_type": "code",
   "execution_count": null,
   "outputs": [],
   "source": [
    "declaration = \"I, David Kroon, as representative of Ortec Finance, hereby sign-off-by all of the past commits by Jur de Jong to\" +\\\n",
    "    \"this repo subject to the Developer Certificate of Origin (DCO), Version 1.1.\" +\\\n",
    "    \"Emails used in the past are: jur.de.jong@ortecfinance.com.\"\n",
    "name = \"David Kroon (on behalf of Jur de Jong)\""
   ],
   "metadata": {
    "collapsed": false,
    "pycharm": {
     "name": "#%%\n"
    }
   }
  }
 ],
 "metadata": {
  "kernelspec": {
   "display_name": "Python 3",
   "language": "python",
   "name": "python3"
  },
  "language_info": {
   "codemirror_mode": {
    "name": "ipython",
    "version": 2
   },
   "file_extension": ".py",
   "mimetype": "text/x-python",
   "name": "python",
   "nbconvert_exporter": "python",
   "pygments_lexer": "ipython2",
   "version": "2.7.6"
  }
 },
 "nbformat": 4,
 "nbformat_minor": 0
}