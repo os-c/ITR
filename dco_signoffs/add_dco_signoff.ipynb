{
 "cells": [
  {
   "cell_type": "markdown",
   "metadata": {
    "collapsed": true,
    "pycharm": {
     "name": "#%% md\n"
    }
   },
   "source": [
    "## Example of adding DCO signoff to previous unsigned commits\n",
    "The result is a .txt file (named as -Name-.txt) with the following statement:\n",
    "I, -Name-, hereby sign-off-by all of my past commits to this repo subject to the Developer Certificate of Origin (DCO),\n",
    "Version 1.1. In the past I have used emails: -email addresses-\n",
    "-SHA- -Commit message-\n",
    "etc.\n",
    "\n",
    "Please note that the supplied functions use the [GitPython](https://gitpython.readthedocs.io/en/stable/index.html) package. This package can be installed with the command:\n",
    "`pip install GitPython`"
   ]
  },
  {
   "cell_type": "markdown",
   "metadata": {
    "pycharm": {
     "name": "#%% md\n"
    }
   },
   "source": [
    "Import functions"
   ]
  },
  {
   "cell_type": "code",
   "execution_count": null,
   "metadata": {
    "pycharm": {
     "name": "#%%\n"
    }
   },
   "outputs": [],
   "source": [
    "import git\n",
    "from dco import get_authors_unsigned_commits, add_dco_signoff_to_file"
   ]
  },
  {
   "cell_type": "markdown",
   "metadata": {},
   "source": [
    "Specify the local path to the ITR repository, initialize a GitPython Repo object and make sure that you have checked\n",
    "out the develop branch:"
   ]
  },
  {
   "cell_type": "code",
   "execution_count": null,
   "metadata": {
    "pycharm": {
     "name": "#%%\n"
    }
   },
   "outputs": [],
   "source": [
    "GIT_PATH = 'C:\\src\\ITR' # Supply path to local git repository, e.g. 'C:\\src\\ITR'\n",
    "repo = git.Repo(GIT_PATH)"
   ]
  },
  {
   "cell_type": "markdown",
   "metadata": {
    "pycharm": {
     "name": "#%% md\n"
    }
   },
   "source": [
    "Next, list all authors of currently unsigned commits."
   ]
  },
  {
   "cell_type": "code",
   "execution_count": null,
   "metadata": {
    "pycharm": {
     "name": "#%%\n"
    }
   },
   "outputs": [],
   "source": [
    "print(get_authors_unsigned_commits(repo))"
   ]
  },
  {
   "cell_type": "markdown",
   "metadata": {
    "pycharm": {
     "name": "#%% md\n"
    }
   },
   "source": [
    "Identify which of the listed authors you are or are responsible for, and assign them to a variable. Note that the value\n",
    "assigned to the name variable equals the name of the resulting file."
   ]
  },
  {
   "cell_type": "code",
   "execution_count": null,
   "metadata": {
    "pycharm": {
     "name": "#%%\n"
    }
   },
   "outputs": [],
   "source": [
    "name = \"Your name\"\n",
    "authors = [\"Author name\"]\n",
    "email_addresses = ['past email address of author']\n",
    "add_dco_signoff_to_file(repo, name, authors, email_addresses)"
   ]
  },
  {
   "cell_type": "markdown",
   "metadata": {
    "pycharm": {
     "name": "#%% md\n"
    }
   },
   "source": [
    "If you are signing off on behalf of someone else, for example a former employee of your company, please add a message as\n",
    "a complete string of the form:\n",
    "I, -Name-, hereby sign-off-by all of my past commits to this repo subject to the Developer Certificate of Origin (DCO),\n",
    "Version 1.1. In the past I have used emails: -email addresses-\n",
    "\n",
    "Provide your name and the name of the person you are signing off for as the `name` variable.\n",
    "\n",
    "For example:"
   ]
  },
  {
   "cell_type": "code",
   "execution_count": null,
   "metadata": {
    "pycharm": {
     "name": "#%%\n"
    }
   },
   "outputs": [],
   "source": [
    "declaration = \"I, David Kroon, as representative of Ortec Finance, hereby sign-off-by all of the past commits by Jur de Jong to\" +\\\n",
    "    \"this repo subject to the Developer Certificate of Origin (DCO), Version 1.1.\" +\\\n",
    "    \"Emails used in the past are: jur.de.jong@ortecfinance.com.\"\n",
    "name = \"David Kroon (on behalf of Jur de Jong)\""
   ]
  }
 ],
 "metadata": {
  "kernelspec": {
   "display_name": "Python 3 (ipykernel)",
   "language": "python",
   "name": "python3"
  },
  "language_info": {
   "codemirror_mode": {
    "name": "ipython",
    "version": 3
   },
   "file_extension": ".py",
   "mimetype": "text/x-python",
   "name": "python",
   "nbconvert_exporter": "python",
   "pygments_lexer": "ipython3",
   "version": "3.9.13"
  }
 },
 "nbformat": 4,
 "nbformat_minor": 1
}
