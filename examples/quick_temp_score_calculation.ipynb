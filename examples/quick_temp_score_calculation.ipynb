{
 "cells": [
  {
   "cell_type": "markdown",
   "metadata": {},
   "source": [
    "# ITR Tool - Quick Temperature Score Calculation\n",
    "This notebook provides a simple example of the ITR Toolkit. It shows how to use it to calculate the temperature score for companies, aggregate them to a portfolio level to get the portfolio temperature score. \n"
   ]
  },
  {
   "cell_type": "markdown",
   "metadata": {},
   "source": [
    "### Getting started\n",
    "Make sure you are running the notebook with the requirements installed available in the example folder"
   ]
  },
  {
   "cell_type": "code",
   "execution_count": 1,
   "metadata": {},
   "outputs": [],
   "source": [
    "#If not already installed uncomment line below\n",
    "#!pip install ITR"
   ]
  },
  {
   "cell_type": "code",
   "execution_count": 2,
   "metadata": {
    "tags": []
   },
   "outputs": [],
   "source": [
    "import ITR\n",
    "from ITR.data.excel import ExcelProviderCompany, ExcelProviderProductionBenchmark, ExcelProviderIntensityBenchmark\n",
    "from ITR.data.data_warehouse import DataWarehouse\n",
    "from ITR.portfolio_aggregation import PortfolioAggregationMethod\n",
    "from ITR.temperature_score import TemperatureScore\n",
    "from ITR.interfaces import ETimeFrames, PScope\n",
    "import pandas as pd"
   ]
  },
  {
   "cell_type": "markdown",
   "metadata": {},
   "source": [
    "## Download the dummy data warehouse\n",
    "\n",
    "We have prepared dummy data for you to be able to run the tool as it is to familiarise yourself with how it works. To use your own data; please check out to the [Data Requirements section](https://os-c.github.io/ITR/DataRequirements.html) of the technical documentation for more details on data requirements and formatting. \n",
    "\n",
    "*The dummy data may include some company names, but the data associated with those company names is completely random and any similarities with real world data is purely coincidental. \n"
   ]
  },
  {
   "cell_type": "code",
   "execution_count": 3,
   "metadata": {},
   "outputs": [],
   "source": [
    "import urllib.request\n",
    "import os\n",
    "\n",
    "if not os.path.isdir(\"data\"):\n",
    "    os.mkdir(\"data\")\n",
    "if not os.path.isfile(\"data/rmi-20211120-output.xlsx\"):\n",
    "    urllib.request.urlretrieve(\"https://github.com/os-c/ITR/raw/main/examples/data/test_data_company.xlsx\", \"data/test_data_company.xlsx\")\n",
    "if not os.path.isfile(\"data/OECM_EI_and_production_benchmarks.xlsx\"):\n",
    "    urllib.request.urlretrieve(\"https://github.com/os-c/ITR/raw/main/examples/data/OECM_EI_and_production_benchmarks.xlsx\", \"data/OECM_EI_and_production_benchmarks.xlsx\")\n",
    "if not os.path.isfile(\"data/example_portfolio.csv\"):\n",
    "    urllib.request.urlretrieve(\"https://github.com/os-c/ITR/raw/main/examples/data/example_portfolio.csv\", \"data/example_portfolio.csv\")\n",
    "if not os.path.isfile(\"utils.py\"):\n",
    "    urllib.request.urlretrieve(\"https://github.com/os-c/ITR/raw/main/examples/utils.py\", \"utils.py\")\n",
    "try:  # Import statement when run in remote Jupyter servers from AWS Google etc..\n",
    "    from utils import collect_company_contributions, plot_grouped_statistics, anonymize, \\\n",
    "        plot_grouped_heatmap, print_grouped_scores, get_contributions_per_group\n",
    "except:  # Import statement when run locally\n",
    "    from utils import collect_company_contributions, plot_grouped_statistics, anonymize, \\\n",
    "        plot_grouped_heatmap, print_grouped_scores, get_contributions_per_group"
   ]
  },
  {
   "cell_type": "markdown",
   "metadata": {},
   "source": [
    "##### Logging\n",
    "The ITR module uses the Python standard library logging utilities to send log messages. The log level can be changed according to the user's needs."
   ]
  },
  {
   "cell_type": "code",
   "execution_count": 4,
   "metadata": {},
   "outputs": [],
   "source": [
    "import logging\n",
    "root_logger = logging.getLogger()\n",
    "root_logger.setLevel(\"INFO\")"
   ]
  },
  {
   "cell_type": "markdown",
   "metadata": {},
   "source": [
    "## Create a data provider\n",
    "Data providers let you connect to the data source of your choice. In this case we are connecting to Excel as a data provider. "
   ]
  },
  {
   "cell_type": "code",
   "execution_count": 5,
   "metadata": {},
   "outputs": [],
   "source": [
    "excel_company_data = ExcelProviderCompany(excel_path=\"data/rmi-20211120-output.xlsx\")\n",
    "excel_production_bm = ExcelProviderProductionBenchmark(excel_path=\"data/OECM_EI_and_production_benchmarks.xlsx\")\n",
    "excel_EI_bm = ExcelProviderIntensityBenchmark(excel_path=\"data/OECM_EI_and_production_benchmarks.xlsx\",benchmark_temperature=1.5,\n",
    "                                                           benchmark_global_budget=396, is_AFOLU_included=False)\n",
    "excel_provider = DataWarehouse(excel_company_data, excel_production_bm, excel_EI_bm)"
   ]
  },
  {
   "cell_type": "markdown",
   "metadata": {},
   "source": [
    "## Load your portfolio\n",
    "In our case the portfolio is stored as a CSV file. The portfolio should at least have an \"id\" (the identifier of the company) and a \"proportion\" (the weight of the company in your portfolio e.g. the value of the shares you hold) column.\n",
    "\n",
    "Please see the technical documentation on [Data Legends](https://ofbdabv.github.io/ITR/Legends.html#) for details on data requirements."
   ]
  },
  {
   "cell_type": "code",
   "execution_count": 6,
   "metadata": {},
   "outputs": [],
   "source": [
    "df_portfolio = pd.read_csv(\"data/rmi-20211120-portfolio.csv\", encoding=\"iso-8859-1\", sep=';')"
   ]
  },
  {
   "cell_type": "code",
   "execution_count": 7,
   "metadata": {},
   "outputs": [
    {
     "data": {
      "text/html": [
       "<div>\n",
       "<style scoped>\n",
       "    .dataframe tbody tr th:only-of-type {\n",
       "        vertical-align: middle;\n",
       "    }\n",
       "\n",
       "    .dataframe tbody tr th {\n",
       "        vertical-align: top;\n",
       "    }\n",
       "\n",
       "    .dataframe thead th {\n",
       "        text-align: right;\n",
       "    }\n",
       "</style>\n",
       "<table border=\"1\" class=\"dataframe\">\n",
       "  <thead>\n",
       "    <tr style=\"text-align: right;\">\n",
       "      <th></th>\n",
       "      <th>company_name</th>\n",
       "      <th>company_lei</th>\n",
       "      <th>company_id</th>\n",
       "      <th>investment_value</th>\n",
       "    </tr>\n",
       "  </thead>\n",
       "  <tbody>\n",
       "    <tr>\n",
       "      <th>0</th>\n",
       "      <td>AES Corp.</td>\n",
       "      <td>2NUNNB7D43COUIRE5295</td>\n",
       "      <td>US00130H1059</td>\n",
       "      <td>4351252</td>\n",
       "    </tr>\n",
       "    <tr>\n",
       "      <th>1</th>\n",
       "      <td>Algonquin Power &amp; Utilities Corp.</td>\n",
       "      <td>549300K5VIUTJXQL7X75</td>\n",
       "      <td>US0158577090</td>\n",
       "      <td>2228185</td>\n",
       "    </tr>\n",
       "    <tr>\n",
       "      <th>2</th>\n",
       "      <td>ALLETE, Inc.</td>\n",
       "      <td>549300NNLSIMY6Z8OT86</td>\n",
       "      <td>US0185223007</td>\n",
       "      <td>3829481</td>\n",
       "    </tr>\n",
       "    <tr>\n",
       "      <th>3</th>\n",
       "      <td>Alliant Energy</td>\n",
       "      <td>5493009ML300G373MZ12</td>\n",
       "      <td>US0188021085</td>\n",
       "      <td>3829481</td>\n",
       "    </tr>\n",
       "    <tr>\n",
       "      <th>4</th>\n",
       "      <td>Ameren Corp.</td>\n",
       "      <td>XRZQ5S7HYJFPHJ78L959</td>\n",
       "      <td>US0236081024</td>\n",
       "      <td>15917812</td>\n",
       "    </tr>\n",
       "  </tbody>\n",
       "</table>\n",
       "</div>"
      ],
      "text/plain": [
       "                        company_name           company_lei    company_id  \\\n",
       "0                          AES Corp.  2NUNNB7D43COUIRE5295  US00130H1059   \n",
       "1  Algonquin Power & Utilities Corp.  549300K5VIUTJXQL7X75  US0158577090   \n",
       "2                       ALLETE, Inc.  549300NNLSIMY6Z8OT86  US0185223007   \n",
       "3                     Alliant Energy  5493009ML300G373MZ12  US0188021085   \n",
       "4                       Ameren Corp.  XRZQ5S7HYJFPHJ78L959  US0236081024   \n",
       "\n",
       "   investment_value  \n",
       "0           4351252  \n",
       "1           2228185  \n",
       "2           3829481  \n",
       "3           3829481  \n",
       "4          15917812  "
      ]
     },
     "execution_count": 7,
     "metadata": {},
     "output_type": "execute_result"
    }
   ],
   "source": [
    "df_portfolio.head(5)"
   ]
  },
  {
   "cell_type": "markdown",
   "metadata": {},
   "source": [
    "To load the data from the data provider, we have to pass a list of IPortfolioCompany instances. The module has a strict [data model](https://ofbdabv.github.io/ITR/autoapi/ITR/interfaces/index.html) to convert Pandas Dataframe to the right object types we supplied a utility function.\n"
   ]
  },
  {
   "cell_type": "code",
   "execution_count": 8,
   "metadata": {},
   "outputs": [],
   "source": [
    "companies = ITR.utils.dataframe_to_portfolio(df_portfolio)"
   ]
  },
  {
   "cell_type": "markdown",
   "metadata": {},
   "source": [
    "## Calculate the temperature scores\n",
    "In the amended portfolio you'll find your original portfolio, amended with the emissions and the temperature score."
   ]
  },
  {
   "cell_type": "code",
   "execution_count": 9,
   "metadata": {},
   "outputs": [
    {
     "data": {
      "text/html": [
       "<div>\n",
       "<style scoped>\n",
       "    .dataframe tbody tr th:only-of-type {\n",
       "        vertical-align: middle;\n",
       "    }\n",
       "\n",
       "    .dataframe tbody tr th {\n",
       "        vertical-align: top;\n",
       "    }\n",
       "\n",
       "    .dataframe thead th {\n",
       "        text-align: right;\n",
       "    }\n",
       "</style>\n",
       "<table border=\"1\" class=\"dataframe\">\n",
       "  <thead>\n",
       "    <tr style=\"text-align: right;\">\n",
       "      <th></th>\n",
       "      <th>sector</th>\n",
       "      <th>region</th>\n",
       "      <th>production</th>\n",
       "      <th>ghg_s1s2</th>\n",
       "      <th>emission_intensity_at_base_year</th>\n",
       "    </tr>\n",
       "    <tr>\n",
       "      <th>company_id</th>\n",
       "      <th></th>\n",
       "      <th></th>\n",
       "      <th></th>\n",
       "      <th></th>\n",
       "      <th></th>\n",
       "    </tr>\n",
       "  </thead>\n",
       "  <tbody>\n",
       "    <tr>\n",
       "      <th>US0185223007</th>\n",
       "      <td>Electricity Utilities</td>\n",
       "      <td>North America</td>\n",
       "      <td>6.490906</td>\n",
       "      <td>4.383048</td>\n",
       "      <td>1.873292</td>\n",
       "    </tr>\n",
       "  </tbody>\n",
       "</table>\n",
       "</div>"
      ],
      "text/plain": [
       "                             sector         region  production  ghg_s1s2  \\\n",
       "company_id                                                                 \n",
       "US0185223007  Electricity Utilities  North America    6.490906  4.383048   \n",
       "\n",
       "              emission_intensity_at_base_year  \n",
       "company_id                                     \n",
       "US0185223007                         1.873292  "
      ]
     },
     "execution_count": 9,
     "metadata": {},
     "output_type": "execute_result"
    }
   ],
   "source": [
    "excel_provider.company_data.get_company_intensity_and_production_at_base_year(['US0185223007'])"
   ]
  },
  {
   "cell_type": "code",
   "execution_count": 10,
   "metadata": {},
   "outputs": [],
   "source": [
    "temperature_score = TemperatureScore(               \n",
    "    time_frames = [ETimeFrames.LONG],     \n",
    "    scopes=[PScope.S1S2],    \n",
    "    aggregation_method=PortfolioAggregationMethod.WATS # Options for the aggregation method are WATS, TETS, AOTS, MOTS, EOTS, ECOTS, and ROTS.\n",
    ")\n",
    "amended_portfolio = temperature_score.calculate(data_warehouse=excel_provider, portfolio=companies)"
   ]
  },
  {
   "cell_type": "markdown",
   "metadata": {},
   "source": [
    "For every company the tool assigns a score for all the requested timeframe and scope combinations. For now the ITR methodolgy only support a long timeframe in combination with a S1S2 scope"
   ]
  },
  {
   "cell_type": "code",
   "execution_count": 11,
   "metadata": {},
   "outputs": [
    {
     "data": {
      "text/html": [
       "<div>\n",
       "<style scoped>\n",
       "    .dataframe tbody tr th:only-of-type {\n",
       "        vertical-align: middle;\n",
       "    }\n",
       "\n",
       "    .dataframe tbody tr th {\n",
       "        vertical-align: top;\n",
       "    }\n",
       "\n",
       "    .dataframe thead th {\n",
       "        text-align: right;\n",
       "    }\n",
       "</style>\n",
       "<table border=\"1\" class=\"dataframe\">\n",
       "  <thead>\n",
       "    <tr style=\"text-align: right;\">\n",
       "      <th></th>\n",
       "      <th>company_name</th>\n",
       "      <th>time_frame</th>\n",
       "      <th>scope</th>\n",
       "      <th>temperature_score</th>\n",
       "    </tr>\n",
       "  </thead>\n",
       "  <tbody>\n",
       "    <tr>\n",
       "      <th>0</th>\n",
       "      <td>Emera Inc.</td>\n",
       "      <td>LONG</td>\n",
       "      <td>S1S2</td>\n",
       "      <td>3.56</td>\n",
       "    </tr>\n",
       "    <tr>\n",
       "      <th>1</th>\n",
       "      <td>Fortis, Inc</td>\n",
       "      <td>LONG</td>\n",
       "      <td>S1S2</td>\n",
       "      <td>3.17</td>\n",
       "    </tr>\n",
       "    <tr>\n",
       "      <th>2</th>\n",
       "      <td>AES Corp.</td>\n",
       "      <td>LONG</td>\n",
       "      <td>S1S2</td>\n",
       "      <td>2.56</td>\n",
       "    </tr>\n",
       "    <tr>\n",
       "      <th>3</th>\n",
       "      <td>Algonquin Power &amp; Utilities Corp.</td>\n",
       "      <td>LONG</td>\n",
       "      <td>S1S2</td>\n",
       "      <td>3.20</td>\n",
       "    </tr>\n",
       "    <tr>\n",
       "      <th>4</th>\n",
       "      <td>ALLETE, Inc.</td>\n",
       "      <td>LONG</td>\n",
       "      <td>S1S2</td>\n",
       "      <td>2.46</td>\n",
       "    </tr>\n",
       "    <tr>\n",
       "      <th>5</th>\n",
       "      <td>Alliant Energy</td>\n",
       "      <td>LONG</td>\n",
       "      <td>S1S2</td>\n",
       "      <td>3.78</td>\n",
       "    </tr>\n",
       "    <tr>\n",
       "      <th>6</th>\n",
       "      <td>Ameren Corp.</td>\n",
       "      <td>LONG</td>\n",
       "      <td>S1S2</td>\n",
       "      <td>6.07</td>\n",
       "    </tr>\n",
       "    <tr>\n",
       "      <th>7</th>\n",
       "      <td>American Electric Power Co., Inc.</td>\n",
       "      <td>LONG</td>\n",
       "      <td>S1S2</td>\n",
       "      <td>13.47</td>\n",
       "    </tr>\n",
       "    <tr>\n",
       "      <th>8</th>\n",
       "      <td>Avangrid, Inc.</td>\n",
       "      <td>LONG</td>\n",
       "      <td>S1S2</td>\n",
       "      <td>1.32</td>\n",
       "    </tr>\n",
       "  </tbody>\n",
       "</table>\n",
       "</div>"
      ],
      "text/plain": [
       "                        company_name time_frame scope  temperature_score\n",
       "0                         Emera Inc.       LONG  S1S2               3.56\n",
       "1                        Fortis, Inc       LONG  S1S2               3.17\n",
       "2                          AES Corp.       LONG  S1S2               2.56\n",
       "3  Algonquin Power & Utilities Corp.       LONG  S1S2               3.20\n",
       "4                       ALLETE, Inc.       LONG  S1S2               2.46\n",
       "5                     Alliant Energy       LONG  S1S2               3.78\n",
       "6                       Ameren Corp.       LONG  S1S2               6.07\n",
       "7  American Electric Power Co., Inc.       LONG  S1S2              13.47\n",
       "8                     Avangrid, Inc.       LONG  S1S2               1.32"
      ]
     },
     "execution_count": 11,
     "metadata": {},
     "output_type": "execute_result"
    }
   ],
   "source": [
    "amended_portfolio[['company_name', 'time_frame', 'scope', 'temperature_score']].head(9)"
   ]
  },
  {
   "cell_type": "markdown",
   "metadata": {},
   "source": [
    "## Calculate the aggregated temperature score\n",
    "Calculate an aggregated temperature score. This can be done using different aggregation methods. Here we'll use the \"Weighted Average Temperature Score\" (WATS) by initializing the TemperatureScore Object with PortfolioAggregationMethod.WATS. The temperature scores are calculated per time-frame/scope combination.\n"
   ]
  },
  {
   "cell_type": "code",
   "execution_count": 12,
   "metadata": {},
   "outputs": [],
   "source": [
    "aggregated_scores = temperature_score.aggregate_scores(amended_portfolio)"
   ]
  },
  {
   "cell_type": "code",
   "execution_count": 13,
   "metadata": {},
   "outputs": [
    {
     "data": {
      "text/plain": [
       "10.56493695895286"
      ]
     },
     "execution_count": 13,
     "metadata": {},
     "output_type": "execute_result"
    }
   ],
   "source": [
    "aggregated_scores.long.S1S2.all.score"
   ]
  },
  {
   "cell_type": "markdown",
   "metadata": {},
   "source": [
    "\n",
    "The first analysis of your portfolio could be to understand if you have any particular hotspots in your portfolio. We can do that by analysing different groupings of companies.\n",
    "\n",
    "The tool allows you to calculate temperature scores for _groups_ of companies. In this example we group the scores by sector and region, and leave the timeframe and scope unchanged. Any categorical variable in the data provided by you or your data provider (in the `test_company_data.xlsx` imported above) can be used as grouping variable, e.g. sectors, industries, regions, countries, market cap buckets, as well as the additional fields you imported via the portfolio data.\n",
    "\n",
    "You can change the variable by which the data is grouped by replacing the fourth line in the following cell. For example, replacing \"grouping=['sector', 'region']\" by \"grouping=['sector', 'country']\" would result in temperature scores per sector per country. \n",
    "If you want to change the time frame as well, please refer to the section 'Calculate the company temperature scores' above.\n",
    "\n"
   ]
  },
  {
   "cell_type": "code",
   "execution_count": 14,
   "metadata": {
    "tags": []
   },
   "outputs": [],
   "source": [
    "grouping = ['sector', 'region']\n",
    "temperature_score.grouping = grouping\n",
    "grouped_portfolio = temperature_score.calculate(data_warehouse=excel_provider, portfolio=companies)\n",
    "grouped_aggregations = temperature_score.aggregate_scores(grouped_portfolio)"
   ]
  },
  {
   "cell_type": "markdown",
   "metadata": {},
   "source": [
    "\n",
    "The aggregated scores can then be used, for example, to show the relation between sectors and regions with respect to temperature score.\n",
    "A visualization of this relation is shown in the heatmap below. The grey fields indicate that the portfolio contains no assest for those combinations.\n",
    "\n",
    "##### Quick analysis\n",
    "\n",
    "We can see here that our Suth American Steelis in reasonable shape. While Asian Steel can be improved as shown in the drill down below the graph\n",
    "\n"
   ]
  },
  {
   "cell_type": "code",
   "execution_count": 15,
   "metadata": {},
   "outputs": [
    {
     "data": {
      "image/png": "[encoded data removed]",
      "text/plain": [
       "<Figure size 64.8x115.2 with 2 Axes>"
      ]
     },
     "metadata": {
      "needs_background": "light"
     },
     "output_type": "display_data"
    }
   ],
   "source": [
    "analysis_parameters = ([ETimeFrames.LONG], [PScope.S1S2], grouping)\n",
    "plot_grouped_heatmap(grouped_aggregations, analysis_parameters)"
   ]
  },
  {
   "cell_type": "raw",
   "metadata": {},
   "source": [
    "region =  'Asia'\n",
    "sector = 'Steel'\n",
    "group = sector + '-' + region\n",
    "group_contributions = get_contributions_per_group(grouped_aggregations, analysis_parameters, group)\n",
    "group_contributions.round(2)"
   ]
  },
  {
   "cell_type": "markdown",
   "metadata": {},
   "source": [
    "#### Sector analysis\n",
    "\n",
    "Sector analysis may help us with bringing some clarity into our analysis from the heatmap above. In order to identify the companies that your portfolio would most benefit from engaging with, we can start with identifying the biggest contributing sectors to the portfolio's temperature score, as in our example below.\n",
    "\n",
    "Contributions can be identified on an individual company level, as well as contributions from companies grouped by one of their characteristics, e.g. sector or region. The exact definitions of companies' contributions to the portfolio temperature scores depend on the selected aggregation method.\n",
    "\n",
    "You can group companies on any categorical variable (e.g. sectors, countries, market cap buckets, investment strategies, etc)  you provide through your dataprovider, in this example in the test_company_data.xlsx imported above.\n",
    "\n",
    "For our analysis we select one time-frame (LONG) and one scope (S1+S2) and group the outcomes on sector and compare AUM to temperature score contribution. We also then display the sector temperature scores.\n",
    "\n",
    "##### Quick analysis\n",
    "\n",
    "In this example we can see that both sectors Steel and Electricity are scoring above 2.0C. \n"
   ]
  },
  {
   "cell_type": "code",
   "execution_count": 16,
   "metadata": {},
   "outputs": [],
   "source": [
    "time_frames = [ETimeFrames.LONG]\n",
    "scopes = [PScope.S1S2]\n",
    "grouping = ['sector']\n",
    "analysis_parameters = (time_frames, scopes, grouping)\n",
    "\n",
    "temperature_score = TemperatureScore(time_frames=time_frames,\n",
    "                                     scopes=scopes,\n",
    "                                     grouping=grouping)\n",
    "amended_portfolio = temperature_score.calculate(data_warehouse=excel_provider, portfolio=companies)\n",
    "aggregated_portfolio = temperature_score.aggregate_scores(amended_portfolio)\n",
    "company_contributions = collect_company_contributions(aggregated_portfolio, amended_portfolio, analysis_parameters)"
   ]
  },
  {
   "cell_type": "code",
   "execution_count": 17,
   "metadata": {},
   "outputs": [
    {
     "data": {
      "image/png": "[encoded data removed]",
      "text/plain": [
       "<Figure size 720x540 with 3 Axes>"
      ]
     },
     "metadata": {
      "needs_background": "light"
     },
     "output_type": "display_data"
    }
   ],
   "source": [
    "plot_grouped_statistics(aggregated_portfolio, company_contributions, analysis_parameters)"
   ]
  },
  {
   "cell_type": "markdown",
   "metadata": {},
   "source": [
    "We can use what we learned from this analysis to drill into a few of the highest contributing scoring sectors to see which\n",
    "companies are the biggest contributors on the sector level. Considering the Steel sector, for instance, in the\n",
    "table below.\n"
   ]
  },
  {
   "cell_type": "code",
   "execution_count": 18,
   "metadata": {},
   "outputs": [
    {
     "data": {
      "text/html": [
       "<div>\n",
       "<style scoped>\n",
       "    .dataframe tbody tr th:only-of-type {\n",
       "        vertical-align: middle;\n",
       "    }\n",
       "\n",
       "    .dataframe tbody tr th {\n",
       "        vertical-align: top;\n",
       "    }\n",
       "\n",
       "    .dataframe thead th {\n",
       "        text-align: right;\n",
       "    }\n",
       "</style>\n",
       "<table border=\"1\" class=\"dataframe\">\n",
       "  <thead>\n",
       "    <tr style=\"text-align: right;\">\n",
       "      <th></th>\n",
       "      <th>company_name</th>\n",
       "      <th>company_id</th>\n",
       "      <th>sector</th>\n",
       "      <th>contribution</th>\n",
       "      <th>temperature_score</th>\n",
       "      <th>ownership_percentage</th>\n",
       "      <th>portfolio_percentage</th>\n",
       "    </tr>\n",
       "  </thead>\n",
       "  <tbody>\n",
       "    <tr>\n",
       "      <th>0</th>\n",
       "      <td>Duke Energy Corp.</td>\n",
       "      <td>US26441C2044</td>\n",
       "      <td>Electricity Utilities</td>\n",
       "      <td>37.33</td>\n",
       "      <td>30.09</td>\n",
       "      <td>0.11</td>\n",
       "      <td>13.11</td>\n",
       "    </tr>\n",
       "    <tr>\n",
       "      <th>1</th>\n",
       "      <td>Southern Co.</td>\n",
       "      <td>US8425871071</td>\n",
       "      <td>Electricity Utilities</td>\n",
       "      <td>19.98</td>\n",
       "      <td>23.40</td>\n",
       "      <td>0.09</td>\n",
       "      <td>9.02</td>\n",
       "    </tr>\n",
       "    <tr>\n",
       "      <th>2</th>\n",
       "      <td>American Electric Power Co., Inc.</td>\n",
       "      <td>US0255371017</td>\n",
       "      <td>Electricity Utilities</td>\n",
       "      <td>10.41</td>\n",
       "      <td>13.47</td>\n",
       "      <td>0.10</td>\n",
       "      <td>8.17</td>\n",
       "    </tr>\n",
       "    <tr>\n",
       "      <th>3</th>\n",
       "      <td>Dominion Energy</td>\n",
       "      <td>US25746U1097</td>\n",
       "      <td>Electricity Utilities</td>\n",
       "      <td>7.04</td>\n",
       "      <td>12.37</td>\n",
       "      <td>0.05</td>\n",
       "      <td>6.01</td>\n",
       "    </tr>\n",
       "    <tr>\n",
       "      <th>4</th>\n",
       "      <td>Evergy, Inc.</td>\n",
       "      <td>US30034W1062</td>\n",
       "      <td>Electricity Utilities</td>\n",
       "      <td>3.68</td>\n",
       "      <td>11.88</td>\n",
       "      <td>0.13</td>\n",
       "      <td>3.27</td>\n",
       "    </tr>\n",
       "    <tr>\n",
       "      <th>5</th>\n",
       "      <td>Xcel Energy, Inc.</td>\n",
       "      <td>US98389B1008</td>\n",
       "      <td>Electricity Utilities</td>\n",
       "      <td>3.13</td>\n",
       "      <td>6.72</td>\n",
       "      <td>0.09</td>\n",
       "      <td>4.93</td>\n",
       "    </tr>\n",
       "    <tr>\n",
       "      <th>6</th>\n",
       "      <td>PPL</td>\n",
       "      <td>US69351T1060</td>\n",
       "      <td>Electricity Utilities</td>\n",
       "      <td>2.05</td>\n",
       "      <td>6.65</td>\n",
       "      <td>0.08</td>\n",
       "      <td>3.26</td>\n",
       "    </tr>\n",
       "    <tr>\n",
       "      <th>7</th>\n",
       "      <td>Ameren Corp.</td>\n",
       "      <td>US0236081024</td>\n",
       "      <td>Electricity Utilities</td>\n",
       "      <td>1.64</td>\n",
       "      <td>6.07</td>\n",
       "      <td>0.09</td>\n",
       "      <td>2.86</td>\n",
       "    </tr>\n",
       "    <tr>\n",
       "      <th>8</th>\n",
       "      <td>Entergy Corp.</td>\n",
       "      <td>US29364G1031</td>\n",
       "      <td>Electricity Utilities</td>\n",
       "      <td>1.62</td>\n",
       "      <td>3.20</td>\n",
       "      <td>0.15</td>\n",
       "      <td>5.35</td>\n",
       "    </tr>\n",
       "    <tr>\n",
       "      <th>9</th>\n",
       "      <td>FirstEnergy Corp.</td>\n",
       "      <td>US3379321074</td>\n",
       "      <td>Electricity Utilities</td>\n",
       "      <td>1.49</td>\n",
       "      <td>3.22</td>\n",
       "      <td>0.12</td>\n",
       "      <td>4.89</td>\n",
       "    </tr>\n",
       "  </tbody>\n",
       "</table>\n",
       "</div>"
      ],
      "text/plain": [
       "                        company_name    company_id                 sector  \\\n",
       "0                  Duke Energy Corp.  US26441C2044  Electricity Utilities   \n",
       "1                       Southern Co.  US8425871071  Electricity Utilities   \n",
       "2  American Electric Power Co., Inc.  US0255371017  Electricity Utilities   \n",
       "3                    Dominion Energy  US25746U1097  Electricity Utilities   \n",
       "4                       Evergy, Inc.  US30034W1062  Electricity Utilities   \n",
       "5                  Xcel Energy, Inc.  US98389B1008  Electricity Utilities   \n",
       "6                                PPL  US69351T1060  Electricity Utilities   \n",
       "7                       Ameren Corp.  US0236081024  Electricity Utilities   \n",
       "8                      Entergy Corp.  US29364G1031  Electricity Utilities   \n",
       "9                  FirstEnergy Corp.  US3379321074  Electricity Utilities   \n",
       "\n",
       "   contribution  temperature_score  ownership_percentage  portfolio_percentage  \n",
       "0         37.33              30.09                  0.11                 13.11  \n",
       "1         19.98              23.40                  0.09                  9.02  \n",
       "2         10.41              13.47                  0.10                  8.17  \n",
       "3          7.04              12.37                  0.05                  6.01  \n",
       "4          3.68              11.88                  0.13                  3.27  \n",
       "5          3.13               6.72                  0.09                  4.93  \n",
       "6          2.05               6.65                  0.08                  3.26  \n",
       "7          1.64               6.07                  0.09                  2.86  \n",
       "8          1.62               3.20                  0.15                  5.35  \n",
       "9          1.49               3.22                  0.12                  4.89  "
      ]
     },
     "execution_count": 18,
     "metadata": {},
     "output_type": "execute_result"
    }
   ],
   "source": [
    "sector_contributions = company_contributions[['company_name', 'company_id', 'sector', 'contribution', 'temperature_score', 'ownership_percentage', 'portfolio_percentage']]\n",
    "sector_contributions.loc[sector_contributions['sector'] == 'Electricity Utilities'][:10].round(2)"
   ]
  },
  {
   "cell_type": "markdown",
   "metadata": {},
   "source": [
    "### Save your data for further analysis\n",
    "To take your analysis outside of this notebook and for example for internal and client reporting, you can export all data to Excel and the clipboard for pasting into and analysing in other applications.\n",
    "\n",
    "If you run the ITR tool locally or from Google Colab, you:\n",
    "- Specify the filenames of the output files in the cell below, e.g. change 'data_dump.xlsx' in the first line to 'TS_output.xlsx'\n",
    "- Run the cell below"
   ]
  },
  {
   "cell_type": "code",
   "execution_count": 19,
   "metadata": {
    "pycharm": {
     "name": "#%%\n"
    }
   },
   "outputs": [],
   "source": [
    "data_dump_filename = 'data_dump.xlsx'\n",
    "amended_portfolio.set_index(['company_name', 'company_id']).to_excel(data_dump_filename)"
   ]
  },
  {
   "cell_type": "code",
   "execution_count": null,
   "metadata": {},
   "outputs": [],
   "source": []
  }
 ],
 "metadata": {
  "kernelspec": {
   "display_name": "Python 3",
   "language": "python",
   "name": "python3"
  },
  "language_info": {
   "codemirror_mode": {
    "name": "ipython",
    "version": 3
   },
   "file_extension": ".py",
   "mimetype": "text/x-python",
   "name": "python",
   "nbconvert_exporter": "python",
   "pygments_lexer": "ipython3",
   "version": "3.8.3"
  }
 },
 "nbformat": 4,
 "nbformat_minor": 4
}
