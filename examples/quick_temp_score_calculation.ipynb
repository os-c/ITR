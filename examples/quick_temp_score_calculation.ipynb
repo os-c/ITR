{
 "cells": [
  {
   "cell_type": "markdown",
   "metadata": {},
   "source": [
    "# ITR Tool - Quick Temperature Score Calculation\n",
    "This notebook provides a simple example of the ITR Toolkit. It shows how to use it to calculate the temperature score for companies, aggregate them to a portfolio level to get the portfolio temperature score. \n"
   ]
  },
  {
   "cell_type": "markdown",
   "metadata": {},
   "source": [
    "### Getting started\n",
    "Make sure you are running the notebook with the requirements installed available in the example folder"
   ]
  },
  {
   "cell_type": "code",
   "execution_count": 1,
   "metadata": {},
   "outputs": [],
   "source": [
    "#If not already installed uncomment line below\n",
    "#!pip install ITR"
   ]
  },
  {
   "cell_type": "code",
   "execution_count": 2,
   "metadata": {},
   "outputs": [
    {
     "name": "stdout",
     "output_type": "stream",
     "text": [
      "1 CO2e\n",
      "1 CO2e * gigametric_ton\n"
     ]
    }
   ],
   "source": [
    "import pint\n",
    "import pint_pandas\n",
    "import iam_units\n",
    "from openscm_units import unit_registry\n",
    "pint_pandas.PintType.ureg = unit_registry\n",
    "ureg = unit_registry\n",
    "pint.set_application_registry(ureg)\n",
    "Q_ = ureg.Quantity\n",
    "\n",
    "ureg.define('fraction = [] = frac')\n",
    "ureg.define('percent = 1e-2 frac = pct = percentage')\n",
    "ureg.define('ppm = 1e-6 fraction')\n",
    "\n",
    "ureg.define(\"USD = [currency]\")\n",
    "ureg.define(\"EUR = nan USD\")\n",
    "ureg.define(\"JPY = nan USD\")\n",
    "ureg.define(\"MM_USD = 1000000 USD\")\n",
    "ureg.define(\"revenue = USD\")\n",
    "\n",
    "ureg.define(\"btu = Btu\")\n",
    "ureg.define(\"boe = 5.712 GJ\")\n",
    "\n",
    "ureg.define(\"CO2e = CO2 = CO2eq = CO2_eq\")\n",
    "# ureg.define(\"HFC = [ HFC_emissions ]\")\n",
    "# ureg.define(\"PFC = [ PFC_emissions ]\")\n",
    "# ureg.define(\"mercury = Hg = Mercury\")\n",
    "# ureg.define(\"mercure = Hg = Mercury\")\n",
    "ureg.define(\"PM10 = [ PM10_emissions ]\")\n",
    "\n",
    "ureg.define(\"production = [ output ]\")\n",
    "\n",
    "one_co2 = ureg(\"CO2e\")\n",
    "print(one_co2)\n",
    "\n",
    "one_Gt_co2 = ureg(\"Gt CO2e\")\n",
    "print(one_Gt_co2)"
   ]
  },
  {
   "cell_type": "code",
   "execution_count": 3,
   "metadata": {
    "tags": []
   },
   "outputs": [],
   "source": [
    "import ITR\n",
    "from ITR.data.excel import ExcelProviderCompany, ExcelProviderProductionBenchmark, ExcelProviderIntensityBenchmark\n",
    "from ITR.data.data_warehouse import DataWarehouse\n",
    "from ITR.portfolio_aggregation import PortfolioAggregationMethod\n",
    "from ITR.temperature_score import TemperatureScore\n",
    "from ITR.interfaces import ETimeFrames, EScope\n",
    "import pandas as pd"
   ]
  },
  {
   "cell_type": "markdown",
   "metadata": {},
   "source": [
    "## Download the dummy data warehouse\n",
    "\n",
    "We have prepared dummy data for you to be able to run the tool as it is to familiarise yourself with how it works. To use your own data; please check out to the [Data Requirements section](https://os-c.github.io/ITR/DataRequirements.html) of the technical documentation for more details on data requirements and formatting. \n",
    "\n",
    "*The dummy data may include some company names, but the data associated with those company names is completely random and any similarities with real world data is purely coincidental. \n"
   ]
  },
  {
   "cell_type": "code",
   "execution_count": 4,
   "metadata": {},
   "outputs": [],
   "source": [
    "import urllib.request\n",
    "import os\n",
    "\n",
    "if not os.path.isdir(\"data\"):\n",
    "    os.mkdir(\"data\")\n",
    "if not os.path.isfile(\"data/test_data_company.xlsx\"):\n",
    "    urllib.request.urlretrieve(\"https://github.com/os-c/ITR/raw/main/examples/data/test_data_company.xlsx\", \"data/test_data_company.xlsx\")\n",
    "if not os.path.isfile(\"data/OECM_EI_and_production_benchmarks.xlsx\"):\n",
    "    urllib.request.urlretrieve(\"https://github.com/os-c/ITR/raw/main/examples/data/OECM_EI_and_production_benchmarks.xlsx\", \"data/OECM_EI_and_production_benchmarks.xlsx\")\n",
    "if not os.path.isfile(\"data/example_portfolio.csv\"):\n",
    "    urllib.request.urlretrieve(\"https://github.com/os-c/ITR/raw/main/examples/data/example_portfolio.csv\", \"data/example_portfolio.csv\")\n",
    "if not os.path.isfile(\"utils.py\"):\n",
    "    urllib.request.urlretrieve(\"https://github.com/os-c/ITR/raw/main/examples/utils.py\", \"utils.py\")\n",
    "try:  # Import statement when run in remote Jupyter servers from AWS Google etc..\n",
    "    from utils import collect_company_contributions, plot_grouped_statistics, anonymize, \\\n",
    "        plot_grouped_heatmap, print_grouped_scores, get_contributions_per_group\n",
    "except:  # Import statement when run locally\n",
    "    from utils import collect_company_contributions, plot_grouped_statistics, anonymize, \\\n",
    "        plot_grouped_heatmap, print_grouped_scores, get_contributions_per_group"
   ]
  },
  {
   "cell_type": "markdown",
   "metadata": {},
   "source": [
    "##### Logging\n",
    "The ITR module uses the Python standard library logging utilities to send log messages. The log level can be changed according to the user's needs."
   ]
  },
  {
   "cell_type": "code",
   "execution_count": 5,
   "metadata": {},
   "outputs": [],
   "source": [
    "import logging\n",
    "root_logger = logging.getLogger()\n",
    "root_logger.setLevel(\"INFO\")"
   ]
  },
  {
   "cell_type": "markdown",
   "metadata": {},
   "source": [
    "## Create a data provider\n",
    "Data providers let you connect to the data source of your choice. In this case we are connecting to Excel as a data provider. "
   ]
  },
  {
   "cell_type": "code",
   "execution_count": 6,
   "metadata": {
    "tags": []
   },
   "outputs": [],
   "source": [
    "excel_company_data = ExcelProviderCompany(excel_path=\"data/test_data_company.xlsx\")"
   ]
  },
  {
   "cell_type": "code",
   "execution_count": 7,
   "metadata": {},
   "outputs": [],
   "source": [
    "excel_production_bm = ExcelProviderProductionBenchmark(excel_path=\"data/OECM_EI_and_production_benchmarks.xlsx\")"
   ]
  },
  {
   "cell_type": "code",
   "execution_count": 8,
   "metadata": {},
   "outputs": [],
   "source": [
    "excel_EI_bm = ExcelProviderIntensityBenchmark(excel_path=\"data/OECM_EI_and_production_benchmarks.xlsx\",benchmark_temperature=Q_(1.5, ureg.degC),\n",
    "                                                           benchmark_global_budget=396 * ureg('Gt CO2'), is_AFOLU_included=False)"
   ]
  },
  {
   "cell_type": "code",
   "execution_count": 9,
   "metadata": {},
   "outputs": [],
   "source": [
    "excel_provider = DataWarehouse(excel_company_data, excel_production_bm, excel_EI_bm)"
   ]
  },
  {
   "cell_type": "markdown",
   "metadata": {},
   "source": [
    "## Load your portfolio\n",
    "In our case the portfolio is stored as a CSV file. The portfolio should at least have an \"id\" (the identifier of the company) and a \"proportion\" (the weight of the company in your portfolio e.g. the value of the shares you hold) column.\n",
    "\n",
    "Please see the technical documentation on [Data Legends](https://ofbdabv.github.io/ITR/Legends.html#) for details on data requirements."
   ]
  },
  {
   "cell_type": "code",
   "execution_count": 10,
   "metadata": {},
   "outputs": [],
   "source": [
    "df_portfolio = pd.read_csv(\"data/example_portfolio.csv\", encoding=\"iso-8859-1\", sep=';')"
   ]
  },
  {
   "cell_type": "code",
   "execution_count": 11,
   "metadata": {},
   "outputs": [
    {
     "data": {
      "text/html": [
       "<div>\n",
       "<style scoped>\n",
       "    .dataframe tbody tr th:only-of-type {\n",
       "        vertical-align: middle;\n",
       "    }\n",
       "\n",
       "    .dataframe tbody tr th {\n",
       "        vertical-align: top;\n",
       "    }\n",
       "\n",
       "    .dataframe thead th {\n",
       "        text-align: right;\n",
       "    }\n",
       "</style>\n",
       "<table border=\"1\" class=\"dataframe\">\n",
       "  <thead>\n",
       "    <tr style=\"text-align: right;\">\n",
       "      <th></th>\n",
       "      <th>company_name</th>\n",
       "      <th>company_id</th>\n",
       "      <th>company_isin</th>\n",
       "      <th>investment_value</th>\n",
       "    </tr>\n",
       "  </thead>\n",
       "  <tbody>\n",
       "    <tr>\n",
       "      <th>0</th>\n",
       "      <td>Company AG</td>\n",
       "      <td>US0079031078</td>\n",
       "      <td>US0079031078</td>\n",
       "      <td>35000000</td>\n",
       "    </tr>\n",
       "    <tr>\n",
       "      <th>1</th>\n",
       "      <td>Company AH</td>\n",
       "      <td>US00724F1012</td>\n",
       "      <td>US00724F1012</td>\n",
       "      <td>10000000</td>\n",
       "    </tr>\n",
       "    <tr>\n",
       "      <th>2</th>\n",
       "      <td>Company AI</td>\n",
       "      <td>FR0000125338</td>\n",
       "      <td>FR0000125338</td>\n",
       "      <td>10000000</td>\n",
       "    </tr>\n",
       "    <tr>\n",
       "      <th>3</th>\n",
       "      <td>Company AJ</td>\n",
       "      <td>US17275R1023</td>\n",
       "      <td>US17275R1023</td>\n",
       "      <td>10000000</td>\n",
       "    </tr>\n",
       "    <tr>\n",
       "      <th>4</th>\n",
       "      <td>Company AK</td>\n",
       "      <td>CH0198251305</td>\n",
       "      <td>CH0198251305</td>\n",
       "      <td>10000000</td>\n",
       "    </tr>\n",
       "  </tbody>\n",
       "</table>\n",
       "</div>"
      ],
      "text/plain": [
       "  company_name    company_id  company_isin  investment_value\n",
       "0   Company AG  US0079031078  US0079031078          35000000\n",
       "1   Company AH  US00724F1012  US00724F1012          10000000\n",
       "2   Company AI  FR0000125338  FR0000125338          10000000\n",
       "3   Company AJ  US17275R1023  US17275R1023          10000000\n",
       "4   Company AK  CH0198251305  CH0198251305          10000000"
      ]
     },
     "execution_count": 11,
     "metadata": {},
     "output_type": "execute_result"
    }
   ],
   "source": [
    "df_portfolio.head(5)"
   ]
  },
  {
   "cell_type": "markdown",
   "metadata": {},
   "source": [
    "To load the data from the data provider, we have to pass a list of IPortfolioCompany instances. The module has a strict [data model](https://ofbdabv.github.io/ITR/autoapi/ITR/interfaces/index.html) to convert Pandas Dataframe to the right object types we supplied a utility function.\n"
   ]
  },
  {
   "cell_type": "code",
   "execution_count": 12,
   "metadata": {},
   "outputs": [],
   "source": [
    "companies = ITR.utils.dataframe_to_portfolio(df_portfolio)"
   ]
  },
  {
   "cell_type": "markdown",
   "metadata": {},
   "source": [
    "## Calculate the temperature scores\n",
    "In the amended portfolio you'll find your original portfolio, amended with the emissions and the temperature score."
   ]
  },
  {
   "cell_type": "code",
   "execution_count": 13,
   "metadata": {},
   "outputs": [
    {
     "name": "stdout",
     "output_type": "stream",
     "text": [
      "before company_info_at_base_year\n",
      "projected_production =                                            2019  \\\n",
      "AR0000000013               1.0 CO2 * metric_ton   \n",
      "BR0000000010  11847001.9224849 CO2 * metric_ton   \n",
      "BR0000000011  14618000.0778486 CO2 * metric_ton   \n",
      "BR0000000012  27110004.3464472 CO2 * metric_ton   \n",
      "CH0038863350  73011601.1549344 CO2 * metric_ton   \n",
      "\n",
      "                                             2020  \\\n",
      "AR0000000013               1.015 CO2 * metric_ton   \n",
      "BR0000000010  12024706.951322174 CO2 * metric_ton   \n",
      "BR0000000011  14837270.079016328 CO2 * metric_ton   \n",
      "BR0000000012  27516654.411643904 CO2 * metric_ton   \n",
      "CH0038863350   67433621.07659335 CO2 * metric_ton   \n",
      "\n",
      "                                             2021  \\\n",
      "AR0000000013  1.0302249999999997 CO2 * metric_ton   \n",
      "BR0000000010  12205077.555592004 CO2 * metric_ton   \n",
      "BR0000000011   15059829.13020157 CO2 * metric_ton   \n",
      "BR0000000012   27929404.22781856 CO2 * metric_ton   \n",
      "CH0038863350   71476830.37892087 CO2 * metric_ton   \n",
      "\n",
      "                                             2022  \\\n",
      "AR0000000013  1.0456783749999996 CO2 * metric_ton   \n",
      "BR0000000010  12388153.718925882 CO2 * metric_ton   \n",
      "BR0000000011  15285726.567154592 CO2 * metric_ton   \n",
      "BR0000000012  28348345.291235834 CO2 * metric_ton   \n",
      "CH0038863350   75762463.87857659 CO2 * metric_ton   \n",
      "\n",
      "                                             2023  \n",
      "AR0000000013  1.0613635506249994 CO2 * metric_ton  \n",
      "BR0000000010  12573976.024709769 CO2 * metric_ton  \n",
      "BR0000000011  15515012.465661908 CO2 * metric_ton  \n",
      "BR0000000012  28773570.470604368 CO2 * metric_ton  \n",
      "CH0038863350   80305056.93276212 CO2 * metric_ton  \n",
      "production_sum = 2019     6376079873.31004 CO2 * metric_ton\n",
      "2020    5917434641.831634 CO2 * metric_ton\n",
      "2021    6142945948.865509 CO2 * metric_ton\n",
      "2022    6379004260.048121 CO2 * metric_ton\n",
      "2023    6626171651.186672 CO2 * metric_ton\n",
      "dtype: object\n",
      "production_weights =                                               2019  \\\n",
      "AR0000000013  1.5683617832109526e-10 dimensionless   \n",
      "BR0000000010   0.0018580385060852002 dimensionless   \n",
      "BR0000000011   0.0022926312669072474 dimensionless   \n",
      "BR0000000012     0.00425182947596506 dimensionless   \n",
      "CH0038863350    0.011450860498243978 dimensionless   \n",
      "\n",
      "                                              2020  \\\n",
      "AR0000000013  1.7152703180272478e-10 dimensionless   \n",
      "BR0000000010   0.0020320810755250092 dimensionless   \n",
      "BR0000000011     0.00250738216424537 dimensionless   \n",
      "BR0000000012    0.004650098577705056 dimensionless   \n",
      "CH0038863350    0.011395752578303173 dimensionless   \n",
      "\n",
      "                                              2021  \\\n",
      "AR0000000013  1.6770862198295326e-10 dimensionless   \n",
      "BR0000000010   0.0019868443670493408 dimensionless   \n",
      "BR0000000011   0.0024515646492026923 dimensionless   \n",
      "BR0000000012   0.0045465814708945335 dimensionless   \n",
      "CH0038863350    0.011635594871565059 dimensionless   \n",
      "\n",
      "                                              2022  \\\n",
      "AR0000000013  1.6392501593847678e-10 dimensionless   \n",
      "BR0000000010   0.0019420199789665024 dimensionless   \n",
      "BR0000000011   0.0023962558957499867 dimensionless   \n",
      "BR0000000012    0.004444007894583532 dimensionless   \n",
      "CH0038863350    0.011876847982855095 dimensionless   \n",
      "\n",
      "                                              2023  \n",
      "AR0000000013  1.6017749109094105e-10 dimensionless  \n",
      "BR0000000010   0.0018976230448931868 dimensionless  \n",
      "BR0000000011   0.0023414745772369697 dimensionless  \n",
      "BR0000000012     0.00434241247967842 dimensionless  \n",
      "CH0038863350    0.012119374679703686 dimensionless  \n",
      "df_target =       company_id                          cumulative_target\n",
      "0   AR0000000013                   nan CO2 * megametric_ton\n",
      "1   BR0000000010                   nan CO2 * megametric_ton\n",
      "2   BR0000000011  0.035267977886912605 CO2 * megametric_ton\n",
      "3   BR0000000012   0.22393182906271158 CO2 * megametric_ton\n",
      "4   CH0038863350   0.07591311170696782 CO2 * megametric_ton\n",
      "5   CH0198251305   0.15027676352024827 CO2 * megametric_ton\n",
      "6   CN0000000007    0.3168473318218108 CO2 * megametric_ton\n",
      "7   CN0000000008   0.11365125294778876 CO2 * megametric_ton\n",
      "8   CN0000000009                   nan CO2 * megametric_ton\n",
      "9   FR0000120321    1.0615267598468603 CO2 * megametric_ton\n",
      "10  FR0000120644  0.020537128998060077 CO2 * megametric_ton\n",
      "11  FR0000125338  0.012552944496918565 CO2 * megametric_ton\n",
      "12  GB0031274896   0.11298548827221226 CO2 * megametric_ton\n",
      "13  IT0000000003   0.06393108123568635 CO2 * megametric_ton\n",
      "14  JP0000000001                   nan CO2 * megametric_ton\n",
      "15  JP3401400001   0.05418356019585116 CO2 * megametric_ton\n",
      "16  NL0000000002  0.009487105123077844 CO2 * megametric_ton\n",
      "17  NL0000000006                   nan CO2 * megametric_ton\n",
      "18  SE0000000004   0.16557735475841284 CO2 * megametric_ton\n",
      "19  SE0000000005   0.14719124143952145 CO2 * megametric_ton\n",
      "20  TW0002308004  0.020406681941566005 CO2 * megametric_ton\n",
      "21  US00724F1012   0.19245497637163447 CO2 * megametric_ton\n",
      "22  US0079031078   0.11795568506761583 CO2 * megametric_ton\n",
      "23  US1266501006  0.015781214336452166 CO2 * megametric_ton\n",
      "24  US17275R1023  0.004751406363831042 CO2 * megametric_ton\n",
      "25  US24703L1035   0.00484369687909756 CO2 * megametric_ton\n",
      "26  US6293775085     0.439111590966201 CO2 * megametric_ton\n",
      "27  US6541061031   0.20509224198641904 CO2 * megametric_ton\n",
      "28  US7134481081                   nan CO2 * megametric_ton\n",
      "29  US8356993076                   nan CO2 * megametric_ton\n",
      "\n",
      "\n",
      "before CUMULATIVE_BUDGET\n",
      "before decarb paths\n"
     ]
    },
    {
     "name": "stderr",
     "output_type": "stream",
     "text": [
      "/opt/app-root/lib64/python3.8/site-packages/pandas/core/dtypes/cast.py:1990: UnitStrippedWarning: The unit of the quantity is stripped when downcasting to ndarray.\n",
      "  result[:] = values\n",
      "/opt/app-root/lib64/python3.8/site-packages/pandas/core/dtypes/cast.py:1990: UnitStrippedWarning: The unit of the quantity is stripped when downcasting to ndarray.\n",
      "  result[:] = values\n",
      "/opt/app-root/lib64/python3.8/site-packages/pandas/core/dtypes/cast.py:1990: UnitStrippedWarning: The unit of the quantity is stripped when downcasting to ndarray.\n",
      "  result[:] = values\n"
     ]
    },
    {
     "name": "stdout",
     "output_type": "stream",
     "text": [
      "after decarb paths\n",
      "Index(['company_name', 'company_id', 'region', 'sector', 'target_probability',\n",
      "       'projected_targets', 'projected_intensities', 'country', 'ghg_s1s2',\n",
      "       'ghg_s3', 'industry_level_1', 'industry_level_2', 'industry_level_3',\n",
      "       'industry_level_4', 'company_revenue', 'company_market_cap',\n",
      "       'company_enterprise_value', 'company_total_assets',\n",
      "       'company_cash_equivalents', 'cumulative_budget',\n",
      "       'cumulative_trajectory', 'cumulative_target', 'benchmark_temperature',\n",
      "       'benchmark_global_budget', 'company_isin', 'investment_value', 'scope',\n",
      "       'time_frame'],\n",
      "      dtype='object')\n",
      "company_name                 object\n",
      "company_id                   object\n",
      "region                       object\n",
      "sector                       object\n",
      "target_probability          float64\n",
      "projected_targets            object\n",
      "projected_intensities        object\n",
      "country                      object\n",
      "ghg_s1s2                     object\n",
      "ghg_s3                       object\n",
      "industry_level_1             object\n",
      "industry_level_2             object\n",
      "industry_level_3             object\n",
      "industry_level_4             object\n",
      "company_revenue             float64\n",
      "company_market_cap          float64\n",
      "company_enterprise_value    float64\n",
      "company_total_assets        float64\n",
      "company_cash_equivalents    float64\n",
      "cumulative_budget            object\n",
      "cumulative_trajectory        object\n",
      "cumulative_target            object\n",
      "benchmark_temperature        object\n",
      "benchmark_global_budget      object\n",
      "company_isin                 object\n",
      "investment_value            float64\n",
      "scope                        object\n",
      "time_frame                   object\n",
      "dtype: object\n",
      "  company_name    company_id  region                 sector  \\\n",
      "0    Company M  AR0000000013  Europe                  Steel   \n",
      "1    Company J  BR0000000010    Asia                  Steel   \n",
      "2    Company K  BR0000000011  Europe                  Steel   \n",
      "3    Company L  BR0000000012    Asia                  Steel   \n",
      "4   Company AQ  CH0038863350    Asia  Electricity Utilities   \n",
      "\n",
      "   target_probability                                  projected_targets  \\\n",
      "0            0.428571  {'S1S2': {'projections': [{'year': 2019, 'valu...   \n",
      "1            0.428571  {'S1S2': {'projections': [{'year': 2019, 'valu...   \n",
      "2            0.428571  {'S1S2': {'projections': [{'year': 2019, 'valu...   \n",
      "3            0.428571  {'S1S2': {'projections': [{'year': 2019, 'valu...   \n",
      "4            0.428571  {'S1S2': {'projections': [{'year': 2019, 'valu...   \n",
      "\n",
      "                               projected_intensities    country  \\\n",
      "0  {'S1S2': {'projections': [{'year': 2019, 'valu...    Germany   \n",
      "1  {'S1S2': {'projections': [{'year': 2019, 'valu...     Russia   \n",
      "2  {'S1S2': {'projections': [{'year': 2019, 'valu...     Sweden   \n",
      "3  {'S1S2': {'projections': [{'year': 2019, 'valu...      India   \n",
      "4  {'S1S2': {'projections': [{'year': 2019, 'valu...  Australia   \n",
      "\n",
      "                            ghg_s1s2                             ghg_s3  ...  \\\n",
      "0                 1 CO2 * metric_ton                 1 CO2 * metric_ton  ...   \n",
      "1  11847001.9224849 CO2 * metric_ton  11847001.9224849 CO2 * metric_ton  ...   \n",
      "2  14618000.0778486 CO2 * metric_ton  14618000.0778486 CO2 * metric_ton  ...   \n",
      "3  27110004.3464472 CO2 * metric_ton  27110004.3464472 CO2 * metric_ton  ...   \n",
      "4  73011601.1549344 CO2 * metric_ton  73011601.1549344 CO2 * metric_ton  ...   \n",
      "\n",
      "  company_cash_equivalents                                  cumulative_budget  \\\n",
      "0             2.597399e+08               nan CO2 * metric_ton / megawatt_hour   \n",
      "1             4.086329e+08               nan CO2 * metric_ton / megawatt_hour   \n",
      "2             2.233573e+08  0.02492409347626564 CO2 * metric_ton / megawat...   \n",
      "3             1.279584e+09  0.12043289849295982 CO2 * metric_ton / megawat...   \n",
      "4             5.055193e+08  0.025031746155189858 CO2 * metric_ton / megawa...   \n",
      "\n",
      "                               cumulative_trajectory  \\\n",
      "0               nan CO2 * metric_ton / megawatt_hour   \n",
      "1               nan CO2 * metric_ton / megawatt_hour   \n",
      "2  0.042864648985326034 CO2 * metric_ton / megawa...   \n",
      "3  0.22393182906271158 CO2 * metric_ton / megawat...   \n",
      "4  0.0989743755671423 CO2 * metric_ton / megawatt...   \n",
      "\n",
      "                           cumulative_target  benchmark_temperature  \\\n",
      "0                   nan CO2 * megametric_ton     1.5 degree_Celsius   \n",
      "1                   nan CO2 * megametric_ton     1.5 degree_Celsius   \n",
      "2  0.035267977886912605 CO2 * megametric_ton     1.5 degree_Celsius   \n",
      "3   0.22393182906271158 CO2 * megametric_ton     1.5 degree_Celsius   \n",
      "4   0.07591311170696782 CO2 * megametric_ton     1.5 degree_Celsius   \n",
      "\n",
      "              benchmark_global_budget  company_isin  investment_value  scope  \\\n",
      "0  521.0526315789474 CO2 * metric_ton  AR0000000013        10000000.0   S1S2   \n",
      "1  521.0526315789474 CO2 * metric_ton  BR0000000010        10000000.0   S1S2   \n",
      "2  521.0526315789474 CO2 * metric_ton  BR0000000011        10000000.0   S1S2   \n",
      "3  521.0526315789474 CO2 * metric_ton  BR0000000012        10000000.0   S1S2   \n",
      "4  521.0526315789474 CO2 * metric_ton  CH0038863350        10000000.0   S1S2   \n",
      "\n",
      "  time_frame  \n",
      "0       LONG  \n",
      "1       LONG  \n",
      "2       LONG  \n",
      "3       LONG  \n",
      "4       LONG  \n",
      "\n",
      "[5 rows x 28 columns]\n",
      "scorable_row = company_name                                                        Company M\n",
      "company_id                                                       AR0000000013\n",
      "region                                                                 Europe\n",
      "sector                                                                  Steel\n",
      "target_probability                                                   0.428571\n",
      "projected_targets           {'S1S2': {'projections': [{'year': 2019, 'valu...\n",
      "projected_intensities       {'S1S2': {'projections': [{'year': 2019, 'valu...\n",
      "country                                                               Germany\n",
      "ghg_s1s2                                                   1 CO2 * metric_ton\n",
      "ghg_s3                                                     1 CO2 * metric_ton\n",
      "industry_level_1                                                         None\n",
      "industry_level_2                                                         None\n",
      "industry_level_3                                                         None\n",
      "industry_level_4                                                         None\n",
      "company_revenue                                             9338027130.327995\n",
      "company_market_cap                                            933460072.78718\n",
      "company_enterprise_value                                    2521235187.169247\n",
      "company_total_assets                                          18868083.741258\n",
      "company_cash_equivalents                                     259739897.261901\n",
      "cumulative_budget                        nan CO2 * metric_ton / megawatt_hour\n",
      "cumulative_trajectory                    nan CO2 * metric_ton / megawatt_hour\n",
      "cumulative_target                                    nan CO2 * megametric_ton\n",
      "benchmark_temperature                                      1.5 degree_Celsius\n",
      "benchmark_global_budget                    521.0526315789474 CO2 * metric_ton\n",
      "company_isin                                                     AR0000000013\n",
      "investment_value                                                   10000000.0\n",
      "scope                                                                    S1S2\n",
      "time_frame                                                               LONG\n",
      "Name: 0, dtype: object\n",
      "self.c.CONTROLS_CONFIG.tcre_multiplier = 0.0006004366812227075 delta_degree_Celsius / CO2 / gigametric_ton\n",
      "target_overshoot_ratio = 0\n",
      "scorable_row = company_name                                                        Company J\n",
      "company_id                                                       BR0000000010\n",
      "region                                                                   Asia\n",
      "sector                                                                  Steel\n",
      "target_probability                                                   0.428571\n",
      "projected_targets           {'S1S2': {'projections': [{'year': 2019, 'valu...\n",
      "projected_intensities       {'S1S2': {'projections': [{'year': 2019, 'valu...\n",
      "country                                                                Russia\n",
      "ghg_s1s2                                    11847001.9224849 CO2 * metric_ton\n",
      "ghg_s3                                      11847001.9224849 CO2 * metric_ton\n",
      "industry_level_1                                                         None\n",
      "industry_level_2                                                         None\n",
      "industry_level_3                                                         None\n",
      "industry_level_4                                                         None\n",
      "company_revenue                                              1955329090.52114\n",
      "company_market_cap                                           1202043687.03022\n",
      "company_enterprise_value                                    4172635345.018464\n",
      "company_total_assets                                          22152151.290723\n",
      "company_cash_equivalents                                     408632883.321407\n",
      "cumulative_budget                        nan CO2 * metric_ton / megawatt_hour\n",
      "cumulative_trajectory                    nan CO2 * metric_ton / megawatt_hour\n",
      "cumulative_target                                    nan CO2 * megametric_ton\n",
      "benchmark_temperature                                      1.5 degree_Celsius\n",
      "benchmark_global_budget                    521.0526315789474 CO2 * metric_ton\n",
      "company_isin                                                     BR0000000010\n",
      "investment_value                                                   10000000.0\n",
      "scope                                                                    S1S2\n",
      "time_frame                                                               LONG\n",
      "Name: 1, dtype: object\n",
      "self.c.CONTROLS_CONFIG.tcre_multiplier = 0.0006004366812227075 delta_degree_Celsius / CO2 / gigametric_ton\n",
      "target_overshoot_ratio = 0\n",
      "scorable_row = company_name                                                        Company K\n",
      "company_id                                                       BR0000000011\n",
      "region                                                                 Europe\n",
      "sector                                                                  Steel\n",
      "target_probability                                                   0.428571\n",
      "projected_targets           {'S1S2': {'projections': [{'year': 2019, 'valu...\n",
      "projected_intensities       {'S1S2': {'projections': [{'year': 2019, 'valu...\n",
      "country                                                                Sweden\n",
      "ghg_s1s2                                    14618000.0778486 CO2 * metric_ton\n",
      "ghg_s3                                      14618000.0778486 CO2 * metric_ton\n",
      "industry_level_1                                                         None\n",
      "industry_level_2                                                         None\n",
      "industry_level_3                                                         None\n",
      "industry_level_4                                                         None\n",
      "company_revenue                                                679399572.3481\n",
      "company_market_cap                                            989091472.70855\n",
      "company_enterprise_value                                    1824699389.596552\n",
      "company_total_assets                                          12700301.946415\n",
      "company_cash_equivalents                                     223357269.549214\n",
      "cumulative_budget           0.02492409347626564 CO2 * metric_ton / megawat...\n",
      "cumulative_trajectory       0.042864648985326034 CO2 * metric_ton / megawa...\n",
      "cumulative_target                   0.035267977886912605 CO2 * megametric_ton\n",
      "benchmark_temperature                                      1.5 degree_Celsius\n",
      "benchmark_global_budget                    521.0526315789474 CO2 * metric_ton\n",
      "company_isin                                                     BR0000000011\n",
      "investment_value                                                   10000000.0\n",
      "scope                                                                    S1S2\n",
      "time_frame                                                               LONG\n",
      "Name: 2, dtype: object\n",
      "self.c.CONTROLS_CONFIG.tcre_multiplier = 0.0006004366812227075 delta_degree_Celsius / CO2 / gigametric_ton\n",
      "target_overshoot_ratio = 1.4150154716959753 megametric_ton * megawatt_hour / metric_ton\n"
     ]
    },
    {
     "ename": "DimensionalityError",
     "evalue": "Cannot convert from 'megametric_ton * megawatt_hour / metric_ton' to 'dimensionless'",
     "output_type": "error",
     "traceback": [
      "\u001b[0;31m---------------------------------------------------------------------------\u001b[0m",
      "\u001b[0;31mDimensionalityError\u001b[0m                       Traceback (most recent call last)",
      "\u001b[0;32m<ipython-input-13-1bca4c2c5587>\u001b[0m in \u001b[0;36m<module>\u001b[0;34m\u001b[0m\n\u001b[1;32m      4\u001b[0m     \u001b[0maggregation_method\u001b[0m\u001b[0;34m=\u001b[0m\u001b[0mPortfolioAggregationMethod\u001b[0m\u001b[0;34m.\u001b[0m\u001b[0mWATS\u001b[0m \u001b[0;31m# Options for the aggregation method are WATS, TETS, AOTS, MOTS, EOTS, ECOTS, and ROTS.\u001b[0m\u001b[0;34m\u001b[0m\u001b[0;34m\u001b[0m\u001b[0m\n\u001b[1;32m      5\u001b[0m )\n\u001b[0;32m----> 6\u001b[0;31m \u001b[0mamended_portfolio\u001b[0m \u001b[0;34m=\u001b[0m \u001b[0mtemperature_score\u001b[0m\u001b[0;34m.\u001b[0m\u001b[0mcalculate\u001b[0m\u001b[0;34m(\u001b[0m\u001b[0mdata_warehouse\u001b[0m\u001b[0;34m=\u001b[0m\u001b[0mexcel_provider\u001b[0m\u001b[0;34m,\u001b[0m \u001b[0mportfolio\u001b[0m\u001b[0;34m=\u001b[0m\u001b[0mcompanies\u001b[0m\u001b[0;34m)\u001b[0m\u001b[0;34m\u001b[0m\u001b[0;34m\u001b[0m\u001b[0m\n\u001b[0m",
      "\u001b[0;32m~/ITR/ITR/temperature_score.py\u001b[0m in \u001b[0;36mcalculate\u001b[0;34m(self, data, data_warehouse, portfolio)\u001b[0m\n\u001b[1;32m    183\u001b[0m                 \u001b[0;32mraise\u001b[0m \u001b[0mValueError\u001b[0m\u001b[0;34m(\u001b[0m\u001b[0;34m\"You need to pass and either a data set or a datawarehouse and companies\"\u001b[0m\u001b[0;34m)\u001b[0m\u001b[0;34m\u001b[0m\u001b[0;34m\u001b[0m\u001b[0m\n\u001b[1;32m    184\u001b[0m \u001b[0;34m\u001b[0m\u001b[0m\n\u001b[0;32m--> 185\u001b[0;31m         \u001b[0mdata\u001b[0m \u001b[0;34m=\u001b[0m \u001b[0mself\u001b[0m\u001b[0;34m.\u001b[0m\u001b[0m_prepare_data\u001b[0m\u001b[0;34m(\u001b[0m\u001b[0mdata\u001b[0m\u001b[0;34m)\u001b[0m\u001b[0;34m\u001b[0m\u001b[0;34m\u001b[0m\u001b[0m\n\u001b[0m\u001b[1;32m    186\u001b[0m \u001b[0;34m\u001b[0m\u001b[0m\n\u001b[1;32m    187\u001b[0m         \u001b[0;32mif\u001b[0m \u001b[0mEScope\u001b[0m\u001b[0;34m.\u001b[0m\u001b[0mS1S2S3\u001b[0m \u001b[0;32min\u001b[0m \u001b[0mself\u001b[0m\u001b[0;34m.\u001b[0m\u001b[0mscopes\u001b[0m\u001b[0;34m:\u001b[0m\u001b[0;34m\u001b[0m\u001b[0;34m\u001b[0m\u001b[0m\n",
      "\u001b[0;32m~/ITR/ITR/temperature_score.py\u001b[0m in \u001b[0;36m_prepare_data\u001b[0;34m(self, data)\u001b[0m\n\u001b[1;32m    141\u001b[0m         scoring_data[self.c.COLS.TEMPERATURE_SCORE], scoring_data[self.c.COLS.TRAJECTORY_SCORE], scoring_data[\n\u001b[1;32m    142\u001b[0m             \u001b[0mself\u001b[0m\u001b[0;34m.\u001b[0m\u001b[0mc\u001b[0m\u001b[0;34m.\u001b[0m\u001b[0mCOLS\u001b[0m\u001b[0;34m.\u001b[0m\u001b[0mTRAJECTORY_OVERSHOOT\u001b[0m\u001b[0;34m]\u001b[0m\u001b[0;34m,\u001b[0m \u001b[0mscoring_data\u001b[0m\u001b[0;34m[\u001b[0m\u001b[0mself\u001b[0m\u001b[0;34m.\u001b[0m\u001b[0mc\u001b[0m\u001b[0;34m.\u001b[0m\u001b[0mCOLS\u001b[0m\u001b[0;34m.\u001b[0m\u001b[0mTARGET_SCORE\u001b[0m\u001b[0;34m]\u001b[0m\u001b[0;34m,\u001b[0m \u001b[0mscoring_data\u001b[0m\u001b[0;34m[\u001b[0m\u001b[0;34m\u001b[0m\u001b[0;34m\u001b[0m\u001b[0m\n\u001b[0;32m--> 143\u001b[0;31m             self.c.COLS.TARGET_OVERSHOOT], scoring_data[self.c.TEMPERATURE_RESULTS] = zip(*scoring_data.apply(\n\u001b[0m\u001b[1;32m    144\u001b[0m             lambda row: self.get_score(row), axis=1))\n\u001b[1;32m    145\u001b[0m \u001b[0;34m\u001b[0m\u001b[0m\n",
      "\u001b[0;32m/opt/app-root/lib64/python3.8/site-packages/pandas/core/frame.py\u001b[0m in \u001b[0;36mapply\u001b[0;34m(self, func, axis, raw, result_type, args, **kwargs)\u001b[0m\n\u001b[1;32m   8738\u001b[0m             \u001b[0mkwargs\u001b[0m\u001b[0;34m=\u001b[0m\u001b[0mkwargs\u001b[0m\u001b[0;34m,\u001b[0m\u001b[0;34m\u001b[0m\u001b[0;34m\u001b[0m\u001b[0m\n\u001b[1;32m   8739\u001b[0m         )\n\u001b[0;32m-> 8740\u001b[0;31m         \u001b[0;32mreturn\u001b[0m \u001b[0mop\u001b[0m\u001b[0;34m.\u001b[0m\u001b[0mapply\u001b[0m\u001b[0;34m(\u001b[0m\u001b[0;34m)\u001b[0m\u001b[0;34m\u001b[0m\u001b[0;34m\u001b[0m\u001b[0m\n\u001b[0m\u001b[1;32m   8741\u001b[0m \u001b[0;34m\u001b[0m\u001b[0m\n\u001b[1;32m   8742\u001b[0m     def applymap(\n",
      "\u001b[0;32m/opt/app-root/lib64/python3.8/site-packages/pandas/core/apply.py\u001b[0m in \u001b[0;36mapply\u001b[0;34m(self)\u001b[0m\n\u001b[1;32m    686\u001b[0m             \u001b[0;32mreturn\u001b[0m \u001b[0mself\u001b[0m\u001b[0;34m.\u001b[0m\u001b[0mapply_raw\u001b[0m\u001b[0;34m(\u001b[0m\u001b[0;34m)\u001b[0m\u001b[0;34m\u001b[0m\u001b[0;34m\u001b[0m\u001b[0m\n\u001b[1;32m    687\u001b[0m \u001b[0;34m\u001b[0m\u001b[0m\n\u001b[0;32m--> 688\u001b[0;31m         \u001b[0;32mreturn\u001b[0m \u001b[0mself\u001b[0m\u001b[0;34m.\u001b[0m\u001b[0mapply_standard\u001b[0m\u001b[0;34m(\u001b[0m\u001b[0;34m)\u001b[0m\u001b[0;34m\u001b[0m\u001b[0;34m\u001b[0m\u001b[0m\n\u001b[0m\u001b[1;32m    689\u001b[0m \u001b[0;34m\u001b[0m\u001b[0m\n\u001b[1;32m    690\u001b[0m     \u001b[0;32mdef\u001b[0m \u001b[0magg\u001b[0m\u001b[0;34m(\u001b[0m\u001b[0mself\u001b[0m\u001b[0;34m)\u001b[0m\u001b[0;34m:\u001b[0m\u001b[0;34m\u001b[0m\u001b[0;34m\u001b[0m\u001b[0m\n",
      "\u001b[0;32m/opt/app-root/lib64/python3.8/site-packages/pandas/core/apply.py\u001b[0m in \u001b[0;36mapply_standard\u001b[0;34m(self)\u001b[0m\n\u001b[1;32m    810\u001b[0m \u001b[0;34m\u001b[0m\u001b[0m\n\u001b[1;32m    811\u001b[0m     \u001b[0;32mdef\u001b[0m \u001b[0mapply_standard\u001b[0m\u001b[0;34m(\u001b[0m\u001b[0mself\u001b[0m\u001b[0;34m)\u001b[0m\u001b[0;34m:\u001b[0m\u001b[0;34m\u001b[0m\u001b[0;34m\u001b[0m\u001b[0m\n\u001b[0;32m--> 812\u001b[0;31m         \u001b[0mresults\u001b[0m\u001b[0;34m,\u001b[0m \u001b[0mres_index\u001b[0m \u001b[0;34m=\u001b[0m \u001b[0mself\u001b[0m\u001b[0;34m.\u001b[0m\u001b[0mapply_series_generator\u001b[0m\u001b[0;34m(\u001b[0m\u001b[0;34m)\u001b[0m\u001b[0;34m\u001b[0m\u001b[0;34m\u001b[0m\u001b[0m\n\u001b[0m\u001b[1;32m    813\u001b[0m \u001b[0;34m\u001b[0m\u001b[0m\n\u001b[1;32m    814\u001b[0m         \u001b[0;31m# wrap results\u001b[0m\u001b[0;34m\u001b[0m\u001b[0;34m\u001b[0m\u001b[0;34m\u001b[0m\u001b[0m\n",
      "\u001b[0;32m/opt/app-root/lib64/python3.8/site-packages/pandas/core/apply.py\u001b[0m in \u001b[0;36mapply_series_generator\u001b[0;34m(self)\u001b[0m\n\u001b[1;32m    826\u001b[0m             \u001b[0;32mfor\u001b[0m \u001b[0mi\u001b[0m\u001b[0;34m,\u001b[0m \u001b[0mv\u001b[0m \u001b[0;32min\u001b[0m \u001b[0menumerate\u001b[0m\u001b[0;34m(\u001b[0m\u001b[0mseries_gen\u001b[0m\u001b[0;34m)\u001b[0m\u001b[0;34m:\u001b[0m\u001b[0;34m\u001b[0m\u001b[0;34m\u001b[0m\u001b[0m\n\u001b[1;32m    827\u001b[0m                 \u001b[0;31m# ignore SettingWithCopy here in case the user mutates\u001b[0m\u001b[0;34m\u001b[0m\u001b[0;34m\u001b[0m\u001b[0;34m\u001b[0m\u001b[0m\n\u001b[0;32m--> 828\u001b[0;31m                 \u001b[0mresults\u001b[0m\u001b[0;34m[\u001b[0m\u001b[0mi\u001b[0m\u001b[0;34m]\u001b[0m \u001b[0;34m=\u001b[0m \u001b[0mself\u001b[0m\u001b[0;34m.\u001b[0m\u001b[0mf\u001b[0m\u001b[0;34m(\u001b[0m\u001b[0mv\u001b[0m\u001b[0;34m)\u001b[0m\u001b[0;34m\u001b[0m\u001b[0;34m\u001b[0m\u001b[0m\n\u001b[0m\u001b[1;32m    829\u001b[0m                 \u001b[0;32mif\u001b[0m \u001b[0misinstance\u001b[0m\u001b[0;34m(\u001b[0m\u001b[0mresults\u001b[0m\u001b[0;34m[\u001b[0m\u001b[0mi\u001b[0m\u001b[0;34m]\u001b[0m\u001b[0;34m,\u001b[0m \u001b[0mABCSeries\u001b[0m\u001b[0;34m)\u001b[0m\u001b[0;34m:\u001b[0m\u001b[0;34m\u001b[0m\u001b[0;34m\u001b[0m\u001b[0m\n\u001b[1;32m    830\u001b[0m                     \u001b[0;31m# If we have a view on v, we need to make a copy because\u001b[0m\u001b[0;34m\u001b[0m\u001b[0;34m\u001b[0m\u001b[0;34m\u001b[0m\u001b[0m\n",
      "\u001b[0;32m~/ITR/ITR/temperature_score.py\u001b[0m in \u001b[0;36m<lambda>\u001b[0;34m(row)\u001b[0m\n\u001b[1;32m    142\u001b[0m             \u001b[0mself\u001b[0m\u001b[0;34m.\u001b[0m\u001b[0mc\u001b[0m\u001b[0;34m.\u001b[0m\u001b[0mCOLS\u001b[0m\u001b[0;34m.\u001b[0m\u001b[0mTRAJECTORY_OVERSHOOT\u001b[0m\u001b[0;34m]\u001b[0m\u001b[0;34m,\u001b[0m \u001b[0mscoring_data\u001b[0m\u001b[0;34m[\u001b[0m\u001b[0mself\u001b[0m\u001b[0;34m.\u001b[0m\u001b[0mc\u001b[0m\u001b[0;34m.\u001b[0m\u001b[0mCOLS\u001b[0m\u001b[0;34m.\u001b[0m\u001b[0mTARGET_SCORE\u001b[0m\u001b[0;34m]\u001b[0m\u001b[0;34m,\u001b[0m \u001b[0mscoring_data\u001b[0m\u001b[0;34m[\u001b[0m\u001b[0;34m\u001b[0m\u001b[0;34m\u001b[0m\u001b[0m\n\u001b[1;32m    143\u001b[0m             self.c.COLS.TARGET_OVERSHOOT], scoring_data[self.c.TEMPERATURE_RESULTS] = zip(*scoring_data.apply(\n\u001b[0;32m--> 144\u001b[0;31m             lambda row: self.get_score(row), axis=1))\n\u001b[0m\u001b[1;32m    145\u001b[0m \u001b[0;34m\u001b[0m\u001b[0m\n\u001b[1;32m    146\u001b[0m         \u001b[0mscoring_data\u001b[0m \u001b[0;34m=\u001b[0m \u001b[0mself\u001b[0m\u001b[0;34m.\u001b[0m\u001b[0mcap_scores\u001b[0m\u001b[0;34m(\u001b[0m\u001b[0mscoring_data\u001b[0m\u001b[0;34m)\u001b[0m\u001b[0;34m\u001b[0m\u001b[0;34m\u001b[0m\u001b[0m\n",
      "\u001b[0;32m~/ITR/ITR/temperature_score.py\u001b[0m in \u001b[0;36mget_score\u001b[0;34m(self, scorable_row)\u001b[0m\n\u001b[1;32m     69\u001b[0m         \u001b[0mtarget_temperature_score\u001b[0m \u001b[0;34m=\u001b[0m \u001b[0mscorable_row\u001b[0m\u001b[0;34m[\u001b[0m\u001b[0mself\u001b[0m\u001b[0;34m.\u001b[0m\u001b[0mc\u001b[0m\u001b[0;34m.\u001b[0m\u001b[0mCOLS\u001b[0m\u001b[0;34m.\u001b[0m\u001b[0mBENCHMARK_TEMP\u001b[0m\u001b[0;34m]\u001b[0m \u001b[0;34m+\u001b[0m\u001b[0;31m \u001b[0m\u001b[0;31m\\\u001b[0m\u001b[0;34m\u001b[0m\u001b[0;34m\u001b[0m\u001b[0m\n\u001b[1;32m     70\u001b[0m                                    (scorable_row[self.c.COLS.BENCHMARK_GLOBAL_BUDGET] * (\n\u001b[0;32m---> 71\u001b[0;31m                                            target_overshoot_ratio - 1.0) * self.c.CONTROLS_CONFIG.tcre_multiplier)\n\u001b[0m\u001b[1;32m     72\u001b[0m         \u001b[0mtrajectory_temperature_score\u001b[0m \u001b[0;34m=\u001b[0m \u001b[0mscorable_row\u001b[0m\u001b[0;34m[\u001b[0m\u001b[0mself\u001b[0m\u001b[0;34m.\u001b[0m\u001b[0mc\u001b[0m\u001b[0;34m.\u001b[0m\u001b[0mCOLS\u001b[0m\u001b[0;34m.\u001b[0m\u001b[0mBENCHMARK_TEMP\u001b[0m\u001b[0;34m]\u001b[0m \u001b[0;34m+\u001b[0m\u001b[0;31m \u001b[0m\u001b[0;31m\\\u001b[0m\u001b[0;34m\u001b[0m\u001b[0;34m\u001b[0m\u001b[0m\n\u001b[1;32m     73\u001b[0m                                        (scorable_row[self.c.COLS.BENCHMARK_GLOBAL_BUDGET] * (\n",
      "\u001b[0;32m/opt/app-root/lib64/python3.8/site-packages/pint/quantity.py\u001b[0m in \u001b[0;36m__sub__\u001b[0;34m(self, other)\u001b[0m\n\u001b[1;32m   1159\u001b[0m \u001b[0;34m\u001b[0m\u001b[0m\n\u001b[1;32m   1160\u001b[0m     \u001b[0;32mdef\u001b[0m \u001b[0m__sub__\u001b[0m\u001b[0;34m(\u001b[0m\u001b[0mself\u001b[0m\u001b[0;34m,\u001b[0m \u001b[0mother\u001b[0m\u001b[0;34m)\u001b[0m\u001b[0;34m:\u001b[0m\u001b[0;34m\u001b[0m\u001b[0;34m\u001b[0m\u001b[0m\n\u001b[0;32m-> 1161\u001b[0;31m         \u001b[0;32mreturn\u001b[0m \u001b[0mself\u001b[0m\u001b[0;34m.\u001b[0m\u001b[0m_add_sub\u001b[0m\u001b[0;34m(\u001b[0m\u001b[0mother\u001b[0m\u001b[0;34m,\u001b[0m \u001b[0moperator\u001b[0m\u001b[0;34m.\u001b[0m\u001b[0msub\u001b[0m\u001b[0;34m)\u001b[0m\u001b[0;34m\u001b[0m\u001b[0;34m\u001b[0m\u001b[0m\n\u001b[0m\u001b[1;32m   1162\u001b[0m \u001b[0;34m\u001b[0m\u001b[0m\n\u001b[1;32m   1163\u001b[0m     \u001b[0;32mdef\u001b[0m \u001b[0m__rsub__\u001b[0m\u001b[0;34m(\u001b[0m\u001b[0mself\u001b[0m\u001b[0;34m,\u001b[0m \u001b[0mother\u001b[0m\u001b[0;34m)\u001b[0m\u001b[0;34m:\u001b[0m\u001b[0;34m\u001b[0m\u001b[0;34m\u001b[0m\u001b[0m\n",
      "\u001b[0;32m/opt/app-root/lib64/python3.8/site-packages/pint/quantity.py\u001b[0m in \u001b[0;36mwrapped\u001b[0;34m(self, *args, **kwargs)\u001b[0m\n\u001b[1;32m    138\u001b[0m         \u001b[0;32melif\u001b[0m \u001b[0misinstance\u001b[0m\u001b[0;34m(\u001b[0m\u001b[0mother\u001b[0m\u001b[0;34m,\u001b[0m \u001b[0mlist\u001b[0m\u001b[0;34m)\u001b[0m \u001b[0;32mand\u001b[0m \u001b[0mother\u001b[0m \u001b[0;32mand\u001b[0m \u001b[0misinstance\u001b[0m\u001b[0;34m(\u001b[0m\u001b[0mother\u001b[0m\u001b[0;34m[\u001b[0m\u001b[0;36m0\u001b[0m\u001b[0;34m]\u001b[0m\u001b[0;34m,\u001b[0m \u001b[0mtype\u001b[0m\u001b[0;34m(\u001b[0m\u001b[0mself\u001b[0m\u001b[0;34m)\u001b[0m\u001b[0;34m)\u001b[0m\u001b[0;34m:\u001b[0m\u001b[0;34m\u001b[0m\u001b[0;34m\u001b[0m\u001b[0m\n\u001b[1;32m    139\u001b[0m             \u001b[0;32mreturn\u001b[0m \u001b[0mNotImplemented\u001b[0m\u001b[0;34m\u001b[0m\u001b[0;34m\u001b[0m\u001b[0m\n\u001b[0;32m--> 140\u001b[0;31m         \u001b[0;32mreturn\u001b[0m \u001b[0mf\u001b[0m\u001b[0;34m(\u001b[0m\u001b[0mself\u001b[0m\u001b[0;34m,\u001b[0m \u001b[0;34m*\u001b[0m\u001b[0margs\u001b[0m\u001b[0;34m,\u001b[0m \u001b[0;34m**\u001b[0m\u001b[0mkwargs\u001b[0m\u001b[0;34m)\u001b[0m\u001b[0;34m\u001b[0m\u001b[0;34m\u001b[0m\u001b[0m\n\u001b[0m\u001b[1;32m    141\u001b[0m \u001b[0;34m\u001b[0m\u001b[0m\n\u001b[1;32m    142\u001b[0m     \u001b[0;32mreturn\u001b[0m \u001b[0mwrapped\u001b[0m\u001b[0;34m\u001b[0m\u001b[0;34m\u001b[0m\u001b[0m\n",
      "\u001b[0;32m/opt/app-root/lib64/python3.8/site-packages/pint/quantity.py\u001b[0m in \u001b[0;36m_add_sub\u001b[0;34m(self, other, op)\u001b[0m\n\u001b[1;32m   1046\u001b[0m                 )\n\u001b[1;32m   1047\u001b[0m             \u001b[0;32melse\u001b[0m\u001b[0;34m:\u001b[0m\u001b[0;34m\u001b[0m\u001b[0;34m\u001b[0m\u001b[0m\n\u001b[0;32m-> 1048\u001b[0;31m                 \u001b[0;32mraise\u001b[0m \u001b[0mDimensionalityError\u001b[0m\u001b[0;34m(\u001b[0m\u001b[0mself\u001b[0m\u001b[0;34m.\u001b[0m\u001b[0m_units\u001b[0m\u001b[0;34m,\u001b[0m \u001b[0;34m\"dimensionless\"\u001b[0m\u001b[0;34m)\u001b[0m\u001b[0;34m\u001b[0m\u001b[0;34m\u001b[0m\u001b[0m\n\u001b[0m\u001b[1;32m   1049\u001b[0m             \u001b[0;32mreturn\u001b[0m \u001b[0mself\u001b[0m\u001b[0;34m.\u001b[0m\u001b[0m__class__\u001b[0m\u001b[0;34m(\u001b[0m\u001b[0mmagnitude\u001b[0m\u001b[0;34m,\u001b[0m \u001b[0munits\u001b[0m\u001b[0;34m)\u001b[0m\u001b[0;34m\u001b[0m\u001b[0;34m\u001b[0m\u001b[0m\n\u001b[1;32m   1050\u001b[0m \u001b[0;34m\u001b[0m\u001b[0m\n",
      "\u001b[0;31mDimensionalityError\u001b[0m: Cannot convert from 'megametric_ton * megawatt_hour / metric_ton' to 'dimensionless'"
     ]
    }
   ],
   "source": [
    "temperature_score = TemperatureScore(               \n",
    "    time_frames = [ETimeFrames.LONG],     \n",
    "    scopes=[EScope.S1S2],    \n",
    "    aggregation_method=PortfolioAggregationMethod.WATS # Options for the aggregation method are WATS, TETS, AOTS, MOTS, EOTS, ECOTS, and ROTS.\n",
    ")\n",
    "amended_portfolio = temperature_score.calculate(data_warehouse=excel_provider, portfolio=companies)"
   ]
  },
  {
   "cell_type": "markdown",
   "metadata": {},
   "source": [
    "For every company the tool assigns a score for all the requested timeframe and scope combinations. For now the ITR methodolgy only supportt a long timeframe in combination with a S1S2 scope"
   ]
  },
  {
   "cell_type": "code",
   "execution_count": null,
   "metadata": {},
   "outputs": [],
   "source": [
    "amended_portfolio[['company_name', 'time_frame', 'scope', 'temperature_score']].head(9)"
   ]
  },
  {
   "cell_type": "markdown",
   "metadata": {},
   "source": [
    "## Calculate the aggregated temperature score\n",
    "Calculate an aggregated temperature score. This can be done using different aggregation methods. Here we'll use the \"Weighted Average Temperature Score\" (WATS) by initializing the TemperatureScore Object with PortfolioAggregationMethod.WATS. The temperature scores are calculated per time-frame/scope combination.\n"
   ]
  },
  {
   "cell_type": "code",
   "execution_count": null,
   "metadata": {},
   "outputs": [],
   "source": [
    "aggregated_scores = temperature_score.aggregate_scores(amended_portfolio)"
   ]
  },
  {
   "cell_type": "code",
   "execution_count": null,
   "metadata": {},
   "outputs": [],
   "source": [
    "aggregated_scores.long.S1S2.all.score"
   ]
  },
  {
   "cell_type": "markdown",
   "metadata": {},
   "source": [
    "\n",
    "The first analysis of your portfolio could be to understand if you have any particular hotspots in your portfolio. We can do that by analysing different groupings of companies.\n",
    "\n",
    "The tool allows you to calculate temperature scores for _groups_ of companies. In this example we group the scores by sector and region, and leave the timeframe and scope unchanged. Any categorical variable in the data provided by you or your data provider (in the `test_company_data.xlsx` imported above) can be used as grouping variable, e.g. sectors, industries, regions, countries, market cap buckets, as well as the additional fields you imported via the portfolio data.\n",
    "\n",
    "You can change the variable by which the data is grouped by replacing the fourth line in the following cell. For example, replacing \"grouping=['sector', 'region']\" by \"grouping=['sector', 'country']\" would result in temperature scores per sector per country. \n",
    "If you want to change the time frame as well, please refer to the section 'Calculate the company temperature scores' above.\n",
    "\n"
   ]
  },
  {
   "cell_type": "code",
   "execution_count": null,
   "metadata": {
    "scrolled": true
   },
   "outputs": [],
   "source": [
    "grouping = ['sector', 'region']\n",
    "temperature_score.grouping = grouping\n",
    "grouped_portfolio = temperature_score.calculate(data_warehouse=excel_provider, portfolio=companies)\n",
    "grouped_aggregations = temperature_score.aggregate_scores(grouped_portfolio)"
   ]
  },
  {
   "cell_type": "markdown",
   "metadata": {},
   "source": [
    "\n",
    "The aggregated scores can then be used, for example, to show the relation between sectors and regions with respect to temperature score.\n",
    "A visualization of this relation is shown in the heatmap below. The grey fields indicate that the portfolio contains no assest for those combinations.\n",
    "\n",
    "##### Quick analysis\n",
    "\n",
    "We can see here that our Suth American Steelis in reasonable shape. While Asian Steel can be improved as shown in the drill down below the graph\n",
    "\n"
   ]
  },
  {
   "cell_type": "code",
   "execution_count": null,
   "metadata": {},
   "outputs": [],
   "source": [
    "analysis_parameters = ([ETimeFrames.LONG], [EScope.S1S2], grouping)\n",
    "plot_grouped_heatmap(grouped_aggregations, analysis_parameters)"
   ]
  },
  {
   "cell_type": "code",
   "execution_count": null,
   "metadata": {},
   "outputs": [],
   "source": [
    "region =  'Asia'\n",
    "sector = 'Steel'\n",
    "group = sector + '-' + region\n",
    "group_contributions = get_contributions_per_group(grouped_aggregations, analysis_parameters, group)\n",
    "group_contributions.round(2)"
   ]
  },
  {
   "cell_type": "markdown",
   "metadata": {},
   "source": [
    "#### Sector analysis\n",
    "\n",
    "Sector analysis may help us with bringing some clarity into our analysis from the heatmap above. In order to identify the companies that your portfolio would most benefit from engaging with, we can start with identifying the biggest contributing sectors to the portfolio's temperature score, as in our example below.\n",
    "\n",
    "Contributions can be identified on an individual company level, as well as contributions from companies grouped by one of their characteristics, e.g. sector or region. The exact definitions of companies' contributions to the portfolio temperature scores depend on the selected aggregation method.\n",
    "\n",
    "You can group companies on any categorical variable (e.g. sectors, countries, market cap buckets, investment strategies, etc)  you provide through your dataprovider, in this example in the test_company_data.xlsx imported above.\n",
    "\n",
    "For our analysis we select one time-frame (LONG) and one scope (S1+S2) and group the outcomes on sector and compare AUM to temperature score contribution. We also then display the sector temperature scores.\n",
    "\n",
    "##### Quick analysis\n",
    "\n",
    "In this example we can see that both sectors Steel and Electricity are scoring above 2.0C. \n"
   ]
  },
  {
   "cell_type": "code",
   "execution_count": null,
   "metadata": {},
   "outputs": [],
   "source": [
    "time_frames = [ETimeFrames.LONG]\n",
    "scopes = [EScope.S1S2]\n",
    "grouping = ['sector']\n",
    "analysis_parameters = (time_frames, scopes, grouping)\n",
    "\n",
    "temperature_score = TemperatureScore(time_frames=time_frames,\n",
    "                                     scopes=scopes,\n",
    "                                     grouping=grouping)\n",
    "amended_portfolio = temperature_score.calculate(data_warehouse=excel_provider, portfolio=companies)\n",
    "aggregated_portfolio = temperature_score.aggregate_scores(amended_portfolio)\n",
    "company_contributions = collect_company_contributions(aggregated_portfolio, amended_portfolio, analysis_parameters)"
   ]
  },
  {
   "cell_type": "code",
   "execution_count": null,
   "metadata": {},
   "outputs": [],
   "source": [
    "plot_grouped_statistics(aggregated_portfolio, company_contributions, analysis_parameters)"
   ]
  },
  {
   "cell_type": "markdown",
   "metadata": {},
   "source": [
    "We can use what we learned from this analysis to drill into a few of the highest contributing scoring sectors to see which\n",
    "companies are the biggest contributors on the sector level. Considering the Steel sector, for instance, in the\n",
    "table below.\n"
   ]
  },
  {
   "cell_type": "code",
   "execution_count": null,
   "metadata": {},
   "outputs": [],
   "source": [
    "sector_contributions = company_contributions[['company_name', 'company_id', 'sector', 'contribution', 'temperature_score', 'ownership_percentage', 'portfolio_percentage']]\n",
    "sector_contributions.loc[sector_contributions['sector'] == 'Steel'][:10].round(2)"
   ]
  },
  {
   "cell_type": "markdown",
   "metadata": {},
   "source": [
    "### Save your data for further analysis\n",
    "To take your analysis outside of this notebook and for example for internal and client reporting, you can export all data to Excel and the clipboard for pasting into and analysing in other applications.\n",
    "\n",
    "If you run the ITR tool locally or from Google Colab, you:\n",
    "- Specify the filenames of the output files in the cell below, e.g. change 'data_dump.xlsx' in the first line to 'TS_output.xlsx'\n",
    "- Run the cell below"
   ]
  },
  {
   "cell_type": "code",
   "execution_count": null,
   "metadata": {
    "pycharm": {
     "name": "#%%\n"
    }
   },
   "outputs": [],
   "source": [
    "data_dump_filename = 'data_dump.xlsx'\n",
    "amended_portfolio.set_index(['company_name', 'company_id']).to_excel(data_dump_filename)"
   ]
  }
 ],
 "metadata": {
  "kernelspec": {
   "display_name": "Python 3",
   "language": "python",
   "name": "python3"
  },
  "language_info": {
   "codemirror_mode": {
    "name": "ipython",
    "version": 3
   },
   "file_extension": ".py",
   "mimetype": "text/x-python",
   "name": "python",
   "nbconvert_exporter": "python",
   "pygments_lexer": "ipython3",
   "version": "3.8.3"
  }
 },
 "nbformat": 4,
 "nbformat_minor": 4
}
