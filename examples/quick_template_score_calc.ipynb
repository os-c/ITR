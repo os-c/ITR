{
 "cells": [
  {
   "cell_type": "markdown",
   "metadata": {},
   "source": [
    "# ITR Tool - Quick Temperature Score Calculation\n",
    "This notebook provides a simple example of the ITR Toolkit. It shows how to use it to calculate the temperature score for companies, aggregate them to a portfolio level to get the portfolio temperature score. \n"
   ]
  },
  {
   "cell_type": "markdown",
   "metadata": {},
   "source": [
    "### Getting started\n",
    "Make sure you are running the notebook with the requirements installed available in the example folder"
   ]
  },
  {
   "cell_type": "code",
   "execution_count": 1,
   "metadata": {},
   "outputs": [],
   "source": [
    "#If not already installed uncomment line below\n",
    "#!pip install ITR"
   ]
  },
  {
   "cell_type": "code",
   "execution_count": 2,
   "metadata": {
    "tags": []
   },
   "outputs": [],
   "source": [
    "import ITR\n",
    "from ITR.data.excel import ExcelProviderProductionBenchmark, ExcelProviderIntensityBenchmark\n",
    "from ITR.data.template import TemplateProviderCompany\n",
    "from ITR.data.data_warehouse import DataWarehouse\n",
    "from ITR.portfolio_aggregation import PortfolioAggregationMethod\n",
    "from ITR.temperature_score import TemperatureScore\n",
    "from ITR.interfaces import ETimeFrames, EScope\n",
    "import pandas as pd\n",
    "\n",
    "from ITR.data.osc_units import ureg, Q_, PA_"
   ]
  },
  {
   "cell_type": "code",
   "execution_count": 3,
   "metadata": {},
   "outputs": [
    {
     "name": "stdout",
     "output_type": "stream",
     "text": [
      "1 CO2e\n",
      "1 CO2e * gigametric_ton\n"
     ]
    }
   ],
   "source": [
    "one_co2 = ureg(\"CO2e\")\n",
    "print(one_co2)\n",
    "\n",
    "one_Gt_co2 = ureg(\"Gt CO2e\")\n",
    "print(one_Gt_co2)"
   ]
  },
  {
   "cell_type": "markdown",
   "metadata": {},
   "source": [
    "## Download the dummy data warehouse\n",
    "\n",
    "We have prepared dummy data for you to be able to run the tool as it is to familiarise yourself with how it works. To use your own data; please check out to the [Data Requirements section](https://github.com/os-c/ITR/blob/main/docs/DataRequirements.rst) of the technical documentation for more details on data requirements and formatting. \n",
    "\n",
    "*The dummy data may include some company names, but the data associated with those company names is completely random and any similarities with real world data is purely coincidental. \n"
   ]
  },
  {
   "cell_type": "code",
   "execution_count": 4,
   "metadata": {},
   "outputs": [],
   "source": [
    "import urllib.request\n",
    "import os\n",
    "\n",
    "if not os.path.isdir(\"data\"):\n",
    "    os.mkdir(\"data\")\n",
    "if not os.path.isfile(\"data/20220215 ITR Tool Sample Data.xlsx\"):\n",
    "    urllib.request.urlretrieve(\"https://github.com/os-climate/ITR/tree/develop-pint-steel-projections/examples/data/test_data_company.xlsx\", \"data/20220215 ITR Tool Sample Data.xlsx\")\n",
    "if not os.path.isfile(\"data/OECM_EI_and_production_benchmarks.xlsx\"):\n",
    "    urllib.request.urlretrieve(\"https://https://github.com/os-climate/ITR/tree/develop-pint-steel-projections/examples/data/OECM_EI_and_production_benchmarks.xlsx\", \"data/OECM_EI_and_production_benchmarks.xlsx\")\n",
    "if not os.path.isfile(\"utils.py\"):\n",
    "    urllib.request.urlretrieve(\"https://github.com/os-climate/ITR/tree/develop-pint-steel-projections/examples/utils.py\", \"utils.py\")\n",
    "try:  # Import statement when run in remote Jupyter servers from AWS Google etc..\n",
    "    from utils import collect_company_contributions, plot_grouped_statistics, anonymize, \\\n",
    "        plot_grouped_heatmap, print_grouped_scores, get_contributions_per_group\n",
    "except:  # Import statement when run locally\n",
    "    from utils import collect_company_contributions, plot_grouped_statistics, anonymize, \\\n",
    "        plot_grouped_heatmap, print_grouped_scores, get_contributions_per_group"
   ]
  },
  {
   "cell_type": "markdown",
   "metadata": {},
   "source": [
    "##### Logging\n",
    "The ITR module uses the Python standard library logging utilities to send log messages. The log level can be changed according to the user's needs."
   ]
  },
  {
   "cell_type": "code",
   "execution_count": 5,
   "metadata": {},
   "outputs": [],
   "source": [
    "import logging\n",
    "root_logger = logging.getLogger()\n",
    "root_logger.setLevel(\"INFO\")"
   ]
  },
  {
   "cell_type": "markdown",
   "metadata": {},
   "source": [
    "## Create a data provider\n",
    "Data providers let you connect to the data source of your choice. In this case we are connecting to Excel as a data provider. "
   ]
  },
  {
   "cell_type": "code",
   "execution_count": 6,
   "metadata": {},
   "outputs": [],
   "source": [
    "excel_production_bm = ExcelProviderProductionBenchmark(excel_path=\"data/OECM_EI_and_production_benchmarks.xlsx\")"
   ]
  },
  {
   "cell_type": "code",
   "execution_count": 7,
   "metadata": {},
   "outputs": [],
   "source": [
    "excel_EI_bm = ExcelProviderIntensityBenchmark(excel_path=\"data/OECM_EI_and_production_benchmarks.xlsx\",benchmark_temperature=Q_(1.5, ureg.delta_degC),\n",
    "                                                           benchmark_global_budget=396 * ureg('Gt CO2'), is_AFOLU_included=False)"
   ]
  },
  {
   "cell_type": "code",
   "execution_count": 8,
   "metadata": {
    "tags": []
   },
   "outputs": [],
   "source": [
    "template_company_data = TemplateProviderCompany(excel_path=\"data/20220215 ITR Tool Sample Data.xlsx\")"
   ]
  },
  {
   "cell_type": "code",
   "execution_count": 9,
   "metadata": {
    "tags": []
   },
   "outputs": [],
   "source": [
    "template_provider = DataWarehouse(template_company_data, excel_production_bm, excel_EI_bm)\n",
    "\n",
    "# Fills in template_company_data._companies[0].projected_targets.S1S2"
   ]
  },
  {
   "cell_type": "markdown",
   "metadata": {},
   "source": [
    "## Load your portfolio\n",
    "In our case the portfolio is stored as a CSV file. The portfolio should at least have an \"id\" (the identifier of the company) and a \"proportion\" (the weight of the company in your portfolio e.g. the value of the shares you hold) column.\n",
    "\n",
    "Please see the technical documentation on [Data Legends](https://ofbdabv.github.io/ITR/Legends.html#) for details on data requirements."
   ]
  },
  {
   "cell_type": "code",
   "execution_count": 10,
   "metadata": {},
   "outputs": [
    {
     "data": {
      "text/html": [
       "<div>\n",
       "<style scoped>\n",
       "    .dataframe tbody tr th:only-of-type {\n",
       "        vertical-align: middle;\n",
       "    }\n",
       "\n",
       "    .dataframe tbody tr th {\n",
       "        vertical-align: top;\n",
       "    }\n",
       "\n",
       "    .dataframe thead th {\n",
       "        text-align: right;\n",
       "    }\n",
       "</style>\n",
       "<table border=\"1\" class=\"dataframe\">\n",
       "  <thead>\n",
       "    <tr style=\"text-align: right;\">\n",
       "      <th></th>\n",
       "      <th>company_name</th>\n",
       "      <th>company_lei</th>\n",
       "      <th>company_id</th>\n",
       "      <th>company_isin</th>\n",
       "      <th>investment_value</th>\n",
       "    </tr>\n",
       "  </thead>\n",
       "  <tbody>\n",
       "    <tr>\n",
       "      <th>0</th>\n",
       "      <td>AES Corp.</td>\n",
       "      <td>2NUNNB7D43COUIRE5295</td>\n",
       "      <td>US00130H1059</td>\n",
       "      <td>US00130H1059</td>\n",
       "      <td>112482</td>\n",
       "    </tr>\n",
       "    <tr>\n",
       "      <th>1</th>\n",
       "      <td>ALLETE, Inc.</td>\n",
       "      <td>549300NNLSIMY6Z8OT86</td>\n",
       "      <td>US0185223007</td>\n",
       "      <td>US0185223007</td>\n",
       "      <td>79808</td>\n",
       "    </tr>\n",
       "    <tr>\n",
       "      <th>2</th>\n",
       "      <td>Alliant Energy</td>\n",
       "      <td>5493009ML300G373MZ12</td>\n",
       "      <td>US0188021085</td>\n",
       "      <td>US0188021085</td>\n",
       "      <td>197683</td>\n",
       "    </tr>\n",
       "    <tr>\n",
       "      <th>3</th>\n",
       "      <td>Ameren Corp.</td>\n",
       "      <td>XRZQ5S7HYJFPHJ78L959</td>\n",
       "      <td>US0236081024</td>\n",
       "      <td>US0236081024</td>\n",
       "      <td>103668</td>\n",
       "    </tr>\n",
       "    <tr>\n",
       "      <th>4</th>\n",
       "      <td>American Electric Power Co., Inc.</td>\n",
       "      <td>1B4S6S7G0TW5EE83BO58</td>\n",
       "      <td>US0255371017</td>\n",
       "      <td>US0255371017</td>\n",
       "      <td>238242</td>\n",
       "    </tr>\n",
       "  </tbody>\n",
       "</table>\n",
       "</div>"
      ],
      "text/plain": [
       "                        company_name           company_lei    company_id  \\\n",
       "0                          AES Corp.  2NUNNB7D43COUIRE5295  US00130H1059   \n",
       "1                       ALLETE, Inc.  549300NNLSIMY6Z8OT86  US0185223007   \n",
       "2                     Alliant Energy  5493009ML300G373MZ12  US0188021085   \n",
       "3                       Ameren Corp.  XRZQ5S7HYJFPHJ78L959  US0236081024   \n",
       "4  American Electric Power Co., Inc.  1B4S6S7G0TW5EE83BO58  US0255371017   \n",
       "\n",
       "   company_isin  investment_value  \n",
       "0  US00130H1059            112482  \n",
       "1  US0185223007             79808  \n",
       "2  US0188021085            197683  \n",
       "3  US0236081024            103668  \n",
       "4  US0255371017            238242  "
      ]
     },
     "metadata": {},
     "output_type": "display_data"
    }
   ],
   "source": [
    "# df_portfolio = pd.read_csv(\"data/example_portfolio.csv\", encoding=\"iso-8859-1\", sep=';')\n",
    "\n",
    "# df_portfolio.head(5)\n",
    "df_portfolio = pd.read_excel(\"data/20220215 ITR Tool Sample Data.xlsx\", sheet_name=\"Portfolio\")\n",
    "display(df_portfolio.head())"
   ]
  },
  {
   "cell_type": "markdown",
   "metadata": {},
   "source": [
    "To load the data from the data provider, we have to pass a list of IPortfolioCompany instances. The module has a strict [data model](https://ofbdabv.github.io/ITR/autoapi/ITR/interfaces/index.html) to convert Pandas Dataframe to the right object types we supplied a utility function.\n"
   ]
  },
  {
   "cell_type": "code",
   "execution_count": 11,
   "metadata": {},
   "outputs": [],
   "source": [
    "companies = ITR.utils.dataframe_to_portfolio(df_portfolio)"
   ]
  },
  {
   "cell_type": "markdown",
   "metadata": {},
   "source": [
    "## Calculate the temperature scores\n",
    "In the amended portfolio you'll find your original portfolio, amended with the emissions and the temperature score."
   ]
  },
  {
   "cell_type": "code",
   "execution_count": 12,
   "metadata": {},
   "outputs": [],
   "source": [
    "temperature_score = TemperatureScore(               \n",
    "    time_frames = [ETimeFrames.LONG],     \n",
    "    scopes=[EScope.S1S2],    \n",
    "    aggregation_method=PortfolioAggregationMethod.WATS # Options for the aggregation method are WATS, TETS, AOTS, MOTS, EOTS, ECOTS, and ROTS.\n",
    ")\n",
    "amended_portfolio = temperature_score.calculate(data_warehouse=template_provider, portfolio=companies)"
   ]
  },
  {
   "cell_type": "markdown",
   "metadata": {},
   "source": [
    "For every company the tool assigns a score for all the requested timeframe and scope combinations. For now the ITR methodolgy only supportt a long timeframe in combination with a S1S2 scope"
   ]
  },
  {
   "cell_type": "code",
   "execution_count": 13,
   "metadata": {},
   "outputs": [
    {
     "name": "stderr",
     "output_type": "stream",
     "text": [
      "/Users/michael/opt/miniconda3/envs/jupyter/lib/python3.10/site-packages/pint_pandas/pint_array.py:648: UnitStrippedWarning: The unit of the quantity is stripped when downcasting to ndarray.\n",
      "  return np.array(qtys, dtype=\"object\", copy=copy)\n",
      "/Users/michael/opt/miniconda3/envs/jupyter/lib/python3.10/site-packages/pint_pandas/pint_array.py:648: UnitStrippedWarning: The unit of the quantity is stripped when downcasting to ndarray.\n",
      "  return np.array(qtys, dtype=\"object\", copy=copy)\n"
     ]
    },
    {
     "data": {
      "text/html": [
       "<div>\n",
       "<style scoped>\n",
       "    .dataframe tbody tr th:only-of-type {\n",
       "        vertical-align: middle;\n",
       "    }\n",
       "\n",
       "    .dataframe tbody tr th {\n",
       "        vertical-align: top;\n",
       "    }\n",
       "\n",
       "    .dataframe thead th {\n",
       "        text-align: right;\n",
       "    }\n",
       "</style>\n",
       "<table border=\"1\" class=\"dataframe\">\n",
       "  <thead>\n",
       "    <tr style=\"text-align: right;\">\n",
       "      <th></th>\n",
       "      <th>company_name</th>\n",
       "      <th>time_frame</th>\n",
       "      <th>scope</th>\n",
       "      <th>temperature_score</th>\n",
       "    </tr>\n",
       "  </thead>\n",
       "  <tbody>\n",
       "    <tr>\n",
       "      <th>0</th>\n",
       "      <td>AES Corp.</td>\n",
       "      <td>LONG</td>\n",
       "      <td>S1S2</td>\n",
       "      <td>5.45</td>\n",
       "    </tr>\n",
       "    <tr>\n",
       "      <th>1</th>\n",
       "      <td>ALLETE, Inc.</td>\n",
       "      <td>LONG</td>\n",
       "      <td>S1S2</td>\n",
       "      <td>1.87</td>\n",
       "    </tr>\n",
       "    <tr>\n",
       "      <th>2</th>\n",
       "      <td>Alliant Energy</td>\n",
       "      <td>LONG</td>\n",
       "      <td>S1S2</td>\n",
       "      <td>2.1</td>\n",
       "    </tr>\n",
       "    <tr>\n",
       "      <th>3</th>\n",
       "      <td>Ameren Corp.</td>\n",
       "      <td>LONG</td>\n",
       "      <td>S1S2</td>\n",
       "      <td>2.18</td>\n",
       "    </tr>\n",
       "    <tr>\n",
       "      <th>4</th>\n",
       "      <td>American Electric Power Co., Inc.</td>\n",
       "      <td>LONG</td>\n",
       "      <td>S1S2</td>\n",
       "      <td>1.95</td>\n",
       "    </tr>\n",
       "    <tr>\n",
       "      <th>5</th>\n",
       "      <td>Avangrid, Inc.</td>\n",
       "      <td>LONG</td>\n",
       "      <td>S1S2</td>\n",
       "      <td>1.74</td>\n",
       "    </tr>\n",
       "    <tr>\n",
       "      <th>6</th>\n",
       "      <td>Black Hills Corp.</td>\n",
       "      <td>LONG</td>\n",
       "      <td>S1S2</td>\n",
       "      <td>1.99</td>\n",
       "    </tr>\n",
       "    <tr>\n",
       "      <th>7</th>\n",
       "      <td>CARPENTER TECHNOLOGY CORP</td>\n",
       "      <td>LONG</td>\n",
       "      <td>S1S2</td>\n",
       "      <td>1.72</td>\n",
       "    </tr>\n",
       "    <tr>\n",
       "      <th>8</th>\n",
       "      <td>CMS Energy Corp.</td>\n",
       "      <td>LONG</td>\n",
       "      <td>S1S2</td>\n",
       "      <td>1.93</td>\n",
       "    </tr>\n",
       "    <tr>\n",
       "      <th>9</th>\n",
       "      <td>COMMERCIAL METALS CO</td>\n",
       "      <td>LONG</td>\n",
       "      <td>S1S2</td>\n",
       "      <td>3.2</td>\n",
       "    </tr>\n",
       "    <tr>\n",
       "      <th>10</th>\n",
       "      <td>Cleco Partners LP</td>\n",
       "      <td>LONG</td>\n",
       "      <td>S1S2</td>\n",
       "      <td>1.19</td>\n",
       "    </tr>\n",
       "    <tr>\n",
       "      <th>11</th>\n",
       "      <td>Consolidated Edison, Inc.</td>\n",
       "      <td>LONG</td>\n",
       "      <td>S1S2</td>\n",
       "      <td>1.65</td>\n",
       "    </tr>\n",
       "    <tr>\n",
       "      <th>12</th>\n",
       "      <td>DTE Energy</td>\n",
       "      <td>LONG</td>\n",
       "      <td>S1S2</td>\n",
       "      <td>2.85</td>\n",
       "    </tr>\n",
       "    <tr>\n",
       "      <th>13</th>\n",
       "      <td>Dominion Energy</td>\n",
       "      <td>LONG</td>\n",
       "      <td>S1S2</td>\n",
       "      <td>1.84</td>\n",
       "    </tr>\n",
       "    <tr>\n",
       "      <th>14</th>\n",
       "      <td>Duke Energy Corp.</td>\n",
       "      <td>LONG</td>\n",
       "      <td>S1S2</td>\n",
       "      <td>2.12</td>\n",
       "    </tr>\n",
       "    <tr>\n",
       "      <th>15</th>\n",
       "      <td>Entergy Corp.</td>\n",
       "      <td>LONG</td>\n",
       "      <td>S1S2</td>\n",
       "      <td>2.48</td>\n",
       "    </tr>\n",
       "    <tr>\n",
       "      <th>16</th>\n",
       "      <td>Evergy, Inc.</td>\n",
       "      <td>LONG</td>\n",
       "      <td>S1S2</td>\n",
       "      <td>2.07</td>\n",
       "    </tr>\n",
       "    <tr>\n",
       "      <th>17</th>\n",
       "      <td>Eversource Energy</td>\n",
       "      <td>LONG</td>\n",
       "      <td>S1S2</td>\n",
       "      <td>1.19</td>\n",
       "    </tr>\n",
       "    <tr>\n",
       "      <th>18</th>\n",
       "      <td>Exelon Corp.</td>\n",
       "      <td>LONG</td>\n",
       "      <td>S1S2</td>\n",
       "      <td>2.6</td>\n",
       "    </tr>\n",
       "    <tr>\n",
       "      <th>19</th>\n",
       "      <td>FirstEnergy Corp.</td>\n",
       "      <td>LONG</td>\n",
       "      <td>S1S2</td>\n",
       "      <td>1.88</td>\n",
       "    </tr>\n",
       "    <tr>\n",
       "      <th>20</th>\n",
       "      <td>Fortis, Inc.</td>\n",
       "      <td>LONG</td>\n",
       "      <td>S1S2</td>\n",
       "      <td>1.73</td>\n",
       "    </tr>\n",
       "    <tr>\n",
       "      <th>21</th>\n",
       "      <td>GERDAU S.A.</td>\n",
       "      <td>LONG</td>\n",
       "      <td>S1S2</td>\n",
       "      <td>1.64</td>\n",
       "    </tr>\n",
       "    <tr>\n",
       "      <th>22</th>\n",
       "      <td>Hawaiian Electric Industries, Inc.</td>\n",
       "      <td>LONG</td>\n",
       "      <td>S1S2</td>\n",
       "      <td>2.33</td>\n",
       "    </tr>\n",
       "    <tr>\n",
       "      <th>23</th>\n",
       "      <td>MDU Resources Group</td>\n",
       "      <td>LONG</td>\n",
       "      <td>S1S2</td>\n",
       "      <td>2.18</td>\n",
       "    </tr>\n",
       "    <tr>\n",
       "      <th>24</th>\n",
       "      <td>NUCOR CORP</td>\n",
       "      <td>LONG</td>\n",
       "      <td>S1S2</td>\n",
       "      <td>1.43</td>\n",
       "    </tr>\n",
       "    <tr>\n",
       "      <th>25</th>\n",
       "      <td>National Grid PLC</td>\n",
       "      <td>LONG</td>\n",
       "      <td>S1S2</td>\n",
       "      <td>1.88</td>\n",
       "    </tr>\n",
       "    <tr>\n",
       "      <th>26</th>\n",
       "      <td>Northwestern Corp.</td>\n",
       "      <td>LONG</td>\n",
       "      <td>S1S2</td>\n",
       "      <td>1.89</td>\n",
       "    </tr>\n",
       "    <tr>\n",
       "      <th>27</th>\n",
       "      <td>OG&amp;E Energy Corp.</td>\n",
       "      <td>LONG</td>\n",
       "      <td>S1S2</td>\n",
       "      <td>2.25</td>\n",
       "    </tr>\n",
       "    <tr>\n",
       "      <th>28</th>\n",
       "      <td>PG&amp;E Corp.</td>\n",
       "      <td>LONG</td>\n",
       "      <td>S1S2</td>\n",
       "      <td>1.82</td>\n",
       "    </tr>\n",
       "    <tr>\n",
       "      <th>29</th>\n",
       "      <td>PNM Resources, Inc.</td>\n",
       "      <td>LONG</td>\n",
       "      <td>S1S2</td>\n",
       "      <td>1.74</td>\n",
       "    </tr>\n",
       "    <tr>\n",
       "      <th>30</th>\n",
       "      <td>POSCO</td>\n",
       "      <td>LONG</td>\n",
       "      <td>S1S2</td>\n",
       "      <td>1.72</td>\n",
       "    </tr>\n",
       "  </tbody>\n",
       "</table>\n",
       "</div>"
      ],
      "text/plain": [
       "                          company_name time_frame scope temperature_score\n",
       "0                            AES Corp.       LONG  S1S2              5.45\n",
       "1                         ALLETE, Inc.       LONG  S1S2              1.87\n",
       "2                       Alliant Energy       LONG  S1S2               2.1\n",
       "3                         Ameren Corp.       LONG  S1S2              2.18\n",
       "4    American Electric Power Co., Inc.       LONG  S1S2              1.95\n",
       "5                       Avangrid, Inc.       LONG  S1S2              1.74\n",
       "6                    Black Hills Corp.       LONG  S1S2              1.99\n",
       "7            CARPENTER TECHNOLOGY CORP       LONG  S1S2              1.72\n",
       "8                     CMS Energy Corp.       LONG  S1S2              1.93\n",
       "9                 COMMERCIAL METALS CO       LONG  S1S2               3.2\n",
       "10                   Cleco Partners LP       LONG  S1S2              1.19\n",
       "11           Consolidated Edison, Inc.       LONG  S1S2              1.65\n",
       "12                          DTE Energy       LONG  S1S2              2.85\n",
       "13                     Dominion Energy       LONG  S1S2              1.84\n",
       "14                   Duke Energy Corp.       LONG  S1S2              2.12\n",
       "15                       Entergy Corp.       LONG  S1S2              2.48\n",
       "16                        Evergy, Inc.       LONG  S1S2              2.07\n",
       "17                   Eversource Energy       LONG  S1S2              1.19\n",
       "18                        Exelon Corp.       LONG  S1S2               2.6\n",
       "19                   FirstEnergy Corp.       LONG  S1S2              1.88\n",
       "20                        Fortis, Inc.       LONG  S1S2              1.73\n",
       "21                         GERDAU S.A.       LONG  S1S2              1.64\n",
       "22  Hawaiian Electric Industries, Inc.       LONG  S1S2              2.33\n",
       "23                 MDU Resources Group       LONG  S1S2              2.18\n",
       "24                          NUCOR CORP       LONG  S1S2              1.43\n",
       "25                   National Grid PLC       LONG  S1S2              1.88\n",
       "26                  Northwestern Corp.       LONG  S1S2              1.89\n",
       "27                   OG&E Energy Corp.       LONG  S1S2              2.25\n",
       "28                          PG&E Corp.       LONG  S1S2              1.82\n",
       "29                 PNM Resources, Inc.       LONG  S1S2              1.74\n",
       "30                               POSCO       LONG  S1S2              1.72"
      ]
     },
     "execution_count": 13,
     "metadata": {},
     "output_type": "execute_result"
    }
   ],
   "source": [
    "amended_portfolio[['company_name', 'time_frame', 'scope', 'temperature_score']]"
   ]
  },
  {
   "cell_type": "markdown",
   "metadata": {},
   "source": [
    "## Calculate the aggregated temperature score\n",
    "Calculate an aggregated temperature score. This can be done using different aggregation methods. Here we'll use the \"Weighted Average Temperature Score\" (WATS) by initializing the TemperatureScore Object with PortfolioAggregationMethod.WATS. The temperature scores are calculated per time-frame/scope combination.\n"
   ]
  },
  {
   "cell_type": "code",
   "execution_count": 14,
   "metadata": {},
   "outputs": [],
   "source": [
    "aggregated_scores = temperature_score.aggregate_scores(amended_portfolio)"
   ]
  },
  {
   "cell_type": "code",
   "execution_count": 15,
   "metadata": {},
   "outputs": [
    {
     "data": {
      "text/html": [
       "2.0746056439434017 delta_degree_Celsius"
      ],
      "text/latex": [
       "$2.0746056439434017\\ \\mathrm{delta\\_degree\\_Celsius}$"
      ],
      "text/plain": [
       "2.0746056439434017 <Unit('delta_degree_Celsius')>"
      ]
     },
     "execution_count": 15,
     "metadata": {},
     "output_type": "execute_result"
    }
   ],
   "source": [
    "aggregated_scores.long.S1S2.all.score"
   ]
  },
  {
   "cell_type": "markdown",
   "metadata": {},
   "source": [
    "\n",
    "The first analysis of your portfolio could be to understand if you have any particular hotspots in your portfolio. We can do that by analysing different groupings of companies.\n",
    "\n",
    "The tool allows you to calculate temperature scores for _groups_ of companies. In this example we group the scores by sector and region, and leave the timeframe and scope unchanged. Any categorical variable in the data provided by you or your data provider (in the `test_company_data.xlsx` imported above) can be used as grouping variable, e.g. sectors, industries, regions, countries, market cap buckets, as well as the additional fields you imported via the portfolio data.\n",
    "\n",
    "You can change the variable by which the data is grouped by replacing the fourth line in the following cell. For example, replacing \"grouping=['sector', 'region']\" by \"grouping=['sector', 'country']\" would result in temperature scores per sector per country. \n",
    "If you want to change the time frame as well, please refer to the section 'Calculate the company temperature scores' above.\n",
    "\n"
   ]
  },
  {
   "cell_type": "code",
   "execution_count": 16,
   "metadata": {
    "scrolled": true
   },
   "outputs": [],
   "source": [
    "grouping = ['sector', 'region']\n",
    "temperature_score.grouping = grouping\n",
    "grouped_portfolio = temperature_score.calculate(data_warehouse=template_provider, portfolio=companies)\n",
    "grouped_aggregations = temperature_score.aggregate_scores(grouped_portfolio)"
   ]
  },
  {
   "cell_type": "markdown",
   "metadata": {},
   "source": [
    "\n",
    "The aggregated scores can then be used, for example, to show the relation between sectors and regions with respect to temperature score.\n",
    "A visualization of this relation is shown in the heatmap below. The grey fields indicate that the portfolio contains no assest for those combinations.\n",
    "\n",
    "##### Quick analysis\n",
    "\n",
    "We can see here that our Suth American Steelis in reasonable shape. While Asian Steel can be improved as shown in the drill down below the graph\n",
    "\n"
   ]
  },
  {
   "cell_type": "code",
   "execution_count": 17,
   "metadata": {},
   "outputs": [
    {
     "data": {
      "image/png": "[encoded data removed]",
      "text/plain": [
       "<Figure size 129.6x230.4 with 2 Axes>"
      ]
     },
     "metadata": {
      "needs_background": "light"
     },
     "output_type": "display_data"
    }
   ],
   "source": [
    "analysis_parameters = ([ETimeFrames.LONG], [EScope.S1S2], grouping)\n",
    "plot_grouped_heatmap(grouped_aggregations, analysis_parameters)"
   ]
  },
  {
   "cell_type": "code",
   "execution_count": 18,
   "metadata": {},
   "outputs": [
    {
     "data": {
      "text/html": [
       "<div>\n",
       "<style scoped>\n",
       "    .dataframe tbody tr th:only-of-type {\n",
       "        vertical-align: middle;\n",
       "    }\n",
       "\n",
       "    .dataframe tbody tr th {\n",
       "        vertical-align: top;\n",
       "    }\n",
       "\n",
       "    .dataframe thead th {\n",
       "        text-align: right;\n",
       "    }\n",
       "</style>\n",
       "<table border=\"1\" class=\"dataframe\">\n",
       "  <thead>\n",
       "    <tr style=\"text-align: right;\">\n",
       "      <th></th>\n",
       "      <th>group</th>\n",
       "      <th>company_name</th>\n",
       "      <th>company_id</th>\n",
       "      <th>temperature_score</th>\n",
       "      <th>contribution_relative</th>\n",
       "    </tr>\n",
       "  </thead>\n",
       "  <tbody>\n",
       "    <tr>\n",
       "      <th>0</th>\n",
       "      <td>Steel-Asia</td>\n",
       "      <td>POSCO</td>\n",
       "      <td>KR7005490008</td>\n",
       "      <td>1.72 delta_degree_Celsius</td>\n",
       "      <td>100.0 percent</td>\n",
       "    </tr>\n",
       "  </tbody>\n",
       "</table>\n",
       "</div>"
      ],
      "text/plain": [
       "        group company_name    company_id          temperature_score  \\\n",
       "0  Steel-Asia        POSCO  KR7005490008  1.72 delta_degree_Celsius   \n",
       "\n",
       "  contribution_relative  \n",
       "0         100.0 percent  "
      ]
     },
     "execution_count": 18,
     "metadata": {},
     "output_type": "execute_result"
    }
   ],
   "source": [
    "region = 'Asia'\n",
    "sector = 'Steel'\n",
    "group = sector + '-' + region\n",
    "group_contributions = get_contributions_per_group(grouped_aggregations, analysis_parameters, group)\n",
    "group_contributions.round(2)"
   ]
  },
  {
   "cell_type": "markdown",
   "metadata": {},
   "source": [
    "#### Sector analysis\n",
    "\n",
    "Sector analysis may help us with bringing some clarity into our analysis from the heatmap above. In order to identify the companies that your portfolio would most benefit from engaging with, we can start with identifying the biggest contributing sectors to the portfolio's temperature score, as in our example below.\n",
    "\n",
    "Contributions can be identified on an individual company level, as well as contributions from companies grouped by one of their characteristics, e.g. sector or region. The exact definitions of companies' contributions to the portfolio temperature scores depend on the selected aggregation method.\n",
    "\n",
    "You can group companies on any categorical variable (e.g. sectors, countries, market cap buckets, investment strategies, etc)  you provide through your dataprovider, in this example in the test_company_data.xlsx imported above.\n",
    "\n",
    "For our analysis we select one time-frame (LONG) and one scope (S1+S2) and group the outcomes on sector and compare AUM to temperature score contribution. We also then display the sector temperature scores.\n",
    "\n",
    "##### Quick analysis\n",
    "\n",
    "In this example we can see that both sectors Steel and Electricity are scoring above 2.0C. \n"
   ]
  },
  {
   "cell_type": "code",
   "execution_count": 19,
   "metadata": {},
   "outputs": [
    {
     "name": "stderr",
     "output_type": "stream",
     "text": [
      "/Users/michael/opt/miniconda3/envs/jupyter/lib/python3.10/site-packages/pandas/core/dtypes/cast.py:1981: UnitStrippedWarning: The unit of the quantity is stripped when downcasting to ndarray.\n",
      "  result[:] = values\n"
     ]
    }
   ],
   "source": [
    "time_frames = [ETimeFrames.LONG]\n",
    "scopes = [EScope.S1S2]\n",
    "grouping = ['sector']\n",
    "analysis_parameters = (time_frames, scopes, grouping)\n",
    "\n",
    "temperature_score = TemperatureScore(time_frames=time_frames,\n",
    "                                     scopes=scopes,\n",
    "                                     grouping=grouping)\n",
    "amended_portfolio = temperature_score.calculate(data_warehouse=template_provider, portfolio=companies)\n",
    "aggregated_portfolio = temperature_score.aggregate_scores(amended_portfolio)\n",
    "company_contributions = collect_company_contributions(aggregated_portfolio, amended_portfolio, analysis_parameters)"
   ]
  },
  {
   "cell_type": "code",
   "execution_count": 20,
   "metadata": {},
   "outputs": [
    {
     "data": {
      "image/png": "[encoded data removed]",
      "text/plain": [
       "<Figure size 720x540 with 3 Axes>"
      ]
     },
     "metadata": {
      "needs_background": "light"
     },
     "output_type": "display_data"
    }
   ],
   "source": [
    "plot_grouped_statistics(aggregated_portfolio, company_contributions, analysis_parameters)"
   ]
  },
  {
   "cell_type": "markdown",
   "metadata": {},
   "source": [
    "We can use what we learned from this analysis to drill into a few of the highest contributing scoring sectors to see which\n",
    "companies are the biggest contributors on the sector level. Considering the Steel sector, for instance, in the\n",
    "table below.\n"
   ]
  },
  {
   "cell_type": "code",
   "execution_count": 21,
   "metadata": {},
   "outputs": [
    {
     "data": {
      "text/html": [
       "<div>\n",
       "<style scoped>\n",
       "    .dataframe tbody tr th:only-of-type {\n",
       "        vertical-align: middle;\n",
       "    }\n",
       "\n",
       "    .dataframe tbody tr th {\n",
       "        vertical-align: top;\n",
       "    }\n",
       "\n",
       "    .dataframe thead th {\n",
       "        text-align: right;\n",
       "    }\n",
       "</style>\n",
       "<table border=\"1\" class=\"dataframe\">\n",
       "  <thead>\n",
       "    <tr style=\"text-align: right;\">\n",
       "      <th></th>\n",
       "      <th>company_name</th>\n",
       "      <th>company_id</th>\n",
       "      <th>sector</th>\n",
       "      <th>contribution</th>\n",
       "      <th>temperature_score</th>\n",
       "      <th>ownership_percentage</th>\n",
       "      <th>portfolio_percentage</th>\n",
       "    </tr>\n",
       "  </thead>\n",
       "  <tbody>\n",
       "    <tr>\n",
       "      <th>6</th>\n",
       "      <td>POSCO</td>\n",
       "      <td>KR7005490008</td>\n",
       "      <td>Steel</td>\n",
       "      <td>4.731036024254013 percent</td>\n",
       "      <td>1.72 delta_degree_Celsius</td>\n",
       "      <td>0.00</td>\n",
       "      <td>5.71</td>\n",
       "    </tr>\n",
       "    <tr>\n",
       "      <th>8</th>\n",
       "      <td>COMMERCIAL METALS CO</td>\n",
       "      <td>US2017231034</td>\n",
       "      <td>Steel</td>\n",
       "      <td>4.642153243677908 percent</td>\n",
       "      <td>3.2 delta_degree_Celsius</td>\n",
       "      <td>0.01</td>\n",
       "      <td>3.01</td>\n",
       "    </tr>\n",
       "    <tr>\n",
       "      <th>9</th>\n",
       "      <td>GERDAU S.A.</td>\n",
       "      <td>US3737371050</td>\n",
       "      <td>Steel</td>\n",
       "      <td>4.245265550388852 percent</td>\n",
       "      <td>1.64 delta_degree_Celsius</td>\n",
       "      <td>0.01</td>\n",
       "      <td>5.37</td>\n",
       "    </tr>\n",
       "    <tr>\n",
       "      <th>16</th>\n",
       "      <td>NUCOR CORP</td>\n",
       "      <td>US6703461052</td>\n",
       "      <td>Steel</td>\n",
       "      <td>3.511963769116571 percent</td>\n",
       "      <td>1.43 delta_degree_Celsius</td>\n",
       "      <td>0.00</td>\n",
       "      <td>5.10</td>\n",
       "    </tr>\n",
       "    <tr>\n",
       "      <th>19</th>\n",
       "      <td>CARPENTER TECHNOLOGY CORP</td>\n",
       "      <td>US1442851036</td>\n",
       "      <td>Steel</td>\n",
       "      <td>2.239177614025693 percent</td>\n",
       "      <td>1.72 delta_degree_Celsius</td>\n",
       "      <td>0.01</td>\n",
       "      <td>2.70</td>\n",
       "    </tr>\n",
       "  </tbody>\n",
       "</table>\n",
       "</div>"
      ],
      "text/plain": [
       "                 company_name    company_id sector               contribution  \\\n",
       "6                       POSCO  KR7005490008  Steel  4.731036024254013 percent   \n",
       "8        COMMERCIAL METALS CO  US2017231034  Steel  4.642153243677908 percent   \n",
       "9                 GERDAU S.A.  US3737371050  Steel  4.245265550388852 percent   \n",
       "16                 NUCOR CORP  US6703461052  Steel  3.511963769116571 percent   \n",
       "19  CARPENTER TECHNOLOGY CORP  US1442851036  Steel  2.239177614025693 percent   \n",
       "\n",
       "            temperature_score  ownership_percentage  portfolio_percentage  \n",
       "6   1.72 delta_degree_Celsius                  0.00                  5.71  \n",
       "8    3.2 delta_degree_Celsius                  0.01                  3.01  \n",
       "9   1.64 delta_degree_Celsius                  0.01                  5.37  \n",
       "16  1.43 delta_degree_Celsius                  0.00                  5.10  \n",
       "19  1.72 delta_degree_Celsius                  0.01                  2.70  "
      ]
     },
     "execution_count": 21,
     "metadata": {},
     "output_type": "execute_result"
    }
   ],
   "source": [
    "sector_contributions = company_contributions[['company_name', 'company_id', 'sector', 'contribution', 'temperature_score', 'ownership_percentage', 'portfolio_percentage']]\n",
    "sector_contributions.loc[sector_contributions['sector'] == 'Steel'][:10].round(2)"
   ]
  },
  {
   "cell_type": "markdown",
   "metadata": {},
   "source": [
    "### Save your data for further analysis\n",
    "To take your analysis outside of this notebook and for example for internal and client reporting, you can export all data to Excel and the clipboard for pasting into and analysing in other applications.\n",
    "\n",
    "If you run the ITR tool locally or from Google Colab, you:\n",
    "- Specify the filenames of the output files in the cell below, e.g. change 'data_dump.xlsx' in the first line to 'TS_output.xlsx'\n",
    "- Run the cell below"
   ]
  },
  {
   "cell_type": "code",
   "execution_count": 22,
   "metadata": {
    "pycharm": {
     "name": "#%%\n"
    }
   },
   "outputs": [],
   "source": [
    "data_dump_filename = 'data_dump.xlsx'\n",
    "amended_portfolio.set_index(['company_name', 'company_id']).to_excel(data_dump_filename)"
   ]
  },
  {
   "cell_type": "code",
   "execution_count": null,
   "metadata": {},
   "outputs": [],
   "source": []
  }
 ],
 "metadata": {
  "kernelspec": {
   "display_name": "Python 3 (ipykernel)",
   "language": "python",
   "name": "python3"
  },
  "language_info": {
   "codemirror_mode": {
    "name": "ipython",
    "version": 3
   },
   "file_extension": ".py",
   "mimetype": "text/x-python",
   "name": "python",
   "nbconvert_exporter": "python",
   "pygments_lexer": "ipython3",
   "version": "3.10.2"
  }
 },
 "nbformat": 4,
 "nbformat_minor": 4
}
