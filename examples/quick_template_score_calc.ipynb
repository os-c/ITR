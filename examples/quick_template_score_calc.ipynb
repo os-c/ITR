{
 "cells": [
  {
   "cell_type": "markdown",
   "metadata": {
    "tags": []
   },
   "source": [
    "# ITR Tool - Template Temperature Score Calculation\n",
    "\n",
    "This notebook provides a simple example of the ITR Toolkit as a means to evaluate Portfolio Alignment.  Text boxes (called Markdown cells) like this provide some explanation, and then code cells either do the work just explained or will do work that will be explained.\n",
    "\n",
    "All data needed to run this demonstration should be local and no acccess to the internet should be required.  However, if you want to delete a file and re-download it (to restore to its pristine state), of course you need access to the internet, and you will need a github token to access the OS-Climate hithub.\n",
    "\n",
    "The **Sample Data template** provides both a *Read me* sheet and sheet of data dictionary *Definitions*, as well as three input data sheets:\n",
    "* ITR input data: The fundamental financial, emissions, and production data of companies, listed by security instrument as company id\n",
    "* ITR target input data: Short-term Emissions or Intensity reduction targets and Net-Zero attainment target dates, listed by company id\n",
    "* Portfolio: A list of positions and investment value amounts\n",
    "\n",
    "The user may choose **Benchmark Data** that forecasts intensity reductions expected from 2020-2050 by region and sector.  By default we use the OECM benchmark, but two TPI benchmarks are also available.  In all three cases we use the same projections for production grwoth forecasts.  We also use the same global carbon budget and TCRE multipliers for all benchmarks.\n",
    "\n",
    "After scoring the portfolio, the portfolio is copied to the local file *data_dump.xlsx* which can be downloaded for further analysis.\n",
    "\n",
    "This notebook also outputs an **enhanced portfolio** (with temperature scores), can be aggregated using various weighting methods to gain additional portfolio alignment insights.\n",
    "\n",
    "Please enjoy learning how the ITR tool works by following the computations performed by this Jupyter Notebook!"
   ]
  },
  {
   "cell_type": "markdown",
   "metadata": {
    "tags": []
   },
   "source": [
    "## Getting started\n",
    "Make sure you are running the notebook with the requirements installed available in the example folder.\n",
    "\n",
    "If you see errors when attempting to load the ITR modules, go to the top-level ITR directory, activate the `itr_env` conda environment (using `conda activate itr_env` and execute the command `pip install -e .`.  Then try again, or hit the <i class=\"fas fa-forward\"></i> button above."
   ]
  },
  {
   "cell_type": "code",
   "execution_count": 1,
   "metadata": {},
   "outputs": [],
   "source": [
    "import os\n",
    "import sys\n",
    "import warnings"
   ]
  },
  {
   "cell_type": "markdown",
   "metadata": {
    "tags": []
   },
   "source": [
    "If all is well, the list of paths below will prioritize loading from the environment established for the ITR tool.  Please contact us if not."
   ]
  },
  {
   "cell_type": "code",
   "execution_count": 2,
   "metadata": {
    "tags": []
   },
   "outputs": [
    {
     "data": {
      "text/plain": [
       "['/Users/michael/Documents/GitHub/ITR-MichaelTiemannOSC/examples',\n",
       " '/Users/michael/Documents/GitHub/ITR-MichaelTiemannOSC/examples',\n",
       " '/Library/Application Support/Blackmagic Design/DaVinci Resolve/Developer/Scripting/Modules',\n",
       " '/Users/michael/opt/miniconda3/envs/itr_env/lib/python39.zip',\n",
       " '/Users/michael/opt/miniconda3/envs/itr_env/lib/python3.9',\n",
       " '/Users/michael/opt/miniconda3/envs/itr_env/lib/python3.9/lib-dynload',\n",
       " '',\n",
       " '/Users/michael/.local/lib/python3.9/site-packages',\n",
       " '/Users/michael/opt/miniconda3/envs/itr_env/lib/python3.9/site-packages',\n",
       " '/Users/michael/Documents/GitHub/ITR']"
      ]
     },
     "metadata": {},
     "output_type": "display_data"
    }
   ],
   "source": [
    "display(sys.path)"
   ]
  },
  {
   "cell_type": "code",
   "execution_count": 3,
   "metadata": {
    "tags": []
   },
   "outputs": [],
   "source": [
    "# Load the ITR library files\n",
    "\n",
    "import ITR\n",
    "from ITR.data.excel import ExcelProviderProductionBenchmark, ExcelProviderIntensityBenchmark\n",
    "from ITR.data.template import TemplateProviderCompany\n",
    "from ITR.data.base_providers import BaseProviderProductionBenchmark, BaseProviderIntensityBenchmark\n",
    "from ITR.data.data_warehouse import DataWarehouse\n",
    "from ITR.portfolio_aggregation import PortfolioAggregationMethod\n",
    "from ITR.temperature_score import TemperatureScore\n",
    "from ITR.interfaces import ETimeFrames, EScope, IProductionBenchmarkScopes, IEIBenchmarkScopes\n",
    "import pandas as pd\n",
    "\n",
    "from ITR.data.osc_units import ureg, Q_, PA_"
   ]
  },
  {
   "cell_type": "code",
   "execution_count": 4,
   "metadata": {},
   "outputs": [
    {
     "name": "stdout",
     "output_type": "stream",
     "text": [
      "Testing unit registry\n",
      "=====================\n",
      "The gas species CO2e, which was a gwp of 1: 1 CO2e\n",
      "A gigaton of CO2e: 1 CO2e * gigametric_ton\n"
     ]
    }
   ],
   "source": [
    "print(\"Testing unit registry\\n=====================\")\n",
    "one_co2 = ureg(\"CO2e\")\n",
    "print(f\"The gas species CO2e, which was a gwp of 1: {one_co2}\")\n",
    "\n",
    "one_Gt_co2 = ureg(\"Gt CO2e\")\n",
    "print(f\"A gigaton of CO2e: {one_Gt_co2}\")"
   ]
  },
  {
   "cell_type": "markdown",
   "metadata": {},
   "source": [
    "## Load the production and intensity benchmarks\n",
    "\n",
    "Prepare the various benchmark files; the OECM benchmark is the default after the next cell finishes."
   ]
  },
  {
   "cell_type": "code",
   "execution_count": 5,
   "metadata": {},
   "outputs": [],
   "source": [
    "import json\n",
    "\n",
    "self_root = os.path.abspath('')\n",
    "benchmark_prod_json = os.path.join(self_root, \"data\", \"json-units\", \"benchmark_production_OECM.json\")\n",
    "benchmark_EI_OECM = os.path.join(self_root, \"data\", \"json-units\", \"benchmark_EI_OECM.json\")\n",
    "benchmark_EI_TPI = os.path.join(self_root, \"data\", \"json-units\", \"benchmark_EI_TPI_2_degrees.json\")\n",
    "benchmark_EI_TPI_below_2 = os.path.join(self_root, \"data\", \"json-units\", \"benchmark_EI_TPI_below_2_degrees.json\")\n",
    "\n",
    "# load production benchmarks\n",
    "with open(benchmark_prod_json) as json_file:\n",
    "    parsed_json = json.load(json_file)\n",
    "prod_bms = IProductionBenchmarkScopes.parse_obj(parsed_json)\n",
    "base_production_bm = BaseProviderProductionBenchmark(production_benchmarks=prod_bms)\n",
    "\n",
    "# load intensity benchmarks\n",
    "\n",
    "# OECM\n",
    "with open(benchmark_EI_OECM) as json_file:\n",
    "    parsed_json = json.load(json_file)\n",
    "ei_bms = IEIBenchmarkScopes.parse_obj(parsed_json)\n",
    "OECM_EI_bm = BaseProviderIntensityBenchmark(EI_benchmarks=ei_bms)\n",
    "\n",
    "# TPI\n",
    "with open(benchmark_EI_TPI) as json_file:\n",
    "    parsed_json = json.load(json_file)\n",
    "ei_bms = IEIBenchmarkScopes.parse_obj(parsed_json)\n",
    "TPI_EI_bm = BaseProviderIntensityBenchmark(EI_benchmarks=ei_bms)\n",
    "\n",
    "# TPI below 2\n",
    "with open(benchmark_EI_TPI_below_2) as json_file:\n",
    "    parsed_json = json.load(json_file)\n",
    "ei_bms = IEIBenchmarkScopes.parse_obj(parsed_json)\n",
    "TPI_below_2_EI_bm = BaseProviderIntensityBenchmark(EI_benchmarks=ei_bms)\n",
    "\n",
    "base_intensity_bm = OECM_EI_bm"
   ]
  },
  {
   "cell_type": "markdown",
   "metadata": {
    "tags": []
   },
   "source": [
    "## Download/load the sample template data\n",
    "\n",
    "We have prepared sample data from public sources for you to be able to run the tool as it is to familiarise yourself with how it works. To use your own data; please check out to the [Data Template Requirements](https://github.com/os-c/ITR/blob/main/docs/DataTemplateRequirements.rst) section of the technical documentation for more details on data requirements and formatting. \n",
    "\n",
    "*The sample data may contain estimates, simplifications, and recategorizations.  It is intended to be generally representative, but not authoritative, and should not be relied upon to make investment decisions.*"
   ]
  },
  {
   "cell_type": "code",
   "execution_count": 6,
   "metadata": {},
   "outputs": [],
   "source": [
    "import urllib.request\n",
    "from github import Github\n",
    "\n",
    "# Create a Github instance with an access token.\n",
    "# Use your shell's `export` command to inject your token into the GITHUB_TOKEN environment variable before starting this jupyter-lab instance.\n",
    "gh = Github(os.environ['GITHUB_TOKEN'])\n",
    "\n",
    "# Get repository by name and select the proper branch\n",
    "repo = gh.get_repo(\"os-climate/ITR\").get_branch(branch=\"develop\")\n",
    "\n",
    "if not os.path.isdir(\"data\"):\n",
    "    os.mkdir(\"data\")\n",
    "\n",
    "for filename in ['data/20220720 ITR Tool Sample Data.xlsx',\n",
    "                 'data/OECM_EI_and_production_benchmarks.xlsx',\n",
    "                 'utils.py']:\n",
    "    if not os.path.isfile(filename):\n",
    "        # Get a specific content file:\n",
    "        contents = repo.get_contents(f\"examples/{filename}\")\n",
    "\n",
    "        # Donwnload file form ContenFile object info:\n",
    "        urllib.urlretrieve(contents.download_url, filename)\n",
    "\n",
    "try:  # Import statement when run in remote Jupyter servers from AWS Google etc..\n",
    "    from utils import collect_company_contributions, plot_grouped_statistics, anonymize, \\\n",
    "        plot_grouped_heatmap, print_grouped_scores, get_contributions_per_group\n",
    "except:  # Import statement when run locally\n",
    "    from utils import collect_company_contributions, plot_grouped_statistics, anonymize, \\\n",
    "        plot_grouped_heatmap, print_grouped_scores, get_contributions_per_group\n",
    "\n",
    "template_data_path = \"data/20220720 ITR Tool Sample Data.xlsx\""
   ]
  },
  {
   "cell_type": "markdown",
   "metadata": {},
   "source": [
    "### Logging\n",
    "The ITR module uses the Python standard library logging utilities to send log messages. The log level can be changed according to the user's needs."
   ]
  },
  {
   "cell_type": "code",
   "execution_count": 7,
   "metadata": {},
   "outputs": [],
   "source": [
    "import logging\n",
    "root_logger = logging.getLogger()\n",
    "root_logger.setLevel(\"INFO\")"
   ]
  },
  {
   "cell_type": "markdown",
   "metadata": {},
   "source": [
    "## Create a data provider\n",
    "Data providers let you connect to the data source of your choice. In this case we are connecting to Excel as a data provider for benchmark information and we are using the ITR Data Template for company and portfolio information, using *template_data_path* as the pathname to the data.  If you want to supply your own data file, you can set the pathname in the first line of the next cell."
   ]
  },
  {
   "cell_type": "code",
   "execution_count": 8,
   "metadata": {},
   "outputs": [
    {
     "name": "stderr",
     "output_type": "stream",
     "text": [
      "2022-09-18 22:48:55,157 - ITR.data.template - WARNING - Missing target start year set to 2021 for companies with ID: ['US0185223007', 'US0188021085', 'US0236081024', 'US0236081024', 'US0255371017', 'US05351W1036', 'US0921131092', 'US0921131092', 'US1442851036', 'US18551QAA58', 'US25746U1097', 'US26441C2044', 'US30034W1062', 'US5526901096', 'JP3633400001']\n"
     ]
    }
   ],
   "source": [
    "# Remove the # and space on the next line to point the template_data_path variable at your own data\n",
    "# template_data_path = \"data/your_template_here.xlsx\"\n",
    "\n",
    "template_company_data = TemplateProviderCompany(excel_path=template_data_path)"
   ]
  },
  {
   "cell_type": "raw",
   "metadata": {},
   "source": [
    "excel_production_bm = ExcelProviderProductionBenchmark(excel_path=\"data/OECM_EI_and_production_benchmarks.xlsx\")"
   ]
  },
  {
   "cell_type": "raw",
   "metadata": {},
   "source": [
    "excel_EI_bm = ExcelProviderIntensityBenchmark(excel_path=\"data/OECM_EI_and_production_benchmarks.xlsx\",\n",
    "                                              benchmark_temperature=Q_(1.5, ureg.delta_degC),\n",
    "                                              benchmark_global_budget=396 * ureg('Gt CO2'),\n",
    "                                              is_AFOLU_included=False)"
   ]
  },
  {
   "cell_type": "markdown",
   "metadata": {},
   "source": [
    "## Create the Data Warehouse"
   ]
  },
  {
   "cell_type": "code",
   "execution_count": 9,
   "metadata": {},
   "outputs": [
    {
     "data": {
      "text/plain": [
       "ProductionMetric(units='GWh')"
      ]
     },
     "execution_count": 9,
     "metadata": {},
     "output_type": "execute_result"
    }
   ],
   "source": [
    "template_company_data._companies[0].production_metric"
   ]
  },
  {
   "cell_type": "code",
   "execution_count": 10,
   "metadata": {},
   "outputs": [
    {
     "name": "stdout",
     "output_type": "stream",
     "text": [
      "Benchmark Temperature = 1.5 delta_degree_Celsius\n",
      "Benchmark Global Budget = 521.0526315789474 CO2 * gigametric_ton\n",
      "AFOLU included = False\n"
     ]
    }
   ],
   "source": [
    "template_provider = DataWarehouse(template_company_data, base_production_bm, base_intensity_bm)\n",
    "\n",
    "# Fills in template_company_data._companies[0].projected_targets.S1S2\n",
    "\n",
    "print(f\"Benchmark Temperature = {base_intensity_bm.benchmark_temperature}\\n\\\n",
    "Benchmark Global Budget = {base_intensity_bm.benchmark_global_budget}\\n\\\n",
    "AFOLU included = {base_intensity_bm.is_AFOLU_included}\")"
   ]
  },
  {
   "cell_type": "code",
   "execution_count": 11,
   "metadata": {},
   "outputs": [
    {
     "data": {
      "text/html": [
       "1.0 CO2 kilogram/(kilometer passenger)"
      ],
      "text/latex": [
       "$1.0\\ \\frac{\\mathrm{CO2} \\cdot \\mathrm{kilogram}}{\\left(\\mathrm{kilometer} \\cdot \\mathrm{passenger}\\right)}$"
      ],
      "text/plain": [
       "1.0 <Unit('CO2 * kilogram / kilometer / passenger')>"
      ]
     },
     "execution_count": 11,
     "metadata": {},
     "output_type": "execute_result"
    }
   ],
   "source": [
    "ureg(\"kg CO2/(passenger km)\")"
   ]
  },
  {
   "cell_type": "markdown",
   "metadata": {},
   "source": [
    "## Load your portfolio\n",
    "\n",
    "The portfolio data is a sheet in the Data Template named \"Portfolio\".\n",
    "\n",
    "Please see the technical documentation in the [Data Template Requirements](https://github.com/os-c/ITR/blob/main/docs/DataTemplateRequirements.rst) section for details on data requirements."
   ]
  },
  {
   "cell_type": "code",
   "execution_count": 12,
   "metadata": {},
   "outputs": [
    {
     "data": {
      "text/html": [
       "<div>\n",
       "<style scoped>\n",
       "    .dataframe tbody tr th:only-of-type {\n",
       "        vertical-align: middle;\n",
       "    }\n",
       "\n",
       "    .dataframe tbody tr th {\n",
       "        vertical-align: top;\n",
       "    }\n",
       "\n",
       "    .dataframe thead th {\n",
       "        text-align: right;\n",
       "    }\n",
       "</style>\n",
       "<table border=\"1\" class=\"dataframe\">\n",
       "  <thead>\n",
       "    <tr style=\"text-align: right;\">\n",
       "      <th></th>\n",
       "      <th>company_name</th>\n",
       "      <th>company_lei</th>\n",
       "      <th>company_id</th>\n",
       "      <th>company_isin</th>\n",
       "      <th>investment_value</th>\n",
       "    </tr>\n",
       "  </thead>\n",
       "  <tbody>\n",
       "    <tr>\n",
       "      <th>68</th>\n",
       "      <td>Versant Power</td>\n",
       "      <td>NQZVQT2P5IUF2PGA1Q48</td>\n",
       "      <td>CA2908761018</td>\n",
       "      <td>CA2908761018</td>\n",
       "      <td>109852535</td>\n",
       "    </tr>\n",
       "    <tr>\n",
       "      <th>69</th>\n",
       "      <td>Vistra Corp.</td>\n",
       "      <td>549300KP43CPCUJOOG15</td>\n",
       "      <td>US92840M1027</td>\n",
       "      <td>US92840M1027</td>\n",
       "      <td>57337296</td>\n",
       "    </tr>\n",
       "    <tr>\n",
       "      <th>70</th>\n",
       "      <td>WEC Energy Group</td>\n",
       "      <td>549300IGLYTZUK3PVP70</td>\n",
       "      <td>US92939U1060</td>\n",
       "      <td>US92939U1060</td>\n",
       "      <td>168020900</td>\n",
       "    </tr>\n",
       "    <tr>\n",
       "      <th>71</th>\n",
       "      <td>WORTHINGTON INDUSTRIES INC</td>\n",
       "      <td>1WRCIANKYOIK6KYE5E82</td>\n",
       "      <td>US9818111026</td>\n",
       "      <td>US9818111026</td>\n",
       "      <td>133300482</td>\n",
       "    </tr>\n",
       "    <tr>\n",
       "      <th>72</th>\n",
       "      <td>Xcel Energy, Inc.</td>\n",
       "      <td>LGJNMI9GH8XIDG5RCM61</td>\n",
       "      <td>US98389B1008</td>\n",
       "      <td>US98389B1008</td>\n",
       "      <td>114252056</td>\n",
       "    </tr>\n",
       "  </tbody>\n",
       "</table>\n",
       "</div>"
      ],
      "text/plain": [
       "                  company_name           company_lei    company_id  \\\n",
       "68               Versant Power  NQZVQT2P5IUF2PGA1Q48  CA2908761018   \n",
       "69                Vistra Corp.  549300KP43CPCUJOOG15  US92840M1027   \n",
       "70            WEC Energy Group  549300IGLYTZUK3PVP70  US92939U1060   \n",
       "71  WORTHINGTON INDUSTRIES INC  1WRCIANKYOIK6KYE5E82  US9818111026   \n",
       "72           Xcel Energy, Inc.  LGJNMI9GH8XIDG5RCM61  US98389B1008   \n",
       "\n",
       "    company_isin  investment_value  \n",
       "68  CA2908761018         109852535  \n",
       "69  US92840M1027          57337296  \n",
       "70  US92939U1060         168020900  \n",
       "71  US9818111026         133300482  \n",
       "72  US98389B1008         114252056  "
      ]
     },
     "metadata": {},
     "output_type": "display_data"
    }
   ],
   "source": [
    "df_portfolio = pd.read_excel(template_data_path, sheet_name=\"Portfolio\")\n",
    "display(df_portfolio.tail())"
   ]
  },
  {
   "cell_type": "markdown",
   "metadata": {},
   "source": [
    "To load the data from the data provider, we have to pass a list of IPortfolioCompany instances. The module has a strict [data model](https://ofbdabv.github.io/ITR/autoapi/ITR/interfaces/index.html) to convert Pandas Dataframe to the right object types we supplied a utility function.\n"
   ]
  },
  {
   "cell_type": "code",
   "execution_count": 13,
   "metadata": {},
   "outputs": [],
   "source": [
    "companies = ITR.utils.dataframe_to_portfolio(df_portfolio)"
   ]
  },
  {
   "cell_type": "markdown",
   "metadata": {},
   "source": [
    "## Calculate the temperature scores\n",
    "In the enhanced portfolio you'll find your original portfolio, with calculated temperature scores, trajectory and target scores and overshoot/undershoot ration, and a temperature_result which is current set to zero for all valid calculations."
   ]
  },
  {
   "cell_type": "code",
   "execution_count": 14,
   "metadata": {},
   "outputs": [],
   "source": [
    "temperature_score = TemperatureScore(\n",
    "    time_frames = [ETimeFrames.LONG],\n",
    "    scopes=[EScope.S1S2],\n",
    "    aggregation_method=PortfolioAggregationMethod.WATS # Options for the aggregation method are WATS, TETS, AOTS, MOTS, EOTS, ECOTS, and ROTS.\n",
    ")\n",
    "enhanced_portfolio = temperature_score.calculate(data_warehouse=template_provider, portfolio=companies)"
   ]
  },
  {
   "cell_type": "markdown",
   "metadata": {},
   "source": [
    "For every company the tool assigns a score for all the requested timeframe and scope combinations. For now the ITR methodolgy only supportt a long timeframe in combination with a S1S2 scope"
   ]
  },
  {
   "cell_type": "code",
   "execution_count": 15,
   "metadata": {},
   "outputs": [
    {
     "data": {
      "text/html": [
       "<div>\n",
       "<style scoped>\n",
       "    .dataframe tbody tr th:only-of-type {\n",
       "        vertical-align: middle;\n",
       "    }\n",
       "\n",
       "    .dataframe tbody tr th {\n",
       "        vertical-align: top;\n",
       "    }\n",
       "\n",
       "    .dataframe thead th {\n",
       "        text-align: right;\n",
       "    }\n",
       "</style>\n",
       "<table border=\"1\" class=\"dataframe\">\n",
       "  <thead>\n",
       "    <tr style=\"text-align: right;\">\n",
       "      <th></th>\n",
       "      <th>company_name</th>\n",
       "      <th>time_frame</th>\n",
       "      <th>scope</th>\n",
       "      <th>temperature_score</th>\n",
       "    </tr>\n",
       "  </thead>\n",
       "  <tbody>\n",
       "    <tr>\n",
       "      <th>0</th>\n",
       "      <td>AES Corp.</td>\n",
       "      <td>LONG</td>\n",
       "      <td>S1S2</td>\n",
       "      <td>2.72</td>\n",
       "    </tr>\n",
       "    <tr>\n",
       "      <th>1</th>\n",
       "      <td>ALLETE, Inc.</td>\n",
       "      <td>LONG</td>\n",
       "      <td>S1S2</td>\n",
       "      <td>2.46</td>\n",
       "    </tr>\n",
       "    <tr>\n",
       "      <th>2</th>\n",
       "      <td>Alliant Energy</td>\n",
       "      <td>LONG</td>\n",
       "      <td>S1S2</td>\n",
       "      <td>2.09</td>\n",
       "    </tr>\n",
       "    <tr>\n",
       "      <th>3</th>\n",
       "      <td>Ameren Corp.</td>\n",
       "      <td>LONG</td>\n",
       "      <td>S1S2</td>\n",
       "      <td>3.44</td>\n",
       "    </tr>\n",
       "    <tr>\n",
       "      <th>4</th>\n",
       "      <td>American Electric Power Co., Inc.</td>\n",
       "      <td>LONG</td>\n",
       "      <td>S1S2</td>\n",
       "      <td>2.9</td>\n",
       "    </tr>\n",
       "    <tr>\n",
       "      <th>...</th>\n",
       "      <td>...</td>\n",
       "      <td>...</td>\n",
       "      <td>...</td>\n",
       "      <td>...</td>\n",
       "    </tr>\n",
       "    <tr>\n",
       "      <th>68</th>\n",
       "      <td>Versant Power</td>\n",
       "      <td>LONG</td>\n",
       "      <td>S1S2</td>\n",
       "      <td>1.89</td>\n",
       "    </tr>\n",
       "    <tr>\n",
       "      <th>69</th>\n",
       "      <td>Vistra Corp.</td>\n",
       "      <td>LONG</td>\n",
       "      <td>S1S2</td>\n",
       "      <td>2.93</td>\n",
       "    </tr>\n",
       "    <tr>\n",
       "      <th>70</th>\n",
       "      <td>WEC Energy Group</td>\n",
       "      <td>LONG</td>\n",
       "      <td>S1S2</td>\n",
       "      <td>2.67</td>\n",
       "    </tr>\n",
       "    <tr>\n",
       "      <th>71</th>\n",
       "      <td>WORTHINGTON INDUSTRIES INC</td>\n",
       "      <td>LONG</td>\n",
       "      <td>S1S2</td>\n",
       "      <td>1.2</td>\n",
       "    </tr>\n",
       "    <tr>\n",
       "      <th>72</th>\n",
       "      <td>Xcel Energy, Inc.</td>\n",
       "      <td>LONG</td>\n",
       "      <td>S1S2</td>\n",
       "      <td>2.04</td>\n",
       "    </tr>\n",
       "  </tbody>\n",
       "</table>\n",
       "<p>73 rows × 4 columns</p>\n",
       "</div>"
      ],
      "text/plain": [
       "                         company_name time_frame scope temperature_score\n",
       "0                           AES Corp.       LONG  S1S2              2.72\n",
       "1                        ALLETE, Inc.       LONG  S1S2              2.46\n",
       "2                      Alliant Energy       LONG  S1S2              2.09\n",
       "3                        Ameren Corp.       LONG  S1S2              3.44\n",
       "4   American Electric Power Co., Inc.       LONG  S1S2               2.9\n",
       "..                                ...        ...   ...               ...\n",
       "68                      Versant Power       LONG  S1S2              1.89\n",
       "69                       Vistra Corp.       LONG  S1S2              2.93\n",
       "70                   WEC Energy Group       LONG  S1S2              2.67\n",
       "71         WORTHINGTON INDUSTRIES INC       LONG  S1S2               1.2\n",
       "72                  Xcel Energy, Inc.       LONG  S1S2              2.04\n",
       "\n",
       "[73 rows x 4 columns]"
      ]
     },
     "metadata": {},
     "output_type": "display_data"
    }
   ],
   "source": [
    "with warnings.catch_warnings():\n",
    "    warnings.simplefilter(\"ignore\")\n",
    "    display(enhanced_portfolio[['company_name', 'time_frame', 'scope', 'temperature_score']])"
   ]
  },
  {
   "cell_type": "code",
   "execution_count": 16,
   "metadata": {},
   "outputs": [
    {
     "name": "stderr",
     "output_type": "stream",
     "text": [
      "/Users/michael/opt/miniconda3/envs/itr_env/lib/python3.9/site-packages/pint_pandas/pint_array.py:648: UnitStrippedWarning: The unit of the quantity is stripped when downcasting to ndarray.\n",
      "  return np.array(qtys, dtype=\"object\", copy=copy)\n",
      "/Users/michael/opt/miniconda3/envs/itr_env/lib/python3.9/site-packages/pint_pandas/pint_array.py:648: UnitStrippedWarning: The unit of the quantity is stripped when downcasting to ndarray.\n",
      "  return np.array(qtys, dtype=\"object\", copy=copy)\n"
     ]
    },
    {
     "data": {
      "text/html": [
       "<div>\n",
       "<style scoped>\n",
       "    .dataframe tbody tr th:only-of-type {\n",
       "        vertical-align: middle;\n",
       "    }\n",
       "\n",
       "    .dataframe tbody tr th {\n",
       "        vertical-align: top;\n",
       "    }\n",
       "\n",
       "    .dataframe thead th {\n",
       "        text-align: right;\n",
       "    }\n",
       "</style>\n",
       "<table border=\"1\" class=\"dataframe\">\n",
       "  <thead>\n",
       "    <tr style=\"text-align: right;\">\n",
       "      <th></th>\n",
       "      <th>company_name</th>\n",
       "      <th>company_id</th>\n",
       "      <th>region</th>\n",
       "      <th>sector</th>\n",
       "      <th>target_probability</th>\n",
       "      <th>target_data</th>\n",
       "      <th>historic_data</th>\n",
       "      <th>country</th>\n",
       "      <th>emissions_metric</th>\n",
       "      <th>production_metric</th>\n",
       "      <th>...</th>\n",
       "      <th>company_isin</th>\n",
       "      <th>investment_value</th>\n",
       "      <th>scope</th>\n",
       "      <th>time_frame</th>\n",
       "      <th>temperature_score</th>\n",
       "      <th>trajectory_score</th>\n",
       "      <th>trajectory_overshoot_ratio</th>\n",
       "      <th>target_score</th>\n",
       "      <th>target_overshoot_ratio</th>\n",
       "      <th>score_result_type</th>\n",
       "    </tr>\n",
       "  </thead>\n",
       "  <tbody>\n",
       "    <tr>\n",
       "      <th>3</th>\n",
       "      <td>Ameren Corp.</td>\n",
       "      <td>US0236081024</td>\n",
       "      <td>North America</td>\n",
       "      <td>Electricity Utilities</td>\n",
       "      <td>0.5</td>\n",
       "      <td>[{'netzero_year': 2050, 'target_type': 'absolu...</td>\n",
       "      <td>{'productions': [{'year': 2016, 'value': 38.50...</td>\n",
       "      <td>US</td>\n",
       "      <td>{'units': 'Mt CO2'}</td>\n",
       "      <td>{'units': 'TWh'}</td>\n",
       "      <td>...</td>\n",
       "      <td>US0236081024</td>\n",
       "      <td>187168320.0</td>\n",
       "      <td>S1S2</td>\n",
       "      <td>LONG</td>\n",
       "      <td>3.44</td>\n",
       "      <td>4.83352297775256</td>\n",
       "      <td>11.65502918361902 dimensionless</td>\n",
       "      <td>2.0426385683042105</td>\n",
       "      <td>2.7344502557881505 dimensionless</td>\n",
       "      <td>EScoreResultType.COMPLETE</td>\n",
       "    </tr>\n",
       "    <tr>\n",
       "      <th>12</th>\n",
       "      <td>CMS Energy Corp.</td>\n",
       "      <td>US1258961002</td>\n",
       "      <td>North America</td>\n",
       "      <td>Electricity Utilities</td>\n",
       "      <td>0.5</td>\n",
       "      <td>[{'netzero_year': 2050, 'target_type': 'absolu...</td>\n",
       "      <td>{'productions': [{'year': 2016, 'value': 16.69...</td>\n",
       "      <td>US</td>\n",
       "      <td>{'units': 'Mt CO2'}</td>\n",
       "      <td>{'units': 'TWh'}</td>\n",
       "      <td>...</td>\n",
       "      <td>US1258961002</td>\n",
       "      <td>153460170.0</td>\n",
       "      <td>S1S2</td>\n",
       "      <td>LONG</td>\n",
       "      <td>3.09</td>\n",
       "      <td>4.802821183876191</td>\n",
       "      <td>11.556896213807388 dimensionless</td>\n",
       "      <td>1.3756675107016707</td>\n",
       "      <td>0.6025927192381779 dimensionless</td>\n",
       "      <td>EScoreResultType.COMPLETE</td>\n",
       "    </tr>\n",
       "    <tr>\n",
       "      <th>14</th>\n",
       "      <td>Cleco Partners LP</td>\n",
       "      <td>US18551QAA58</td>\n",
       "      <td>North America</td>\n",
       "      <td>Electricity Utilities</td>\n",
       "      <td>0.5</td>\n",
       "      <td>[{'netzero_year': 2050, 'target_type': 'absolu...</td>\n",
       "      <td>{'productions': [{'year': 2016, 'value': 13.52...</td>\n",
       "      <td>US</td>\n",
       "      <td>{'units': 'Mt CO2'}</td>\n",
       "      <td>{'units': 'TWh'}</td>\n",
       "      <td>...</td>\n",
       "      <td>US18551QAA58</td>\n",
       "      <td>249493580.0</td>\n",
       "      <td>S1S2</td>\n",
       "      <td>LONG</td>\n",
       "      <td>3.29</td>\n",
       "      <td>4.607914786912605</td>\n",
       "      <td>10.933911653154635 dimensionless</td>\n",
       "      <td>1.9717016224118427</td>\n",
       "      <td>2.507712587044207 dimensionless</td>\n",
       "      <td>EScoreResultType.COMPLETE</td>\n",
       "    </tr>\n",
       "    <tr>\n",
       "      <th>16</th>\n",
       "      <td>DTE Energy</td>\n",
       "      <td>US2333311072</td>\n",
       "      <td>North America</td>\n",
       "      <td>Electricity Utilities</td>\n",
       "      <td>0.5</td>\n",
       "      <td>[{'netzero_year': 2050, 'target_type': 'absolu...</td>\n",
       "      <td>{'productions': [{'year': 2016, 'value': 38.33...</td>\n",
       "      <td>US</td>\n",
       "      <td>{'units': 'Mt CO2'}</td>\n",
       "      <td>{'units': 'TWh'}</td>\n",
       "      <td>...</td>\n",
       "      <td>US2333311072</td>\n",
       "      <td>71511816.0</td>\n",
       "      <td>S1S2</td>\n",
       "      <td>LONG</td>\n",
       "      <td>4.49</td>\n",
       "      <td>7.054815437631328</td>\n",
       "      <td>18.755006037931246 dimensionless</td>\n",
       "      <td>1.9254249217449306</td>\n",
       "      <td>2.3597971236085895 dimensionless</td>\n",
       "      <td>EScoreResultType.COMPLETE</td>\n",
       "    </tr>\n",
       "    <tr>\n",
       "      <th>19</th>\n",
       "      <td>Electricité de France</td>\n",
       "      <td>FR0010242511</td>\n",
       "      <td>Europe</td>\n",
       "      <td>Electricity Utilities</td>\n",
       "      <td>0.5</td>\n",
       "      <td>[{'netzero_year': 2050, 'target_type': 'absolu...</td>\n",
       "      <td>{'productions': [{'year': 2016, 'value': nan g...</td>\n",
       "      <td>FR</td>\n",
       "      <td>{'units': 'Mt CO2'}</td>\n",
       "      <td>{'units': 'GWh'}</td>\n",
       "      <td>...</td>\n",
       "      <td>FR0010242511</td>\n",
       "      <td>166314225.0</td>\n",
       "      <td>S1S2</td>\n",
       "      <td>LONG</td>\n",
       "      <td>3.99</td>\n",
       "      <td>4.860667000821442</td>\n",
       "      <td>11.741790354875368 dimensionless</td>\n",
       "      <td>3.1169021181452763</td>\n",
       "      <td>6.1681477436548 dimensionless</td>\n",
       "      <td>EScoreResultType.COMPLETE</td>\n",
       "    </tr>\n",
       "    <tr>\n",
       "      <th>32</th>\n",
       "      <td>Hawaiian Electric Industries, Inc.</td>\n",
       "      <td>US4198701009</td>\n",
       "      <td>North America</td>\n",
       "      <td>Electricity Utilities</td>\n",
       "      <td>0.5</td>\n",
       "      <td>[{'netzero_year': 2050, 'target_type': 'intens...</td>\n",
       "      <td>{'productions': [{'year': 2016, 'value': 4.942...</td>\n",
       "      <td>US</td>\n",
       "      <td>{'units': 'Mt CO2'}</td>\n",
       "      <td>{'units': 'TWh'}</td>\n",
       "      <td>...</td>\n",
       "      <td>US4198701009</td>\n",
       "      <td>230796219.0</td>\n",
       "      <td>S1S2</td>\n",
       "      <td>LONG</td>\n",
       "      <td>3.96</td>\n",
       "      <td>5.50189813649834</td>\n",
       "      <td>13.791374686431059 dimensionless</td>\n",
       "      <td>2.424971533213191</td>\n",
       "      <td>3.9565113983548907 dimensionless</td>\n",
       "      <td>EScoreResultType.COMPLETE</td>\n",
       "    </tr>\n",
       "    <tr>\n",
       "      <th>35</th>\n",
       "      <td>MDU Resources Group</td>\n",
       "      <td>US5526901096</td>\n",
       "      <td>North America</td>\n",
       "      <td>Electricity Utilities</td>\n",
       "      <td>0.5</td>\n",
       "      <td>[{'netzero_year': 2050, 'target_type': 'intens...</td>\n",
       "      <td>{'productions': [{'year': 2016, 'value': 2.187...</td>\n",
       "      <td>US</td>\n",
       "      <td>{'units': 'Mt CO2'}</td>\n",
       "      <td>{'units': 'TWh'}</td>\n",
       "      <td>...</td>\n",
       "      <td>US5526901096</td>\n",
       "      <td>67504800.0</td>\n",
       "      <td>S1S2</td>\n",
       "      <td>LONG</td>\n",
       "      <td>3.8</td>\n",
       "      <td>5.205622958721434</td>\n",
       "      <td>12.844382364295285 dimensionless</td>\n",
       "      <td>2.3910430154877447</td>\n",
       "      <td>3.8480647642881007 dimensionless</td>\n",
       "      <td>EScoreResultType.COMPLETE</td>\n",
       "    </tr>\n",
       "    <tr>\n",
       "      <th>36</th>\n",
       "      <td>National Grid PLC</td>\n",
       "      <td>US6362744095</td>\n",
       "      <td>Europe</td>\n",
       "      <td>Electricity Utilities</td>\n",
       "      <td>0.5</td>\n",
       "      <td>[{'netzero_year': 2050, 'target_type': 'absolu...</td>\n",
       "      <td>{'productions': [{'year': 2016, 'value': 9.668...</td>\n",
       "      <td>GB</td>\n",
       "      <td>{'units': 'Mt CO2'}</td>\n",
       "      <td>{'units': 'TWh'}</td>\n",
       "      <td>...</td>\n",
       "      <td>US6362744095</td>\n",
       "      <td>98819124.0</td>\n",
       "      <td>S1S2</td>\n",
       "      <td>LONG</td>\n",
       "      <td>3.07</td>\n",
       "      <td>3.9154191941682566</td>\n",
       "      <td>8.720469358182614 dimensionless</td>\n",
       "      <td>2.2194623616521403</td>\n",
       "      <td>3.2996369039841786 dimensionless</td>\n",
       "      <td>EScoreResultType.COMPLETE</td>\n",
       "    </tr>\n",
       "    <tr>\n",
       "      <th>39</th>\n",
       "      <td>Nisource Inc.</td>\n",
       "      <td>US65473P1057</td>\n",
       "      <td>North America</td>\n",
       "      <td>Electricity Utilities</td>\n",
       "      <td>0.5</td>\n",
       "      <td>[{'netzero_year': 2050, 'target_type': 'absolu...</td>\n",
       "      <td>{'productions': [{'year': 2016, 'value': 11.78...</td>\n",
       "      <td>US</td>\n",
       "      <td>{'units': 'Mt CO2'}</td>\n",
       "      <td>{'units': 'TWh'}</td>\n",
       "      <td>...</td>\n",
       "      <td>US65473P1057</td>\n",
       "      <td>278647362.0</td>\n",
       "      <td>S1S2</td>\n",
       "      <td>LONG</td>\n",
       "      <td>3.34</td>\n",
       "      <td>5.16058995938978</td>\n",
       "      <td>12.700442176899859 dimensionless</td>\n",
       "      <td>1.526104698954301</td>\n",
       "      <td>1.0834391516254647 dimensionless</td>\n",
       "      <td>EScoreResultType.COMPLETE</td>\n",
       "    </tr>\n",
       "    <tr>\n",
       "      <th>42</th>\n",
       "      <td>OG&amp;E Energy Corp.</td>\n",
       "      <td>US6708371033</td>\n",
       "      <td>North America</td>\n",
       "      <td>Electricity Utilities</td>\n",
       "      <td>0.5</td>\n",
       "      <td>[{'netzero_year': 2050, 'target_type': 'absolu...</td>\n",
       "      <td>{'productions': [{'year': 2016, 'value': 50505...</td>\n",
       "      <td>US</td>\n",
       "      <td>{'units': 't CO2'}</td>\n",
       "      <td>{'units': 'MWh'}</td>\n",
       "      <td>...</td>\n",
       "      <td>US6708371033</td>\n",
       "      <td>148234320.0</td>\n",
       "      <td>S1S2</td>\n",
       "      <td>LONG</td>\n",
       "      <td>3.08</td>\n",
       "      <td>4.5172959707162</td>\n",
       "      <td>10.64426429280895 dimensionless</td>\n",
       "      <td>1.6450311331688818</td>\n",
       "      <td>1.4635669130709312 dimensionless</td>\n",
       "      <td>EScoreResultType.COMPLETE</td>\n",
       "    </tr>\n",
       "    <tr>\n",
       "      <th>48</th>\n",
       "      <td>PPL Corp.</td>\n",
       "      <td>US69351T1060</td>\n",
       "      <td>North America</td>\n",
       "      <td>Electricity Utilities</td>\n",
       "      <td>0.5</td>\n",
       "      <td>[{'netzero_year': 2050, 'target_type': 'absolu...</td>\n",
       "      <td>{'productions': [{'year': 2016, 'value': 34.61...</td>\n",
       "      <td>US</td>\n",
       "      <td>{'units': 'Mt CO2'}</td>\n",
       "      <td>{'units': 'TWh'}</td>\n",
       "      <td>...</td>\n",
       "      <td>US69351T1060</td>\n",
       "      <td>144537792.0</td>\n",
       "      <td>S1S2</td>\n",
       "      <td>LONG</td>\n",
       "      <td>3.83</td>\n",
       "      <td>5.299773208781175</td>\n",
       "      <td>13.145317341713051 dimensionless</td>\n",
       "      <td>2.3514256808656664</td>\n",
       "      <td>3.721434811714611 dimensionless</td>\n",
       "      <td>EScoreResultType.COMPLETE</td>\n",
       "    </tr>\n",
       "  </tbody>\n",
       "</table>\n",
       "<p>11 rows × 40 columns</p>\n",
       "</div>"
      ],
      "text/plain": [
       "                          company_name    company_id         region  \\\n",
       "3                         Ameren Corp.  US0236081024  North America   \n",
       "12                    CMS Energy Corp.  US1258961002  North America   \n",
       "14                   Cleco Partners LP  US18551QAA58  North America   \n",
       "16                          DTE Energy  US2333311072  North America   \n",
       "19               Electricité de France  FR0010242511         Europe   \n",
       "32  Hawaiian Electric Industries, Inc.  US4198701009  North America   \n",
       "35                 MDU Resources Group  US5526901096  North America   \n",
       "36                   National Grid PLC  US6362744095         Europe   \n",
       "39                       Nisource Inc.  US65473P1057  North America   \n",
       "42                   OG&E Energy Corp.  US6708371033  North America   \n",
       "48                           PPL Corp.  US69351T1060  North America   \n",
       "\n",
       "                   sector  target_probability  \\\n",
       "3   Electricity Utilities                 0.5   \n",
       "12  Electricity Utilities                 0.5   \n",
       "14  Electricity Utilities                 0.5   \n",
       "16  Electricity Utilities                 0.5   \n",
       "19  Electricity Utilities                 0.5   \n",
       "32  Electricity Utilities                 0.5   \n",
       "35  Electricity Utilities                 0.5   \n",
       "36  Electricity Utilities                 0.5   \n",
       "39  Electricity Utilities                 0.5   \n",
       "42  Electricity Utilities                 0.5   \n",
       "48  Electricity Utilities                 0.5   \n",
       "\n",
       "                                          target_data  \\\n",
       "3   [{'netzero_year': 2050, 'target_type': 'absolu...   \n",
       "12  [{'netzero_year': 2050, 'target_type': 'absolu...   \n",
       "14  [{'netzero_year': 2050, 'target_type': 'absolu...   \n",
       "16  [{'netzero_year': 2050, 'target_type': 'absolu...   \n",
       "19  [{'netzero_year': 2050, 'target_type': 'absolu...   \n",
       "32  [{'netzero_year': 2050, 'target_type': 'intens...   \n",
       "35  [{'netzero_year': 2050, 'target_type': 'intens...   \n",
       "36  [{'netzero_year': 2050, 'target_type': 'absolu...   \n",
       "39  [{'netzero_year': 2050, 'target_type': 'absolu...   \n",
       "42  [{'netzero_year': 2050, 'target_type': 'absolu...   \n",
       "48  [{'netzero_year': 2050, 'target_type': 'absolu...   \n",
       "\n",
       "                                        historic_data country  \\\n",
       "3   {'productions': [{'year': 2016, 'value': 38.50...      US   \n",
       "12  {'productions': [{'year': 2016, 'value': 16.69...      US   \n",
       "14  {'productions': [{'year': 2016, 'value': 13.52...      US   \n",
       "16  {'productions': [{'year': 2016, 'value': 38.33...      US   \n",
       "19  {'productions': [{'year': 2016, 'value': nan g...      FR   \n",
       "32  {'productions': [{'year': 2016, 'value': 4.942...      US   \n",
       "35  {'productions': [{'year': 2016, 'value': 2.187...      US   \n",
       "36  {'productions': [{'year': 2016, 'value': 9.668...      GB   \n",
       "39  {'productions': [{'year': 2016, 'value': 11.78...      US   \n",
       "42  {'productions': [{'year': 2016, 'value': 50505...      US   \n",
       "48  {'productions': [{'year': 2016, 'value': 34.61...      US   \n",
       "\n",
       "       emissions_metric production_metric  ...  company_isin investment_value  \\\n",
       "3   {'units': 'Mt CO2'}  {'units': 'TWh'}  ...  US0236081024      187168320.0   \n",
       "12  {'units': 'Mt CO2'}  {'units': 'TWh'}  ...  US1258961002      153460170.0   \n",
       "14  {'units': 'Mt CO2'}  {'units': 'TWh'}  ...  US18551QAA58      249493580.0   \n",
       "16  {'units': 'Mt CO2'}  {'units': 'TWh'}  ...  US2333311072       71511816.0   \n",
       "19  {'units': 'Mt CO2'}  {'units': 'GWh'}  ...  FR0010242511      166314225.0   \n",
       "32  {'units': 'Mt CO2'}  {'units': 'TWh'}  ...  US4198701009      230796219.0   \n",
       "35  {'units': 'Mt CO2'}  {'units': 'TWh'}  ...  US5526901096       67504800.0   \n",
       "36  {'units': 'Mt CO2'}  {'units': 'TWh'}  ...  US6362744095       98819124.0   \n",
       "39  {'units': 'Mt CO2'}  {'units': 'TWh'}  ...  US65473P1057      278647362.0   \n",
       "42   {'units': 't CO2'}  {'units': 'MWh'}  ...  US6708371033      148234320.0   \n",
       "48  {'units': 'Mt CO2'}  {'units': 'TWh'}  ...  US69351T1060      144537792.0   \n",
       "\n",
       "   scope time_frame temperature_score    trajectory_score  \\\n",
       "3   S1S2       LONG              3.44    4.83352297775256   \n",
       "12  S1S2       LONG              3.09   4.802821183876191   \n",
       "14  S1S2       LONG              3.29   4.607914786912605   \n",
       "16  S1S2       LONG              4.49   7.054815437631328   \n",
       "19  S1S2       LONG              3.99   4.860667000821442   \n",
       "32  S1S2       LONG              3.96    5.50189813649834   \n",
       "35  S1S2       LONG               3.8   5.205622958721434   \n",
       "36  S1S2       LONG              3.07  3.9154191941682566   \n",
       "39  S1S2       LONG              3.34    5.16058995938978   \n",
       "42  S1S2       LONG              3.08     4.5172959707162   \n",
       "48  S1S2       LONG              3.83   5.299773208781175   \n",
       "\n",
       "          trajectory_overshoot_ratio        target_score  \\\n",
       "3    11.65502918361902 dimensionless  2.0426385683042105   \n",
       "12  11.556896213807388 dimensionless  1.3756675107016707   \n",
       "14  10.933911653154635 dimensionless  1.9717016224118427   \n",
       "16  18.755006037931246 dimensionless  1.9254249217449306   \n",
       "19  11.741790354875368 dimensionless  3.1169021181452763   \n",
       "32  13.791374686431059 dimensionless   2.424971533213191   \n",
       "35  12.844382364295285 dimensionless  2.3910430154877447   \n",
       "36   8.720469358182614 dimensionless  2.2194623616521403   \n",
       "39  12.700442176899859 dimensionless   1.526104698954301   \n",
       "42   10.64426429280895 dimensionless  1.6450311331688818   \n",
       "48  13.145317341713051 dimensionless  2.3514256808656664   \n",
       "\n",
       "              target_overshoot_ratio          score_result_type  \n",
       "3   2.7344502557881505 dimensionless  EScoreResultType.COMPLETE  \n",
       "12  0.6025927192381779 dimensionless  EScoreResultType.COMPLETE  \n",
       "14   2.507712587044207 dimensionless  EScoreResultType.COMPLETE  \n",
       "16  2.3597971236085895 dimensionless  EScoreResultType.COMPLETE  \n",
       "19     6.1681477436548 dimensionless  EScoreResultType.COMPLETE  \n",
       "32  3.9565113983548907 dimensionless  EScoreResultType.COMPLETE  \n",
       "35  3.8480647642881007 dimensionless  EScoreResultType.COMPLETE  \n",
       "36  3.2996369039841786 dimensionless  EScoreResultType.COMPLETE  \n",
       "39  1.0834391516254647 dimensionless  EScoreResultType.COMPLETE  \n",
       "42  1.4635669130709312 dimensionless  EScoreResultType.COMPLETE  \n",
       "48   3.721434811714611 dimensionless  EScoreResultType.COMPLETE  \n",
       "\n",
       "[11 rows x 40 columns]"
      ]
     },
     "execution_count": 16,
     "metadata": {},
     "output_type": "execute_result"
    }
   ],
   "source": [
    "data = enhanced_portfolio[(enhanced_portfolio.scope==EScope.S1S2)&(enhanced_portfolio.temperature_score>Q_(3, 'delta_degC'))]\n",
    "data"
   ]
  },
  {
   "cell_type": "markdown",
   "metadata": {
    "tags": []
   },
   "source": [
    "## Calculate the aggregated temperature score\n",
    "Calculate an aggregated temperature score. This can be done using different aggregation methods. Here we'll use the \"Weighted Average Temperature Score\" (WATS) by initializing the TemperatureScore Object with PortfolioAggregationMethod.WATS. The temperature scores are calculated per time-frame/scope combination.\n"
   ]
  },
  {
   "cell_type": "code",
   "execution_count": 17,
   "metadata": {},
   "outputs": [
    {
     "name": "stdout",
     "output_type": "stream",
     "text": [
      "Temperature Score aggregation method = PortfolioAggregationMethod.WATS\n"
     ]
    },
    {
     "name": "stderr",
     "output_type": "stream",
     "text": [
      "/Users/michael/opt/miniconda3/envs/itr_env/lib/python3.9/site-packages/pint_pandas/pint_array.py:648: UnitStrippedWarning: The unit of the quantity is stripped when downcasting to ndarray.\n",
      "  return np.array(qtys, dtype=\"object\", copy=copy)\n",
      "/Users/michael/opt/miniconda3/envs/itr_env/lib/python3.9/site-packages/pandas/core/dtypes/cast.py:1983: UnitStrippedWarning: The unit of the quantity is stripped when downcasting to ndarray.\n",
      "  result[:] = values\n"
     ]
    }
   ],
   "source": [
    "aggregated_scores = temperature_score.aggregate_scores(enhanced_portfolio)\n",
    "print(f\"Temperature Score aggregation method = {temperature_score.aggregation_method}\")"
   ]
  },
  {
   "cell_type": "code",
   "execution_count": 18,
   "metadata": {},
   "outputs": [
    {
     "data": {
      "text/html": [
       "2.268320569873042 delta_degree_Celsius"
      ],
      "text/latex": [
       "$2.268320569873042\\ \\mathrm{delta\\_degree\\_Celsius}$"
      ],
      "text/plain": [
       "2.268320569873042 <Unit('delta_degree_Celsius')>"
      ]
     },
     "execution_count": 18,
     "metadata": {},
     "output_type": "execute_result"
    }
   ],
   "source": [
    "aggregated_scores.long.S1S2.all.score"
   ]
  },
  {
   "cell_type": "markdown",
   "metadata": {},
   "source": [
    "## Display aggregation data in various ways"
   ]
  },
  {
   "cell_type": "markdown",
   "metadata": {},
   "source": [
    "\n",
    "The first analysis of your portfolio could be to understand if you have any particular hotspots in your portfolio. We can do that by analysing different groupings of companies.\n",
    "\n",
    "The tool allows you to calculate temperature scores for _groups_ of companies. In this example we group the scores by sector and region, and leave the timeframe and scope unchanged. Any categorical variable in the data provided by you or your data provider (in the `test_company_data.xlsx` imported above) can be used as grouping variable, e.g. sectors, industries, regions, countries, market cap buckets, as well as the additional fields you imported via the portfolio data.\n",
    "\n",
    "You can change the variable by which the data is grouped by replacing the fourth line in the following cell. For example, replacing \"grouping=['sector', 'region']\" by \"grouping=['sector', 'country']\" would result in temperature scores per sector per country. \n",
    "If you want to change the time frame as well, please refer to the section 'Calculate the company temperature scores' above.\n",
    "\n"
   ]
  },
  {
   "cell_type": "code",
   "execution_count": 19,
   "metadata": {
    "scrolled": true
   },
   "outputs": [
    {
     "name": "stderr",
     "output_type": "stream",
     "text": [
      "/Users/michael/opt/miniconda3/envs/itr_env/lib/python3.9/site-packages/pint_pandas/pint_array.py:648: UnitStrippedWarning: The unit of the quantity is stripped when downcasting to ndarray.\n",
      "  return np.array(qtys, dtype=\"object\", copy=copy)\n",
      "/Users/michael/opt/miniconda3/envs/itr_env/lib/python3.9/site-packages/pandas/core/dtypes/cast.py:1983: UnitStrippedWarning: The unit of the quantity is stripped when downcasting to ndarray.\n",
      "  result[:] = values\n"
     ]
    }
   ],
   "source": [
    "grouping = ['sector', 'region']\n",
    "temperature_score.grouping = grouping\n",
    "grouped_portfolio = temperature_score.calculate(data_warehouse=template_provider, portfolio=companies)\n",
    "grouped_aggregations = temperature_score.aggregate_scores(grouped_portfolio)"
   ]
  },
  {
   "cell_type": "markdown",
   "metadata": {},
   "source": [
    "\n",
    "The aggregated scores can then be used, for example, to show the relation between sectors and regions with respect to temperature score.\n",
    "A visualization of this relation is shown in the heatmap below. The grey fields indicate that the portfolio contains no assest for those combinations.\n",
    "\n",
    "#### Quick analysis: Heat Map\n",
    "\n",
    "We can see here that our North American Steel is in reasonable shape. While Asian Steel can be improved as shown in the drill down below the graph\n",
    "\n"
   ]
  },
  {
   "cell_type": "code",
   "execution_count": 20,
   "metadata": {},
   "outputs": [
    {
     "data": {
      "image/png": "[encoded data removed]",
      "text/plain": [
       "<Figure size 259.2x230.4 with 2 Axes>"
      ]
     },
     "metadata": {
      "needs_background": "light"
     },
     "output_type": "display_data"
    }
   ],
   "source": [
    "analysis_parameters = ([ETimeFrames.LONG], [EScope.S1S2], grouping)\n",
    "plot_grouped_heatmap(grouped_aggregations, analysis_parameters)"
   ]
  },
  {
   "cell_type": "code",
   "execution_count": 21,
   "metadata": {},
   "outputs": [
    {
     "data": {
      "text/html": [
       "<div>\n",
       "<style scoped>\n",
       "    .dataframe tbody tr th:only-of-type {\n",
       "        vertical-align: middle;\n",
       "    }\n",
       "\n",
       "    .dataframe tbody tr th {\n",
       "        vertical-align: top;\n",
       "    }\n",
       "\n",
       "    .dataframe thead th {\n",
       "        text-align: right;\n",
       "    }\n",
       "</style>\n",
       "<table border=\"1\" class=\"dataframe\">\n",
       "  <thead>\n",
       "    <tr style=\"text-align: right;\">\n",
       "      <th></th>\n",
       "      <th>group</th>\n",
       "      <th>company_name</th>\n",
       "      <th>company_id</th>\n",
       "      <th>temperature_score</th>\n",
       "      <th>contribution_relative</th>\n",
       "    </tr>\n",
       "  </thead>\n",
       "  <tbody>\n",
       "    <tr>\n",
       "      <th>0</th>\n",
       "      <td>Steel-Asia</td>\n",
       "      <td>POSCO</td>\n",
       "      <td>KR7005490008</td>\n",
       "      <td>2.2 delta_degree_Celsius</td>\n",
       "      <td>53.86706409932146 percent</td>\n",
       "    </tr>\n",
       "    <tr>\n",
       "      <th>1</th>\n",
       "      <td>Steel-Asia</td>\n",
       "      <td>NIPPON STEEL CORP</td>\n",
       "      <td>JP3381000003</td>\n",
       "      <td>2.25 delta_degree_Celsius</td>\n",
       "      <td>46.13293590067853 percent</td>\n",
       "    </tr>\n",
       "  </tbody>\n",
       "</table>\n",
       "</div>"
      ],
      "text/plain": [
       "        group       company_name    company_id          temperature_score  \\\n",
       "0  Steel-Asia              POSCO  KR7005490008   2.2 delta_degree_Celsius   \n",
       "1  Steel-Asia  NIPPON STEEL CORP  JP3381000003  2.25 delta_degree_Celsius   \n",
       "\n",
       "       contribution_relative  \n",
       "0  53.86706409932146 percent  \n",
       "1  46.13293590067853 percent  "
      ]
     },
     "execution_count": 21,
     "metadata": {},
     "output_type": "execute_result"
    }
   ],
   "source": [
    "region = 'Asia'\n",
    "sector = 'Steel'\n",
    "group = sector + '-' + region\n",
    "analysis_parameters = ([ETimeFrames.LONG], [EScope.S1S2], grouping)\n",
    "group_contributions = get_contributions_per_group(grouped_aggregations, analysis_parameters, group)\n",
    "group_contributions.round(2)"
   ]
  },
  {
   "cell_type": "markdown",
   "metadata": {},
   "source": [
    "#### Sector analysis\n",
    "\n",
    "Sector analysis may help us with bringing some clarity into our analysis from the heatmap above. In order to identify the companies that your portfolio would most benefit from engaging with, we can start with identifying the biggest contributing sectors to the portfolio's temperature score, as in our example below.\n",
    "\n",
    "Contributions can be identified on an individual company level, as well as contributions from companies grouped by one of their characteristics, e.g. sector or region. The exact definitions of companies' contributions to the portfolio temperature scores depend on the selected aggregation method.\n",
    "\n",
    "You can group companies on any categorical variable (e.g. sectors, countries, market cap buckets, investment strategies, etc)  you provide through your dataprovider, in this example in the test_company_data.xlsx imported above.\n",
    "\n",
    "For our analysis we select one time-frame (LONG) and one scope (S1+S2) and group the outcomes on sector and compare AUM to temperature score contribution. We also then display the sector temperature scores.\n",
    "\n",
    "#### Quick analysis\n",
    "\n",
    "In this example we can see that both sectors Steel and Electricity are scoring above 2.0C. \n"
   ]
  },
  {
   "cell_type": "code",
   "execution_count": 22,
   "metadata": {},
   "outputs": [
    {
     "name": "stderr",
     "output_type": "stream",
     "text": [
      "/Users/michael/opt/miniconda3/envs/itr_env/lib/python3.9/site-packages/pint_pandas/pint_array.py:648: UnitStrippedWarning: The unit of the quantity is stripped when downcasting to ndarray.\n",
      "  return np.array(qtys, dtype=\"object\", copy=copy)\n",
      "/Users/michael/opt/miniconda3/envs/itr_env/lib/python3.9/site-packages/pandas/core/dtypes/cast.py:1983: UnitStrippedWarning: The unit of the quantity is stripped when downcasting to ndarray.\n",
      "  result[:] = values\n",
      "/Users/michael/opt/miniconda3/envs/itr_env/lib/python3.9/site-packages/pint_pandas/pint_array.py:648: UnitStrippedWarning: The unit of the quantity is stripped when downcasting to ndarray.\n",
      "  return np.array(qtys, dtype=\"object\", copy=copy)\n",
      "/Users/michael/opt/miniconda3/envs/itr_env/lib/python3.9/site-packages/pandas/core/dtypes/cast.py:1983: UnitStrippedWarning: The unit of the quantity is stripped when downcasting to ndarray.\n",
      "  result[:] = values\n"
     ]
    }
   ],
   "source": [
    "time_frames = [ETimeFrames.LONG]\n",
    "scopes = [EScope.S1S2, EScope.S3]\n",
    "grouping = ['sector']\n",
    "analysis_parameters = (time_frames, scopes, grouping)\n",
    "\n",
    "temperature_score = TemperatureScore(time_frames=time_frames,\n",
    "                                     scopes=scopes,\n",
    "                                     grouping=grouping, aggregation_method=PortfolioAggregationMethod.WATS)\n",
    "enhanced_portfolio = temperature_score.calculate(data_warehouse=template_provider, portfolio=companies)\n",
    "aggregated_portfolio = temperature_score.aggregate_scores(enhanced_portfolio)\n",
    "with warnings.catch_warnings():\n",
    "    warnings.simplefilter(\"ignore\")\n",
    "    company_contributions = collect_company_contributions(aggregated_portfolio, enhanced_portfolio, analysis_parameters)"
   ]
  },
  {
   "cell_type": "code",
   "execution_count": 23,
   "metadata": {},
   "outputs": [
    {
     "data": {
      "image/png": "[encoded data removed]",
      "text/plain": [
       "<Figure size 720x540 with 3 Axes>"
      ]
     },
     "metadata": {
      "needs_background": "light"
     },
     "output_type": "display_data"
    }
   ],
   "source": [
    "plot_grouped_statistics(aggregated_portfolio, company_contributions, analysis_parameters)"
   ]
  },
  {
   "cell_type": "markdown",
   "metadata": {},
   "source": [
    "We can use what we learned from this analysis to drill into a few of the highest contributing scoring sectors to see which\n",
    "companies are the biggest contributors on the sector level. Considering the Steel sector, for instance, in the\n",
    "table below.\n"
   ]
  },
  {
   "cell_type": "code",
   "execution_count": 24,
   "metadata": {},
   "outputs": [
    {
     "data": {
      "text/html": [
       "<div>\n",
       "<style scoped>\n",
       "    .dataframe tbody tr th:only-of-type {\n",
       "        vertical-align: middle;\n",
       "    }\n",
       "\n",
       "    .dataframe tbody tr th {\n",
       "        vertical-align: top;\n",
       "    }\n",
       "\n",
       "    .dataframe thead th {\n",
       "        text-align: right;\n",
       "    }\n",
       "</style>\n",
       "<table border=\"1\" class=\"dataframe\">\n",
       "  <thead>\n",
       "    <tr style=\"text-align: right;\">\n",
       "      <th></th>\n",
       "      <th>company_name</th>\n",
       "      <th>company_id</th>\n",
       "      <th>sector</th>\n",
       "      <th>contribution</th>\n",
       "      <th>temperature_score</th>\n",
       "      <th>ownership_percentage</th>\n",
       "      <th>portfolio_percentage</th>\n",
       "    </tr>\n",
       "  </thead>\n",
       "  <tbody>\n",
       "    <tr>\n",
       "      <th>37</th>\n",
       "      <td>POSCO</td>\n",
       "      <td>KR7005490008</td>\n",
       "      <td>Steel</td>\n",
       "      <td>1.7544547184645871 percent</td>\n",
       "      <td>2.2 delta_degree_Celsius</td>\n",
       "      <td>0.81</td>\n",
       "      <td>0.45</td>\n",
       "    </tr>\n",
       "    <tr>\n",
       "      <th>183</th>\n",
       "      <td>POSCO</td>\n",
       "      <td>KR7005490008</td>\n",
       "      <td>Steel</td>\n",
       "      <td>1.7544547184645871 percent</td>\n",
       "      <td>2.2 delta_degree_Celsius</td>\n",
       "      <td>0.81</td>\n",
       "      <td>0.45</td>\n",
       "    </tr>\n",
       "    <tr>\n",
       "      <th>182</th>\n",
       "      <td>POSCO</td>\n",
       "      <td>KR7005490008</td>\n",
       "      <td>Steel</td>\n",
       "      <td>1.7544547184645871 percent</td>\n",
       "      <td>2.2 delta_degree_Celsius</td>\n",
       "      <td>0.81</td>\n",
       "      <td>0.45</td>\n",
       "    </tr>\n",
       "    <tr>\n",
       "      <th>36</th>\n",
       "      <td>POSCO</td>\n",
       "      <td>KR7005490008</td>\n",
       "      <td>Steel</td>\n",
       "      <td>1.7544547184645871 percent</td>\n",
       "      <td>2.2 delta_degree_Celsius</td>\n",
       "      <td>0.81</td>\n",
       "      <td>0.45</td>\n",
       "    </tr>\n",
       "    <tr>\n",
       "      <th>42</th>\n",
       "      <td>CARPENTER TECHNOLOGY CORP</td>\n",
       "      <td>US1442851036</td>\n",
       "      <td>Steel</td>\n",
       "      <td>1.5714884496182226 percent</td>\n",
       "      <td>2.2 delta_degree_Celsius</td>\n",
       "      <td>8.66</td>\n",
       "      <td>0.41</td>\n",
       "    </tr>\n",
       "    <tr>\n",
       "      <th>43</th>\n",
       "      <td>CARPENTER TECHNOLOGY CORP</td>\n",
       "      <td>US1442851036</td>\n",
       "      <td>Steel</td>\n",
       "      <td>1.5714884496182226 percent</td>\n",
       "      <td>2.2 delta_degree_Celsius</td>\n",
       "      <td>8.66</td>\n",
       "      <td>0.41</td>\n",
       "    </tr>\n",
       "    <tr>\n",
       "      <th>188</th>\n",
       "      <td>CARPENTER TECHNOLOGY CORP</td>\n",
       "      <td>US1442851036</td>\n",
       "      <td>Steel</td>\n",
       "      <td>1.5714884496182226 percent</td>\n",
       "      <td>2.2 delta_degree_Celsius</td>\n",
       "      <td>8.66</td>\n",
       "      <td>0.41</td>\n",
       "    </tr>\n",
       "    <tr>\n",
       "      <th>189</th>\n",
       "      <td>CARPENTER TECHNOLOGY CORP</td>\n",
       "      <td>US1442851036</td>\n",
       "      <td>Steel</td>\n",
       "      <td>1.5714884496182226 percent</td>\n",
       "      <td>2.2 delta_degree_Celsius</td>\n",
       "      <td>8.66</td>\n",
       "      <td>0.41</td>\n",
       "    </tr>\n",
       "    <tr>\n",
       "      <th>195</th>\n",
       "      <td>TERNIUM S.A.</td>\n",
       "      <td>US8808901081</td>\n",
       "      <td>Steel</td>\n",
       "      <td>1.5036486574104078 percent</td>\n",
       "      <td>1.73 delta_degree_Celsius</td>\n",
       "      <td>50.51</td>\n",
       "      <td>0.49</td>\n",
       "    </tr>\n",
       "    <tr>\n",
       "      <th>49</th>\n",
       "      <td>TERNIUM S.A.</td>\n",
       "      <td>US8808901081</td>\n",
       "      <td>Steel</td>\n",
       "      <td>1.5036486574104078 percent</td>\n",
       "      <td>1.73 delta_degree_Celsius</td>\n",
       "      <td>50.51</td>\n",
       "      <td>0.49</td>\n",
       "    </tr>\n",
       "  </tbody>\n",
       "</table>\n",
       "</div>"
      ],
      "text/plain": [
       "                  company_name    company_id sector  \\\n",
       "37                       POSCO  KR7005490008  Steel   \n",
       "183                      POSCO  KR7005490008  Steel   \n",
       "182                      POSCO  KR7005490008  Steel   \n",
       "36                       POSCO  KR7005490008  Steel   \n",
       "42   CARPENTER TECHNOLOGY CORP  US1442851036  Steel   \n",
       "43   CARPENTER TECHNOLOGY CORP  US1442851036  Steel   \n",
       "188  CARPENTER TECHNOLOGY CORP  US1442851036  Steel   \n",
       "189  CARPENTER TECHNOLOGY CORP  US1442851036  Steel   \n",
       "195               TERNIUM S.A.  US8808901081  Steel   \n",
       "49                TERNIUM S.A.  US8808901081  Steel   \n",
       "\n",
       "                   contribution          temperature_score  \\\n",
       "37   1.7544547184645871 percent   2.2 delta_degree_Celsius   \n",
       "183  1.7544547184645871 percent   2.2 delta_degree_Celsius   \n",
       "182  1.7544547184645871 percent   2.2 delta_degree_Celsius   \n",
       "36   1.7544547184645871 percent   2.2 delta_degree_Celsius   \n",
       "42   1.5714884496182226 percent   2.2 delta_degree_Celsius   \n",
       "43   1.5714884496182226 percent   2.2 delta_degree_Celsius   \n",
       "188  1.5714884496182226 percent   2.2 delta_degree_Celsius   \n",
       "189  1.5714884496182226 percent   2.2 delta_degree_Celsius   \n",
       "195  1.5036486574104078 percent  1.73 delta_degree_Celsius   \n",
       "49   1.5036486574104078 percent  1.73 delta_degree_Celsius   \n",
       "\n",
       "     ownership_percentage  portfolio_percentage  \n",
       "37                   0.81                  0.45  \n",
       "183                  0.81                  0.45  \n",
       "182                  0.81                  0.45  \n",
       "36                   0.81                  0.45  \n",
       "42                   8.66                  0.41  \n",
       "43                   8.66                  0.41  \n",
       "188                  8.66                  0.41  \n",
       "189                  8.66                  0.41  \n",
       "195                 50.51                  0.49  \n",
       "49                  50.51                  0.49  "
      ]
     },
     "execution_count": 24,
     "metadata": {},
     "output_type": "execute_result"
    }
   ],
   "source": [
    "sector_contributions = company_contributions[['company_name', 'company_id', 'sector', 'contribution', 'temperature_score', 'ownership_percentage', 'portfolio_percentage']]\n",
    "sector_contributions.loc[sector_contributions['sector'] == 'Steel'][:10].round(2)"
   ]
  },
  {
   "cell_type": "markdown",
   "metadata": {},
   "source": [
    "### Save portfolio data for further analysis\n",
    "To take your analysis outside of this notebook and for example for internal and client reporting, you can export all data to Excel and the clipboard for pasting into and analysing in other applications.\n",
    "\n",
    "If you run the ITR tool locally or from Google Colab, you:\n",
    "- Specify the filenames of the output files in the cell below, e.g. change 'data_dump.xlsx' in the first line to 'TS_output.xlsx'\n",
    "- Run the cell below"
   ]
  },
  {
   "cell_type": "code",
   "execution_count": 25,
   "metadata": {
    "pycharm": {
     "name": "#%%\n"
    }
   },
   "outputs": [],
   "source": [
    "data_dump_filename = 'data_dump.xlsx'\n",
    "enhanced_portfolio.set_index(['company_name', 'company_id']).to_excel(data_dump_filename)"
   ]
  },
  {
   "cell_type": "markdown",
   "metadata": {},
   "source": [
    "### Compare OECD and non-OECD results\n",
    "\n",
    "There are currently 37 members of the OECD (text list maintained on the OECD website).  We use a simple CSV file containing data correct as of June 6th, 2022."
   ]
  },
  {
   "cell_type": "code",
   "execution_count": 26,
   "metadata": {},
   "outputs": [],
   "source": [
    "from ITR.utils import get_project_root\n",
    "pkg_root = get_project_root()\n",
    "\n",
    "# When connected to the Data Commons, this would be the kind of data we could simply load from a table.\n",
    "# As this is a stand-alone program, we must load the data from a file.\n",
    "\n",
    "oecd_df = pd.read_csv(f\"{pkg_root}/data/input/oecd_iso.csv\")"
   ]
  },
  {
   "cell_type": "markdown",
   "metadata": {},
   "source": [
    "We reuse the calculated `grouped_portfolio` from above, and then add the additional OECD discriminator to it.  We can add arbitrary columns and group on them in this way.  (And of course we can recompute a fresh `grouped_portfolio` if we wish.)\n",
    "\n",
    "Because of the way we generate grouped and aggregated data (which uses dash (-) as a separator), we spell Non-OECD with an underscore  (non_oecd) instead of a dash."
   ]
  },
  {
   "cell_type": "code",
   "execution_count": 27,
   "metadata": {},
   "outputs": [
    {
     "name": "stderr",
     "output_type": "stream",
     "text": [
      "/Users/michael/opt/miniconda3/envs/itr_env/lib/python3.9/site-packages/pint_pandas/pint_array.py:648: UnitStrippedWarning: The unit of the quantity is stripped when downcasting to ndarray.\n",
      "  return np.array(qtys, dtype=\"object\", copy=copy)\n",
      "/Users/michael/opt/miniconda3/envs/itr_env/lib/python3.9/site-packages/pandas/core/dtypes/cast.py:1983: UnitStrippedWarning: The unit of the quantity is stripped when downcasting to ndarray.\n",
      "  result[:] = values\n"
     ]
    },
    {
     "data": {
      "image/png": "[encoded data removed]",
      "text/plain": [
       "<Figure size 259.2x115.2 with 2 Axes>"
      ]
     },
     "metadata": {
      "needs_background": "light"
     },
     "output_type": "display_data"
    }
   ],
   "source": [
    "grouping = ['sector', 'oecd']\n",
    "grouped_portfolio.loc[:, 'oecd'] = grouped_portfolio.country.map(lambda x: 'oecd' if x in oecd_df.alpha_2.values else 'non_oecd')\n",
    "temperature_score.grouping = grouping\n",
    "grouped_aggregations = temperature_score.aggregate_scores(grouped_portfolio)\n",
    "analysis_parameters = ([ETimeFrames.LONG], [EScope.S1S2], grouping)\n",
    "plot_grouped_heatmap(grouped_aggregations, analysis_parameters)"
   ]
  }
 ],
 "metadata": {
  "kernelspec": {
   "display_name": "Python 3 (ipykernel)",
   "language": "python",
   "name": "python3"
  },
  "language_info": {
   "codemirror_mode": {
    "name": "ipython",
    "version": 3
   },
   "file_extension": ".py",
   "mimetype": "text/x-python",
   "name": "python",
   "nbconvert_exporter": "python",
   "pygments_lexer": "ipython3",
   "version": "3.9.0"
  }
 },
 "nbformat": 4,
 "nbformat_minor": 4
}
