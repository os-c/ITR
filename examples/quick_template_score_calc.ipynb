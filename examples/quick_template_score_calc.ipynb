{
 "cells": [
  {
   "cell_type": "markdown",
   "metadata": {
    "tags": []
   },
   "source": [
    "# ITR Tool - Template Temperature Score Calculation\n",
    "\n",
    "This notebook provides a simple example of the ITR Toolkit as a means to evaluate Portfolio Alignment.  Text boxes (called Markdown cells) like this provide some explanation, and then code cells either do the work just explained or will do work that will be explained.\n",
    "\n",
    "All data needed to run this demonstration should be local and no acccess to the internet should be required.  However, if you want to delete a file and re-download it (to restore to its pristine state), of course you need access to the internet, and you will need a github token to access the OS-Climate hithub.\n",
    "\n",
    "The **Sample Data template** provides both a *Read me* sheet and sheet of data dictionary *Definitions*, as well as three input data sheets:\n",
    "* ITR input data: The fundamental financial, emissions, and production data of companies, listed by security instrument as company id\n",
    "* ITR target input data: Short-term Emissions or Intensity reduction targets and Net-Zero attainment target dates, listed by company id\n",
    "* Portfolio: A list of positions and investment value amounts\n",
    "\n",
    "The user may choose **Benchmark Data** that forecasts intensity reductions expected from 2020-2050 by region and sector.  By default we use the OECM benchmark, but two TPI benchmarks are also available.  In all three cases we use the same projections for production grwoth forecasts.  We also use the same global carbon budget and TCRE multipliers for all benchmarks.\n",
    "\n",
    "After scoring the portfolio, the portfolio is copied to the local file *data_dump.xlsx* which can be downloaded for further analysis.\n",
    "\n",
    "This notebook also outputs an **enhanced portfolio** (with temperature scores), can be aggregated using various weighting methods to gain additional portfolio alignment insights.\n",
    "\n",
    "Please enjoy learning how the ITR tool works by following the computations performed by this Jupyter Notebook!"
   ]
  },
  {
   "cell_type": "markdown",
   "metadata": {
    "tags": []
   },
   "source": [
    "## Getting started\n",
    "Make sure you are running the notebook with the requirements installed available in the example folder.\n",
    "\n",
    "If you see errors when attempting to load the ITR modules, go to the top-level ITR directory, activate the `itr_env` conda environment (using `conda activate itr_env` and execute the command `pip install -e .`.  Then try again, or hit the <i class=\"fas fa-forward\"></i> button above."
   ]
  },
  {
   "cell_type": "code",
   "execution_count": 1,
   "metadata": {},
   "outputs": [],
   "source": [
    "import os\n",
    "import sys\n",
    "import warnings"
   ]
  },
  {
   "cell_type": "markdown",
   "metadata": {
    "tags": []
   },
   "source": [
    "If all is well, the list of paths below will prioritize loading from the environment established for the ITR tool.  Please contact us if not."
   ]
  },
  {
   "cell_type": "code",
   "execution_count": 2,
   "metadata": {
    "tags": []
   },
   "outputs": [
    {
     "data": {
      "text/plain": [
       "['/Users/michael/Documents/GitHub/ITR-MichaelTiemannOSC/examples',\n",
       " '/Users/michael/Documents/GitHub/ITR-MichaelTiemannOSC/examples',\n",
       " '/Library/Application Support/Blackmagic Design/DaVinci Resolve/Developer/Scripting/Modules',\n",
       " '/Users/michael/opt/miniconda3/envs/itr_env/lib/python39.zip',\n",
       " '/Users/michael/opt/miniconda3/envs/itr_env/lib/python3.9',\n",
       " '/Users/michael/opt/miniconda3/envs/itr_env/lib/python3.9/lib-dynload',\n",
       " '',\n",
       " '/Users/michael/.local/lib/python3.9/site-packages',\n",
       " '/Users/michael/opt/miniconda3/envs/itr_env/lib/python3.9/site-packages',\n",
       " '/Users/michael/Documents/GitHub/ITR']"
      ]
     },
     "metadata": {},
     "output_type": "display_data"
    }
   ],
   "source": [
    "display(sys.path)"
   ]
  },
  {
   "cell_type": "code",
   "execution_count": 3,
   "metadata": {
    "tags": []
   },
   "outputs": [],
   "source": [
    "# Load the ITR library files\n",
    "\n",
    "import ITR\n",
    "from ITR.data.excel import ExcelProviderProductionBenchmark, ExcelProviderIntensityBenchmark\n",
    "from ITR.data.template import TemplateProviderCompany\n",
    "from ITR.data.base_providers import BaseProviderProductionBenchmark, BaseProviderIntensityBenchmark\n",
    "from ITR.data.data_warehouse import DataWarehouse\n",
    "from ITR.portfolio_aggregation import PortfolioAggregationMethod\n",
    "from ITR.temperature_score import TemperatureScore\n",
    "from ITR.interfaces import ETimeFrames, EScope, IProductionBenchmarkScopes, IEIBenchmarkScopes\n",
    "import pandas as pd\n",
    "\n",
    "from ITR.data.osc_units import ureg, Q_, PA_"
   ]
  },
  {
   "cell_type": "code",
   "execution_count": 4,
   "metadata": {},
   "outputs": [
    {
     "name": "stdout",
     "output_type": "stream",
     "text": [
      "Testing unit registry\n",
      "=====================\n",
      "The gas species CO2e, which was a gwp of 1: 1 CO2e\n",
      "A gigaton of CO2e: 1 CO2e * gigametric_ton\n"
     ]
    }
   ],
   "source": [
    "print(\"Testing unit registry\\n=====================\")\n",
    "one_co2 = ureg(\"CO2e\")\n",
    "print(f\"The gas species CO2e, which was a gwp of 1: {one_co2}\")\n",
    "\n",
    "one_Gt_co2 = ureg(\"Gt CO2e\")\n",
    "print(f\"A gigaton of CO2e: {one_Gt_co2}\")"
   ]
  },
  {
   "cell_type": "markdown",
   "metadata": {},
   "source": [
    "## Load the production and intensity benchmarks\n",
    "\n",
    "Prepare the various benchmark files; the OECM benchmark is the default after the next cell finishes."
   ]
  },
  {
   "cell_type": "code",
   "execution_count": 5,
   "metadata": {},
   "outputs": [],
   "source": [
    "import json\n",
    "\n",
    "self_root = os.path.abspath('')\n",
    "benchmark_prod_json = os.path.join(self_root, \"data\", \"json-units\", \"benchmark_production_OECM.json\")\n",
    "benchmark_EI_OECM = os.path.join(self_root, \"data\", \"json-units\", \"benchmark_EI_OECM_PC.json\")\n",
    "benchmark_EI_TPI = os.path.join(self_root, \"data\", \"json-units\", \"benchmark_EI_TPI_2_degrees.json\")\n",
    "benchmark_EI_TPI_below_2 = os.path.join(self_root, \"data\", \"json-units\", \"benchmark_EI_TPI_below_2_degrees.json\")\n",
    "\n",
    "# load production benchmarks\n",
    "with open(benchmark_prod_json) as json_file:\n",
    "    parsed_json = json.load(json_file)\n",
    "prod_bms = IProductionBenchmarkScopes.parse_obj(parsed_json)\n",
    "base_production_bm = BaseProviderProductionBenchmark(production_benchmarks=prod_bms)\n",
    "\n",
    "# load intensity benchmarks\n",
    "\n",
    "# OECM\n",
    "with open(benchmark_EI_OECM) as json_file:\n",
    "    parsed_json = json.load(json_file)\n",
    "ei_bms = IEIBenchmarkScopes.parse_obj(parsed_json)\n",
    "OECM_EI_bm = BaseProviderIntensityBenchmark(EI_benchmarks=ei_bms)\n",
    "\n",
    "# TPI\n",
    "with open(benchmark_EI_TPI) as json_file:\n",
    "    parsed_json = json.load(json_file)\n",
    "ei_bms = IEIBenchmarkScopes.parse_obj(parsed_json)\n",
    "TPI_EI_bm = BaseProviderIntensityBenchmark(EI_benchmarks=ei_bms)\n",
    "\n",
    "# TPI below 2\n",
    "with open(benchmark_EI_TPI_below_2) as json_file:\n",
    "    parsed_json = json.load(json_file)\n",
    "ei_bms = IEIBenchmarkScopes.parse_obj(parsed_json)\n",
    "TPI_below_2_EI_bm = BaseProviderIntensityBenchmark(EI_benchmarks=ei_bms)\n",
    "\n",
    "base_intensity_bm = OECM_EI_bm"
   ]
  },
  {
   "cell_type": "markdown",
   "metadata": {
    "tags": []
   },
   "source": [
    "## Download/load the sample template data\n",
    "\n",
    "We have prepared sample data from public sources for you to be able to run the tool as it is to familiarise yourself with how it works. To use your own data; please check out to the [Data Template Requirements](https://github.com/os-c/ITR/blob/main/docs/DataTemplateRequirements.rst) section of the technical documentation for more details on data requirements and formatting. \n",
    "\n",
    "*The sample data may contain estimates, simplifications, and recategorizations.  It is intended to be generally representative, but not authoritative, and should not be relied upon to make investment decisions.*"
   ]
  },
  {
   "cell_type": "code",
   "execution_count": 6,
   "metadata": {},
   "outputs": [],
   "source": [
    "import urllib.request\n",
    "from github import Github\n",
    "\n",
    "# Create a Github instance with an access token.\n",
    "# Use your shell's `export` command to inject your token into the GITHUB_TOKEN environment variable before starting this jupyter-lab instance.\n",
    "gh = Github(os.environ['GITHUB_TOKEN'])\n",
    "\n",
    "# Get repository by name and select the proper branch\n",
    "repo = gh.get_repo(\"os-climate/ITR\").get_branch(branch=\"develop\")\n",
    "\n",
    "if not os.path.isdir(\"data\"):\n",
    "    os.mkdir(\"data\")\n",
    "\n",
    "for filename in ['data/20220927 ITR Tool Sample Data.xlsx',\n",
    "                 'data/OECM_EI_and_production_benchmarks.xlsx',\n",
    "                 'utils.py']:\n",
    "    if not os.path.isfile(filename):\n",
    "        # Get a specific content file:\n",
    "        contents = repo.get_contents(f\"examples/{filename}\")\n",
    "\n",
    "        # Donwnload file form ContenFile object info:\n",
    "        urllib.urlretrieve(contents.download_url, filename)\n",
    "\n",
    "try:  # Import statement when run in remote Jupyter servers from AWS Google etc..\n",
    "    from utils import collect_company_contributions, plot_grouped_statistics, anonymize, \\\n",
    "        plot_grouped_heatmap, print_grouped_scores, get_contributions_per_group\n",
    "except:  # Import statement when run locally\n",
    "    from utils import collect_company_contributions, plot_grouped_statistics, anonymize, \\\n",
    "        plot_grouped_heatmap, print_grouped_scores, get_contributions_per_group\n",
    "\n",
    "template_data_path = \"data/20220927 ITR Tool Sample Data.xlsx\""
   ]
  },
  {
   "cell_type": "markdown",
   "metadata": {},
   "source": [
    "### Logging\n",
    "The ITR module uses the Python standard library logging utilities to send log messages. The log level can be changed according to the user's needs."
   ]
  },
  {
   "cell_type": "code",
   "execution_count": 7,
   "metadata": {},
   "outputs": [],
   "source": [
    "import logging\n",
    "root_logger = logging.getLogger()\n",
    "root_logger.setLevel(\"INFO\")"
   ]
  },
  {
   "cell_type": "markdown",
   "metadata": {},
   "source": [
    "## Create a data provider\n",
    "Data providers let you connect to the data source of your choice. In this case we are connecting to Excel as a data provider for benchmark information and we are using the ITR Data Template for company and portfolio information, using *template_data_path* as the pathname to the data.  If you want to supply your own data file, you can set the pathname in the first line of the next cell."
   ]
  },
  {
   "cell_type": "code",
   "execution_count": 8,
   "metadata": {},
   "outputs": [
    {
     "name": "stderr",
     "output_type": "stream",
     "text": [
      "2022-09-29 16:11:49,912 - ITR.data.template - WARNING - Missing target start year set to 2021 for companies with ID: ['US0185223007', 'US0188021085', 'US0236081024', 'US0236081024', 'US0255371017', 'US05351W1036-E', 'US05351W1036-U', 'US0921131092', 'US0921131092', 'US1442851036', 'US18551QAA58', 'US25746U1097', 'US26441C2044', 'US30034W1062', 'US5526901096', 'JP3633400001']\n"
     ]
    }
   ],
   "source": [
    "# Remove the # and space on the next line to point the template_data_path variable at your own data\n",
    "# template_data_path = \"data/your_template_here.xlsx\"\n",
    "\n",
    "template_company_data = TemplateProviderCompany(excel_path=template_data_path)"
   ]
  },
  {
   "cell_type": "raw",
   "metadata": {},
   "source": [
    "excel_production_bm = ExcelProviderProductionBenchmark(excel_path=\"data/OECM_EI_and_production_benchmarks.xlsx\")"
   ]
  },
  {
   "cell_type": "raw",
   "metadata": {},
   "source": [
    "excel_EI_bm = ExcelProviderIntensityBenchmark(excel_path=\"data/OECM_EI_and_production_benchmarks.xlsx\",\n",
    "                                              benchmark_temperature=Q_(1.5, ureg.delta_degC),\n",
    "                                              benchmark_global_budget=396 * ureg('Gt CO2'),\n",
    "                                              is_AFOLU_included=False)"
   ]
  },
  {
   "cell_type": "markdown",
   "metadata": {},
   "source": [
    "## Create the Data Warehouse"
   ]
  },
  {
   "cell_type": "code",
   "execution_count": 9,
   "metadata": {},
   "outputs": [
    {
     "data": {
      "text/plain": [
       "ProductionMetric(units='GWh')"
      ]
     },
     "execution_count": 9,
     "metadata": {},
     "output_type": "execute_result"
    }
   ],
   "source": [
    "template_company_data._companies[0].production_metric"
   ]
  },
  {
   "cell_type": "code",
   "execution_count": 10,
   "metadata": {},
   "outputs": [
    {
     "name": "stdout",
     "output_type": "stream",
     "text": [
      "Benchmark Temperature = 1.5 delta_degree_Celsius\n",
      "Benchmark Global Budget = 521.0526315789474 CO2 * gigametric_ton\n",
      "AFOLU included = False\n"
     ]
    }
   ],
   "source": [
    "template_provider = DataWarehouse(template_company_data, base_production_bm, base_intensity_bm)\n",
    "\n",
    "# Fills in template_company_data._companies[0].projected_targets.S1S2\n",
    "\n",
    "print(f\"Benchmark Temperature = {base_intensity_bm.benchmark_temperature}\\n\\\n",
    "Benchmark Global Budget = {base_intensity_bm.benchmark_global_budget}\\n\\\n",
    "AFOLU included = {base_intensity_bm.is_AFOLU_included}\")"
   ]
  },
  {
   "cell_type": "code",
   "execution_count": 11,
   "metadata": {},
   "outputs": [
    {
     "data": {
      "text/html": [
       "1.0 CO2 kilogram/pkm"
      ],
      "text/latex": [
       "$1.0\\ \\frac{\\mathrm{CO2} \\cdot \\mathrm{kilogram}}{\\mathrm{pkm}}$"
      ],
      "text/plain": [
       "1.0 <Unit('CO2 * kilogram / pkm')>"
      ]
     },
     "execution_count": 11,
     "metadata": {},
     "output_type": "execute_result"
    }
   ],
   "source": [
    "ureg(\"kg CO2/(passenger km)\")"
   ]
  },
  {
   "cell_type": "markdown",
   "metadata": {},
   "source": [
    "## Load your portfolio\n",
    "\n",
    "The portfolio data is a sheet in the Data Template named \"Portfolio\".\n",
    "\n",
    "Please see the technical documentation in the [Data Template Requirements](https://github.com/os-c/ITR/blob/main/docs/DataTemplateRequirements.rst) section for details on data requirements."
   ]
  },
  {
   "cell_type": "code",
   "execution_count": 12,
   "metadata": {},
   "outputs": [
    {
     "data": {
      "text/html": [
       "<div>\n",
       "<style scoped>\n",
       "    .dataframe tbody tr th:only-of-type {\n",
       "        vertical-align: middle;\n",
       "    }\n",
       "\n",
       "    .dataframe tbody tr th {\n",
       "        vertical-align: top;\n",
       "    }\n",
       "\n",
       "    .dataframe thead th {\n",
       "        text-align: right;\n",
       "    }\n",
       "</style>\n",
       "<table border=\"1\" class=\"dataframe\">\n",
       "  <thead>\n",
       "    <tr style=\"text-align: right;\">\n",
       "      <th></th>\n",
       "      <th>company_name</th>\n",
       "      <th>company_lei</th>\n",
       "      <th>company_id</th>\n",
       "      <th>company_isin</th>\n",
       "      <th>investment_value</th>\n",
       "    </tr>\n",
       "  </thead>\n",
       "  <tbody>\n",
       "    <tr>\n",
       "      <th>71</th>\n",
       "      <td>WEC Energy Group</td>\n",
       "      <td>549300IGLYTZUK3PVP70</td>\n",
       "      <td>US92939U1060</td>\n",
       "      <td>US92939U1060</td>\n",
       "      <td>124145028</td>\n",
       "    </tr>\n",
       "    <tr>\n",
       "      <th>72</th>\n",
       "      <td>WORTHINGTON INDUSTRIES INC</td>\n",
       "      <td>1WRCIANKYOIK6KYE5E82</td>\n",
       "      <td>US9818111026</td>\n",
       "      <td>US9818111026</td>\n",
       "      <td>92207874</td>\n",
       "    </tr>\n",
       "    <tr>\n",
       "      <th>73</th>\n",
       "      <td>Xcel Energy, Inc.</td>\n",
       "      <td>LGJNMI9GH8XIDG5RCM61</td>\n",
       "      <td>US98389B1008</td>\n",
       "      <td>US98389B1008</td>\n",
       "      <td>163106028</td>\n",
       "    </tr>\n",
       "    <tr>\n",
       "      <th>74</th>\n",
       "      <td>Balfour Beatty</td>\n",
       "      <td>CT4UIJ3TUKGYYHMENQ17</td>\n",
       "      <td>GB0000961622</td>\n",
       "      <td>GB0000961622</td>\n",
       "      <td>178385184</td>\n",
       "    </tr>\n",
       "    <tr>\n",
       "      <th>75</th>\n",
       "      <td>CBRE</td>\n",
       "      <td>52990016II9MJ2OSWA10</td>\n",
       "      <td>US12504L1098</td>\n",
       "      <td>US12504L1098</td>\n",
       "      <td>239430800</td>\n",
       "    </tr>\n",
       "  </tbody>\n",
       "</table>\n",
       "</div>"
      ],
      "text/plain": [
       "                  company_name           company_lei    company_id  \\\n",
       "71            WEC Energy Group  549300IGLYTZUK3PVP70  US92939U1060   \n",
       "72  WORTHINGTON INDUSTRIES INC  1WRCIANKYOIK6KYE5E82  US9818111026   \n",
       "73           Xcel Energy, Inc.  LGJNMI9GH8XIDG5RCM61  US98389B1008   \n",
       "74              Balfour Beatty  CT4UIJ3TUKGYYHMENQ17  GB0000961622   \n",
       "75                        CBRE  52990016II9MJ2OSWA10  US12504L1098   \n",
       "\n",
       "    company_isin  investment_value  \n",
       "71  US92939U1060         124145028  \n",
       "72  US9818111026          92207874  \n",
       "73  US98389B1008         163106028  \n",
       "74  GB0000961622         178385184  \n",
       "75  US12504L1098         239430800  "
      ]
     },
     "metadata": {},
     "output_type": "display_data"
    }
   ],
   "source": [
    "df_portfolio = pd.read_excel(template_data_path, sheet_name=\"Portfolio\")\n",
    "display(df_portfolio.tail())"
   ]
  },
  {
   "cell_type": "markdown",
   "metadata": {},
   "source": [
    "To load the data from the data provider, we have to pass a list of IPortfolioCompany instances. The module has a strict [data model](https://ofbdabv.github.io/ITR/autoapi/ITR/interfaces/index.html) to convert Pandas Dataframe to the right object types we supplied a utility function.\n"
   ]
  },
  {
   "cell_type": "code",
   "execution_count": 13,
   "metadata": {},
   "outputs": [],
   "source": [
    "companies = ITR.utils.dataframe_to_portfolio(df_portfolio)"
   ]
  },
  {
   "cell_type": "markdown",
   "metadata": {},
   "source": [
    "## Calculate the temperature scores\n",
    "In the enhanced portfolio you'll find your original portfolio, with calculated temperature scores, trajectory and target scores and overshoot/undershoot ration, and a temperature_result which is current set to zero for all valid calculations."
   ]
  },
  {
   "cell_type": "code",
   "execution_count": 14,
   "metadata": {},
   "outputs": [],
   "source": [
    "temperature_score = TemperatureScore(\n",
    "    time_frames = [ETimeFrames.LONG],\n",
    "    scopes=[EScope.S1S2],\n",
    "    aggregation_method=PortfolioAggregationMethod.WATS # Options for the aggregation method are WATS, TETS, AOTS, MOTS, EOTS, ECOTS, and ROTS.\n",
    ")\n",
    "enhanced_portfolio = temperature_score.calculate(data_warehouse=template_provider, portfolio=companies)"
   ]
  },
  {
   "cell_type": "markdown",
   "metadata": {},
   "source": [
    "For every company the tool assigns a score for all the requested timeframe and scope combinations. For now the ITR methodolgy only supportt a long timeframe in combination with a S1S2 scope"
   ]
  },
  {
   "cell_type": "code",
   "execution_count": 15,
   "metadata": {},
   "outputs": [
    {
     "data": {
      "text/html": [
       "<div>\n",
       "<style scoped>\n",
       "    .dataframe tbody tr th:only-of-type {\n",
       "        vertical-align: middle;\n",
       "    }\n",
       "\n",
       "    .dataframe tbody tr th {\n",
       "        vertical-align: top;\n",
       "    }\n",
       "\n",
       "    .dataframe thead th {\n",
       "        text-align: right;\n",
       "    }\n",
       "</style>\n",
       "<table border=\"1\" class=\"dataframe\">\n",
       "  <thead>\n",
       "    <tr style=\"text-align: right;\">\n",
       "      <th></th>\n",
       "      <th>company_name</th>\n",
       "      <th>time_frame</th>\n",
       "      <th>scope</th>\n",
       "      <th>temperature_score</th>\n",
       "    </tr>\n",
       "  </thead>\n",
       "  <tbody>\n",
       "    <tr>\n",
       "      <th>0</th>\n",
       "      <td>AES Corp.</td>\n",
       "      <td>LONG</td>\n",
       "      <td>S1S2</td>\n",
       "      <td>2.79</td>\n",
       "    </tr>\n",
       "    <tr>\n",
       "      <th>1</th>\n",
       "      <td>ALLETE, Inc.</td>\n",
       "      <td>LONG</td>\n",
       "      <td>S1S2</td>\n",
       "      <td>2.51</td>\n",
       "    </tr>\n",
       "    <tr>\n",
       "      <th>2</th>\n",
       "      <td>Alliant Energy</td>\n",
       "      <td>LONG</td>\n",
       "      <td>S1S2</td>\n",
       "      <td>2.12</td>\n",
       "    </tr>\n",
       "    <tr>\n",
       "      <th>3</th>\n",
       "      <td>Ameren Corp.</td>\n",
       "      <td>LONG</td>\n",
       "      <td>S1S2</td>\n",
       "      <td>3.53</td>\n",
       "    </tr>\n",
       "    <tr>\n",
       "      <th>4</th>\n",
       "      <td>American Electric Power Co., Inc.</td>\n",
       "      <td>LONG</td>\n",
       "      <td>S1S2</td>\n",
       "      <td>2.97</td>\n",
       "    </tr>\n",
       "    <tr>\n",
       "      <th>...</th>\n",
       "      <td>...</td>\n",
       "      <td>...</td>\n",
       "      <td>...</td>\n",
       "      <td>...</td>\n",
       "    </tr>\n",
       "    <tr>\n",
       "      <th>71</th>\n",
       "      <td>WEC Energy Group</td>\n",
       "      <td>LONG</td>\n",
       "      <td>S1S2</td>\n",
       "      <td>2.73</td>\n",
       "    </tr>\n",
       "    <tr>\n",
       "      <th>72</th>\n",
       "      <td>WORTHINGTON INDUSTRIES INC</td>\n",
       "      <td>LONG</td>\n",
       "      <td>S1S2</td>\n",
       "      <td>1.21</td>\n",
       "    </tr>\n",
       "    <tr>\n",
       "      <th>73</th>\n",
       "      <td>Xcel Energy, Inc.</td>\n",
       "      <td>LONG</td>\n",
       "      <td>S1S2</td>\n",
       "      <td>2.08</td>\n",
       "    </tr>\n",
       "    <tr>\n",
       "      <th>74</th>\n",
       "      <td>Balfour Beatty</td>\n",
       "      <td>LONG</td>\n",
       "      <td>S1S2</td>\n",
       "      <td>1.44</td>\n",
       "    </tr>\n",
       "    <tr>\n",
       "      <th>75</th>\n",
       "      <td>CBRE</td>\n",
       "      <td>LONG</td>\n",
       "      <td>S1S2</td>\n",
       "      <td>3.98</td>\n",
       "    </tr>\n",
       "  </tbody>\n",
       "</table>\n",
       "<p>76 rows × 4 columns</p>\n",
       "</div>"
      ],
      "text/plain": [
       "                         company_name time_frame scope temperature_score\n",
       "0                           AES Corp.       LONG  S1S2              2.79\n",
       "1                        ALLETE, Inc.       LONG  S1S2              2.51\n",
       "2                      Alliant Energy       LONG  S1S2              2.12\n",
       "3                        Ameren Corp.       LONG  S1S2              3.53\n",
       "4   American Electric Power Co., Inc.       LONG  S1S2              2.97\n",
       "..                                ...        ...   ...               ...\n",
       "71                   WEC Energy Group       LONG  S1S2              2.73\n",
       "72         WORTHINGTON INDUSTRIES INC       LONG  S1S2              1.21\n",
       "73                  Xcel Energy, Inc.       LONG  S1S2              2.08\n",
       "74                     Balfour Beatty       LONG  S1S2              1.44\n",
       "75                               CBRE       LONG  S1S2              3.98\n",
       "\n",
       "[76 rows x 4 columns]"
      ]
     },
     "metadata": {},
     "output_type": "display_data"
    }
   ],
   "source": [
    "with warnings.catch_warnings():\n",
    "    warnings.simplefilter(\"ignore\")\n",
    "    display(enhanced_portfolio[['company_name', 'time_frame', 'scope', 'temperature_score']])"
   ]
  },
  {
   "cell_type": "code",
   "execution_count": 16,
   "metadata": {},
   "outputs": [
    {
     "name": "stderr",
     "output_type": "stream",
     "text": [
      "/Users/michael/opt/miniconda3/envs/itr_env/lib/python3.9/site-packages/pint_pandas/pint_array.py:648: UnitStrippedWarning: The unit of the quantity is stripped when downcasting to ndarray.\n",
      "  return np.array(qtys, dtype=\"object\", copy=copy)\n",
      "/Users/michael/opt/miniconda3/envs/itr_env/lib/python3.9/site-packages/pint_pandas/pint_array.py:648: UnitStrippedWarning: The unit of the quantity is stripped when downcasting to ndarray.\n",
      "  return np.array(qtys, dtype=\"object\", copy=copy)\n"
     ]
    },
    {
     "data": {
      "text/html": [
       "<div>\n",
       "<style scoped>\n",
       "    .dataframe tbody tr th:only-of-type {\n",
       "        vertical-align: middle;\n",
       "    }\n",
       "\n",
       "    .dataframe tbody tr th {\n",
       "        vertical-align: top;\n",
       "    }\n",
       "\n",
       "    .dataframe thead th {\n",
       "        text-align: right;\n",
       "    }\n",
       "</style>\n",
       "<table border=\"1\" class=\"dataframe\">\n",
       "  <thead>\n",
       "    <tr style=\"text-align: right;\">\n",
       "      <th></th>\n",
       "      <th>company_name</th>\n",
       "      <th>company_id</th>\n",
       "      <th>region</th>\n",
       "      <th>sector</th>\n",
       "      <th>target_probability</th>\n",
       "      <th>target_data</th>\n",
       "      <th>historic_data</th>\n",
       "      <th>country</th>\n",
       "      <th>emissions_metric</th>\n",
       "      <th>production_metric</th>\n",
       "      <th>...</th>\n",
       "      <th>company_isin</th>\n",
       "      <th>investment_value</th>\n",
       "      <th>scope</th>\n",
       "      <th>time_frame</th>\n",
       "      <th>temperature_score</th>\n",
       "      <th>trajectory_score</th>\n",
       "      <th>trajectory_overshoot_ratio</th>\n",
       "      <th>target_score</th>\n",
       "      <th>target_overshoot_ratio</th>\n",
       "      <th>score_result_type</th>\n",
       "    </tr>\n",
       "  </thead>\n",
       "  <tbody>\n",
       "    <tr>\n",
       "      <th>3</th>\n",
       "      <td>Ameren Corp.</td>\n",
       "      <td>US0236081024</td>\n",
       "      <td>North America</td>\n",
       "      <td>Electricity Utilities</td>\n",
       "      <td>0.5</td>\n",
       "      <td>[{'netzero_year': 2050, 'target_type': 'absolu...</td>\n",
       "      <td>{'productions': [{'year': 2016, 'value': 38.50...</td>\n",
       "      <td>US</td>\n",
       "      <td>{'units': 'Mt CO2'}</td>\n",
       "      <td>{'units': 'TWh'}</td>\n",
       "      <td>...</td>\n",
       "      <td>US0236081024</td>\n",
       "      <td>146111295.0</td>\n",
       "      <td>S1S2</td>\n",
       "      <td>LONG</td>\n",
       "      <td>3.53</td>\n",
       "      <td>4.980644132775656</td>\n",
       "      <td>12.125276489775484 dimensionless</td>\n",
       "      <td>2.076778100723289</td>\n",
       "      <td>2.843571361797634 dimensionless</td>\n",
       "      <td>EScoreResultType.COMPLETE</td>\n",
       "    </tr>\n",
       "    <tr>\n",
       "      <th>13</th>\n",
       "      <td>CMS Energy Corp.</td>\n",
       "      <td>US1258961002</td>\n",
       "      <td>North America</td>\n",
       "      <td>Electricity Utilities</td>\n",
       "      <td>0.5</td>\n",
       "      <td>[{'netzero_year': 2050, 'target_type': 'absolu...</td>\n",
       "      <td>{'productions': [{'year': 2016, 'value': 16.69...</td>\n",
       "      <td>US</td>\n",
       "      <td>{'units': 'Mt CO2'}</td>\n",
       "      <td>{'units': 'TWh'}</td>\n",
       "      <td>...</td>\n",
       "      <td>US1258961002</td>\n",
       "      <td>94716144.0</td>\n",
       "      <td>S1S2</td>\n",
       "      <td>LONG</td>\n",
       "      <td>3.17</td>\n",
       "      <td>4.948700352277477</td>\n",
       "      <td>12.023173724708393 dimensionless</td>\n",
       "      <td>1.383190991577245</td>\n",
       "      <td>0.6266402235831715 dimensionless</td>\n",
       "      <td>EScoreResultType.COMPLETE</td>\n",
       "    </tr>\n",
       "    <tr>\n",
       "      <th>15</th>\n",
       "      <td>Cleco Partners LP</td>\n",
       "      <td>US18551QAA58</td>\n",
       "      <td>North America</td>\n",
       "      <td>Electricity Utilities</td>\n",
       "      <td>0.5</td>\n",
       "      <td>[{'netzero_year': 2050, 'target_type': 'absolu...</td>\n",
       "      <td>{'productions': [{'year': 2016, 'value': 13.52...</td>\n",
       "      <td>US</td>\n",
       "      <td>{'units': 'Mt CO2'}</td>\n",
       "      <td>{'units': 'TWh'}</td>\n",
       "      <td>...</td>\n",
       "      <td>US18551QAA58</td>\n",
       "      <td>243013288.0</td>\n",
       "      <td>S1S2</td>\n",
       "      <td>LONG</td>\n",
       "      <td>3.37</td>\n",
       "      <td>4.745932694577137</td>\n",
       "      <td>11.375062004852246 dimensionless</td>\n",
       "      <td>2.0030324738595287</td>\n",
       "      <td>2.6078562304960946 dimensionless</td>\n",
       "      <td>EScoreResultType.COMPLETE</td>\n",
       "    </tr>\n",
       "    <tr>\n",
       "      <th>17</th>\n",
       "      <td>DTE Energy</td>\n",
       "      <td>US2333311072</td>\n",
       "      <td>North America</td>\n",
       "      <td>Electricity Utilities</td>\n",
       "      <td>0.5</td>\n",
       "      <td>[{'netzero_year': 2050, 'target_type': 'absolu...</td>\n",
       "      <td>{'productions': [{'year': 2016, 'value': 38.33...</td>\n",
       "      <td>US</td>\n",
       "      <td>{'units': 'Mt CO2'}</td>\n",
       "      <td>{'units': 'TWh'}</td>\n",
       "      <td>...</td>\n",
       "      <td>US2333311072</td>\n",
       "      <td>158656944.0</td>\n",
       "      <td>S1S2</td>\n",
       "      <td>LONG</td>\n",
       "      <td>4.62</td>\n",
       "      <td>7.2916056579060395</td>\n",
       "      <td>19.511864989935116 dimensionless</td>\n",
       "      <td>1.9548867542267212</td>\n",
       "      <td>2.4539667714530498 dimensionless</td>\n",
       "      <td>EScoreResultType.COMPLETE</td>\n",
       "    </tr>\n",
       "    <tr>\n",
       "      <th>20</th>\n",
       "      <td>Electricité de France</td>\n",
       "      <td>FR0010242511</td>\n",
       "      <td>Europe</td>\n",
       "      <td>Electricity Utilities</td>\n",
       "      <td>0.5</td>\n",
       "      <td>[{'netzero_year': 2050, 'target_type': 'absolu...</td>\n",
       "      <td>{'productions': [{'year': 2016, 'value': nan g...</td>\n",
       "      <td>FR</td>\n",
       "      <td>{'units': 'Mt CO2'}</td>\n",
       "      <td>{'units': 'GWh'}</td>\n",
       "      <td>...</td>\n",
       "      <td>FR0010242511</td>\n",
       "      <td>158545194.0</td>\n",
       "      <td>S1S2</td>\n",
       "      <td>LONG</td>\n",
       "      <td>4.06</td>\n",
       "      <td>4.952722181446704</td>\n",
       "      <td>12.036028805490991 dimensionless</td>\n",
       "      <td>3.1655306261299394</td>\n",
       "      <td>6.323580352096504 dimensionless</td>\n",
       "      <td>EScoreResultType.COMPLETE</td>\n",
       "    </tr>\n",
       "    <tr>\n",
       "      <th>33</th>\n",
       "      <td>Hawaiian Electric Industries, Inc.</td>\n",
       "      <td>US4198701009</td>\n",
       "      <td>North America</td>\n",
       "      <td>Electricity Utilities</td>\n",
       "      <td>0.5</td>\n",
       "      <td>[{'netzero_year': 2050, 'target_type': 'intens...</td>\n",
       "      <td>{'productions': [{'year': 2016, 'value': 4.942...</td>\n",
       "      <td>US</td>\n",
       "      <td>{'units': 'Mt CO2'}</td>\n",
       "      <td>{'units': 'TWh'}</td>\n",
       "      <td>...</td>\n",
       "      <td>US4198701009</td>\n",
       "      <td>199381392.0</td>\n",
       "      <td>S1S2</td>\n",
       "      <td>LONG</td>\n",
       "      <td>4.08</td>\n",
       "      <td>5.675990353819276</td>\n",
       "      <td>14.347830324677808 dimensionless</td>\n",
       "      <td>2.4748692850361182</td>\n",
       "      <td>4.1160009250263725 dimensionless</td>\n",
       "      <td>EScoreResultType.COMPLETE</td>\n",
       "    </tr>\n",
       "    <tr>\n",
       "      <th>36</th>\n",
       "      <td>MDU Resources Group</td>\n",
       "      <td>US5526901096</td>\n",
       "      <td>North America</td>\n",
       "      <td>Electricity Utilities</td>\n",
       "      <td>0.5</td>\n",
       "      <td>[{'netzero_year': 2050, 'target_type': 'intens...</td>\n",
       "      <td>{'productions': [{'year': 2016, 'value': 2.187...</td>\n",
       "      <td>US</td>\n",
       "      <td>{'units': 'Mt CO2'}</td>\n",
       "      <td>{'units': 'TWh'}</td>\n",
       "      <td>...</td>\n",
       "      <td>US5526901096</td>\n",
       "      <td>141312738.0</td>\n",
       "      <td>S1S2</td>\n",
       "      <td>LONG</td>\n",
       "      <td>3.9</td>\n",
       "      <td>5.367754118686206</td>\n",
       "      <td>13.362606553097287 dimensionless</td>\n",
       "      <td>2.439572044121261</td>\n",
       "      <td>4.0031794042032 dimensionless</td>\n",
       "      <td>EScoreResultType.COMPLETE</td>\n",
       "    </tr>\n",
       "    <tr>\n",
       "      <th>37</th>\n",
       "      <td>National Grid PLC</td>\n",
       "      <td>US6362744095</td>\n",
       "      <td>Europe</td>\n",
       "      <td>Electricity Utilities</td>\n",
       "      <td>0.5</td>\n",
       "      <td>[{'netzero_year': 2050, 'target_type': 'absolu...</td>\n",
       "      <td>{'productions': [{'year': 2016, 'value': 9.668...</td>\n",
       "      <td>GB</td>\n",
       "      <td>{'units': 'Mt CO2'}</td>\n",
       "      <td>{'units': 'TWh'}</td>\n",
       "      <td>...</td>\n",
       "      <td>US6362744095</td>\n",
       "      <td>98718116.0</td>\n",
       "      <td>S1S2</td>\n",
       "      <td>LONG</td>\n",
       "      <td>3.11</td>\n",
       "      <td>3.983923262728285</td>\n",
       "      <td>8.939430755651617 dimensionless</td>\n",
       "      <td>2.2454712047191796</td>\n",
       "      <td>3.382769668858145 dimensionless</td>\n",
       "      <td>EScoreResultType.COMPLETE</td>\n",
       "    </tr>\n",
       "    <tr>\n",
       "      <th>40</th>\n",
       "      <td>Nisource Inc.</td>\n",
       "      <td>US65473P1057</td>\n",
       "      <td>North America</td>\n",
       "      <td>Electricity Utilities</td>\n",
       "      <td>0.5</td>\n",
       "      <td>[{'netzero_year': 2050, 'target_type': 'absolu...</td>\n",
       "      <td>{'productions': [{'year': 2016, 'value': 11.78...</td>\n",
       "      <td>US</td>\n",
       "      <td>{'units': 'Mt CO2'}</td>\n",
       "      <td>{'units': 'TWh'}</td>\n",
       "      <td>...</td>\n",
       "      <td>US65473P1057</td>\n",
       "      <td>239175417.0</td>\n",
       "      <td>S1S2</td>\n",
       "      <td>LONG</td>\n",
       "      <td>3.43</td>\n",
       "      <td>5.320902857833406</td>\n",
       "      <td>13.212854607480732 dimensionless</td>\n",
       "      <td>1.5396373623610988</td>\n",
       "      <td>1.1266939677745758 dimensionless</td>\n",
       "      <td>EScoreResultType.COMPLETE</td>\n",
       "    </tr>\n",
       "    <tr>\n",
       "      <th>43</th>\n",
       "      <td>OG&amp;E Energy Corp.</td>\n",
       "      <td>US6708371033</td>\n",
       "      <td>North America</td>\n",
       "      <td>Electricity Utilities</td>\n",
       "      <td>0.5</td>\n",
       "      <td>[{'netzero_year': 2050, 'target_type': 'absolu...</td>\n",
       "      <td>{'productions': [{'year': 2016, 'value': 50505...</td>\n",
       "      <td>US</td>\n",
       "      <td>{'units': 't CO2'}</td>\n",
       "      <td>{'units': 'MWh'}</td>\n",
       "      <td>...</td>\n",
       "      <td>US6708371033</td>\n",
       "      <td>179066862.0</td>\n",
       "      <td>S1S2</td>\n",
       "      <td>LONG</td>\n",
       "      <td>3.16</td>\n",
       "      <td>4.651657389072913</td>\n",
       "      <td>11.073727309352611 dimensionless</td>\n",
       "      <td>1.6633040651366142</td>\n",
       "      <td>1.5219731771602634 dimensionless</td>\n",
       "      <td>EScoreResultType.COMPLETE</td>\n",
       "    </tr>\n",
       "    <tr>\n",
       "      <th>49</th>\n",
       "      <td>PPL Corp.</td>\n",
       "      <td>US69351T1060</td>\n",
       "      <td>North America</td>\n",
       "      <td>Electricity Utilities</td>\n",
       "      <td>0.5</td>\n",
       "      <td>[{'netzero_year': 2050, 'target_type': 'absolu...</td>\n",
       "      <td>{'productions': [{'year': 2016, 'value': 34.61...</td>\n",
       "      <td>US</td>\n",
       "      <td>{'units': 'Mt CO2'}</td>\n",
       "      <td>{'units': 'TWh'}</td>\n",
       "      <td>...</td>\n",
       "      <td>US69351T1060</td>\n",
       "      <td>59770452.0</td>\n",
       "      <td>S1S2</td>\n",
       "      <td>LONG</td>\n",
       "      <td>3.93</td>\n",
       "      <td>5.465695969686426</td>\n",
       "      <td>13.67566072661571 dimensionless</td>\n",
       "      <td>2.397887069222284</td>\n",
       "      <td>3.8699405973819325 dimensionless</td>\n",
       "      <td>EScoreResultType.COMPLETE</td>\n",
       "    </tr>\n",
       "    <tr>\n",
       "      <th>75</th>\n",
       "      <td>CBRE</td>\n",
       "      <td>US12504L1098</td>\n",
       "      <td>North America</td>\n",
       "      <td>Commercial Buildings</td>\n",
       "      <td>0.5</td>\n",
       "      <td>[{'netzero_year': 2050, 'target_type': 'absolu...</td>\n",
       "      <td>{'productions': [{'year': 2016, 'value': 53000...</td>\n",
       "      <td>US</td>\n",
       "      <td>{'units': 't CO2'}</td>\n",
       "      <td>{'units': 'ft**2'}</td>\n",
       "      <td>...</td>\n",
       "      <td>US12504L1098</td>\n",
       "      <td>239430800.0</td>\n",
       "      <td>S1S2</td>\n",
       "      <td>LONG</td>\n",
       "      <td>3.98</td>\n",
       "      <td>6.046841511782546</td>\n",
       "      <td>15.53319185878116 dimensionless</td>\n",
       "      <td>1.90864663611777</td>\n",
       "      <td>2.3061682378317117 dimensionless</td>\n",
       "      <td>EScoreResultType.COMPLETE</td>\n",
       "    </tr>\n",
       "  </tbody>\n",
       "</table>\n",
       "<p>12 rows × 40 columns</p>\n",
       "</div>"
      ],
      "text/plain": [
       "                          company_name    company_id         region  \\\n",
       "3                         Ameren Corp.  US0236081024  North America   \n",
       "13                    CMS Energy Corp.  US1258961002  North America   \n",
       "15                   Cleco Partners LP  US18551QAA58  North America   \n",
       "17                          DTE Energy  US2333311072  North America   \n",
       "20               Electricité de France  FR0010242511         Europe   \n",
       "33  Hawaiian Electric Industries, Inc.  US4198701009  North America   \n",
       "36                 MDU Resources Group  US5526901096  North America   \n",
       "37                   National Grid PLC  US6362744095         Europe   \n",
       "40                       Nisource Inc.  US65473P1057  North America   \n",
       "43                   OG&E Energy Corp.  US6708371033  North America   \n",
       "49                           PPL Corp.  US69351T1060  North America   \n",
       "75                                CBRE  US12504L1098  North America   \n",
       "\n",
       "                   sector  target_probability  \\\n",
       "3   Electricity Utilities                 0.5   \n",
       "13  Electricity Utilities                 0.5   \n",
       "15  Electricity Utilities                 0.5   \n",
       "17  Electricity Utilities                 0.5   \n",
       "20  Electricity Utilities                 0.5   \n",
       "33  Electricity Utilities                 0.5   \n",
       "36  Electricity Utilities                 0.5   \n",
       "37  Electricity Utilities                 0.5   \n",
       "40  Electricity Utilities                 0.5   \n",
       "43  Electricity Utilities                 0.5   \n",
       "49  Electricity Utilities                 0.5   \n",
       "75   Commercial Buildings                 0.5   \n",
       "\n",
       "                                          target_data  \\\n",
       "3   [{'netzero_year': 2050, 'target_type': 'absolu...   \n",
       "13  [{'netzero_year': 2050, 'target_type': 'absolu...   \n",
       "15  [{'netzero_year': 2050, 'target_type': 'absolu...   \n",
       "17  [{'netzero_year': 2050, 'target_type': 'absolu...   \n",
       "20  [{'netzero_year': 2050, 'target_type': 'absolu...   \n",
       "33  [{'netzero_year': 2050, 'target_type': 'intens...   \n",
       "36  [{'netzero_year': 2050, 'target_type': 'intens...   \n",
       "37  [{'netzero_year': 2050, 'target_type': 'absolu...   \n",
       "40  [{'netzero_year': 2050, 'target_type': 'absolu...   \n",
       "43  [{'netzero_year': 2050, 'target_type': 'absolu...   \n",
       "49  [{'netzero_year': 2050, 'target_type': 'absolu...   \n",
       "75  [{'netzero_year': 2050, 'target_type': 'absolu...   \n",
       "\n",
       "                                        historic_data country  \\\n",
       "3   {'productions': [{'year': 2016, 'value': 38.50...      US   \n",
       "13  {'productions': [{'year': 2016, 'value': 16.69...      US   \n",
       "15  {'productions': [{'year': 2016, 'value': 13.52...      US   \n",
       "17  {'productions': [{'year': 2016, 'value': 38.33...      US   \n",
       "20  {'productions': [{'year': 2016, 'value': nan g...      FR   \n",
       "33  {'productions': [{'year': 2016, 'value': 4.942...      US   \n",
       "36  {'productions': [{'year': 2016, 'value': 2.187...      US   \n",
       "37  {'productions': [{'year': 2016, 'value': 9.668...      GB   \n",
       "40  {'productions': [{'year': 2016, 'value': 11.78...      US   \n",
       "43  {'productions': [{'year': 2016, 'value': 50505...      US   \n",
       "49  {'productions': [{'year': 2016, 'value': 34.61...      US   \n",
       "75  {'productions': [{'year': 2016, 'value': 53000...      US   \n",
       "\n",
       "       emissions_metric   production_metric  ...  company_isin  \\\n",
       "3   {'units': 'Mt CO2'}    {'units': 'TWh'}  ...  US0236081024   \n",
       "13  {'units': 'Mt CO2'}    {'units': 'TWh'}  ...  US1258961002   \n",
       "15  {'units': 'Mt CO2'}    {'units': 'TWh'}  ...  US18551QAA58   \n",
       "17  {'units': 'Mt CO2'}    {'units': 'TWh'}  ...  US2333311072   \n",
       "20  {'units': 'Mt CO2'}    {'units': 'GWh'}  ...  FR0010242511   \n",
       "33  {'units': 'Mt CO2'}    {'units': 'TWh'}  ...  US4198701009   \n",
       "36  {'units': 'Mt CO2'}    {'units': 'TWh'}  ...  US5526901096   \n",
       "37  {'units': 'Mt CO2'}    {'units': 'TWh'}  ...  US6362744095   \n",
       "40  {'units': 'Mt CO2'}    {'units': 'TWh'}  ...  US65473P1057   \n",
       "43   {'units': 't CO2'}    {'units': 'MWh'}  ...  US6708371033   \n",
       "49  {'units': 'Mt CO2'}    {'units': 'TWh'}  ...  US69351T1060   \n",
       "75   {'units': 't CO2'}  {'units': 'ft**2'}  ...  US12504L1098   \n",
       "\n",
       "   investment_value scope time_frame temperature_score    trajectory_score  \\\n",
       "3       146111295.0  S1S2       LONG              3.53   4.980644132775656   \n",
       "13       94716144.0  S1S2       LONG              3.17   4.948700352277477   \n",
       "15      243013288.0  S1S2       LONG              3.37   4.745932694577137   \n",
       "17      158656944.0  S1S2       LONG              4.62  7.2916056579060395   \n",
       "20      158545194.0  S1S2       LONG              4.06   4.952722181446704   \n",
       "33      199381392.0  S1S2       LONG              4.08   5.675990353819276   \n",
       "36      141312738.0  S1S2       LONG               3.9   5.367754118686206   \n",
       "37       98718116.0  S1S2       LONG              3.11   3.983923262728285   \n",
       "40      239175417.0  S1S2       LONG              3.43   5.320902857833406   \n",
       "43      179066862.0  S1S2       LONG              3.16   4.651657389072913   \n",
       "49       59770452.0  S1S2       LONG              3.93   5.465695969686426   \n",
       "75      239430800.0  S1S2       LONG              3.98   6.046841511782546   \n",
       "\n",
       "          trajectory_overshoot_ratio        target_score  \\\n",
       "3   12.125276489775484 dimensionless   2.076778100723289   \n",
       "13  12.023173724708393 dimensionless   1.383190991577245   \n",
       "15  11.375062004852246 dimensionless  2.0030324738595287   \n",
       "17  19.511864989935116 dimensionless  1.9548867542267212   \n",
       "20  12.036028805490991 dimensionless  3.1655306261299394   \n",
       "33  14.347830324677808 dimensionless  2.4748692850361182   \n",
       "36  13.362606553097287 dimensionless   2.439572044121261   \n",
       "37   8.939430755651617 dimensionless  2.2454712047191796   \n",
       "40  13.212854607480732 dimensionless  1.5396373623610988   \n",
       "43  11.073727309352611 dimensionless  1.6633040651366142   \n",
       "49   13.67566072661571 dimensionless   2.397887069222284   \n",
       "75   15.53319185878116 dimensionless    1.90864663611777   \n",
       "\n",
       "              target_overshoot_ratio          score_result_type  \n",
       "3    2.843571361797634 dimensionless  EScoreResultType.COMPLETE  \n",
       "13  0.6266402235831715 dimensionless  EScoreResultType.COMPLETE  \n",
       "15  2.6078562304960946 dimensionless  EScoreResultType.COMPLETE  \n",
       "17  2.4539667714530498 dimensionless  EScoreResultType.COMPLETE  \n",
       "20   6.323580352096504 dimensionless  EScoreResultType.COMPLETE  \n",
       "33  4.1160009250263725 dimensionless  EScoreResultType.COMPLETE  \n",
       "36     4.0031794042032 dimensionless  EScoreResultType.COMPLETE  \n",
       "37   3.382769668858145 dimensionless  EScoreResultType.COMPLETE  \n",
       "40  1.1266939677745758 dimensionless  EScoreResultType.COMPLETE  \n",
       "43  1.5219731771602634 dimensionless  EScoreResultType.COMPLETE  \n",
       "49  3.8699405973819325 dimensionless  EScoreResultType.COMPLETE  \n",
       "75  2.3061682378317117 dimensionless  EScoreResultType.COMPLETE  \n",
       "\n",
       "[12 rows x 40 columns]"
      ]
     },
     "execution_count": 16,
     "metadata": {},
     "output_type": "execute_result"
    }
   ],
   "source": [
    "data = enhanced_portfolio[(enhanced_portfolio.scope==EScope.S1S2)&(enhanced_portfolio.temperature_score>Q_(3, 'delta_degC'))]\n",
    "data"
   ]
  },
  {
   "cell_type": "markdown",
   "metadata": {
    "tags": []
   },
   "source": [
    "## Calculate the aggregated temperature score\n",
    "Calculate an aggregated temperature score. This can be done using different aggregation methods. Here we'll use the \"Weighted Average Temperature Score\" (WATS) by initializing the TemperatureScore Object with PortfolioAggregationMethod.WATS. The temperature scores are calculated per time-frame/scope combination.\n"
   ]
  },
  {
   "cell_type": "code",
   "execution_count": 17,
   "metadata": {},
   "outputs": [
    {
     "name": "stdout",
     "output_type": "stream",
     "text": [
      "Temperature Score aggregation method = PortfolioAggregationMethod.WATS\n"
     ]
    },
    {
     "name": "stderr",
     "output_type": "stream",
     "text": [
      "/Users/michael/opt/miniconda3/envs/itr_env/lib/python3.9/site-packages/pint_pandas/pint_array.py:648: UnitStrippedWarning: The unit of the quantity is stripped when downcasting to ndarray.\n",
      "  return np.array(qtys, dtype=\"object\", copy=copy)\n",
      "/Users/michael/opt/miniconda3/envs/itr_env/lib/python3.9/site-packages/pandas/core/dtypes/cast.py:1983: UnitStrippedWarning: The unit of the quantity is stripped when downcasting to ndarray.\n",
      "  result[:] = values\n"
     ]
    }
   ],
   "source": [
    "aggregated_scores = temperature_score.aggregate_scores(enhanced_portfolio)\n",
    "print(f\"Temperature Score aggregation method = {temperature_score.aggregation_method}\")"
   ]
  },
  {
   "cell_type": "code",
   "execution_count": 18,
   "metadata": {},
   "outputs": [
    {
     "data": {
      "text/html": [
       "2.2446537519014047 delta_degree_Celsius"
      ],
      "text/latex": [
       "$2.2446537519014047\\ \\mathrm{delta\\_degree\\_Celsius}$"
      ],
      "text/plain": [
       "2.2446537519014047 <Unit('delta_degree_Celsius')>"
      ]
     },
     "execution_count": 18,
     "metadata": {},
     "output_type": "execute_result"
    }
   ],
   "source": [
    "aggregated_scores.long.S1S2.all.score"
   ]
  },
  {
   "cell_type": "markdown",
   "metadata": {},
   "source": [
    "## Display aggregation data in various ways"
   ]
  },
  {
   "cell_type": "markdown",
   "metadata": {},
   "source": [
    "\n",
    "The first analysis of your portfolio could be to understand if you have any particular hotspots in your portfolio. We can do that by analysing different groupings of companies.\n",
    "\n",
    "The tool allows you to calculate temperature scores for _groups_ of companies. In this example we group the scores by sector and region, and leave the timeframe and scope unchanged. Any categorical variable in the data provided by you or your data provider (in the `test_company_data.xlsx` imported above) can be used as grouping variable, e.g. sectors, industries, regions, countries, market cap buckets, as well as the additional fields you imported via the portfolio data.\n",
    "\n",
    "You can change the variable by which the data is grouped by replacing the fourth line in the following cell. For example, replacing \"grouping=['sector', 'region']\" by \"grouping=['sector', 'country']\" would result in temperature scores per sector per country. \n",
    "If you want to change the time frame as well, please refer to the section 'Calculate the company temperature scores' above.\n",
    "\n"
   ]
  },
  {
   "cell_type": "code",
   "execution_count": 19,
   "metadata": {
    "scrolled": true
   },
   "outputs": [
    {
     "name": "stderr",
     "output_type": "stream",
     "text": [
      "/Users/michael/opt/miniconda3/envs/itr_env/lib/python3.9/site-packages/pint_pandas/pint_array.py:648: UnitStrippedWarning: The unit of the quantity is stripped when downcasting to ndarray.\n",
      "  return np.array(qtys, dtype=\"object\", copy=copy)\n",
      "/Users/michael/opt/miniconda3/envs/itr_env/lib/python3.9/site-packages/pandas/core/dtypes/cast.py:1983: UnitStrippedWarning: The unit of the quantity is stripped when downcasting to ndarray.\n",
      "  result[:] = values\n"
     ]
    }
   ],
   "source": [
    "grouping = ['sector', 'region']\n",
    "temperature_score.grouping = grouping\n",
    "grouped_portfolio = temperature_score.calculate(data_warehouse=template_provider, portfolio=companies)\n",
    "grouped_aggregations = temperature_score.aggregate_scores(grouped_portfolio)"
   ]
  },
  {
   "cell_type": "markdown",
   "metadata": {},
   "source": [
    "\n",
    "The aggregated scores can then be used, for example, to show the relation between sectors and regions with respect to temperature score.\n",
    "A visualization of this relation is shown in the heatmap below. The grey fields indicate that the portfolio contains no assest for those combinations.\n",
    "\n",
    "#### Quick analysis: Heat Map\n",
    "\n",
    "We can see here that our North American Steel is in reasonable shape. While Asian Steel can be improved as shown in the drill down below the graph\n",
    "\n"
   ]
  },
  {
   "cell_type": "code",
   "execution_count": 20,
   "metadata": {},
   "outputs": [
    {
     "data": {
      "image/png": "[encoded data removed]",
      "text/plain": [
       "<Figure size 453.6x230.4 with 2 Axes>"
      ]
     },
     "metadata": {
      "needs_background": "light"
     },
     "output_type": "display_data"
    }
   ],
   "source": [
    "analysis_parameters = ([ETimeFrames.LONG], [EScope.S1S2], grouping)\n",
    "plot_grouped_heatmap(grouped_aggregations, analysis_parameters)"
   ]
  },
  {
   "cell_type": "code",
   "execution_count": 21,
   "metadata": {},
   "outputs": [
    {
     "data": {
      "text/html": [
       "<div>\n",
       "<style scoped>\n",
       "    .dataframe tbody tr th:only-of-type {\n",
       "        vertical-align: middle;\n",
       "    }\n",
       "\n",
       "    .dataframe tbody tr th {\n",
       "        vertical-align: top;\n",
       "    }\n",
       "\n",
       "    .dataframe thead th {\n",
       "        text-align: right;\n",
       "    }\n",
       "</style>\n",
       "<table border=\"1\" class=\"dataframe\">\n",
       "  <thead>\n",
       "    <tr style=\"text-align: right;\">\n",
       "      <th></th>\n",
       "      <th>group</th>\n",
       "      <th>company_name</th>\n",
       "      <th>company_id</th>\n",
       "      <th>temperature_score</th>\n",
       "      <th>contribution_relative</th>\n",
       "    </tr>\n",
       "  </thead>\n",
       "  <tbody>\n",
       "    <tr>\n",
       "      <th>0</th>\n",
       "      <td>Steel-Asia</td>\n",
       "      <td>POSCO</td>\n",
       "      <td>KR7005490008</td>\n",
       "      <td>2.21 delta_degree_Celsius</td>\n",
       "      <td>62.1872926577394 percent</td>\n",
       "    </tr>\n",
       "    <tr>\n",
       "      <th>1</th>\n",
       "      <td>Steel-Asia</td>\n",
       "      <td>NIPPON STEEL CORP</td>\n",
       "      <td>JP3381000003</td>\n",
       "      <td>2.26 delta_degree_Celsius</td>\n",
       "      <td>37.8127073422606 percent</td>\n",
       "    </tr>\n",
       "  </tbody>\n",
       "</table>\n",
       "</div>"
      ],
      "text/plain": [
       "        group       company_name    company_id          temperature_score  \\\n",
       "0  Steel-Asia              POSCO  KR7005490008  2.21 delta_degree_Celsius   \n",
       "1  Steel-Asia  NIPPON STEEL CORP  JP3381000003  2.26 delta_degree_Celsius   \n",
       "\n",
       "      contribution_relative  \n",
       "0  62.1872926577394 percent  \n",
       "1  37.8127073422606 percent  "
      ]
     },
     "execution_count": 21,
     "metadata": {},
     "output_type": "execute_result"
    }
   ],
   "source": [
    "region = 'Asia'\n",
    "sector = 'Steel'\n",
    "group = sector + '-' + region\n",
    "analysis_parameters = ([ETimeFrames.LONG], [EScope.S1S2], grouping)\n",
    "group_contributions = get_contributions_per_group(grouped_aggregations, analysis_parameters, group)\n",
    "group_contributions.round(2)"
   ]
  },
  {
   "cell_type": "markdown",
   "metadata": {},
   "source": [
    "#### Sector analysis\n",
    "\n",
    "Sector analysis may help us with bringing some clarity into our analysis from the heatmap above. In order to identify the companies that your portfolio would most benefit from engaging with, we can start with identifying the biggest contributing sectors to the portfolio's temperature score, as in our example below.\n",
    "\n",
    "Contributions can be identified on an individual company level, as well as contributions from companies grouped by one of their characteristics, e.g. sector or region. The exact definitions of companies' contributions to the portfolio temperature scores depend on the selected aggregation method.\n",
    "\n",
    "You can group companies on any categorical variable (e.g. sectors, countries, market cap buckets, investment strategies, etc)  you provide through your dataprovider, in this example in the test_company_data.xlsx imported above.\n",
    "\n",
    "For our analysis we select one time-frame (LONG) and one scope (S1+S2) and group the outcomes on sector and compare AUM to temperature score contribution. We also then display the sector temperature scores.\n",
    "\n",
    "#### Quick analysis\n",
    "\n",
    "In this example we can see that both sectors Steel and Electricity are scoring above 2.0C. \n"
   ]
  },
  {
   "cell_type": "code",
   "execution_count": 22,
   "metadata": {},
   "outputs": [
    {
     "name": "stderr",
     "output_type": "stream",
     "text": [
      "/Users/michael/opt/miniconda3/envs/itr_env/lib/python3.9/site-packages/pint_pandas/pint_array.py:648: UnitStrippedWarning: The unit of the quantity is stripped when downcasting to ndarray.\n",
      "  return np.array(qtys, dtype=\"object\", copy=copy)\n",
      "/Users/michael/opt/miniconda3/envs/itr_env/lib/python3.9/site-packages/pandas/core/dtypes/cast.py:1983: UnitStrippedWarning: The unit of the quantity is stripped when downcasting to ndarray.\n",
      "  result[:] = values\n",
      "/Users/michael/opt/miniconda3/envs/itr_env/lib/python3.9/site-packages/pint_pandas/pint_array.py:648: UnitStrippedWarning: The unit of the quantity is stripped when downcasting to ndarray.\n",
      "  return np.array(qtys, dtype=\"object\", copy=copy)\n",
      "/Users/michael/opt/miniconda3/envs/itr_env/lib/python3.9/site-packages/pandas/core/dtypes/cast.py:1983: UnitStrippedWarning: The unit of the quantity is stripped when downcasting to ndarray.\n",
      "  result[:] = values\n"
     ]
    }
   ],
   "source": [
    "time_frames = [ETimeFrames.LONG]\n",
    "scopes = [EScope.S1S2, EScope.S3]\n",
    "grouping = ['sector']\n",
    "analysis_parameters = (time_frames, scopes, grouping)\n",
    "\n",
    "temperature_score = TemperatureScore(time_frames=time_frames,\n",
    "                                     scopes=scopes,\n",
    "                                     grouping=grouping, aggregation_method=PortfolioAggregationMethod.WATS)\n",
    "enhanced_portfolio = temperature_score.calculate(data_warehouse=template_provider, portfolio=companies)\n",
    "aggregated_portfolio = temperature_score.aggregate_scores(enhanced_portfolio)\n",
    "with warnings.catch_warnings():\n",
    "    warnings.simplefilter(\"ignore\")\n",
    "    company_contributions = collect_company_contributions(aggregated_portfolio, enhanced_portfolio, analysis_parameters)"
   ]
  },
  {
   "cell_type": "code",
   "execution_count": 23,
   "metadata": {},
   "outputs": [
    {
     "data": {
      "image/png": "[encoded data removed]",
      "text/plain": [
       "<Figure size 720x540 with 3 Axes>"
      ]
     },
     "metadata": {
      "needs_background": "light"
     },
     "output_type": "display_data"
    }
   ],
   "source": [
    "plot_grouped_statistics(aggregated_portfolio, company_contributions, analysis_parameters)"
   ]
  },
  {
   "cell_type": "markdown",
   "metadata": {},
   "source": [
    "We can use what we learned from this analysis to drill into a few of the highest contributing scoring sectors to see which\n",
    "companies are the biggest contributors on the sector level. Considering the Steel sector, for instance, in the\n",
    "table below.\n"
   ]
  },
  {
   "cell_type": "code",
   "execution_count": 24,
   "metadata": {},
   "outputs": [
    {
     "data": {
      "text/html": [
       "<div>\n",
       "<style scoped>\n",
       "    .dataframe tbody tr th:only-of-type {\n",
       "        vertical-align: middle;\n",
       "    }\n",
       "\n",
       "    .dataframe tbody tr th {\n",
       "        vertical-align: top;\n",
       "    }\n",
       "\n",
       "    .dataframe thead th {\n",
       "        text-align: right;\n",
       "    }\n",
       "</style>\n",
       "<table border=\"1\" class=\"dataframe\">\n",
       "  <thead>\n",
       "    <tr style=\"text-align: right;\">\n",
       "      <th></th>\n",
       "      <th>company_name</th>\n",
       "      <th>company_id</th>\n",
       "      <th>sector</th>\n",
       "      <th>contribution</th>\n",
       "      <th>temperature_score</th>\n",
       "      <th>ownership_percentage</th>\n",
       "      <th>portfolio_percentage</th>\n",
       "    </tr>\n",
       "  </thead>\n",
       "  <tbody>\n",
       "    <tr>\n",
       "      <th>44</th>\n",
       "      <td>NUCOR CORP</td>\n",
       "      <td>US6703461052</td>\n",
       "      <td>Steel</td>\n",
       "      <td>1.4331489641951352 percent</td>\n",
       "      <td>1.42 delta_degree_Celsius</td>\n",
       "      <td>1.37</td>\n",
       "      <td>0.57</td>\n",
       "    </tr>\n",
       "    <tr>\n",
       "      <th>196</th>\n",
       "      <td>NUCOR CORP</td>\n",
       "      <td>US6703461052</td>\n",
       "      <td>Steel</td>\n",
       "      <td>1.4331489641951352 percent</td>\n",
       "      <td>1.42 delta_degree_Celsius</td>\n",
       "      <td>1.37</td>\n",
       "      <td>0.57</td>\n",
       "    </tr>\n",
       "    <tr>\n",
       "      <th>45</th>\n",
       "      <td>NUCOR CORP</td>\n",
       "      <td>US6703461052</td>\n",
       "      <td>Steel</td>\n",
       "      <td>1.4331489641951352 percent</td>\n",
       "      <td>1.42 delta_degree_Celsius</td>\n",
       "      <td>1.37</td>\n",
       "      <td>0.57</td>\n",
       "    </tr>\n",
       "    <tr>\n",
       "      <th>197</th>\n",
       "      <td>NUCOR CORP</td>\n",
       "      <td>US6703461052</td>\n",
       "      <td>Steel</td>\n",
       "      <td>1.4331489641951352 percent</td>\n",
       "      <td>1.42 delta_degree_Celsius</td>\n",
       "      <td>1.37</td>\n",
       "      <td>0.57</td>\n",
       "    </tr>\n",
       "    <tr>\n",
       "      <th>213</th>\n",
       "      <td>TENARIS SA</td>\n",
       "      <td>US88031M1099</td>\n",
       "      <td>Steel</td>\n",
       "      <td>1.298206297217497 percent</td>\n",
       "      <td>1.65 delta_degree_Celsius</td>\n",
       "      <td>30.05</td>\n",
       "      <td>0.44</td>\n",
       "    </tr>\n",
       "    <tr>\n",
       "      <th>212</th>\n",
       "      <td>TENARIS SA</td>\n",
       "      <td>US88031M1099</td>\n",
       "      <td>Steel</td>\n",
       "      <td>1.298206297217497 percent</td>\n",
       "      <td>1.65 delta_degree_Celsius</td>\n",
       "      <td>30.05</td>\n",
       "      <td>0.44</td>\n",
       "    </tr>\n",
       "    <tr>\n",
       "      <th>61</th>\n",
       "      <td>TENARIS SA</td>\n",
       "      <td>US88031M1099</td>\n",
       "      <td>Steel</td>\n",
       "      <td>1.298206297217497 percent</td>\n",
       "      <td>1.65 delta_degree_Celsius</td>\n",
       "      <td>30.05</td>\n",
       "      <td>0.44</td>\n",
       "    </tr>\n",
       "    <tr>\n",
       "      <th>60</th>\n",
       "      <td>TENARIS SA</td>\n",
       "      <td>US88031M1099</td>\n",
       "      <td>Steel</td>\n",
       "      <td>1.298206297217497 percent</td>\n",
       "      <td>1.65 delta_degree_Celsius</td>\n",
       "      <td>30.05</td>\n",
       "      <td>0.44</td>\n",
       "    </tr>\n",
       "    <tr>\n",
       "      <th>84</th>\n",
       "      <td>POSCO</td>\n",
       "      <td>KR7005490008</td>\n",
       "      <td>Steel</td>\n",
       "      <td>1.030773624545821 percent</td>\n",
       "      <td>2.21 delta_degree_Celsius</td>\n",
       "      <td>0.52</td>\n",
       "      <td>0.26</td>\n",
       "    </tr>\n",
       "    <tr>\n",
       "      <th>85</th>\n",
       "      <td>POSCO</td>\n",
       "      <td>KR7005490008</td>\n",
       "      <td>Steel</td>\n",
       "      <td>1.030773624545821 percent</td>\n",
       "      <td>2.21 delta_degree_Celsius</td>\n",
       "      <td>0.52</td>\n",
       "      <td>0.26</td>\n",
       "    </tr>\n",
       "  </tbody>\n",
       "</table>\n",
       "</div>"
      ],
      "text/plain": [
       "    company_name    company_id sector                contribution  \\\n",
       "44    NUCOR CORP  US6703461052  Steel  1.4331489641951352 percent   \n",
       "196   NUCOR CORP  US6703461052  Steel  1.4331489641951352 percent   \n",
       "45    NUCOR CORP  US6703461052  Steel  1.4331489641951352 percent   \n",
       "197   NUCOR CORP  US6703461052  Steel  1.4331489641951352 percent   \n",
       "213   TENARIS SA  US88031M1099  Steel   1.298206297217497 percent   \n",
       "212   TENARIS SA  US88031M1099  Steel   1.298206297217497 percent   \n",
       "61    TENARIS SA  US88031M1099  Steel   1.298206297217497 percent   \n",
       "60    TENARIS SA  US88031M1099  Steel   1.298206297217497 percent   \n",
       "84         POSCO  KR7005490008  Steel   1.030773624545821 percent   \n",
       "85         POSCO  KR7005490008  Steel   1.030773624545821 percent   \n",
       "\n",
       "             temperature_score  ownership_percentage  portfolio_percentage  \n",
       "44   1.42 delta_degree_Celsius                  1.37                  0.57  \n",
       "196  1.42 delta_degree_Celsius                  1.37                  0.57  \n",
       "45   1.42 delta_degree_Celsius                  1.37                  0.57  \n",
       "197  1.42 delta_degree_Celsius                  1.37                  0.57  \n",
       "213  1.65 delta_degree_Celsius                 30.05                  0.44  \n",
       "212  1.65 delta_degree_Celsius                 30.05                  0.44  \n",
       "61   1.65 delta_degree_Celsius                 30.05                  0.44  \n",
       "60   1.65 delta_degree_Celsius                 30.05                  0.44  \n",
       "84   2.21 delta_degree_Celsius                  0.52                  0.26  \n",
       "85   2.21 delta_degree_Celsius                  0.52                  0.26  "
      ]
     },
     "execution_count": 24,
     "metadata": {},
     "output_type": "execute_result"
    }
   ],
   "source": [
    "sector_contributions = company_contributions[['company_name', 'company_id', 'sector', 'contribution', 'temperature_score', 'ownership_percentage', 'portfolio_percentage']]\n",
    "sector_contributions.loc[sector_contributions['sector'] == 'Steel'][:10].round(2)"
   ]
  },
  {
   "cell_type": "markdown",
   "metadata": {},
   "source": [
    "### Save portfolio data for further analysis\n",
    "To take your analysis outside of this notebook and for example for internal and client reporting, you can export all data to Excel and the clipboard for pasting into and analysing in other applications.\n",
    "\n",
    "If you run the ITR tool locally or from Google Colab, you:\n",
    "- Specify the filenames of the output files in the cell below, e.g. change 'data_dump.xlsx' in the first line to 'TS_output.xlsx'\n",
    "- Run the cell below"
   ]
  },
  {
   "cell_type": "code",
   "execution_count": 25,
   "metadata": {
    "pycharm": {
     "name": "#%%\n"
    }
   },
   "outputs": [],
   "source": [
    "data_dump_filename = 'data_dump.xlsx'\n",
    "enhanced_portfolio.set_index(['company_name', 'company_id']).to_excel(data_dump_filename)"
   ]
  },
  {
   "cell_type": "markdown",
   "metadata": {},
   "source": [
    "### Compare OECD and non-OECD results\n",
    "\n",
    "There are currently 37 members of the OECD (text list maintained on the OECD website).  We use a simple CSV file containing data correct as of June 6th, 2022."
   ]
  },
  {
   "cell_type": "code",
   "execution_count": 26,
   "metadata": {},
   "outputs": [],
   "source": [
    "from ITR.utils import get_project_root\n",
    "pkg_root = get_project_root()\n",
    "\n",
    "# When connected to the Data Commons, this would be the kind of data we could simply load from a table.\n",
    "# As this is a stand-alone program, we must load the data from a file.\n",
    "\n",
    "oecd_df = pd.read_csv(f\"{pkg_root}/data/input/oecd_iso.csv\")"
   ]
  },
  {
   "cell_type": "markdown",
   "metadata": {},
   "source": [
    "We reuse the calculated `grouped_portfolio` from above, and then add the additional OECD discriminator to it.  We can add arbitrary columns and group on them in this way.  (And of course we can recompute a fresh `grouped_portfolio` if we wish.)\n",
    "\n",
    "Because of the way we generate grouped and aggregated data (which uses dash (-) as a separator), we spell Non-OECD with an underscore  (non_oecd) instead of a dash."
   ]
  },
  {
   "cell_type": "code",
   "execution_count": 27,
   "metadata": {},
   "outputs": [
    {
     "name": "stderr",
     "output_type": "stream",
     "text": [
      "/Users/michael/opt/miniconda3/envs/itr_env/lib/python3.9/site-packages/pint_pandas/pint_array.py:648: UnitStrippedWarning: The unit of the quantity is stripped when downcasting to ndarray.\n",
      "  return np.array(qtys, dtype=\"object\", copy=copy)\n",
      "/Users/michael/opt/miniconda3/envs/itr_env/lib/python3.9/site-packages/pandas/core/dtypes/cast.py:1983: UnitStrippedWarning: The unit of the quantity is stripped when downcasting to ndarray.\n",
      "  result[:] = values\n"
     ]
    },
    {
     "data": {
      "image/png": "[encoded data removed]",
      "text/plain": [
       "<Figure size 453.6x115.2 with 2 Axes>"
      ]
     },
     "metadata": {
      "needs_background": "light"
     },
     "output_type": "display_data"
    }
   ],
   "source": [
    "grouping = ['sector', 'oecd']\n",
    "grouped_portfolio.loc[:, 'oecd'] = grouped_portfolio.country.map(lambda x: 'oecd' if x in oecd_df.alpha_2.values else 'non_oecd')\n",
    "temperature_score.grouping = grouping\n",
    "grouped_aggregations = temperature_score.aggregate_scores(grouped_portfolio)\n",
    "analysis_parameters = ([ETimeFrames.LONG], [EScope.S1S2], grouping)\n",
    "plot_grouped_heatmap(grouped_aggregations, analysis_parameters)"
   ]
  }
 ],
 "metadata": {
  "kernelspec": {
   "display_name": "Python 3 (ipykernel)",
   "language": "python",
   "name": "python3"
  },
  "language_info": {
   "codemirror_mode": {
    "name": "ipython",
    "version": 3
   },
   "file_extension": ".py",
   "mimetype": "text/x-python",
   "name": "python",
   "nbconvert_exporter": "python",
   "pygments_lexer": "ipython3",
   "version": "3.9.0"
  }
 },
 "nbformat": 4,
 "nbformat_minor": 4
}
