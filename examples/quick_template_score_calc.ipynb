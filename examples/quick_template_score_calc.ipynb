{
 "cells": [
  {
   "cell_type": "markdown",
   "metadata": {
    "tags": []
   },
   "source": [
    "# ITR Tool - Template Temperature Score Calculation\n",
    "\n",
    "This notebook provides a simple example of the ITR Toolkit as a means to evaluate Portfolio Alignment.  Text boxes (called Markdown cells) like this provide some explanation, and then code cells either do the work just explained or will do work that will be explained.\n",
    "\n",
    "All data needed to run this demonstration should be local and no acccess to the internet should be required.  However, if you want to delete a file and re-download it (to restore to its pristine state), of course you need access to the internet, and you will need a github token to access the OS-Climate hithub.\n",
    "\n",
    "The **Sample Data template** provides both a *Read me* sheet and sheet of data dictionary *Definitions*, as well as three input data sheets:\n",
    "* ITR input data: The fundamental financial, emissions, and production data of companies, listed by security instrument as company id\n",
    "* ITR target input data: Short-term Emissions or Intensity reduction targets and Net-Zero attainment target dates, listed by company id\n",
    "* Portfolio: A list of positions and investment value amounts\n",
    "\n",
    "The user may choose **Benchmark Data** that forecasts intensity reductions expected from 2020-2050 by region and sector.  By default we use the OECM benchmark, but two TPI benchmarks are also available.  In all three cases we use the same projections for production grwoth forecasts.  We also use the same global carbon budget and TCRE multipliers for all benchmarks.\n",
    "\n",
    "After scoring the portfolio, the portfolio is copied to the local file *data_dump.xlsx* which can be downloaded for further analysis.\n",
    "\n",
    "This notebook also outputs an **enhanced portfolio** (with temperature scores), can be aggregated using various weighting methods to gain additional portfolio alignment insights.\n",
    "\n",
    "Please enjoy learning how the ITR tool works by following the computations performed by this Jupyter Notebook!"
   ]
  },
  {
   "cell_type": "markdown",
   "metadata": {
    "tags": []
   },
   "source": [
    "## Getting started\n",
    "Make sure you are running the notebook with the requirements installed available in the example folder.\n",
    "\n",
    "If you see errors when attempting to load the ITR modules, go to the top-level ITR directory, activate the `itr_env` conda environment (using `conda activate itr_env` and execute the command `pip install -e .`.  Then try again, or hit the <i class=\"fas fa-forward\"></i> button above."
   ]
  },
  {
   "cell_type": "code",
   "execution_count": 1,
   "metadata": {},
   "outputs": [],
   "source": [
    "import os\n",
    "import sys\n",
    "import warnings\n",
    "\n",
    "import json\n",
    "import numpy as np\n",
    "import pandas as pd"
   ]
  },
  {
   "cell_type": "code",
   "execution_count": 2,
   "metadata": {
    "tags": []
   },
   "outputs": [],
   "source": [
    "# Load the ITR library files\n",
    "\n",
    "import ITR\n",
    "from ITR.data.excel import ExcelProviderProductionBenchmark, ExcelProviderIntensityBenchmark\n",
    "from ITR.data.template import TemplateProviderCompany\n",
    "from ITR.data.base_providers import BaseProviderProductionBenchmark, BaseProviderIntensityBenchmark\n",
    "from ITR.data.data_warehouse import DataWarehouse\n",
    "from ITR.portfolio_aggregation import PortfolioAggregationMethod\n",
    "from ITR.temperature_score import TemperatureScore\n",
    "from ITR.interfaces import ETimeFrames, EScope, IProductionBenchmarkScopes, IEIBenchmarkScopes\n",
    "\n",
    "from ITR.data.osc_units import ureg, Q_, PA_\n",
    "\n",
    "from utils import plot_grouped_heatmap, plot_grouped_statistics, get_contributions_per_group, collect_company_contributions"
   ]
  },
  {
   "cell_type": "markdown",
   "metadata": {
    "tags": []
   },
   "source": [
    "If all is well, the list of paths below will prioritize loading from the environment established for the ITR tool.  Please contact us if not."
   ]
  },
  {
   "cell_type": "code",
   "execution_count": 3,
   "metadata": {
    "tags": []
   },
   "outputs": [
    {
     "data": {
      "text/plain": [
       "['/Users/michael/Dropbox/My Mac (MacBook-Pro.local)/Documents/GitHub/MichaelTiemannOSC/ITR/examples',\n",
       " '/Users/michael/miniconda3/envs/itr_env_vanilla/lib/python39.zip',\n",
       " '/Users/michael/miniconda3/envs/itr_env_vanilla/lib/python3.9',\n",
       " '/Users/michael/miniconda3/envs/itr_env_vanilla/lib/python3.9/lib-dynload',\n",
       " '',\n",
       " '/Users/michael/miniconda3/envs/itr_env_vanilla/lib/python3.9/site-packages',\n",
       " '/Users/michael/Dropbox/My Mac (MacBook-Pro.local)/Documents/GitHub/MichaelTiemannOSC/ITR',\n",
       " '/Users/michael/Dropbox/My Mac (MacBook-Pro.local)/Documents/GitHub/MichaelTiemannOSC/globalwarmingpotentials/src',\n",
       " '/Users/michael/Dropbox/My Mac (MacBook-Pro.local)/Documents/GitHub/MichaelTiemannOSC/units',\n",
       " '/Users/michael/Dropbox/My Mac (MacBook-Pro.local)/Documents/GitHub/MichaelTiemannOSC/openscm-units/src']"
      ]
     },
     "metadata": {},
     "output_type": "display_data"
    }
   ],
   "source": [
    "display(sys.path)"
   ]
  },
  {
   "cell_type": "code",
   "execution_count": 4,
   "metadata": {},
   "outputs": [
    {
     "name": "stdout",
     "output_type": "stream",
     "text": [
      "Testing unit registry\n",
      "=====================\n",
      "The gas species CO2e, which was a gwp of 1: 1 CO2e\n",
      "A gigaton of CO2e: 1 CO2e * gigametric_ton\n"
     ]
    }
   ],
   "source": [
    "print(\"Testing unit registry\\n=====================\")\n",
    "one_co2 = ureg(\"CO2e\")\n",
    "print(f\"The gas species CO2e, which was a gwp of 1: {one_co2}\")\n",
    "\n",
    "one_Gt_co2 = ureg(\"Gt CO2e\")\n",
    "print(f\"A gigaton of CO2e: {one_Gt_co2}\")"
   ]
  },
  {
   "cell_type": "markdown",
   "metadata": {},
   "source": [
    "## Load the production and intensity benchmarks\n",
    "\n",
    "Prepare the various benchmark files; the OECM benchmark is the default after the next cell finishes."
   ]
  },
  {
   "cell_type": "code",
   "execution_count": 5,
   "metadata": {},
   "outputs": [],
   "source": [
    "self_root = os.path.abspath('')\n",
    "benchmark_prod_json = os.path.join(self_root, \"data\", \"json-units\", \"benchmark_production_OECM.json\")\n",
    "benchmark_EI_OECM = os.path.join(self_root, \"data\", \"json-units\", \"benchmark_EI_OECM_PC.json\")\n",
    "benchmark_EI_TPI = os.path.join(self_root, \"data\", \"json-units\", \"benchmark_EI_TPI_2_degrees.json\")\n",
    "benchmark_EI_TPI_below_2 = os.path.join(self_root, \"data\", \"json-units\", \"benchmark_EI_TPI_below_2_degrees.json\")\n",
    "\n",
    "# load production benchmarks\n",
    "with open(benchmark_prod_json) as json_file:\n",
    "    parsed_json = json.load(json_file)\n",
    "prod_bms = IProductionBenchmarkScopes.parse_obj(parsed_json)\n",
    "base_production_bm = BaseProviderProductionBenchmark(production_benchmarks=prod_bms)\n",
    "\n",
    "# load intensity benchmarks\n",
    "\n",
    "# OECM\n",
    "with open(benchmark_EI_OECM) as json_file:\n",
    "    parsed_json = json.load(json_file)\n",
    "ei_bms = IEIBenchmarkScopes.parse_obj(parsed_json)\n",
    "OECM_EI_bm = BaseProviderIntensityBenchmark(EI_benchmarks=ei_bms)\n",
    "\n",
    "if False:\n",
    "    # TPI\n",
    "    with open(benchmark_EI_TPI) as json_file:\n",
    "        parsed_json = json.load(json_file)\n",
    "    ei_bms = IEIBenchmarkScopes.parse_obj(parsed_json)\n",
    "    TPI_EI_bm = BaseProviderIntensityBenchmark(EI_benchmarks=ei_bms)\n",
    "\n",
    "    # TPI below 2\n",
    "    with open(benchmark_EI_TPI_below_2) as json_file:\n",
    "        parsed_json = json.load(json_file)\n",
    "    ei_bms = IEIBenchmarkScopes.parse_obj(parsed_json)\n",
    "    TPI_below_2_EI_bm = BaseProviderIntensityBenchmark(EI_benchmarks=ei_bms)\n",
    "\n",
    "base_intensity_bm = OECM_EI_bm"
   ]
  },
  {
   "cell_type": "markdown",
   "metadata": {
    "tags": []
   },
   "source": [
    "## Download/load the sample template data\n",
    "\n",
    "We have prepared sample data from public sources for you to be able to run the tool as it is to familiarise yourself with how it works. To use your own data; please check out to the [Data Template Requirements](https://github.com/os-c/ITR/blob/main/docs/DataTemplateRequirements.rst) section of the technical documentation for more details on data requirements and formatting. \n",
    "\n",
    "*The sample data may contain estimates, simplifications, and recategorizations.  It is intended to be generally representative, but not authoritative, and should not be relied upon to make investment decisions.*"
   ]
  },
  {
   "cell_type": "raw",
   "metadata": {},
   "source": [
    "import urllib.request\n",
    "from github import Github\n",
    "\n",
    "# Create a Github instance with an access token.\n",
    "# Use your shell's `export` command to inject your token into the GITHUB_TOKEN environment variable before starting this jupyter-lab instance.\n",
    "gh = Github(os.environ['GITHUB_TOKEN'])\n",
    "\n",
    "# Get repository by name and select the proper branch\n",
    "repo = gh.get_repo(\"os-climate/ITR\").get_branch(branch=\"develop\")\n",
    "\n",
    "if not os.path.isdir(\"data\"):\n",
    "    os.mkdir(\"data\")\n",
    "\n",
    "for filename in ['data/20220927 ITR Tool Sample Data.xlsx',\n",
    "                 'data/OECM_EI_and_production_benchmarks.xlsx',\n",
    "                 'utils.py']:\n",
    "    if not os.path.isfile(filename):\n",
    "        # Get a specific content file:\n",
    "        contents = repo.get_contents(f\"examples/{filename}\")\n",
    "\n",
    "        # Donwnload file form ContenFile object info:\n",
    "        urllib.urlretrieve(contents.download_url, filename)\n",
    "\n",
    "try:  # Import statement when run in remote Jupyter servers from AWS Google etc..\n",
    "    from utils import collect_company_contributions, plot_grouped_statistics, anonymize, \\\n",
    "        plot_grouped_heatmap, print_grouped_scores, get_contributions_per_group\n",
    "except:  # Import statement when run locally\n",
    "    from utils import collect_company_contributions, plot_grouped_statistics, anonymize, \\\n",
    "        plot_grouped_heatmap, print_grouped_scores, get_contributions_per_group\n",
    "\n",
    "template_data_path = \"data/20220927 ITR Tool Sample Data.xlsx\""
   ]
  },
  {
   "cell_type": "code",
   "execution_count": 6,
   "metadata": {},
   "outputs": [],
   "source": [
    "template_data_path = \"data/20220927 ITR V2 Sample Data.xlsx\""
   ]
  },
  {
   "cell_type": "markdown",
   "metadata": {},
   "source": [
    "### Logging\n",
    "The ITR module uses the Python standard library logging utilities to send log messages. The log level can be changed according to the user's needs."
   ]
  },
  {
   "cell_type": "code",
   "execution_count": 7,
   "metadata": {},
   "outputs": [],
   "source": [
    "import logging\n",
    "root_logger = logging.getLogger()\n",
    "root_logger.setLevel(\"INFO\")"
   ]
  },
  {
   "cell_type": "markdown",
   "metadata": {},
   "source": [
    "## Create a data provider\n",
    "Data providers let you connect to the data source of your choice. In this case we are connecting to Excel as a data provider for benchmark information and we are using the ITR Data Template for company and portfolio information, using *template_data_path* as the pathname to the data.  If you want to supply your own data file, you can set the pathname in the first line of the next cell."
   ]
  },
  {
   "cell_type": "code",
   "execution_count": 8,
   "metadata": {},
   "outputs": [
    {
     "name": "stderr",
     "output_type": "stream",
     "text": [
      "2022-11-19 07:53:49,786 - ITR.data.template - WARNING - Company DE0005190003 uses multiple units describing scopes ['s1', 's1s2', 's2', 's3', 's3.11 intensity']\n",
      "2022-11-19 07:53:49,787 - ITR.data.template - WARNING - Company US00130H1059 uses multiple units describing scopes ['s1', 's1s2', 's2', 's3']\n",
      "2022-11-19 07:53:49,787 - ITR.data.template - WARNING - The ITR Tool will choose one and covert all to that\n",
      "2022-11-19 07:53:50,385 - ITR.data.template - WARNING - Emissions data missing for MultiIndex([(                        'ALLETE, Inc.', 'US0185223007', 'S3'),\n",
      "            (                      'Alliant Energy', 'US0188021085', 'S3'),\n",
      "            (                        'Ameren Corp.', 'US0236081024', 'S3'),\n",
      "            (   'American Electric Power Co., Inc.', 'US0255371017', 'S3'),\n",
      "            (                      'Balfour Beatty', 'GB0000961622', 'S3'),\n",
      "            (                   'Black Hills Corp.', 'US0921131092', 'S3'),\n",
      "            (           'CARPENTER TECHNOLOGY CORP', 'US1442851036', 'S3'),\n",
      "            (                    'CMS Energy Corp.', 'US1258961002', 'S3'),\n",
      "            (                'COMMERCIAL METALS CO', 'US2017231034', 'S3'),\n",
      "            (                   'Cleco Partners LP', 'US18551QAA58', 'S3'),\n",
      "            (           'Consolidated Edison, Inc.', 'US2091151041', 'S3'),\n",
      "            (                          'DTE Energy', 'US2333311072', 'S3'),\n",
      "            (                     'Dominion Energy', 'US25746U1097', 'S3'),\n",
      "            (                   'Duke Energy Corp.', 'US26441C2044', 'S3'),\n",
      "            (                       'Entergy Corp.', 'US29364G1031', 'S3'),\n",
      "            (                        'Evergy, Inc.', 'US30034W1062', 'S3'),\n",
      "            (                   'Eversource Energy', 'US30040W1080', 'S3'),\n",
      "            (                        'Exelon Corp.', 'US30161N1019', 'S3'),\n",
      "            (                   'FirstEnergy Corp.', 'US3379321074', 'S3'),\n",
      "            (                        'Fortis, Inc.', 'CA3495531079', 'S3'),\n",
      "            (                         'GERDAU S.A.', 'US3737371050', 'S3'),\n",
      "            (  'Hawaiian Electric Industries, Inc.', 'US4198701009', 'S3'),\n",
      "            (                 'MDU Resources Group', 'US5526901096', 'S3'),\n",
      "            (                   'National Grid PLC', 'US6362744095', 'S3'),\n",
      "            (                'NextEra Energy, Inc.', 'US65339F1012', 'S3'),\n",
      "            (                       'Nisource Inc.', 'US65473P1057', 'S3'),\n",
      "            (                  'Northwestern Corp.', 'US6680743050', 'S3'),\n",
      "            (                   'OG&E Energy Corp.', 'US6708371033', 'S3'),\n",
      "            ('PETROLIAM NASIONAL BERHAD (PETRONAS)', 'PETRONAS_SOE', 'S1'),\n",
      "            ('PETROLIAM NASIONAL BERHAD (PETRONAS)', 'PETRONAS_SOE', 'S2'),\n",
      "            ('PETROLIAM NASIONAL BERHAD (PETRONAS)', 'PETRONAS_SOE', 'S3'),\n",
      "            (                          'PG&E Corp.', 'US69331C1080', 'S3'),\n",
      "            (                 'PNM Resources, Inc.', 'US69349H1077', 'S3'),\n",
      "            (                           'PPL Corp.', 'US69351T1060', 'S3'),\n",
      "            (         'Pinnacle West Capital Corp.', 'US7234841010', 'S3'),\n",
      "            (       'Portland General Electric Co.', 'US7365088472', 'S3'),\n",
      "            (     'Public Service Enterprise Group', 'US7445731067', 'S3'),\n",
      "            (                  'STEEL DYNAMICS INC', 'US8581191009', 'S3'),\n",
      "            (                              'Sempra', 'US8168511090', 'S3'),\n",
      "            (                        'Southern Co.', 'US8425871071', 'S3'),\n",
      "            (                     'TC Energy Corp.', 'CA87807B1076', 'S3'),\n",
      "            (            'UNITED STATES STEEL CORP', 'US9129091081', 'S3'),\n",
      "            (                       'Versant Power', 'CA2908761018', 'S3'),\n",
      "            (                    'WEC Energy Group', 'US92939U1060', 'S3'),\n",
      "            (          'WORTHINGTON INDUSTRIES INC', 'US9818111026', 'S3'),\n",
      "            (                   'Xcel Energy, Inc.', 'US98389B1008', 'S3')],\n",
      "           names=['company_name', 'company_id', 'metric'])\n",
      "2022-11-19 07:53:50,421 - ITR.data.template - WARNING - Missing target start year set to 2021 for companies with ID: ['US0185223007', 'US0188021085', 'US0236081024', 'US0236081024', 'US0255371017', 'US05351W1036-E', 'US05351W1036-U', 'US0921131092', 'US0921131092', 'US1442851036', 'US18551QAA58', 'US25746U1097', 'US26441C2044', 'US30034W1062', 'US5526901096', 'JP3633400001']\n"
     ]
    }
   ],
   "source": [
    "# Remove the # and space on the next line to point the template_data_path variable at your own data\n",
    "# template_data_path = \"data/your_template_here.xlsx\"\n",
    "\n",
    "template_company_data = TemplateProviderCompany(excel_path=template_data_path)"
   ]
  },
  {
   "cell_type": "raw",
   "metadata": {},
   "source": [
    "excel_production_bm = ExcelProviderProductionBenchmark(excel_path=\"data/OECM_EI_and_production_benchmarks.xlsx\")"
   ]
  },
  {
   "cell_type": "raw",
   "metadata": {},
   "source": [
    "excel_EI_bm = ExcelProviderIntensityBenchmark(excel_path=\"data/OECM_EI_and_production_benchmarks.xlsx\",\n",
    "                                              benchmark_temperature=Q_(1.5, ureg.delta_degC),\n",
    "                                              benchmark_global_budget=396 * ureg('Gt CO2'),\n",
    "                                              is_AFOLU_included=False)"
   ]
  },
  {
   "cell_type": "markdown",
   "metadata": {},
   "source": [
    "## Create the Data Warehouse"
   ]
  },
  {
   "cell_type": "code",
   "execution_count": 9,
   "metadata": {},
   "outputs": [
    {
     "data": {
      "text/plain": [
       "ProductionMetric('GWh')"
      ]
     },
     "execution_count": 9,
     "metadata": {},
     "output_type": "execute_result"
    }
   ],
   "source": [
    "template_company_data._companies[0].production_metric"
   ]
  },
  {
   "cell_type": "code",
   "execution_count": 10,
   "metadata": {},
   "outputs": [
    {
     "name": "stderr",
     "output_type": "stream",
     "text": [
      "2022-11-19 07:53:53,469 - ITR.data.base_providers - WARNING - Company AES Corp. has set targets for which there is no historic data\n"
     ]
    },
    {
     "name": "stdout",
     "output_type": "stream",
     "text": [
      "Benchmark Temperature = 1.5 delta_degree_Celsius\n",
      "Benchmark Global Budget = 521.0526315789474 CO2 * gigametric_ton\n",
      "AFOLU included = False\n"
     ]
    }
   ],
   "source": [
    "template_provider = DataWarehouse(template_company_data, base_production_bm, base_intensity_bm)\n",
    "\n",
    "# Fills in template_company_data._companies[0].projected_targets.S1S2\n",
    "\n",
    "print(f\"Benchmark Temperature = {base_intensity_bm.benchmark_temperature}\\n\\\n",
    "Benchmark Global Budget = {base_intensity_bm.benchmark_global_budget}\\n\\\n",
    "AFOLU included = {base_intensity_bm.is_AFOLU_included}\")"
   ]
  },
  {
   "cell_type": "code",
   "execution_count": 11,
   "metadata": {},
   "outputs": [
    {
     "data": {
      "text/html": [
       "1.0 CO2 kilogram/pkm"
      ],
      "text/latex": [
       "$1.0\\ \\frac{\\mathrm{CO2} \\cdot \\mathrm{kilogram}}{\\mathrm{pkm}}$"
      ],
      "text/plain": [
       "1.0 <Unit('CO2 * kilogram / pkm')>"
      ]
     },
     "execution_count": 11,
     "metadata": {},
     "output_type": "execute_result"
    }
   ],
   "source": [
    "ureg(\"kg CO2/(passenger km)\")"
   ]
  },
  {
   "cell_type": "markdown",
   "metadata": {},
   "source": [
    "## Load your portfolio\n",
    "\n",
    "The portfolio data is a sheet in the Data Template named \"Portfolio\".\n",
    "\n",
    "Please see the technical documentation in the [Data Template Requirements](https://github.com/os-c/ITR/blob/main/docs/DataTemplateRequirements.rst) section for details on data requirements."
   ]
  },
  {
   "cell_type": "code",
   "execution_count": 12,
   "metadata": {},
   "outputs": [
    {
     "data": {
      "text/html": [
       "<div>\n",
       "<style scoped>\n",
       "    .dataframe tbody tr th:only-of-type {\n",
       "        vertical-align: middle;\n",
       "    }\n",
       "\n",
       "    .dataframe tbody tr th {\n",
       "        vertical-align: top;\n",
       "    }\n",
       "\n",
       "    .dataframe thead th {\n",
       "        text-align: right;\n",
       "    }\n",
       "</style>\n",
       "<table border=\"1\" class=\"dataframe\">\n",
       "  <thead>\n",
       "    <tr style=\"text-align: right;\">\n",
       "      <th></th>\n",
       "      <th>company_name</th>\n",
       "      <th>company_lei</th>\n",
       "      <th>company_id</th>\n",
       "      <th>company_isin</th>\n",
       "      <th>investment_value</th>\n",
       "    </tr>\n",
       "  </thead>\n",
       "  <tbody>\n",
       "    <tr>\n",
       "      <th>71</th>\n",
       "      <td>WEC Energy Group</td>\n",
       "      <td>549300IGLYTZUK3PVP70</td>\n",
       "      <td>US92939U1060</td>\n",
       "      <td>US92939U1060</td>\n",
       "      <td>78098748</td>\n",
       "    </tr>\n",
       "    <tr>\n",
       "      <th>72</th>\n",
       "      <td>WORTHINGTON INDUSTRIES INC</td>\n",
       "      <td>1WRCIANKYOIK6KYE5E82</td>\n",
       "      <td>US9818111026</td>\n",
       "      <td>US9818111026</td>\n",
       "      <td>62220568</td>\n",
       "    </tr>\n",
       "    <tr>\n",
       "      <th>73</th>\n",
       "      <td>Xcel Energy, Inc.</td>\n",
       "      <td>LGJNMI9GH8XIDG5RCM61</td>\n",
       "      <td>US98389B1008</td>\n",
       "      <td>US98389B1008</td>\n",
       "      <td>113881062</td>\n",
       "    </tr>\n",
       "    <tr>\n",
       "      <th>74</th>\n",
       "      <td>Balfour Beatty</td>\n",
       "      <td>CT4UIJ3TUKGYYHMENQ17</td>\n",
       "      <td>GB0000961622</td>\n",
       "      <td>GB0000961622</td>\n",
       "      <td>269108441</td>\n",
       "    </tr>\n",
       "    <tr>\n",
       "      <th>75</th>\n",
       "      <td>CBRE</td>\n",
       "      <td>52990016II9MJ2OSWA10</td>\n",
       "      <td>US12504L1098</td>\n",
       "      <td>US12504L1098</td>\n",
       "      <td>184884258</td>\n",
       "    </tr>\n",
       "  </tbody>\n",
       "</table>\n",
       "</div>"
      ],
      "text/plain": [
       "                  company_name           company_lei    company_id  \\\n",
       "71            WEC Energy Group  549300IGLYTZUK3PVP70  US92939U1060   \n",
       "72  WORTHINGTON INDUSTRIES INC  1WRCIANKYOIK6KYE5E82  US9818111026   \n",
       "73           Xcel Energy, Inc.  LGJNMI9GH8XIDG5RCM61  US98389B1008   \n",
       "74              Balfour Beatty  CT4UIJ3TUKGYYHMENQ17  GB0000961622   \n",
       "75                        CBRE  52990016II9MJ2OSWA10  US12504L1098   \n",
       "\n",
       "    company_isin  investment_value  \n",
       "71  US92939U1060          78098748  \n",
       "72  US9818111026          62220568  \n",
       "73  US98389B1008         113881062  \n",
       "74  GB0000961622         269108441  \n",
       "75  US12504L1098         184884258  "
      ]
     },
     "metadata": {},
     "output_type": "display_data"
    }
   ],
   "source": [
    "df_portfolio = pd.read_excel(template_data_path, sheet_name=\"Portfolio\")\n",
    "display(df_portfolio.tail())"
   ]
  },
  {
   "cell_type": "markdown",
   "metadata": {},
   "source": [
    "To load the data from the data provider, we have to pass a list of IPortfolioCompany instances. The module has a strict [data model](https://ofbdabv.github.io/ITR/autoapi/ITR/interfaces/index.html) to convert Pandas Dataframe to the right object types we supplied a utility function.\n"
   ]
  },
  {
   "cell_type": "code",
   "execution_count": 13,
   "metadata": {},
   "outputs": [],
   "source": [
    "companies = ITR.utils.dataframe_to_portfolio(df_portfolio)"
   ]
  },
  {
   "cell_type": "markdown",
   "metadata": {},
   "source": [
    "## Calculate the temperature scores\n",
    "In the enhanced portfolio you'll find your original portfolio, with calculated temperature scores, trajectory and target scores and overshoot/undershoot ration, and a temperature_result which is current set to zero for all valid calculations."
   ]
  },
  {
   "cell_type": "code",
   "execution_count": 14,
   "metadata": {},
   "outputs": [
    {
     "name": "stderr",
     "output_type": "stream",
     "text": [
      "/Users/michael/miniconda3/envs/itr_env_vanilla/lib/python3.9/site-packages/pandas/core/dtypes/cast.py:1784: UnitStrippedWarning: The unit of the quantity is stripped when downcasting to ndarray.\n",
      "  result[:] = values\n",
      "/Users/michael/miniconda3/envs/itr_env_vanilla/lib/python3.9/site-packages/pandas/core/dtypes/cast.py:1784: UnitStrippedWarning: The unit of the quantity is stripped when downcasting to ndarray.\n",
      "  result[:] = values\n"
     ]
    }
   ],
   "source": [
    "temperature_score = TemperatureScore(\n",
    "    time_frames = [ETimeFrames.LONG],\n",
    "    scopes=[EScope.S1S2],\n",
    "    aggregation_method=PortfolioAggregationMethod.WATS # Options for the aggregation method are WATS, TETS, AOTS, MOTS, EOTS, ECOTS, and ROTS.\n",
    ")\n",
    "enhanced_portfolio = temperature_score.calculate(data_warehouse=template_provider, portfolio=companies)"
   ]
  },
  {
   "cell_type": "markdown",
   "metadata": {},
   "source": [
    "For every company the tool assigns a score for all the requested timeframe and scope combinations. For now the ITR methodolgy only supportt a long timeframe in combination with a S1S2 scope"
   ]
  },
  {
   "cell_type": "code",
   "execution_count": 15,
   "metadata": {},
   "outputs": [
    {
     "data": {
      "text/html": [
       "<div>\n",
       "<style scoped>\n",
       "    .dataframe tbody tr th:only-of-type {\n",
       "        vertical-align: middle;\n",
       "    }\n",
       "\n",
       "    .dataframe tbody tr th {\n",
       "        vertical-align: top;\n",
       "    }\n",
       "\n",
       "    .dataframe thead th {\n",
       "        text-align: right;\n",
       "    }\n",
       "</style>\n",
       "<table border=\"1\" class=\"dataframe\">\n",
       "  <thead>\n",
       "    <tr style=\"text-align: right;\">\n",
       "      <th></th>\n",
       "      <th>company_name</th>\n",
       "      <th>time_frame</th>\n",
       "      <th>scope</th>\n",
       "      <th>temperature_score</th>\n",
       "    </tr>\n",
       "  </thead>\n",
       "  <tbody>\n",
       "    <tr>\n",
       "      <th>0</th>\n",
       "      <td>AES Corp.</td>\n",
       "      <td>LONG</td>\n",
       "      <td>S1S2</td>\n",
       "      <td>1.8351944610911248</td>\n",
       "    </tr>\n",
       "    <tr>\n",
       "      <th>1</th>\n",
       "      <td>ALLETE, Inc.</td>\n",
       "      <td>LONG</td>\n",
       "      <td>S1S2</td>\n",
       "      <td>2.5394873079174367</td>\n",
       "    </tr>\n",
       "    <tr>\n",
       "      <th>2</th>\n",
       "      <td>Alliant Energy</td>\n",
       "      <td>LONG</td>\n",
       "      <td>S1S2</td>\n",
       "      <td>2.1238029176407536</td>\n",
       "    </tr>\n",
       "    <tr>\n",
       "      <th>3</th>\n",
       "      <td>Ameren Corp.</td>\n",
       "      <td>LONG</td>\n",
       "      <td>S1S2</td>\n",
       "      <td>3.5287111167494727</td>\n",
       "    </tr>\n",
       "    <tr>\n",
       "      <th>4</th>\n",
       "      <td>American Electric Power Co., Inc.</td>\n",
       "      <td>LONG</td>\n",
       "      <td>S1S2</td>\n",
       "      <td>2.965721870524592</td>\n",
       "    </tr>\n",
       "    <tr>\n",
       "      <th>...</th>\n",
       "      <td>...</td>\n",
       "      <td>...</td>\n",
       "      <td>...</td>\n",
       "      <td>...</td>\n",
       "    </tr>\n",
       "    <tr>\n",
       "      <th>71</th>\n",
       "      <td>WEC Energy Group</td>\n",
       "      <td>LONG</td>\n",
       "      <td>S1S2</td>\n",
       "      <td>2.7287846474092152</td>\n",
       "    </tr>\n",
       "    <tr>\n",
       "      <th>72</th>\n",
       "      <td>WORTHINGTON INDUSTRIES INC</td>\n",
       "      <td>LONG</td>\n",
       "      <td>S1S2</td>\n",
       "      <td>1.205151277463707</td>\n",
       "    </tr>\n",
       "    <tr>\n",
       "      <th>73</th>\n",
       "      <td>Xcel Energy, Inc.</td>\n",
       "      <td>LONG</td>\n",
       "      <td>S1S2</td>\n",
       "      <td>2.0795292398521004</td>\n",
       "    </tr>\n",
       "    <tr>\n",
       "      <th>74</th>\n",
       "      <td>Balfour Beatty</td>\n",
       "      <td>LONG</td>\n",
       "      <td>S1S2</td>\n",
       "      <td>1.448942200327148</td>\n",
       "    </tr>\n",
       "    <tr>\n",
       "      <th>75</th>\n",
       "      <td>CBRE</td>\n",
       "      <td>LONG</td>\n",
       "      <td>S1S2</td>\n",
       "      <td>4.014346838564222</td>\n",
       "    </tr>\n",
       "  </tbody>\n",
       "</table>\n",
       "<p>76 rows × 4 columns</p>\n",
       "</div>"
      ],
      "text/plain": [
       "                         company_name time_frame scope   temperature_score\n",
       "0                           AES Corp.       LONG  S1S2  1.8351944610911248\n",
       "1                        ALLETE, Inc.       LONG  S1S2  2.5394873079174367\n",
       "2                      Alliant Energy       LONG  S1S2  2.1238029176407536\n",
       "3                        Ameren Corp.       LONG  S1S2  3.5287111167494727\n",
       "4   American Electric Power Co., Inc.       LONG  S1S2   2.965721870524592\n",
       "..                                ...        ...   ...                 ...\n",
       "71                   WEC Energy Group       LONG  S1S2  2.7287846474092152\n",
       "72         WORTHINGTON INDUSTRIES INC       LONG  S1S2   1.205151277463707\n",
       "73                  Xcel Energy, Inc.       LONG  S1S2  2.0795292398521004\n",
       "74                     Balfour Beatty       LONG  S1S2   1.448942200327148\n",
       "75                               CBRE       LONG  S1S2   4.014346838564222\n",
       "\n",
       "[76 rows x 4 columns]"
      ]
     },
     "metadata": {},
     "output_type": "display_data"
    }
   ],
   "source": [
    "with warnings.catch_warnings():\n",
    "    warnings.simplefilter(\"ignore\")\n",
    "    display(enhanced_portfolio[['company_name', 'time_frame', 'scope', 'temperature_score']])"
   ]
  },
  {
   "cell_type": "code",
   "execution_count": 16,
   "metadata": {},
   "outputs": [
    {
     "data": {
      "text/html": [
       "<div>\n",
       "<style scoped>\n",
       "    .dataframe tbody tr th:only-of-type {\n",
       "        vertical-align: middle;\n",
       "    }\n",
       "\n",
       "    .dataframe tbody tr th {\n",
       "        vertical-align: top;\n",
       "    }\n",
       "\n",
       "    .dataframe thead th {\n",
       "        text-align: right;\n",
       "    }\n",
       "</style>\n",
       "<table border=\"1\" class=\"dataframe\">\n",
       "  <thead>\n",
       "    <tr style=\"text-align: right;\">\n",
       "      <th></th>\n",
       "      <th>company_name</th>\n",
       "      <th>company_id</th>\n",
       "      <th>region</th>\n",
       "      <th>sector</th>\n",
       "      <th>target_probability</th>\n",
       "      <th>target_data</th>\n",
       "      <th>historic_data</th>\n",
       "      <th>country</th>\n",
       "      <th>emissions_metric</th>\n",
       "      <th>production_metric</th>\n",
       "      <th>...</th>\n",
       "      <th>company_isin</th>\n",
       "      <th>investment_value</th>\n",
       "      <th>scope</th>\n",
       "      <th>time_frame</th>\n",
       "      <th>temperature_score</th>\n",
       "      <th>trajectory_score</th>\n",
       "      <th>trajectory_overshoot_ratio</th>\n",
       "      <th>target_score</th>\n",
       "      <th>target_overshoot_ratio</th>\n",
       "      <th>score_result_type</th>\n",
       "    </tr>\n",
       "  </thead>\n",
       "  <tbody>\n",
       "    <tr>\n",
       "      <th>3</th>\n",
       "      <td>Ameren Corp.</td>\n",
       "      <td>US0236081024</td>\n",
       "      <td>North America</td>\n",
       "      <td>Electricity Utilities</td>\n",
       "      <td>0.5</td>\n",
       "      <td>[{'netzero_year': 2050, 'target_type': 'absolu...</td>\n",
       "      <td>{'productions': [{'year': 2016, 'value': 38.50...</td>\n",
       "      <td>US</td>\n",
       "      <td>Mt CO2e</td>\n",
       "      <td>TWh</td>\n",
       "      <td>...</td>\n",
       "      <td>US0236081024</td>\n",
       "      <td>99901256.0</td>\n",
       "      <td>S1S2</td>\n",
       "      <td>LONG</td>\n",
       "      <td>3.5287111167494727</td>\n",
       "      <td>4.980644132775656</td>\n",
       "      <td>12.125276489775484 dimensionless</td>\n",
       "      <td>2.076778100723289</td>\n",
       "      <td>2.843571361797634 dimensionless</td>\n",
       "      <td>EScoreResultType.COMPLETE</td>\n",
       "    </tr>\n",
       "    <tr>\n",
       "      <th>13</th>\n",
       "      <td>CMS Energy Corp.</td>\n",
       "      <td>US1258961002</td>\n",
       "      <td>North America</td>\n",
       "      <td>Electricity Utilities</td>\n",
       "      <td>0.5</td>\n",
       "      <td>[{'netzero_year': 2050, 'target_type': 'absolu...</td>\n",
       "      <td>{'productions': [{'year': 2016, 'value': 16.69...</td>\n",
       "      <td>US</td>\n",
       "      <td>Mt CO2e</td>\n",
       "      <td>TWh</td>\n",
       "      <td>...</td>\n",
       "      <td>US1258961002</td>\n",
       "      <td>136378300.0</td>\n",
       "      <td>S1S2</td>\n",
       "      <td>LONG</td>\n",
       "      <td>3.165945671927359</td>\n",
       "      <td>4.9487003522774735</td>\n",
       "      <td>12.023173724708382 dimensionless</td>\n",
       "      <td>1.3831909915772447</td>\n",
       "      <td>0.6266402235831711 dimensionless</td>\n",
       "      <td>EScoreResultType.COMPLETE</td>\n",
       "    </tr>\n",
       "    <tr>\n",
       "      <th>15</th>\n",
       "      <td>Cleco Partners LP</td>\n",
       "      <td>US18551QAA58</td>\n",
       "      <td>North America</td>\n",
       "      <td>Electricity Utilities</td>\n",
       "      <td>0.5</td>\n",
       "      <td>[{'netzero_year': 2050, 'target_type': 'absolu...</td>\n",
       "      <td>{'productions': [{'year': 2016, 'value': 13.52...</td>\n",
       "      <td>US</td>\n",
       "      <td>Mt CO2e</td>\n",
       "      <td>TWh</td>\n",
       "      <td>...</td>\n",
       "      <td>US18551QAA58</td>\n",
       "      <td>124297176.0</td>\n",
       "      <td>S1S2</td>\n",
       "      <td>LONG</td>\n",
       "      <td>3.374482584218334</td>\n",
       "      <td>4.745932694577139</td>\n",
       "      <td>11.375062004852252 dimensionless</td>\n",
       "      <td>2.0030324738595295</td>\n",
       "      <td>2.607856230496097 dimensionless</td>\n",
       "      <td>EScoreResultType.COMPLETE</td>\n",
       "    </tr>\n",
       "    <tr>\n",
       "      <th>17</th>\n",
       "      <td>DTE Energy</td>\n",
       "      <td>US2333311072</td>\n",
       "      <td>North America</td>\n",
       "      <td>Electricity Utilities</td>\n",
       "      <td>0.5</td>\n",
       "      <td>[{'netzero_year': 2050, 'target_type': 'absolu...</td>\n",
       "      <td>{'productions': [{'year': 2016, 'value': 38.33...</td>\n",
       "      <td>US</td>\n",
       "      <td>Mt CO2e</td>\n",
       "      <td>TWh</td>\n",
       "      <td>...</td>\n",
       "      <td>US2333311072</td>\n",
       "      <td>244926616.0</td>\n",
       "      <td>S1S2</td>\n",
       "      <td>LONG</td>\n",
       "      <td>4.658414655304366</td>\n",
       "      <td>7.291605657906043</td>\n",
       "      <td>19.511864989935127 dimensionless</td>\n",
       "      <td>2.025223652702689</td>\n",
       "      <td>2.678786492495426 dimensionless</td>\n",
       "      <td>EScoreResultType.COMPLETE</td>\n",
       "    </tr>\n",
       "    <tr>\n",
       "      <th>20</th>\n",
       "      <td>Electricité de France</td>\n",
       "      <td>FR0010242511</td>\n",
       "      <td>Europe</td>\n",
       "      <td>Electricity Utilities</td>\n",
       "      <td>0.5</td>\n",
       "      <td>[{'netzero_year': 2050, 'target_type': 'absolu...</td>\n",
       "      <td>{'productions': [{'year': 2016, 'value': nan g...</td>\n",
       "      <td>FR</td>\n",
       "      <td>Mt CO2e</td>\n",
       "      <td>GWh</td>\n",
       "      <td>...</td>\n",
       "      <td>FR0010242511</td>\n",
       "      <td>143394051.0</td>\n",
       "      <td>S1S2</td>\n",
       "      <td>LONG</td>\n",
       "      <td>3.64859015883135</td>\n",
       "      <td>4.43735560775068</td>\n",
       "      <td>10.388748759833396 dimensionless</td>\n",
       "      <td>2.8598247099120195</td>\n",
       "      <td>5.346444306943763 dimensionless</td>\n",
       "      <td>EScoreResultType.COMPLETE</td>\n",
       "    </tr>\n",
       "    <tr>\n",
       "      <th>33</th>\n",
       "      <td>Hawaiian Electric Industries, Inc.</td>\n",
       "      <td>US4198701009</td>\n",
       "      <td>North America</td>\n",
       "      <td>Electricity Utilities</td>\n",
       "      <td>0.5</td>\n",
       "      <td>[{'netzero_year': 2050, 'target_type': 'intens...</td>\n",
       "      <td>{'productions': [{'year': 2016, 'value': 4.942...</td>\n",
       "      <td>US</td>\n",
       "      <td>Mt CO2e</td>\n",
       "      <td>TWh</td>\n",
       "      <td>...</td>\n",
       "      <td>US4198701009</td>\n",
       "      <td>87680818.0</td>\n",
       "      <td>S1S2</td>\n",
       "      <td>LONG</td>\n",
       "      <td>4.075429819427697</td>\n",
       "      <td>5.675990353819275</td>\n",
       "      <td>14.347830324677805 dimensionless</td>\n",
       "      <td>2.4748692850361182</td>\n",
       "      <td>4.1160009250263725 dimensionless</td>\n",
       "      <td>EScoreResultType.COMPLETE</td>\n",
       "    </tr>\n",
       "    <tr>\n",
       "      <th>36</th>\n",
       "      <td>MDU Resources Group</td>\n",
       "      <td>US5526901096</td>\n",
       "      <td>North America</td>\n",
       "      <td>Electricity Utilities</td>\n",
       "      <td>0.5</td>\n",
       "      <td>[{'netzero_year': 2050, 'target_type': 'intens...</td>\n",
       "      <td>{'productions': [{'year': 2016, 'value': 2.187...</td>\n",
       "      <td>US</td>\n",
       "      <td>Mt CO2e</td>\n",
       "      <td>TWh</td>\n",
       "      <td>...</td>\n",
       "      <td>US5526901096</td>\n",
       "      <td>71242000.0</td>\n",
       "      <td>S1S2</td>\n",
       "      <td>LONG</td>\n",
       "      <td>3.9036630814037316</td>\n",
       "      <td>5.367754118686204</td>\n",
       "      <td>13.36260655309728 dimensionless</td>\n",
       "      <td>2.43957204412126</td>\n",
       "      <td>4.003179404203197 dimensionless</td>\n",
       "      <td>EScoreResultType.COMPLETE</td>\n",
       "    </tr>\n",
       "    <tr>\n",
       "      <th>37</th>\n",
       "      <td>National Grid PLC</td>\n",
       "      <td>US6362744095</td>\n",
       "      <td>Europe</td>\n",
       "      <td>Electricity Utilities</td>\n",
       "      <td>0.5</td>\n",
       "      <td>[{'netzero_year': 2050, 'target_type': 'absolu...</td>\n",
       "      <td>{'productions': [{'year': 2016, 'value': 9.668...</td>\n",
       "      <td>GB</td>\n",
       "      <td>Mt CO2e</td>\n",
       "      <td>TWh</td>\n",
       "      <td>...</td>\n",
       "      <td>US6362744095</td>\n",
       "      <td>56677350.0</td>\n",
       "      <td>S1S2</td>\n",
       "      <td>LONG</td>\n",
       "      <td>3.1146972337237315</td>\n",
       "      <td>3.983923262728284</td>\n",
       "      <td>8.939430755651616 dimensionless</td>\n",
       "      <td>2.2454712047191796</td>\n",
       "      <td>3.3827696688581455 dimensionless</td>\n",
       "      <td>EScoreResultType.COMPLETE</td>\n",
       "    </tr>\n",
       "    <tr>\n",
       "      <th>40</th>\n",
       "      <td>Nisource Inc.</td>\n",
       "      <td>US65473P1057</td>\n",
       "      <td>North America</td>\n",
       "      <td>Electricity Utilities</td>\n",
       "      <td>0.5</td>\n",
       "      <td>[{'netzero_year': 2050, 'target_type': 'absolu...</td>\n",
       "      <td>{'productions': [{'year': 2016, 'value': 11.78...</td>\n",
       "      <td>US</td>\n",
       "      <td>Mt CO2e</td>\n",
       "      <td>TWh</td>\n",
       "      <td>...</td>\n",
       "      <td>US65473P1057</td>\n",
       "      <td>174058289.0</td>\n",
       "      <td>S1S2</td>\n",
       "      <td>LONG</td>\n",
       "      <td>3.4302701100972506</td>\n",
       "      <td>5.320902857833403</td>\n",
       "      <td>13.212854607480725 dimensionless</td>\n",
       "      <td>1.5396373623610988</td>\n",
       "      <td>1.1266939677745755 dimensionless</td>\n",
       "      <td>EScoreResultType.COMPLETE</td>\n",
       "    </tr>\n",
       "    <tr>\n",
       "      <th>43</th>\n",
       "      <td>OG&amp;E Energy Corp.</td>\n",
       "      <td>US6708371033</td>\n",
       "      <td>North America</td>\n",
       "      <td>Electricity Utilities</td>\n",
       "      <td>0.5</td>\n",
       "      <td>[{'netzero_year': 2050, 'target_type': 'absolu...</td>\n",
       "      <td>{'productions': [{'year': 2016, 'value': 50505...</td>\n",
       "      <td>US</td>\n",
       "      <td>t CO2e</td>\n",
       "      <td>MWh</td>\n",
       "      <td>...</td>\n",
       "      <td>US6708371033</td>\n",
       "      <td>114308434.0</td>\n",
       "      <td>S1S2</td>\n",
       "      <td>LONG</td>\n",
       "      <td>3.1574807271047636</td>\n",
       "      <td>4.651657389072913</td>\n",
       "      <td>11.073727309352613 dimensionless</td>\n",
       "      <td>1.6633040651366144</td>\n",
       "      <td>1.5219731771602638 dimensionless</td>\n",
       "      <td>EScoreResultType.COMPLETE</td>\n",
       "    </tr>\n",
       "    <tr>\n",
       "      <th>49</th>\n",
       "      <td>PPL Corp.</td>\n",
       "      <td>US69351T1060</td>\n",
       "      <td>North America</td>\n",
       "      <td>Electricity Utilities</td>\n",
       "      <td>0.5</td>\n",
       "      <td>[{'netzero_year': 2050, 'target_type': 'absolu...</td>\n",
       "      <td>{'productions': [{'year': 2016, 'value': 34.61...</td>\n",
       "      <td>US</td>\n",
       "      <td>Mt CO2e</td>\n",
       "      <td>TWh</td>\n",
       "      <td>...</td>\n",
       "      <td>US69351T1060</td>\n",
       "      <td>146274564.0</td>\n",
       "      <td>S1S2</td>\n",
       "      <td>LONG</td>\n",
       "      <td>3.931791519454354</td>\n",
       "      <td>5.465695969686425</td>\n",
       "      <td>13.675660726615709 dimensionless</td>\n",
       "      <td>2.3978870692222833</td>\n",
       "      <td>3.869940597381932 dimensionless</td>\n",
       "      <td>EScoreResultType.COMPLETE</td>\n",
       "    </tr>\n",
       "    <tr>\n",
       "      <th>75</th>\n",
       "      <td>CBRE</td>\n",
       "      <td>US12504L1098</td>\n",
       "      <td>North America</td>\n",
       "      <td>Commercial Buildings</td>\n",
       "      <td>0.5</td>\n",
       "      <td>[{'netzero_year': 2050, 'target_type': 'absolu...</td>\n",
       "      <td>{'productions': [{'year': 2016, 'value': 53000...</td>\n",
       "      <td>US</td>\n",
       "      <td>t CO2e</td>\n",
       "      <td>ft**2</td>\n",
       "      <td>...</td>\n",
       "      <td>US12504L1098</td>\n",
       "      <td>184884258.0</td>\n",
       "      <td>S1S2</td>\n",
       "      <td>LONG</td>\n",
       "      <td>4.014346838564222</td>\n",
       "      <td>6.046038088323321</td>\n",
       "      <td>15.530623854761997 dimensionless</td>\n",
       "      <td>1.9826555888051234</td>\n",
       "      <td>2.5427250445480927 dimensionless</td>\n",
       "      <td>EScoreResultType.COMPLETE</td>\n",
       "    </tr>\n",
       "  </tbody>\n",
       "</table>\n",
       "<p>12 rows × 40 columns</p>\n",
       "</div>"
      ],
      "text/plain": [
       "                          company_name    company_id         region  \\\n",
       "3                         Ameren Corp.  US0236081024  North America   \n",
       "13                    CMS Energy Corp.  US1258961002  North America   \n",
       "15                   Cleco Partners LP  US18551QAA58  North America   \n",
       "17                          DTE Energy  US2333311072  North America   \n",
       "20               Electricité de France  FR0010242511         Europe   \n",
       "33  Hawaiian Electric Industries, Inc.  US4198701009  North America   \n",
       "36                 MDU Resources Group  US5526901096  North America   \n",
       "37                   National Grid PLC  US6362744095         Europe   \n",
       "40                       Nisource Inc.  US65473P1057  North America   \n",
       "43                   OG&E Energy Corp.  US6708371033  North America   \n",
       "49                           PPL Corp.  US69351T1060  North America   \n",
       "75                                CBRE  US12504L1098  North America   \n",
       "\n",
       "                   sector  target_probability  \\\n",
       "3   Electricity Utilities                 0.5   \n",
       "13  Electricity Utilities                 0.5   \n",
       "15  Electricity Utilities                 0.5   \n",
       "17  Electricity Utilities                 0.5   \n",
       "20  Electricity Utilities                 0.5   \n",
       "33  Electricity Utilities                 0.5   \n",
       "36  Electricity Utilities                 0.5   \n",
       "37  Electricity Utilities                 0.5   \n",
       "40  Electricity Utilities                 0.5   \n",
       "43  Electricity Utilities                 0.5   \n",
       "49  Electricity Utilities                 0.5   \n",
       "75   Commercial Buildings                 0.5   \n",
       "\n",
       "                                          target_data  \\\n",
       "3   [{'netzero_year': 2050, 'target_type': 'absolu...   \n",
       "13  [{'netzero_year': 2050, 'target_type': 'absolu...   \n",
       "15  [{'netzero_year': 2050, 'target_type': 'absolu...   \n",
       "17  [{'netzero_year': 2050, 'target_type': 'absolu...   \n",
       "20  [{'netzero_year': 2050, 'target_type': 'absolu...   \n",
       "33  [{'netzero_year': 2050, 'target_type': 'intens...   \n",
       "36  [{'netzero_year': 2050, 'target_type': 'intens...   \n",
       "37  [{'netzero_year': 2050, 'target_type': 'absolu...   \n",
       "40  [{'netzero_year': 2050, 'target_type': 'absolu...   \n",
       "43  [{'netzero_year': 2050, 'target_type': 'absolu...   \n",
       "49  [{'netzero_year': 2050, 'target_type': 'absolu...   \n",
       "75  [{'netzero_year': 2050, 'target_type': 'absolu...   \n",
       "\n",
       "                                        historic_data country  \\\n",
       "3   {'productions': [{'year': 2016, 'value': 38.50...      US   \n",
       "13  {'productions': [{'year': 2016, 'value': 16.69...      US   \n",
       "15  {'productions': [{'year': 2016, 'value': 13.52...      US   \n",
       "17  {'productions': [{'year': 2016, 'value': 38.33...      US   \n",
       "20  {'productions': [{'year': 2016, 'value': nan g...      FR   \n",
       "33  {'productions': [{'year': 2016, 'value': 4.942...      US   \n",
       "36  {'productions': [{'year': 2016, 'value': 2.187...      US   \n",
       "37  {'productions': [{'year': 2016, 'value': 9.668...      GB   \n",
       "40  {'productions': [{'year': 2016, 'value': 11.78...      US   \n",
       "43  {'productions': [{'year': 2016, 'value': 50505...      US   \n",
       "49  {'productions': [{'year': 2016, 'value': 34.61...      US   \n",
       "75  {'productions': [{'year': 2016, 'value': 53000...      US   \n",
       "\n",
       "   emissions_metric production_metric  ...  company_isin investment_value  \\\n",
       "3           Mt CO2e               TWh  ...  US0236081024       99901256.0   \n",
       "13          Mt CO2e               TWh  ...  US1258961002      136378300.0   \n",
       "15          Mt CO2e               TWh  ...  US18551QAA58      124297176.0   \n",
       "17          Mt CO2e               TWh  ...  US2333311072      244926616.0   \n",
       "20          Mt CO2e               GWh  ...  FR0010242511      143394051.0   \n",
       "33          Mt CO2e               TWh  ...  US4198701009       87680818.0   \n",
       "36          Mt CO2e               TWh  ...  US5526901096       71242000.0   \n",
       "37          Mt CO2e               TWh  ...  US6362744095       56677350.0   \n",
       "40          Mt CO2e               TWh  ...  US65473P1057      174058289.0   \n",
       "43           t CO2e               MWh  ...  US6708371033      114308434.0   \n",
       "49          Mt CO2e               TWh  ...  US69351T1060      146274564.0   \n",
       "75           t CO2e             ft**2  ...  US12504L1098      184884258.0   \n",
       "\n",
       "   scope time_frame   temperature_score    trajectory_score  \\\n",
       "3   S1S2       LONG  3.5287111167494727   4.980644132775656   \n",
       "13  S1S2       LONG   3.165945671927359  4.9487003522774735   \n",
       "15  S1S2       LONG   3.374482584218334   4.745932694577139   \n",
       "17  S1S2       LONG   4.658414655304366   7.291605657906043   \n",
       "20  S1S2       LONG    3.64859015883135    4.43735560775068   \n",
       "33  S1S2       LONG   4.075429819427697   5.675990353819275   \n",
       "36  S1S2       LONG  3.9036630814037316   5.367754118686204   \n",
       "37  S1S2       LONG  3.1146972337237315   3.983923262728284   \n",
       "40  S1S2       LONG  3.4302701100972506   5.320902857833403   \n",
       "43  S1S2       LONG  3.1574807271047636   4.651657389072913   \n",
       "49  S1S2       LONG   3.931791519454354   5.465695969686425   \n",
       "75  S1S2       LONG   4.014346838564222   6.046038088323321   \n",
       "\n",
       "          trajectory_overshoot_ratio        target_score  \\\n",
       "3   12.125276489775484 dimensionless   2.076778100723289   \n",
       "13  12.023173724708382 dimensionless  1.3831909915772447   \n",
       "15  11.375062004852252 dimensionless  2.0030324738595295   \n",
       "17  19.511864989935127 dimensionless   2.025223652702689   \n",
       "20  10.388748759833396 dimensionless  2.8598247099120195   \n",
       "33  14.347830324677805 dimensionless  2.4748692850361182   \n",
       "36   13.36260655309728 dimensionless    2.43957204412126   \n",
       "37   8.939430755651616 dimensionless  2.2454712047191796   \n",
       "40  13.212854607480725 dimensionless  1.5396373623610988   \n",
       "43  11.073727309352613 dimensionless  1.6633040651366144   \n",
       "49  13.675660726615709 dimensionless  2.3978870692222833   \n",
       "75  15.530623854761997 dimensionless  1.9826555888051234   \n",
       "\n",
       "              target_overshoot_ratio          score_result_type  \n",
       "3    2.843571361797634 dimensionless  EScoreResultType.COMPLETE  \n",
       "13  0.6266402235831711 dimensionless  EScoreResultType.COMPLETE  \n",
       "15   2.607856230496097 dimensionless  EScoreResultType.COMPLETE  \n",
       "17   2.678786492495426 dimensionless  EScoreResultType.COMPLETE  \n",
       "20   5.346444306943763 dimensionless  EScoreResultType.COMPLETE  \n",
       "33  4.1160009250263725 dimensionless  EScoreResultType.COMPLETE  \n",
       "36   4.003179404203197 dimensionless  EScoreResultType.COMPLETE  \n",
       "37  3.3827696688581455 dimensionless  EScoreResultType.COMPLETE  \n",
       "40  1.1266939677745755 dimensionless  EScoreResultType.COMPLETE  \n",
       "43  1.5219731771602638 dimensionless  EScoreResultType.COMPLETE  \n",
       "49   3.869940597381932 dimensionless  EScoreResultType.COMPLETE  \n",
       "75  2.5427250445480927 dimensionless  EScoreResultType.COMPLETE  \n",
       "\n",
       "[12 rows x 40 columns]"
      ]
     },
     "execution_count": 16,
     "metadata": {},
     "output_type": "execute_result"
    }
   ],
   "source": [
    "data = enhanced_portfolio[(enhanced_portfolio.scope==EScope.S1S2)&(enhanced_portfolio.temperature_score>Q_(3, 'delta_degC'))]\n",
    "data"
   ]
  },
  {
   "cell_type": "markdown",
   "metadata": {
    "tags": []
   },
   "source": [
    "## Calculate the aggregated temperature score\n",
    "Calculate an aggregated temperature score. This can be done using different aggregation methods. Here we'll use the \"Weighted Average Temperature Score\" (WATS) by initializing the TemperatureScore Object with PortfolioAggregationMethod.WATS. The temperature scores are calculated per time-frame/scope combination.\n"
   ]
  },
  {
   "cell_type": "code",
   "execution_count": 17,
   "metadata": {},
   "outputs": [
    {
     "name": "stdout",
     "output_type": "stream",
     "text": [
      "Temperature Score aggregation method = PortfolioAggregationMethod.WATS\n"
     ]
    },
    {
     "name": "stderr",
     "output_type": "stream",
     "text": [
      "/Users/michael/miniconda3/envs/itr_env_vanilla/lib/python3.9/site-packages/pandas/core/dtypes/cast.py:1784: UnitStrippedWarning: The unit of the quantity is stripped when downcasting to ndarray.\n",
      "  result[:] = values\n"
     ]
    }
   ],
   "source": [
    "aggregated_scores = temperature_score.aggregate_scores(enhanced_portfolio)\n",
    "print(f\"Temperature Score aggregation method = {temperature_score.aggregation_method}\")"
   ]
  },
  {
   "cell_type": "code",
   "execution_count": 18,
   "metadata": {},
   "outputs": [
    {
     "data": {
      "text/html": [
       "2.0827953385192464 delta_degree_Celsius"
      ],
      "text/latex": [
       "$2.0827953385192464\\ \\mathrm{delta\\_degree\\_Celsius}$"
      ],
      "text/plain": [
       "2.0827953385192464 <Unit('delta_degree_Celsius')>"
      ]
     },
     "execution_count": 18,
     "metadata": {},
     "output_type": "execute_result"
    }
   ],
   "source": [
    "aggregated_scores.long.S1S2.all.score"
   ]
  },
  {
   "cell_type": "markdown",
   "metadata": {},
   "source": [
    "## Display aggregation data in various ways"
   ]
  },
  {
   "cell_type": "markdown",
   "metadata": {},
   "source": [
    "\n",
    "The first analysis of your portfolio could be to understand if you have any particular hotspots in your portfolio. We can do that by analysing different groupings of companies.\n",
    "\n",
    "The tool allows you to calculate temperature scores for _groups_ of companies. In this example we group the scores by sector and region, and leave the timeframe and scope unchanged. Any categorical variable in the data provided by you or your data provider (in the `test_company_data.xlsx` imported above) can be used as grouping variable, e.g. sectors, industries, regions, countries, market cap buckets, as well as the additional fields you imported via the portfolio data.\n",
    "\n",
    "You can change the variable by which the data is grouped by replacing the fourth line in the following cell. For example, replacing \"grouping=['sector', 'region']\" by \"grouping=['sector', 'country']\" would result in temperature scores per sector per country. \n",
    "If you want to change the time frame as well, please refer to the section 'Calculate the company temperature scores' above.\n",
    "\n"
   ]
  },
  {
   "cell_type": "code",
   "execution_count": 19,
   "metadata": {
    "scrolled": true
   },
   "outputs": [
    {
     "name": "stderr",
     "output_type": "stream",
     "text": [
      "/Users/michael/miniconda3/envs/itr_env_vanilla/lib/python3.9/site-packages/pandas/core/dtypes/cast.py:1784: UnitStrippedWarning: The unit of the quantity is stripped when downcasting to ndarray.\n",
      "  result[:] = values\n",
      "/Users/michael/miniconda3/envs/itr_env_vanilla/lib/python3.9/site-packages/pandas/core/dtypes/cast.py:1784: UnitStrippedWarning: The unit of the quantity is stripped when downcasting to ndarray.\n",
      "  result[:] = values\n",
      "/Users/michael/miniconda3/envs/itr_env_vanilla/lib/python3.9/site-packages/pandas/core/dtypes/cast.py:1784: UnitStrippedWarning: The unit of the quantity is stripped when downcasting to ndarray.\n",
      "  result[:] = values\n"
     ]
    }
   ],
   "source": [
    "grouping = ['sector', 'region']\n",
    "temperature_score.grouping = grouping\n",
    "grouped_portfolio = temperature_score.calculate(data_warehouse=template_provider, portfolio=companies)\n",
    "grouped_aggregations = temperature_score.aggregate_scores(grouped_portfolio)"
   ]
  },
  {
   "cell_type": "markdown",
   "metadata": {},
   "source": [
    "\n",
    "The aggregated scores can then be used, for example, to show the relation between sectors and regions with respect to temperature score.\n",
    "A visualization of this relation is shown in the heatmap below. The grey fields indicate that the portfolio contains no assest for those combinations.\n",
    "\n",
    "#### Quick analysis: Heat Map\n",
    "\n",
    "We can see here that our North American Steel is in reasonable shape. While Asian Steel can be improved as shown in the drill down below the graph\n",
    "\n"
   ]
  },
  {
   "cell_type": "code",
   "execution_count": 20,
   "metadata": {},
   "outputs": [
    {
     "data": {
      "image/png": "[encoded data removed]",
      "text/plain": [
       "<Figure size 630x320 with 2 Axes>"
      ]
     },
     "metadata": {},
     "output_type": "display_data"
    }
   ],
   "source": [
    "analysis_parameters = ([ETimeFrames.LONG], [EScope.S1S2], grouping)\n",
    "plot_grouped_heatmap(grouped_aggregations, analysis_parameters)"
   ]
  },
  {
   "cell_type": "code",
   "execution_count": 21,
   "metadata": {},
   "outputs": [
    {
     "data": {
      "text/html": [
       "<div>\n",
       "<style scoped>\n",
       "    .dataframe tbody tr th:only-of-type {\n",
       "        vertical-align: middle;\n",
       "    }\n",
       "\n",
       "    .dataframe tbody tr th {\n",
       "        vertical-align: top;\n",
       "    }\n",
       "\n",
       "    .dataframe thead th {\n",
       "        text-align: right;\n",
       "    }\n",
       "</style>\n",
       "<table border=\"1\" class=\"dataframe\">\n",
       "  <thead>\n",
       "    <tr style=\"text-align: right;\">\n",
       "      <th></th>\n",
       "      <th>group</th>\n",
       "      <th>company_name</th>\n",
       "      <th>company_id</th>\n",
       "      <th>temperature_score</th>\n",
       "      <th>contribution_relative</th>\n",
       "    </tr>\n",
       "  </thead>\n",
       "  <tbody>\n",
       "    <tr>\n",
       "      <th>0</th>\n",
       "      <td>Steel-Asia</td>\n",
       "      <td>NIPPON STEEL CORP</td>\n",
       "      <td>JP3381000003</td>\n",
       "      <td>1.56836828763667 delta_degree_Celsius</td>\n",
       "      <td>59.29852436098899 percent</td>\n",
       "    </tr>\n",
       "    <tr>\n",
       "      <th>1</th>\n",
       "      <td>Steel-Asia</td>\n",
       "      <td>POSCO</td>\n",
       "      <td>KR7005490008</td>\n",
       "      <td>1.543980116056645 delta_degree_Celsius</td>\n",
       "      <td>40.701475639011015 percent</td>\n",
       "    </tr>\n",
       "  </tbody>\n",
       "</table>\n",
       "</div>"
      ],
      "text/plain": [
       "        group       company_name    company_id  \\\n",
       "0  Steel-Asia  NIPPON STEEL CORP  JP3381000003   \n",
       "1  Steel-Asia              POSCO  KR7005490008   \n",
       "\n",
       "                        temperature_score       contribution_relative  \n",
       "0   1.56836828763667 delta_degree_Celsius   59.29852436098899 percent  \n",
       "1  1.543980116056645 delta_degree_Celsius  40.701475639011015 percent  "
      ]
     },
     "execution_count": 21,
     "metadata": {},
     "output_type": "execute_result"
    }
   ],
   "source": [
    "region = 'Asia'\n",
    "sector = 'Steel'\n",
    "group = sector + '-' + region\n",
    "analysis_parameters = ([ETimeFrames.LONG], [EScope.S1S2], grouping)\n",
    "group_contributions = get_contributions_per_group(grouped_aggregations, analysis_parameters, group)\n",
    "group_contributions.round(2)"
   ]
  },
  {
   "cell_type": "markdown",
   "metadata": {},
   "source": [
    "#### Sector analysis\n",
    "\n",
    "Sector analysis may help us with bringing some clarity into our analysis from the heatmap above. In order to identify the companies that your portfolio would most benefit from engaging with, we can start with identifying the biggest contributing sectors to the portfolio's temperature score, as in our example below.\n",
    "\n",
    "Contributions can be identified on an individual company level, as well as contributions from companies grouped by one of their characteristics, e.g. sector or region. The exact definitions of companies' contributions to the portfolio temperature scores depend on the selected aggregation method.\n",
    "\n",
    "You can group companies on any categorical variable (e.g. sectors, countries, market cap buckets, investment strategies, etc)  you provide through your dataprovider, in this example in the test_company_data.xlsx imported above.\n",
    "\n",
    "For our analysis we select one time-frame (LONG) and one scope (S1+S2) and group the outcomes on sector and compare AUM to temperature score contribution. We also then display the sector temperature scores.\n",
    "\n",
    "#### Quick analysis\n",
    "\n",
    "In this example we can see that both sectors Steel and Electricity are scoring above 2.0C. \n"
   ]
  },
  {
   "cell_type": "code",
   "execution_count": 22,
   "metadata": {},
   "outputs": [
    {
     "name": "stderr",
     "output_type": "stream",
     "text": [
      "/Users/michael/miniconda3/envs/itr_env_vanilla/lib/python3.9/site-packages/pandas/core/dtypes/cast.py:1784: UnitStrippedWarning: The unit of the quantity is stripped when downcasting to ndarray.\n",
      "  result[:] = values\n",
      "/Users/michael/miniconda3/envs/itr_env_vanilla/lib/python3.9/site-packages/pandas/core/dtypes/cast.py:1784: UnitStrippedWarning: The unit of the quantity is stripped when downcasting to ndarray.\n",
      "  result[:] = values\n",
      "/Users/michael/miniconda3/envs/itr_env_vanilla/lib/python3.9/site-packages/pandas/core/dtypes/cast.py:1784: UnitStrippedWarning: The unit of the quantity is stripped when downcasting to ndarray.\n",
      "  result[:] = values\n",
      "/Users/michael/Dropbox/My Mac (MacBook-Pro.local)/Documents/GitHub/MichaelTiemannOSC/ITR/ITR/temperature_score.py:289: FutureWarning: In a future version of pandas, a length 1 tuple will be returned when iterating over a groupby with a grouper equal to a list of length 1. Don't supply a list with a single grouper to avoid this warning.\n",
      "  for group_names, group in grouped_data:\n",
      "/Users/michael/miniconda3/envs/itr_env_vanilla/lib/python3.9/site-packages/pandas/core/dtypes/cast.py:1784: UnitStrippedWarning: The unit of the quantity is stripped when downcasting to ndarray.\n",
      "  result[:] = values\n",
      "/Users/michael/Dropbox/My Mac (MacBook-Pro.local)/Documents/GitHub/MichaelTiemannOSC/ITR/ITR/temperature_score.py:289: FutureWarning: In a future version of pandas, a length 1 tuple will be returned when iterating over a groupby with a grouper equal to a list of length 1. Don't supply a list with a single grouper to avoid this warning.\n",
      "  for group_names, group in grouped_data:\n"
     ]
    }
   ],
   "source": [
    "time_frames = [ETimeFrames.LONG]\n",
    "scopes = [EScope.S1S2, EScope.S3]\n",
    "grouping = ['sector']\n",
    "analysis_parameters = (time_frames, scopes, grouping)\n",
    "\n",
    "temperature_score = TemperatureScore(time_frames=time_frames,\n",
    "                                     scopes=scopes,\n",
    "                                     grouping=grouping, aggregation_method=PortfolioAggregationMethod.WATS)\n",
    "enhanced_portfolio = temperature_score.calculate(data_warehouse=template_provider, portfolio=companies)\n",
    "aggregated_portfolio = temperature_score.aggregate_scores(enhanced_portfolio)\n",
    "with warnings.catch_warnings():\n",
    "    warnings.simplefilter(\"ignore\")\n",
    "    company_contributions = collect_company_contributions(aggregated_portfolio, enhanced_portfolio, analysis_parameters)"
   ]
  },
  {
   "cell_type": "code",
   "execution_count": 23,
   "metadata": {},
   "outputs": [
    {
     "data": {
      "image/png": "[encoded data removed]",
      "text/plain": [
       "<Figure size 1000x750 with 3 Axes>"
      ]
     },
     "metadata": {},
     "output_type": "display_data"
    }
   ],
   "source": [
    "plot_grouped_statistics(aggregated_portfolio, company_contributions, analysis_parameters)"
   ]
  },
  {
   "cell_type": "markdown",
   "metadata": {},
   "source": [
    "We can use what we learned from this analysis to drill into a few of the highest contributing scoring sectors to see which\n",
    "companies are the biggest contributors on the sector level. Considering the Steel sector, for instance, in the\n",
    "table below.\n"
   ]
  },
  {
   "cell_type": "code",
   "execution_count": 24,
   "metadata": {},
   "outputs": [
    {
     "data": {
      "text/html": [
       "<div>\n",
       "<style scoped>\n",
       "    .dataframe tbody tr th:only-of-type {\n",
       "        vertical-align: middle;\n",
       "    }\n",
       "\n",
       "    .dataframe tbody tr th {\n",
       "        vertical-align: top;\n",
       "    }\n",
       "\n",
       "    .dataframe thead th {\n",
       "        text-align: right;\n",
       "    }\n",
       "</style>\n",
       "<table border=\"1\" class=\"dataframe\">\n",
       "  <thead>\n",
       "    <tr style=\"text-align: right;\">\n",
       "      <th></th>\n",
       "      <th>company_name</th>\n",
       "      <th>company_id</th>\n",
       "      <th>sector</th>\n",
       "      <th>contribution</th>\n",
       "      <th>temperature_score</th>\n",
       "      <th>ownership_percentage</th>\n",
       "      <th>portfolio_percentage</th>\n",
       "    </tr>\n",
       "  </thead>\n",
       "  <tbody>\n",
       "    <tr>\n",
       "      <th>187</th>\n",
       "      <td>CARPENTER TECHNOLOGY CORP</td>\n",
       "      <td>US1442851036</td>\n",
       "      <td>Steel</td>\n",
       "      <td>1.7122731196107794 percent</td>\n",
       "      <td>2.2196035909356953 delta_degree_Celsius</td>\n",
       "      <td>10.21</td>\n",
       "      <td>0.40</td>\n",
       "    </tr>\n",
       "    <tr>\n",
       "      <th>186</th>\n",
       "      <td>CARPENTER TECHNOLOGY CORP</td>\n",
       "      <td>US1442851036</td>\n",
       "      <td>Steel</td>\n",
       "      <td>1.7122731196107794 percent</td>\n",
       "      <td>2.2196035909356953 delta_degree_Celsius</td>\n",
       "      <td>10.21</td>\n",
       "      <td>0.40</td>\n",
       "    </tr>\n",
       "    <tr>\n",
       "      <th>34</th>\n",
       "      <td>CARPENTER TECHNOLOGY CORP</td>\n",
       "      <td>US1442851036</td>\n",
       "      <td>Steel</td>\n",
       "      <td>1.7122731196107794 percent</td>\n",
       "      <td>2.2196035909356953 delta_degree_Celsius</td>\n",
       "      <td>10.21</td>\n",
       "      <td>0.40</td>\n",
       "    </tr>\n",
       "    <tr>\n",
       "      <th>35</th>\n",
       "      <td>CARPENTER TECHNOLOGY CORP</td>\n",
       "      <td>US1442851036</td>\n",
       "      <td>Steel</td>\n",
       "      <td>1.7122731196107794 percent</td>\n",
       "      <td>2.2196035909356953 delta_degree_Celsius</td>\n",
       "      <td>10.21</td>\n",
       "      <td>0.40</td>\n",
       "    </tr>\n",
       "    <tr>\n",
       "      <th>44</th>\n",
       "      <td>GERDAU S.A.</td>\n",
       "      <td>US3737371050</td>\n",
       "      <td>Steel</td>\n",
       "      <td>1.5033786440724644 percent</td>\n",
       "      <td>1.5187346566361883 delta_degree_Celsius</td>\n",
       "      <td>11.56</td>\n",
       "      <td>0.52</td>\n",
       "    </tr>\n",
       "    <tr>\n",
       "      <th>196</th>\n",
       "      <td>GERDAU S.A.</td>\n",
       "      <td>US3737371050</td>\n",
       "      <td>Steel</td>\n",
       "      <td>1.5033786440724644 percent</td>\n",
       "      <td>1.5187346566361883 delta_degree_Celsius</td>\n",
       "      <td>11.56</td>\n",
       "      <td>0.52</td>\n",
       "    </tr>\n",
       "    <tr>\n",
       "      <th>45</th>\n",
       "      <td>GERDAU S.A.</td>\n",
       "      <td>US3737371050</td>\n",
       "      <td>Steel</td>\n",
       "      <td>1.5033786440724644 percent</td>\n",
       "      <td>1.5187346566361883 delta_degree_Celsius</td>\n",
       "      <td>11.56</td>\n",
       "      <td>0.52</td>\n",
       "    </tr>\n",
       "    <tr>\n",
       "      <th>197</th>\n",
       "      <td>GERDAU S.A.</td>\n",
       "      <td>US3737371050</td>\n",
       "      <td>Steel</td>\n",
       "      <td>1.5033786440724644 percent</td>\n",
       "      <td>1.5187346566361883 delta_degree_Celsius</td>\n",
       "      <td>11.56</td>\n",
       "      <td>0.52</td>\n",
       "    </tr>\n",
       "    <tr>\n",
       "      <th>203</th>\n",
       "      <td>COMMERCIAL METALS CO</td>\n",
       "      <td>US2017231034</td>\n",
       "      <td>Steel</td>\n",
       "      <td>1.4518354637698856 percent</td>\n",
       "      <td>1.3230894377457825 delta_degree_Celsius</td>\n",
       "      <td>12.90</td>\n",
       "      <td>0.57</td>\n",
       "    </tr>\n",
       "    <tr>\n",
       "      <th>202</th>\n",
       "      <td>COMMERCIAL METALS CO</td>\n",
       "      <td>US2017231034</td>\n",
       "      <td>Steel</td>\n",
       "      <td>1.4518354637698856 percent</td>\n",
       "      <td>1.3230894377457825 delta_degree_Celsius</td>\n",
       "      <td>12.90</td>\n",
       "      <td>0.57</td>\n",
       "    </tr>\n",
       "  </tbody>\n",
       "</table>\n",
       "</div>"
      ],
      "text/plain": [
       "                  company_name    company_id sector  \\\n",
       "187  CARPENTER TECHNOLOGY CORP  US1442851036  Steel   \n",
       "186  CARPENTER TECHNOLOGY CORP  US1442851036  Steel   \n",
       "34   CARPENTER TECHNOLOGY CORP  US1442851036  Steel   \n",
       "35   CARPENTER TECHNOLOGY CORP  US1442851036  Steel   \n",
       "44                 GERDAU S.A.  US3737371050  Steel   \n",
       "196                GERDAU S.A.  US3737371050  Steel   \n",
       "45                 GERDAU S.A.  US3737371050  Steel   \n",
       "197                GERDAU S.A.  US3737371050  Steel   \n",
       "203       COMMERCIAL METALS CO  US2017231034  Steel   \n",
       "202       COMMERCIAL METALS CO  US2017231034  Steel   \n",
       "\n",
       "                   contribution                        temperature_score  \\\n",
       "187  1.7122731196107794 percent  2.2196035909356953 delta_degree_Celsius   \n",
       "186  1.7122731196107794 percent  2.2196035909356953 delta_degree_Celsius   \n",
       "34   1.7122731196107794 percent  2.2196035909356953 delta_degree_Celsius   \n",
       "35   1.7122731196107794 percent  2.2196035909356953 delta_degree_Celsius   \n",
       "44   1.5033786440724644 percent  1.5187346566361883 delta_degree_Celsius   \n",
       "196  1.5033786440724644 percent  1.5187346566361883 delta_degree_Celsius   \n",
       "45   1.5033786440724644 percent  1.5187346566361883 delta_degree_Celsius   \n",
       "197  1.5033786440724644 percent  1.5187346566361883 delta_degree_Celsius   \n",
       "203  1.4518354637698856 percent  1.3230894377457825 delta_degree_Celsius   \n",
       "202  1.4518354637698856 percent  1.3230894377457825 delta_degree_Celsius   \n",
       "\n",
       "     ownership_percentage  portfolio_percentage  \n",
       "187                 10.21                  0.40  \n",
       "186                 10.21                  0.40  \n",
       "34                  10.21                  0.40  \n",
       "35                  10.21                  0.40  \n",
       "44                  11.56                  0.52  \n",
       "196                 11.56                  0.52  \n",
       "45                  11.56                  0.52  \n",
       "197                 11.56                  0.52  \n",
       "203                 12.90                  0.57  \n",
       "202                 12.90                  0.57  "
      ]
     },
     "execution_count": 24,
     "metadata": {},
     "output_type": "execute_result"
    }
   ],
   "source": [
    "sector_contributions = company_contributions[['company_name', 'company_id', 'sector', 'contribution', 'temperature_score', 'ownership_percentage', 'portfolio_percentage']]\n",
    "sector_contributions.loc[sector_contributions['sector'] == 'Steel'][:10].round(2)"
   ]
  },
  {
   "cell_type": "markdown",
   "metadata": {},
   "source": [
    "### Save portfolio data for further analysis\n",
    "To take your analysis outside of this notebook and for example for internal and client reporting, you can export all data to Excel and the clipboard for pasting into and analysing in other applications.\n",
    "\n",
    "If you run the ITR tool locally or from Google Colab, you:\n",
    "- Specify the filenames of the output files in the cell below, e.g. change 'data_dump.xlsx' in the first line to 'TS_output.xlsx'\n",
    "- Run the cell below"
   ]
  },
  {
   "cell_type": "code",
   "execution_count": 25,
   "metadata": {
    "pycharm": {
     "name": "#%%\n"
    }
   },
   "outputs": [],
   "source": [
    "data_dump_filename = 'data_dump.xlsx'\n",
    "enhanced_portfolio.set_index(['company_name', 'company_id']).to_excel(data_dump_filename)"
   ]
  },
  {
   "cell_type": "markdown",
   "metadata": {},
   "source": [
    "### Compare OECD and non-OECD results\n",
    "\n",
    "There are currently 37 members of the OECD (text list maintained on the OECD website).  We use a simple CSV file containing data correct as of June 6th, 2022."
   ]
  },
  {
   "cell_type": "code",
   "execution_count": 26,
   "metadata": {},
   "outputs": [],
   "source": [
    "from ITR.utils import get_project_root\n",
    "pkg_root = get_project_root()\n",
    "\n",
    "# When connected to the Data Commons, this would be the kind of data we could simply load from a table.\n",
    "# As this is a stand-alone program, we must load the data from a file.\n",
    "\n",
    "oecd_df = pd.read_csv(f\"{pkg_root}/data/input/oecd_iso.csv\")"
   ]
  },
  {
   "cell_type": "markdown",
   "metadata": {},
   "source": [
    "We reuse the calculated `grouped_portfolio` from above, and then add the additional OECD discriminator to it.  We can add arbitrary columns and group on them in this way.  (And of course we can recompute a fresh `grouped_portfolio` if we wish.)\n",
    "\n",
    "Because of the way we generate grouped and aggregated data (which uses dash (-) as a separator), we spell Non-OECD with an underscore  (non_oecd) instead of a dash."
   ]
  },
  {
   "cell_type": "code",
   "execution_count": 27,
   "metadata": {},
   "outputs": [
    {
     "name": "stderr",
     "output_type": "stream",
     "text": [
      "/Users/michael/miniconda3/envs/itr_env_vanilla/lib/python3.9/site-packages/pandas/core/dtypes/cast.py:1784: UnitStrippedWarning: The unit of the quantity is stripped when downcasting to ndarray.\n",
      "  result[:] = values\n"
     ]
    },
    {
     "data": {
      "image/png": "[encoded data removed]",
      "text/plain": [
       "<Figure size 630x160 with 2 Axes>"
      ]
     },
     "metadata": {},
     "output_type": "display_data"
    }
   ],
   "source": [
    "grouping = ['sector', 'oecd']\n",
    "grouped_portfolio.loc[:, 'oecd'] = grouped_portfolio.country.map(lambda x: 'oecd' if x in oecd_df.alpha_2.values else 'non_oecd')\n",
    "temperature_score.grouping = grouping\n",
    "grouped_aggregations = temperature_score.aggregate_scores(grouped_portfolio)\n",
    "analysis_parameters = ([ETimeFrames.LONG], [EScope.S1S2], grouping)\n",
    "plot_grouped_heatmap(grouped_aggregations, analysis_parameters)"
   ]
  }
 ],
 "metadata": {
  "kernelspec": {
   "display_name": "Python 3 (ipykernel)",
   "language": "python",
   "name": "python3"
  },
  "language_info": {
   "codemirror_mode": {
    "name": "ipython",
    "version": 3
   },
   "file_extension": ".py",
   "mimetype": "text/x-python",
   "name": "python",
   "nbconvert_exporter": "python",
   "pygments_lexer": "ipython3",
   "version": "3.9.13"
  }
 },
 "nbformat": 4,
 "nbformat_minor": 4
}
