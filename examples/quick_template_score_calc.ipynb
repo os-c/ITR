{
 "cells": [
  {
   "cell_type": "markdown",
   "metadata": {
    "tags": []
   },
   "source": [
    "# ITR Tool - Template Temperature Score Calculation\n",
    "\n",
    "This notebook provides a simple example of the ITR Toolkit as a means to evaluate Portfolio Alignment.  Text boxes (called Markdown cells) like this provide some explanation, and then code cells either do the work just explained or will do work that will be explained.\n",
    "\n",
    "All data needed to run this demonstration should be local and no acccess to the internet should be required.  However, if you want to delete a file and re-download it (to restore to its pristine state), of course you need access to the internet, and you will need a github token to access the OS-Climate hithub.\n",
    "\n",
    "The **Sample Data template** provides both a *Read me* sheet and sheet of data dictionary *Definitions*, as well as three input data sheets:\n",
    "* ITR input data: The fundamental financial, emissions, and production data of companies, listed by security instrument as company id\n",
    "* ITR target input data: Short-term Emissions or Intensity reduction targets and Net-Zero attainment target dates, listed by company id\n",
    "* Portfolio: A list of positions and investment value amounts\n",
    "\n",
    "The user may choose **Benchmark Data** that forecasts intensity reductions expected from 2020-2050 by region and sector.  By default we use the OECM benchmark, but two TPI benchmarks are also available.  In all three cases we use the same projections for production grwoth forecasts.  We also use the same global carbon budget and TCRE multipliers for all benchmarks.\n",
    "\n",
    "After scoring the portfolio, the portfolio is copied to the local file *data_dump.xlsx* which can be downloaded for further analysis.\n",
    "\n",
    "This notebook also outputs an **enhanced portfolio** (with temperature scores), can be aggregated using various weighting methods to gain additional portfolio alignment insights.\n",
    "\n",
    "Please enjoy learning how the ITR tool works by following the computations performed by this Jupyter Notebook!"
   ]
  },
  {
   "cell_type": "markdown",
   "metadata": {
    "tags": []
   },
   "source": [
    "## Getting started\n",
    "Make sure you are running the notebook with the requirements installed available in the example folder.\n",
    "\n",
    "If you see errors when attempting to load the ITR modules, go to the top-level ITR directory, activate the `itr_env` conda environment (using `conda activate itr_env` and execute the command `pip install -e .`.  Then try again, or hit the <i class=\"fas fa-forward\"></i> button above."
   ]
  },
  {
   "cell_type": "code",
   "execution_count": 1,
   "metadata": {},
   "outputs": [],
   "source": [
    "import os\n",
    "import sys\n",
    "import warnings"
   ]
  },
  {
   "cell_type": "markdown",
   "metadata": {
    "tags": []
   },
   "source": [
    "If all is well, the list of paths below will prioritize loading from the environment established for the ITR tool.  Please contact us if not."
   ]
  },
  {
   "cell_type": "code",
   "execution_count": 2,
   "metadata": {
    "tags": []
   },
   "outputs": [
    {
     "data": {
      "text/plain": [
       "['/Users/michael/Documents/GitHub/ITR/examples',\n",
       " '/Users/michael/Documents/GitHub/ITR/examples',\n",
       " '/Library/Application Support/Blackmagic Design/DaVinci Resolve/Developer/Scripting/Modules',\n",
       " '/Users/michael/opt/miniconda3/envs/jupyter/lib/python310.zip',\n",
       " '/Users/michael/opt/miniconda3/envs/jupyter/lib/python3.10',\n",
       " '/Users/michael/opt/miniconda3/envs/jupyter/lib/python3.10/lib-dynload',\n",
       " '',\n",
       " '/Users/michael/opt/miniconda3/envs/jupyter/lib/python3.10/site-packages',\n",
       " '/Users/michael/Documents/GitHub/ITR',\n",
       " '/Users/michael/Documents/GitHub/osc-ingest-tools']"
      ]
     },
     "metadata": {},
     "output_type": "display_data"
    }
   ],
   "source": [
    "display(sys.path)"
   ]
  },
  {
   "cell_type": "code",
   "execution_count": 3,
   "metadata": {
    "tags": []
   },
   "outputs": [],
   "source": [
    "# Load the ITR library files\n",
    "\n",
    "import ITR\n",
    "from ITR.data.excel import ExcelProviderProductionBenchmark, ExcelProviderIntensityBenchmark\n",
    "from ITR.data.template import TemplateProviderCompany\n",
    "from ITR.data.base_providers import BaseProviderProductionBenchmark, BaseProviderIntensityBenchmark\n",
    "from ITR.data.data_warehouse import DataWarehouse\n",
    "from ITR.portfolio_aggregation import PortfolioAggregationMethod\n",
    "from ITR.temperature_score import TemperatureScore\n",
    "from ITR.interfaces import ETimeFrames, EScope, IProductionBenchmarkScopes, IEIBenchmarkScopes\n",
    "import pandas as pd\n",
    "\n",
    "from ITR.data.osc_units import ureg, Q_, PA_"
   ]
  },
  {
   "cell_type": "code",
   "execution_count": 4,
   "metadata": {},
   "outputs": [
    {
     "name": "stdout",
     "output_type": "stream",
     "text": [
      "Testing unit registry\n",
      "=====================\n",
      "The gas species CO2e, which was a gwp of 1: 1 CO2e\n",
      "A gigaton of CO2e: 1 CO2e * gigametric_ton\n"
     ]
    }
   ],
   "source": [
    "print(\"Testing unit registry\\n=====================\")\n",
    "one_co2 = ureg(\"CO2e\")\n",
    "print(f\"The gas species CO2e, which was a gwp of 1: {one_co2}\")\n",
    "\n",
    "one_Gt_co2 = ureg(\"Gt CO2e\")\n",
    "print(f\"A gigaton of CO2e: {one_Gt_co2}\")"
   ]
  },
  {
   "cell_type": "markdown",
   "metadata": {},
   "source": [
    "## Load the production and intensity benchmarks\n",
    "\n",
    "Prepare the various benchmark files; the OECM benchmark is the default after the next cell finishes."
   ]
  },
  {
   "cell_type": "code",
   "execution_count": 5,
   "metadata": {},
   "outputs": [],
   "source": [
    "import json\n",
    "\n",
    "self_root = os.path.abspath('')\n",
    "benchmark_prod_json = os.path.join(self_root, \"data\", \"json-units\", \"benchmark_production_OECM.json\")\n",
    "benchmark_EI_OECM = os.path.join(self_root, \"data\", \"json-units\", \"benchmark_EI_OECM.json\")\n",
    "benchmark_EI_TPI = os.path.join(self_root, \"data\", \"json-units\", \"benchmark_EI_TPI_2_degrees.json\")\n",
    "benchmark_EI_TPI_below_2 = os.path.join(self_root, \"data\", \"json-units\", \"benchmark_EI_TPI_below_2_degrees.json\")\n",
    "\n",
    "# load production benchmarks\n",
    "with open(benchmark_prod_json) as json_file:\n",
    "    parsed_json = json.load(json_file)\n",
    "prod_bms = IProductionBenchmarkScopes.parse_obj(parsed_json)\n",
    "base_production_bm = BaseProviderProductionBenchmark(production_benchmarks=prod_bms)\n",
    "\n",
    "# load intensity benchmarks\n",
    "\n",
    "# OECM\n",
    "with open(benchmark_EI_OECM) as json_file:\n",
    "    parsed_json = json.load(json_file)\n",
    "ei_bms = IEIBenchmarkScopes.parse_obj(parsed_json)\n",
    "OECM_EI_bm = BaseProviderIntensityBenchmark(EI_benchmarks=ei_bms)\n",
    "\n",
    "# TPI\n",
    "with open(benchmark_EI_TPI) as json_file:\n",
    "    parsed_json = json.load(json_file)\n",
    "ei_bms = IEIBenchmarkScopes.parse_obj(parsed_json)\n",
    "TPI_EI_bm = BaseProviderIntensityBenchmark(EI_benchmarks=ei_bms)\n",
    "\n",
    "# TPI below 2\n",
    "with open(benchmark_EI_TPI_below_2) as json_file:\n",
    "    parsed_json = json.load(json_file)\n",
    "ei_bms = IEIBenchmarkScopes.parse_obj(parsed_json)\n",
    "TPI_below_2_EI_bm = BaseProviderIntensityBenchmark(EI_benchmarks=ei_bms)\n",
    "\n",
    "base_intensity_bm = OECM_EI_bm"
   ]
  },
  {
   "cell_type": "markdown",
   "metadata": {
    "tags": []
   },
   "source": [
    "## Download/load the sample template data\n",
    "\n",
    "We have prepared sample data from public sources for you to be able to run the tool as it is to familiarise yourself with how it works. To use your own data; please check out to the [Data Template Requirements](https://github.com/os-c/ITR/blob/main/docs/DataTemplateRequirements.rst) section of the technical documentation for more details on data requirements and formatting. \n",
    "\n",
    "*The sample data may contain estimates, simplifications, and recategorizations.  It is intended to be generally representative, but not authoritative, and should not be relied upon to make investment decisions.*"
   ]
  },
  {
   "cell_type": "code",
   "execution_count": 6,
   "metadata": {},
   "outputs": [],
   "source": [
    "import urllib.request\n",
    "from github import Github\n",
    "\n",
    "# Create a Github instance with an access token.\n",
    "# Use your shell's `export` command to inject your token into the GITHUB_TOKEN environment variable before starting this jupyter-lab instance.\n",
    "gh = Github(os.environ['GITHUB_TOKEN'])\n",
    "\n",
    "# Get repository by name and select the proper branch\n",
    "repo = gh.get_repo(\"os-climate/ITR\").get_branch(branch=\"develop-pint-steel-projections\")\n",
    "\n",
    "if not os.path.isdir(\"data\"):\n",
    "    os.mkdir(\"data\")\n",
    "\n",
    "for filename in ['data/20220215 ITR Tool Sample Data.xlsx',\n",
    "                 'data/OECM_EI_and_production_benchmarks.xlsx',\n",
    "                 'utils.py']:\n",
    "    if not os.path.isfile(filename):\n",
    "        # Get a specific content file:\n",
    "        contents = repo.get_contents(f\"examples/{filename}\")\n",
    "\n",
    "        # Donwnload file form ContenFile object info:\n",
    "        urllib.urlretrieve(contents.download_url, filename)\n",
    "\n",
    "try:  # Import statement when run in remote Jupyter servers from AWS Google etc..\n",
    "    from utils import collect_company_contributions, plot_grouped_statistics, anonymize, \\\n",
    "        plot_grouped_heatmap, print_grouped_scores, get_contributions_per_group\n",
    "except:  # Import statement when run locally\n",
    "    from utils import collect_company_contributions, plot_grouped_statistics, anonymize, \\\n",
    "        plot_grouped_heatmap, print_grouped_scores, get_contributions_per_group\n",
    "\n",
    "template_data_path = \"data/20220215 ITR Tool Sample Data.xlsx\""
   ]
  },
  {
   "cell_type": "markdown",
   "metadata": {},
   "source": [
    "### Logging\n",
    "The ITR module uses the Python standard library logging utilities to send log messages. The log level can be changed according to the user's needs."
   ]
  },
  {
   "cell_type": "code",
   "execution_count": 7,
   "metadata": {},
   "outputs": [],
   "source": [
    "import logging\n",
    "root_logger = logging.getLogger()\n",
    "root_logger.setLevel(\"INFO\")"
   ]
  },
  {
   "cell_type": "markdown",
   "metadata": {},
   "source": [
    "## Create a data provider\n",
    "Data providers let you connect to the data source of your choice. In this case we are connecting to Excel as a data provider for benchmark information and we are using the ITR Data Template for company and portfolio information, using *template_data_path* as the pathname to the data.  If you want to supply your own data file, you can set the pathname in the first line of the next cell."
   ]
  },
  {
   "cell_type": "code",
   "execution_count": 8,
   "metadata": {},
   "outputs": [],
   "source": [
    "# Remove the # and space on the next line to point the template_data_path variable at your own data\n",
    "# template_data_path = \"data/your_template_here.xlsx\"\n",
    "\n",
    "template_company_data = TemplateProviderCompany(excel_path=template_data_path)"
   ]
  },
  {
   "cell_type": "raw",
   "metadata": {},
   "source": [
    "excel_production_bm = ExcelProviderProductionBenchmark(excel_path=\"data/OECM_EI_and_production_benchmarks.xlsx\")"
   ]
  },
  {
   "cell_type": "raw",
   "metadata": {},
   "source": [
    "excel_EI_bm = ExcelProviderIntensityBenchmark(excel_path=\"data/OECM_EI_and_production_benchmarks.xlsx\",\n",
    "                                              benchmark_temperature=Q_(1.5, ureg.delta_degC),\n",
    "                                              benchmark_global_budget=396 * ureg('Gt CO2'),\n",
    "                                              is_AFOLU_included=False)"
   ]
  },
  {
   "cell_type": "markdown",
   "metadata": {},
   "source": [
    "## Create the Data Warehouse"
   ]
  },
  {
   "cell_type": "code",
   "execution_count": 9,
   "metadata": {},
   "outputs": [
    {
     "name": "stdout",
     "output_type": "stream",
     "text": [
      "Benchmark Temperature = 1.5 delta_degree_Celsius\n",
      "Benchmark Global Budget = 521.0526315789474 CO2 * gigametric_ton\n",
      "AFOLU included = False\n"
     ]
    }
   ],
   "source": [
    "template_provider = DataWarehouse(template_company_data, base_production_bm, base_intensity_bm)\n",
    "\n",
    "# Fills in template_company_data._companies[0].projected_targets.S1S2\n",
    "\n",
    "print(f\"Benchmark Temperature = {base_intensity_bm.benchmark_temperature}\\n\\\n",
    "Benchmark Global Budget = {base_intensity_bm.benchmark_global_budget}\\n\\\n",
    "AFOLU included = {base_intensity_bm.is_AFOLU_included}\")"
   ]
  },
  {
   "cell_type": "markdown",
   "metadata": {},
   "source": [
    "## Load your portfolio\n",
    "\n",
    "The portfolio data is a sheet in the Data Template named \"Portfolio\".\n",
    "\n",
    "Please see the technical documentation in the [Data Template Requirements](https://github.com/os-c/ITR/blob/main/docs/DataTemplateRequirements.rst) section for details on data requirements."
   ]
  },
  {
   "cell_type": "code",
   "execution_count": 10,
   "metadata": {},
   "outputs": [
    {
     "data": {
      "text/html": [
       "<div>\n",
       "<style scoped>\n",
       "    .dataframe tbody tr th:only-of-type {\n",
       "        vertical-align: middle;\n",
       "    }\n",
       "\n",
       "    .dataframe tbody tr th {\n",
       "        vertical-align: top;\n",
       "    }\n",
       "\n",
       "    .dataframe thead th {\n",
       "        text-align: right;\n",
       "    }\n",
       "</style>\n",
       "<table border=\"1\" class=\"dataframe\">\n",
       "  <thead>\n",
       "    <tr style=\"text-align: right;\">\n",
       "      <th></th>\n",
       "      <th>company_name</th>\n",
       "      <th>company_lei</th>\n",
       "      <th>company_id</th>\n",
       "      <th>company_isin</th>\n",
       "      <th>investment_value</th>\n",
       "    </tr>\n",
       "  </thead>\n",
       "  <tbody>\n",
       "    <tr>\n",
       "      <th>38</th>\n",
       "      <td>TC Energy Corp.</td>\n",
       "      <td>549300UGKOFV2IWJJG27</td>\n",
       "      <td>CA87807B1076</td>\n",
       "      <td>CA87807B1076</td>\n",
       "      <td>195002</td>\n",
       "    </tr>\n",
       "    <tr>\n",
       "      <th>39</th>\n",
       "      <td>TENARIS SA</td>\n",
       "      <td>549300Y7C05BKC4HZB40</td>\n",
       "      <td>US88031M1099</td>\n",
       "      <td>US88031M1099</td>\n",
       "      <td>204355</td>\n",
       "    </tr>\n",
       "    <tr>\n",
       "      <th>40</th>\n",
       "      <td>TIMKENSTEEL CORP</td>\n",
       "      <td>549300QZTZWHDE9HJL14</td>\n",
       "      <td>US8873991033</td>\n",
       "      <td>US8873991033</td>\n",
       "      <td>57497</td>\n",
       "    </tr>\n",
       "    <tr>\n",
       "      <th>41</th>\n",
       "      <td>UNITED STATES STEEL CORP</td>\n",
       "      <td>JNLUVFYJT1OZSIQ24U47</td>\n",
       "      <td>US9129091081</td>\n",
       "      <td>US9129091081</td>\n",
       "      <td>120912</td>\n",
       "    </tr>\n",
       "    <tr>\n",
       "      <th>42</th>\n",
       "      <td>Xcel Energy, Inc.</td>\n",
       "      <td>LGJNMI9GH8XIDG5RCM61</td>\n",
       "      <td>US98389B1008</td>\n",
       "      <td>US98389B1008</td>\n",
       "      <td>79304</td>\n",
       "    </tr>\n",
       "  </tbody>\n",
       "</table>\n",
       "</div>"
      ],
      "text/plain": [
       "                company_name           company_lei    company_id  \\\n",
       "38           TC Energy Corp.  549300UGKOFV2IWJJG27  CA87807B1076   \n",
       "39                TENARIS SA  549300Y7C05BKC4HZB40  US88031M1099   \n",
       "40          TIMKENSTEEL CORP  549300QZTZWHDE9HJL14  US8873991033   \n",
       "41  UNITED STATES STEEL CORP  JNLUVFYJT1OZSIQ24U47  US9129091081   \n",
       "42         Xcel Energy, Inc.  LGJNMI9GH8XIDG5RCM61  US98389B1008   \n",
       "\n",
       "    company_isin  investment_value  \n",
       "38  CA87807B1076            195002  \n",
       "39  US88031M1099            204355  \n",
       "40  US8873991033             57497  \n",
       "41  US9129091081            120912  \n",
       "42  US98389B1008             79304  "
      ]
     },
     "metadata": {},
     "output_type": "display_data"
    }
   ],
   "source": [
    "df_portfolio = pd.read_excel(template_data_path, sheet_name=\"Portfolio\")\n",
    "display(df_portfolio.tail())"
   ]
  },
  {
   "cell_type": "markdown",
   "metadata": {},
   "source": [
    "To load the data from the data provider, we have to pass a list of IPortfolioCompany instances. The module has a strict [data model](https://ofbdabv.github.io/ITR/autoapi/ITR/interfaces/index.html) to convert Pandas Dataframe to the right object types we supplied a utility function.\n"
   ]
  },
  {
   "cell_type": "code",
   "execution_count": 11,
   "metadata": {},
   "outputs": [],
   "source": [
    "companies = ITR.utils.dataframe_to_portfolio(df_portfolio)"
   ]
  },
  {
   "cell_type": "markdown",
   "metadata": {},
   "source": [
    "## Calculate the temperature scores\n",
    "In the enhanced portfolio you'll find your original portfolio, with calculated temperature scores, trajectory and target scores and overshoot/undershoot ration, and a temperature_result which is current set to zero for all valid calculations."
   ]
  },
  {
   "cell_type": "code",
   "execution_count": 12,
   "metadata": {},
   "outputs": [],
   "source": [
    "temperature_score = TemperatureScore(               \n",
    "    time_frames = [ETimeFrames.LONG],     \n",
    "    scopes=[EScope.S1S2],    \n",
    "    aggregation_method=PortfolioAggregationMethod.WATS # Options for the aggregation method are WATS, TETS, AOTS, MOTS, EOTS, ECOTS, and ROTS.\n",
    ")\n",
    "amended_portfolio = temperature_score.calculate(data_warehouse=template_provider, portfolio=companies)"
   ]
  },
  {
   "cell_type": "markdown",
   "metadata": {},
   "source": [
    "For every company the tool assigns a score for all the requested timeframe and scope combinations. For now the ITR methodolgy only supportt a long timeframe in combination with a S1S2 scope"
   ]
  },
  {
   "cell_type": "code",
   "execution_count": 13,
   "metadata": {},
   "outputs": [
    {
     "data": {
      "text/html": [
       "<div>\n",
       "<style scoped>\n",
       "    .dataframe tbody tr th:only-of-type {\n",
       "        vertical-align: middle;\n",
       "    }\n",
       "\n",
       "    .dataframe tbody tr th {\n",
       "        vertical-align: top;\n",
       "    }\n",
       "\n",
       "    .dataframe thead th {\n",
       "        text-align: right;\n",
       "    }\n",
       "</style>\n",
       "<table border=\"1\" class=\"dataframe\">\n",
       "  <thead>\n",
       "    <tr style=\"text-align: right;\">\n",
       "      <th></th>\n",
       "      <th>company_name</th>\n",
       "      <th>time_frame</th>\n",
       "      <th>scope</th>\n",
       "      <th>temperature_score</th>\n",
       "    </tr>\n",
       "  </thead>\n",
       "  <tbody>\n",
       "    <tr>\n",
       "      <th>0</th>\n",
       "      <td>AES Corp.</td>\n",
       "      <td>LONG</td>\n",
       "      <td>S1S2</td>\n",
       "      <td>5.45</td>\n",
       "    </tr>\n",
       "    <tr>\n",
       "      <th>1</th>\n",
       "      <td>ALLETE, Inc.</td>\n",
       "      <td>LONG</td>\n",
       "      <td>S1S2</td>\n",
       "      <td>1.87</td>\n",
       "    </tr>\n",
       "    <tr>\n",
       "      <th>2</th>\n",
       "      <td>Alliant Energy</td>\n",
       "      <td>LONG</td>\n",
       "      <td>S1S2</td>\n",
       "      <td>2.1</td>\n",
       "    </tr>\n",
       "    <tr>\n",
       "      <th>3</th>\n",
       "      <td>Ameren Corp.</td>\n",
       "      <td>LONG</td>\n",
       "      <td>S1S2</td>\n",
       "      <td>2.18</td>\n",
       "    </tr>\n",
       "    <tr>\n",
       "      <th>4</th>\n",
       "      <td>American Electric Power Co., Inc.</td>\n",
       "      <td>LONG</td>\n",
       "      <td>S1S2</td>\n",
       "      <td>1.95</td>\n",
       "    </tr>\n",
       "    <tr>\n",
       "      <th>5</th>\n",
       "      <td>Avangrid, Inc.</td>\n",
       "      <td>LONG</td>\n",
       "      <td>S1S2</td>\n",
       "      <td>1.74</td>\n",
       "    </tr>\n",
       "    <tr>\n",
       "      <th>6</th>\n",
       "      <td>Black Hills Corp.</td>\n",
       "      <td>LONG</td>\n",
       "      <td>S1S2</td>\n",
       "      <td>1.99</td>\n",
       "    </tr>\n",
       "    <tr>\n",
       "      <th>7</th>\n",
       "      <td>CARPENTER TECHNOLOGY CORP</td>\n",
       "      <td>LONG</td>\n",
       "      <td>S1S2</td>\n",
       "      <td>1.72</td>\n",
       "    </tr>\n",
       "    <tr>\n",
       "      <th>8</th>\n",
       "      <td>CMS Energy Corp.</td>\n",
       "      <td>LONG</td>\n",
       "      <td>S1S2</td>\n",
       "      <td>1.93</td>\n",
       "    </tr>\n",
       "    <tr>\n",
       "      <th>9</th>\n",
       "      <td>COMMERCIAL METALS CO</td>\n",
       "      <td>LONG</td>\n",
       "      <td>S1S2</td>\n",
       "      <td>1.41</td>\n",
       "    </tr>\n",
       "    <tr>\n",
       "      <th>10</th>\n",
       "      <td>Cleco Partners LP</td>\n",
       "      <td>LONG</td>\n",
       "      <td>S1S2</td>\n",
       "      <td>2.44</td>\n",
       "    </tr>\n",
       "    <tr>\n",
       "      <th>11</th>\n",
       "      <td>Consolidated Edison, Inc.</td>\n",
       "      <td>LONG</td>\n",
       "      <td>S1S2</td>\n",
       "      <td>1.65</td>\n",
       "    </tr>\n",
       "    <tr>\n",
       "      <th>12</th>\n",
       "      <td>DTE Energy</td>\n",
       "      <td>LONG</td>\n",
       "      <td>S1S2</td>\n",
       "      <td>2.85</td>\n",
       "    </tr>\n",
       "    <tr>\n",
       "      <th>13</th>\n",
       "      <td>Dominion Energy</td>\n",
       "      <td>LONG</td>\n",
       "      <td>S1S2</td>\n",
       "      <td>1.84</td>\n",
       "    </tr>\n",
       "    <tr>\n",
       "      <th>14</th>\n",
       "      <td>Duke Energy Corp.</td>\n",
       "      <td>LONG</td>\n",
       "      <td>S1S2</td>\n",
       "      <td>2.12</td>\n",
       "    </tr>\n",
       "    <tr>\n",
       "      <th>15</th>\n",
       "      <td>Entergy Corp.</td>\n",
       "      <td>LONG</td>\n",
       "      <td>S1S2</td>\n",
       "      <td>2.34</td>\n",
       "    </tr>\n",
       "    <tr>\n",
       "      <th>16</th>\n",
       "      <td>Evergy, Inc.</td>\n",
       "      <td>LONG</td>\n",
       "      <td>S1S2</td>\n",
       "      <td>2.07</td>\n",
       "    </tr>\n",
       "    <tr>\n",
       "      <th>17</th>\n",
       "      <td>Eversource Energy</td>\n",
       "      <td>LONG</td>\n",
       "      <td>S1S2</td>\n",
       "      <td>1.19</td>\n",
       "    </tr>\n",
       "    <tr>\n",
       "      <th>18</th>\n",
       "      <td>Exelon Corp.</td>\n",
       "      <td>LONG</td>\n",
       "      <td>S1S2</td>\n",
       "      <td>2.6</td>\n",
       "    </tr>\n",
       "    <tr>\n",
       "      <th>19</th>\n",
       "      <td>FirstEnergy Corp.</td>\n",
       "      <td>LONG</td>\n",
       "      <td>S1S2</td>\n",
       "      <td>1.88</td>\n",
       "    </tr>\n",
       "    <tr>\n",
       "      <th>20</th>\n",
       "      <td>Fortis, Inc.</td>\n",
       "      <td>LONG</td>\n",
       "      <td>S1S2</td>\n",
       "      <td>1.73</td>\n",
       "    </tr>\n",
       "    <tr>\n",
       "      <th>21</th>\n",
       "      <td>GERDAU S.A.</td>\n",
       "      <td>LONG</td>\n",
       "      <td>S1S2</td>\n",
       "      <td>1.64</td>\n",
       "    </tr>\n",
       "    <tr>\n",
       "      <th>22</th>\n",
       "      <td>Hawaiian Electric Industries, Inc.</td>\n",
       "      <td>LONG</td>\n",
       "      <td>S1S2</td>\n",
       "      <td>2.33</td>\n",
       "    </tr>\n",
       "    <tr>\n",
       "      <th>23</th>\n",
       "      <td>MDU Resources Group</td>\n",
       "      <td>LONG</td>\n",
       "      <td>S1S2</td>\n",
       "      <td>2.18</td>\n",
       "    </tr>\n",
       "    <tr>\n",
       "      <th>24</th>\n",
       "      <td>NUCOR CORP</td>\n",
       "      <td>LONG</td>\n",
       "      <td>S1S2</td>\n",
       "      <td>1.43</td>\n",
       "    </tr>\n",
       "    <tr>\n",
       "      <th>25</th>\n",
       "      <td>National Grid PLC</td>\n",
       "      <td>LONG</td>\n",
       "      <td>S1S2</td>\n",
       "      <td>1.88</td>\n",
       "    </tr>\n",
       "    <tr>\n",
       "      <th>26</th>\n",
       "      <td>Northwestern Corp.</td>\n",
       "      <td>LONG</td>\n",
       "      <td>S1S2</td>\n",
       "      <td>1.89</td>\n",
       "    </tr>\n",
       "    <tr>\n",
       "      <th>27</th>\n",
       "      <td>OG&amp;E Energy Corp.</td>\n",
       "      <td>LONG</td>\n",
       "      <td>S1S2</td>\n",
       "      <td>2.25</td>\n",
       "    </tr>\n",
       "    <tr>\n",
       "      <th>28</th>\n",
       "      <td>PG&amp;E Corp.</td>\n",
       "      <td>LONG</td>\n",
       "      <td>S1S2</td>\n",
       "      <td>1.82</td>\n",
       "    </tr>\n",
       "    <tr>\n",
       "      <th>29</th>\n",
       "      <td>PNM Resources, Inc.</td>\n",
       "      <td>LONG</td>\n",
       "      <td>S1S2</td>\n",
       "      <td>1.74</td>\n",
       "    </tr>\n",
       "    <tr>\n",
       "      <th>30</th>\n",
       "      <td>POSCO</td>\n",
       "      <td>LONG</td>\n",
       "      <td>S1S2</td>\n",
       "      <td>1.72</td>\n",
       "    </tr>\n",
       "    <tr>\n",
       "      <th>31</th>\n",
       "      <td>PPL Corp.</td>\n",
       "      <td>LONG</td>\n",
       "      <td>S1S2</td>\n",
       "      <td>2.83</td>\n",
       "    </tr>\n",
       "    <tr>\n",
       "      <th>32</th>\n",
       "      <td>Pinnacle West Capital Corp.</td>\n",
       "      <td>LONG</td>\n",
       "      <td>S1S2</td>\n",
       "      <td>2.13</td>\n",
       "    </tr>\n",
       "    <tr>\n",
       "      <th>33</th>\n",
       "      <td>Portland General Electric Co.</td>\n",
       "      <td>LONG</td>\n",
       "      <td>S1S2</td>\n",
       "      <td>1.95</td>\n",
       "    </tr>\n",
       "    <tr>\n",
       "      <th>34</th>\n",
       "      <td>Public Service Enterprise Group</td>\n",
       "      <td>LONG</td>\n",
       "      <td>S1S2</td>\n",
       "      <td>1.21</td>\n",
       "    </tr>\n",
       "    <tr>\n",
       "      <th>35</th>\n",
       "      <td>Sempra</td>\n",
       "      <td>LONG</td>\n",
       "      <td>S1S2</td>\n",
       "      <td>2.35</td>\n",
       "    </tr>\n",
       "    <tr>\n",
       "      <th>36</th>\n",
       "      <td>Southern Co.</td>\n",
       "      <td>LONG</td>\n",
       "      <td>S1S2</td>\n",
       "      <td>2.28</td>\n",
       "    </tr>\n",
       "    <tr>\n",
       "      <th>37</th>\n",
       "      <td>STEEL DYNAMICS INC</td>\n",
       "      <td>LONG</td>\n",
       "      <td>S1S2</td>\n",
       "      <td>1.65</td>\n",
       "    </tr>\n",
       "    <tr>\n",
       "      <th>38</th>\n",
       "      <td>TC Energy Corp.</td>\n",
       "      <td>LONG</td>\n",
       "      <td>S1S2</td>\n",
       "      <td>1.27</td>\n",
       "    </tr>\n",
       "    <tr>\n",
       "      <th>39</th>\n",
       "      <td>TENARIS SA</td>\n",
       "      <td>LONG</td>\n",
       "      <td>S1S2</td>\n",
       "      <td>1.65</td>\n",
       "    </tr>\n",
       "    <tr>\n",
       "      <th>40</th>\n",
       "      <td>TIMKENSTEEL CORP</td>\n",
       "      <td>LONG</td>\n",
       "      <td>S1S2</td>\n",
       "      <td>1.45</td>\n",
       "    </tr>\n",
       "    <tr>\n",
       "      <th>41</th>\n",
       "      <td>UNITED STATES STEEL CORP</td>\n",
       "      <td>LONG</td>\n",
       "      <td>S1S2</td>\n",
       "      <td>1.52</td>\n",
       "    </tr>\n",
       "    <tr>\n",
       "      <th>42</th>\n",
       "      <td>Xcel Energy, Inc.</td>\n",
       "      <td>LONG</td>\n",
       "      <td>S1S2</td>\n",
       "      <td>2.04</td>\n",
       "    </tr>\n",
       "  </tbody>\n",
       "</table>\n",
       "</div>"
      ],
      "text/plain": [
       "                          company_name time_frame scope temperature_score\n",
       "0                            AES Corp.       LONG  S1S2              5.45\n",
       "1                         ALLETE, Inc.       LONG  S1S2              1.87\n",
       "2                       Alliant Energy       LONG  S1S2               2.1\n",
       "3                         Ameren Corp.       LONG  S1S2              2.18\n",
       "4    American Electric Power Co., Inc.       LONG  S1S2              1.95\n",
       "5                       Avangrid, Inc.       LONG  S1S2              1.74\n",
       "6                    Black Hills Corp.       LONG  S1S2              1.99\n",
       "7            CARPENTER TECHNOLOGY CORP       LONG  S1S2              1.72\n",
       "8                     CMS Energy Corp.       LONG  S1S2              1.93\n",
       "9                 COMMERCIAL METALS CO       LONG  S1S2              1.41\n",
       "10                   Cleco Partners LP       LONG  S1S2              2.44\n",
       "11           Consolidated Edison, Inc.       LONG  S1S2              1.65\n",
       "12                          DTE Energy       LONG  S1S2              2.85\n",
       "13                     Dominion Energy       LONG  S1S2              1.84\n",
       "14                   Duke Energy Corp.       LONG  S1S2              2.12\n",
       "15                       Entergy Corp.       LONG  S1S2              2.34\n",
       "16                        Evergy, Inc.       LONG  S1S2              2.07\n",
       "17                   Eversource Energy       LONG  S1S2              1.19\n",
       "18                        Exelon Corp.       LONG  S1S2               2.6\n",
       "19                   FirstEnergy Corp.       LONG  S1S2              1.88\n",
       "20                        Fortis, Inc.       LONG  S1S2              1.73\n",
       "21                         GERDAU S.A.       LONG  S1S2              1.64\n",
       "22  Hawaiian Electric Industries, Inc.       LONG  S1S2              2.33\n",
       "23                 MDU Resources Group       LONG  S1S2              2.18\n",
       "24                          NUCOR CORP       LONG  S1S2              1.43\n",
       "25                   National Grid PLC       LONG  S1S2              1.88\n",
       "26                  Northwestern Corp.       LONG  S1S2              1.89\n",
       "27                   OG&E Energy Corp.       LONG  S1S2              2.25\n",
       "28                          PG&E Corp.       LONG  S1S2              1.82\n",
       "29                 PNM Resources, Inc.       LONG  S1S2              1.74\n",
       "30                               POSCO       LONG  S1S2              1.72\n",
       "31                           PPL Corp.       LONG  S1S2              2.83\n",
       "32         Pinnacle West Capital Corp.       LONG  S1S2              2.13\n",
       "33       Portland General Electric Co.       LONG  S1S2              1.95\n",
       "34     Public Service Enterprise Group       LONG  S1S2              1.21\n",
       "35                              Sempra       LONG  S1S2              2.35\n",
       "36                        Southern Co.       LONG  S1S2              2.28\n",
       "37                  STEEL DYNAMICS INC       LONG  S1S2              1.65\n",
       "38                     TC Energy Corp.       LONG  S1S2              1.27\n",
       "39                          TENARIS SA       LONG  S1S2              1.65\n",
       "40                    TIMKENSTEEL CORP       LONG  S1S2              1.45\n",
       "41            UNITED STATES STEEL CORP       LONG  S1S2              1.52\n",
       "42                   Xcel Energy, Inc.       LONG  S1S2              2.04"
      ]
     },
     "metadata": {},
     "output_type": "display_data"
    }
   ],
   "source": [
    "with warnings.catch_warnings():\n",
    "    warnings.simplefilter(\"ignore\")\n",
    "    display(amended_portfolio[['company_name', 'time_frame', 'scope', 'temperature_score']])"
   ]
  },
  {
   "cell_type": "markdown",
   "metadata": {},
   "source": [
    "## Calculate the aggregated temperature score\n",
    "Calculate an aggregated temperature score. This can be done using different aggregation methods. Here we'll use the \"Weighted Average Temperature Score\" (WATS) by initializing the TemperatureScore Object with PortfolioAggregationMethod.WATS. The temperature scores are calculated per time-frame/scope combination.\n"
   ]
  },
  {
   "cell_type": "code",
   "execution_count": 14,
   "metadata": {},
   "outputs": [
    {
     "name": "stdout",
     "output_type": "stream",
     "text": [
      "Temperature Score aggregation method = PortfolioAggregationMethod.WATS\n"
     ]
    }
   ],
   "source": [
    "aggregated_scores = temperature_score.aggregate_scores(amended_portfolio)\n",
    "print(f\"Temperature Score aggregation method = {temperature_score.aggregation_method}\")"
   ]
  },
  {
   "cell_type": "code",
   "execution_count": 15,
   "metadata": {},
   "outputs": [
    {
     "data": {
      "text/html": [
       "2.0064657077628114 delta_degree_Celsius"
      ],
      "text/latex": [
       "$2.0064657077628114\\ \\mathrm{delta\\_degree\\_Celsius}$"
      ],
      "text/plain": [
       "2.0064657077628114 <Unit('delta_degree_Celsius')>"
      ]
     },
     "execution_count": 15,
     "metadata": {},
     "output_type": "execute_result"
    }
   ],
   "source": [
    "aggregated_scores.long.S1S2.all.score"
   ]
  },
  {
   "cell_type": "markdown",
   "metadata": {},
   "source": [
    "## Display aggregation data in various ways"
   ]
  },
  {
   "cell_type": "markdown",
   "metadata": {},
   "source": [
    "\n",
    "The first analysis of your portfolio could be to understand if you have any particular hotspots in your portfolio. We can do that by analysing different groupings of companies.\n",
    "\n",
    "The tool allows you to calculate temperature scores for _groups_ of companies. In this example we group the scores by sector and region, and leave the timeframe and scope unchanged. Any categorical variable in the data provided by you or your data provider (in the `test_company_data.xlsx` imported above) can be used as grouping variable, e.g. sectors, industries, regions, countries, market cap buckets, as well as the additional fields you imported via the portfolio data.\n",
    "\n",
    "You can change the variable by which the data is grouped by replacing the fourth line in the following cell. For example, replacing \"grouping=['sector', 'region']\" by \"grouping=['sector', 'country']\" would result in temperature scores per sector per country. \n",
    "If you want to change the time frame as well, please refer to the section 'Calculate the company temperature scores' above.\n",
    "\n"
   ]
  },
  {
   "cell_type": "code",
   "execution_count": 16,
   "metadata": {
    "scrolled": true
   },
   "outputs": [],
   "source": [
    "grouping = ['sector', 'region']\n",
    "temperature_score.grouping = grouping\n",
    "grouped_portfolio = temperature_score.calculate(data_warehouse=template_provider, portfolio=companies)\n",
    "grouped_aggregations = temperature_score.aggregate_scores(grouped_portfolio)"
   ]
  },
  {
   "cell_type": "markdown",
   "metadata": {},
   "source": [
    "\n",
    "The aggregated scores can then be used, for example, to show the relation between sectors and regions with respect to temperature score.\n",
    "A visualization of this relation is shown in the heatmap below. The grey fields indicate that the portfolio contains no assest for those combinations.\n",
    "\n",
    "#### Quick analysis: Heat Map\n",
    "\n",
    "We can see here that our North American Steel is in reasonable shape. While Asian Steel can be improved as shown in the drill down below the graph\n",
    "\n"
   ]
  },
  {
   "cell_type": "code",
   "execution_count": 17,
   "metadata": {},
   "outputs": [
    {
     "data": {
      "image/png": "[encoded data removed]",
      "text/plain": [
       "<Figure size 129.6x230.4 with 2 Axes>"
      ]
     },
     "metadata": {
      "needs_background": "light"
     },
     "output_type": "display_data"
    }
   ],
   "source": [
    "analysis_parameters = ([ETimeFrames.LONG], [EScope.S1S2], grouping)\n",
    "plot_grouped_heatmap(grouped_aggregations, analysis_parameters)"
   ]
  },
  {
   "cell_type": "code",
   "execution_count": 18,
   "metadata": {},
   "outputs": [
    {
     "data": {
      "text/html": [
       "<div>\n",
       "<style scoped>\n",
       "    .dataframe tbody tr th:only-of-type {\n",
       "        vertical-align: middle;\n",
       "    }\n",
       "\n",
       "    .dataframe tbody tr th {\n",
       "        vertical-align: top;\n",
       "    }\n",
       "\n",
       "    .dataframe thead th {\n",
       "        text-align: right;\n",
       "    }\n",
       "</style>\n",
       "<table border=\"1\" class=\"dataframe\">\n",
       "  <thead>\n",
       "    <tr style=\"text-align: right;\">\n",
       "      <th></th>\n",
       "      <th>group</th>\n",
       "      <th>company_name</th>\n",
       "      <th>company_id</th>\n",
       "      <th>temperature_score</th>\n",
       "      <th>contribution_relative</th>\n",
       "    </tr>\n",
       "  </thead>\n",
       "  <tbody>\n",
       "    <tr>\n",
       "      <th>0</th>\n",
       "      <td>Steel-Asia</td>\n",
       "      <td>POSCO</td>\n",
       "      <td>KR7005490008</td>\n",
       "      <td>1.72 delta_degree_Celsius</td>\n",
       "      <td>100.0 percent</td>\n",
       "    </tr>\n",
       "  </tbody>\n",
       "</table>\n",
       "</div>"
      ],
      "text/plain": [
       "        group company_name    company_id          temperature_score  \\\n",
       "0  Steel-Asia        POSCO  KR7005490008  1.72 delta_degree_Celsius   \n",
       "\n",
       "  contribution_relative  \n",
       "0         100.0 percent  "
      ]
     },
     "execution_count": 18,
     "metadata": {},
     "output_type": "execute_result"
    }
   ],
   "source": [
    "region = 'Asia'\n",
    "sector = 'Steel'\n",
    "group = sector + '-' + region\n",
    "group_contributions = get_contributions_per_group(grouped_aggregations, analysis_parameters, group)\n",
    "group_contributions.round(2)"
   ]
  },
  {
   "cell_type": "markdown",
   "metadata": {},
   "source": [
    "#### Sector analysis\n",
    "\n",
    "Sector analysis may help us with bringing some clarity into our analysis from the heatmap above. In order to identify the companies that your portfolio would most benefit from engaging with, we can start with identifying the biggest contributing sectors to the portfolio's temperature score, as in our example below.\n",
    "\n",
    "Contributions can be identified on an individual company level, as well as contributions from companies grouped by one of their characteristics, e.g. sector or region. The exact definitions of companies' contributions to the portfolio temperature scores depend on the selected aggregation method.\n",
    "\n",
    "You can group companies on any categorical variable (e.g. sectors, countries, market cap buckets, investment strategies, etc)  you provide through your dataprovider, in this example in the test_company_data.xlsx imported above.\n",
    "\n",
    "For our analysis we select one time-frame (LONG) and one scope (S1+S2) and group the outcomes on sector and compare AUM to temperature score contribution. We also then display the sector temperature scores.\n",
    "\n",
    "#### Quick analysis\n",
    "\n",
    "In this example we can see that both sectors Steel and Electricity are scoring above 2.0C. \n"
   ]
  },
  {
   "cell_type": "code",
   "execution_count": 19,
   "metadata": {},
   "outputs": [],
   "source": [
    "time_frames = [ETimeFrames.LONG]\n",
    "scopes = [EScope.S1S2]\n",
    "grouping = ['sector']\n",
    "analysis_parameters = (time_frames, scopes, grouping)\n",
    "\n",
    "temperature_score = TemperatureScore(time_frames=time_frames,\n",
    "                                     scopes=scopes,\n",
    "                                     grouping=grouping)\n",
    "amended_portfolio = temperature_score.calculate(data_warehouse=template_provider, portfolio=companies)\n",
    "aggregated_portfolio = temperature_score.aggregate_scores(amended_portfolio)\n",
    "with warnings.catch_warnings():\n",
    "    warnings.simplefilter(\"ignore\")\n",
    "    company_contributions = collect_company_contributions(aggregated_portfolio, amended_portfolio, analysis_parameters)"
   ]
  },
  {
   "cell_type": "code",
   "execution_count": 20,
   "metadata": {},
   "outputs": [
    {
     "data": {
      "image/png": "[encoded data removed]",
      "text/plain": [
       "<Figure size 720x540 with 3 Axes>"
      ]
     },
     "metadata": {
      "needs_background": "light"
     },
     "output_type": "display_data"
    }
   ],
   "source": [
    "plot_grouped_statistics(aggregated_portfolio, company_contributions, analysis_parameters)"
   ]
  },
  {
   "cell_type": "markdown",
   "metadata": {},
   "source": [
    "We can use what we learned from this analysis to drill into a few of the highest contributing scoring sectors to see which\n",
    "companies are the biggest contributors on the sector level. Considering the Steel sector, for instance, in the\n",
    "table below.\n"
   ]
  },
  {
   "cell_type": "code",
   "execution_count": 21,
   "metadata": {},
   "outputs": [
    {
     "data": {
      "text/html": [
       "<div>\n",
       "<style scoped>\n",
       "    .dataframe tbody tr th:only-of-type {\n",
       "        vertical-align: middle;\n",
       "    }\n",
       "\n",
       "    .dataframe tbody tr th {\n",
       "        vertical-align: top;\n",
       "    }\n",
       "\n",
       "    .dataframe thead th {\n",
       "        text-align: right;\n",
       "    }\n",
       "</style>\n",
       "<table border=\"1\" class=\"dataframe\">\n",
       "  <thead>\n",
       "    <tr style=\"text-align: right;\">\n",
       "      <th></th>\n",
       "      <th>company_name</th>\n",
       "      <th>company_id</th>\n",
       "      <th>sector</th>\n",
       "      <th>contribution</th>\n",
       "      <th>temperature_score</th>\n",
       "      <th>ownership_percentage</th>\n",
       "      <th>portfolio_percentage</th>\n",
       "    </tr>\n",
       "  </thead>\n",
       "  <tbody>\n",
       "    <tr>\n",
       "      <th>8</th>\n",
       "      <td>CARPENTER TECHNOLOGY CORP</td>\n",
       "      <td>US1442851036</td>\n",
       "      <td>Steel</td>\n",
       "      <td>3.253451472385291 percent</td>\n",
       "      <td>1.72 delta_degree_Celsius</td>\n",
       "      <td>0.01</td>\n",
       "      <td>3.80</td>\n",
       "    </tr>\n",
       "    <tr>\n",
       "      <th>11</th>\n",
       "      <td>GERDAU S.A.</td>\n",
       "      <td>US3737371050</td>\n",
       "      <td>Steel</td>\n",
       "      <td>2.8139077735220224 percent</td>\n",
       "      <td>1.64 delta_degree_Celsius</td>\n",
       "      <td>0.01</td>\n",
       "      <td>3.44</td>\n",
       "    </tr>\n",
       "    <tr>\n",
       "      <th>16</th>\n",
       "      <td>TENARIS SA</td>\n",
       "      <td>US88031M1099</td>\n",
       "      <td>Steel</td>\n",
       "      <td>2.5979139220980167 percent</td>\n",
       "      <td>1.65 delta_degree_Celsius</td>\n",
       "      <td>NaN</td>\n",
       "      <td>3.16</td>\n",
       "    </tr>\n",
       "    <tr>\n",
       "      <th>19</th>\n",
       "      <td>POSCO</td>\n",
       "      <td>KR7005490008</td>\n",
       "      <td>Steel</td>\n",
       "      <td>2.313256276314664 percent</td>\n",
       "      <td>1.72 delta_degree_Celsius</td>\n",
       "      <td>0.00</td>\n",
       "      <td>2.70</td>\n",
       "    </tr>\n",
       "    <tr>\n",
       "      <th>26</th>\n",
       "      <td>COMMERCIAL METALS CO</td>\n",
       "      <td>US2017231034</td>\n",
       "      <td>Steel</td>\n",
       "      <td>1.8823941526018306 percent</td>\n",
       "      <td>1.41 delta_degree_Celsius</td>\n",
       "      <td>0.01</td>\n",
       "      <td>2.68</td>\n",
       "    </tr>\n",
       "    <tr>\n",
       "      <th>35</th>\n",
       "      <td>UNITED STATES STEEL CORP</td>\n",
       "      <td>US9129091081</td>\n",
       "      <td>Steel</td>\n",
       "      <td>1.4160172296309894 percent</td>\n",
       "      <td>1.52 delta_degree_Celsius</td>\n",
       "      <td>0.01</td>\n",
       "      <td>1.87</td>\n",
       "    </tr>\n",
       "    <tr>\n",
       "      <th>40</th>\n",
       "      <td>NUCOR CORP</td>\n",
       "      <td>US6703461052</td>\n",
       "      <td>Steel</td>\n",
       "      <td>0.6685329850980972 percent</td>\n",
       "      <td>1.43 delta_degree_Celsius</td>\n",
       "      <td>0.00</td>\n",
       "      <td>0.94</td>\n",
       "    </tr>\n",
       "    <tr>\n",
       "      <th>41</th>\n",
       "      <td>TIMKENSTEEL CORP</td>\n",
       "      <td>US8873991033</td>\n",
       "      <td>Steel</td>\n",
       "      <td>0.6423455686646337 percent</td>\n",
       "      <td>1.45 delta_degree_Celsius</td>\n",
       "      <td>0.04</td>\n",
       "      <td>0.89</td>\n",
       "    </tr>\n",
       "    <tr>\n",
       "      <th>42</th>\n",
       "      <td>STEEL DYNAMICS INC</td>\n",
       "      <td>US8581191009</td>\n",
       "      <td>Steel</td>\n",
       "      <td>0.4918944160296473 percent</td>\n",
       "      <td>1.65 delta_degree_Celsius</td>\n",
       "      <td>0.00</td>\n",
       "      <td>0.60</td>\n",
       "    </tr>\n",
       "  </tbody>\n",
       "</table>\n",
       "</div>"
      ],
      "text/plain": [
       "                 company_name    company_id sector  \\\n",
       "8   CARPENTER TECHNOLOGY CORP  US1442851036  Steel   \n",
       "11                GERDAU S.A.  US3737371050  Steel   \n",
       "16                 TENARIS SA  US88031M1099  Steel   \n",
       "19                      POSCO  KR7005490008  Steel   \n",
       "26       COMMERCIAL METALS CO  US2017231034  Steel   \n",
       "35   UNITED STATES STEEL CORP  US9129091081  Steel   \n",
       "40                 NUCOR CORP  US6703461052  Steel   \n",
       "41           TIMKENSTEEL CORP  US8873991033  Steel   \n",
       "42         STEEL DYNAMICS INC  US8581191009  Steel   \n",
       "\n",
       "                  contribution          temperature_score  \\\n",
       "8    3.253451472385291 percent  1.72 delta_degree_Celsius   \n",
       "11  2.8139077735220224 percent  1.64 delta_degree_Celsius   \n",
       "16  2.5979139220980167 percent  1.65 delta_degree_Celsius   \n",
       "19   2.313256276314664 percent  1.72 delta_degree_Celsius   \n",
       "26  1.8823941526018306 percent  1.41 delta_degree_Celsius   \n",
       "35  1.4160172296309894 percent  1.52 delta_degree_Celsius   \n",
       "40  0.6685329850980972 percent  1.43 delta_degree_Celsius   \n",
       "41  0.6423455686646337 percent  1.45 delta_degree_Celsius   \n",
       "42  0.4918944160296473 percent  1.65 delta_degree_Celsius   \n",
       "\n",
       "    ownership_percentage  portfolio_percentage  \n",
       "8                   0.01                  3.80  \n",
       "11                  0.01                  3.44  \n",
       "16                   NaN                  3.16  \n",
       "19                  0.00                  2.70  \n",
       "26                  0.01                  2.68  \n",
       "35                  0.01                  1.87  \n",
       "40                  0.00                  0.94  \n",
       "41                  0.04                  0.89  \n",
       "42                  0.00                  0.60  "
      ]
     },
     "execution_count": 21,
     "metadata": {},
     "output_type": "execute_result"
    }
   ],
   "source": [
    "sector_contributions = company_contributions[['company_name', 'company_id', 'sector', 'contribution', 'temperature_score', 'ownership_percentage', 'portfolio_percentage']]\n",
    "sector_contributions.loc[sector_contributions['sector'] == 'Steel'][:10].round(2)"
   ]
  },
  {
   "cell_type": "markdown",
   "metadata": {},
   "source": [
    "### Save portfolio data for further analysis\n",
    "To take your analysis outside of this notebook and for example for internal and client reporting, you can export all data to Excel and the clipboard for pasting into and analysing in other applications.\n",
    "\n",
    "If you run the ITR tool locally or from Google Colab, you:\n",
    "- Specify the filenames of the output files in the cell below, e.g. change 'data_dump.xlsx' in the first line to 'TS_output.xlsx'\n",
    "- Run the cell below"
   ]
  },
  {
   "cell_type": "code",
   "execution_count": 22,
   "metadata": {
    "pycharm": {
     "name": "#%%\n"
    }
   },
   "outputs": [],
   "source": [
    "data_dump_filename = 'data_dump.xlsx'\n",
    "amended_portfolio.set_index(['company_name', 'company_id']).to_excel(data_dump_filename)"
   ]
  },
  {
   "cell_type": "code",
   "execution_count": null,
   "metadata": {},
   "outputs": [],
   "source": []
  }
 ],
 "metadata": {
  "kernelspec": {
   "display_name": "Python 3 (ipykernel)",
   "language": "python",
   "name": "python3"
  },
  "language_info": {
   "codemirror_mode": {
    "name": "ipython",
    "version": 3
   },
   "file_extension": ".py",
   "mimetype": "text/x-python",
   "name": "python",
   "nbconvert_exporter": "python",
   "pygments_lexer": "ipython3",
   "version": "3.10.2"
  }
 },
 "nbformat": 4,
 "nbformat_minor": 4
}
