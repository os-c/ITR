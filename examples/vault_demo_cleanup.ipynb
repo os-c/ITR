{
 "cells": [
  {
   "cell_type": "markdown",
   "id": "e3c5c7d5-63e0-47a5-ac4a-bb58beb98995",
   "metadata": {},
   "source": [
    "# Data Vault Demo (Cleanup)\n",
    "\n",
    "Clean up tables created by Data Vault Demo\n",
    "\n",
    "Only table creators can drop tables, so we need to instantiate the engines that created the tables..."
   ]
  },
  {
   "cell_type": "code",
   "execution_count": 1,
   "id": "d1ab75f1-dc99-422d-b15b-ce043e32fff8",
   "metadata": {},
   "outputs": [],
   "source": [
    "import os\n",
    "import pathlib\n",
    "from dotenv import load_dotenv\n",
    "\n",
    "# Load some standard environment variables from a dot-env file, if it exists.\n",
    "# If no such file can be found, does not fail, and so allows these environment vars to\n",
    "# be populated in some other way\n",
    "dotenv_dir = os.environ.get('CREDENTIAL_DOTENV_DIR', os.environ.get('PWD', '/opt/app-root/src'))\n",
    "dotenv_path = pathlib.Path(dotenv_dir) / 'credentials.env'\n",
    "if os.path.exists(dotenv_path):\n",
    "    load_dotenv(dotenv_path=dotenv_path,override=True)\n",
    "\n",
    "import trino\n",
    "import osc_ingest_trino as osc\n",
    "from sqlalchemy.engine import create_engine"
   ]
  },
  {
   "cell_type": "raw",
   "id": "b3154b10-a9d4-45e2-9329-93098ac3b1b2",
   "metadata": {},
   "source": [
    "# This initializes the \"normal\" Trino developer's engine\n",
    "\n",
    "sqlstring = 'trino://{user}@{host}:{port}/'.format(\n",
    "    user = os.environ['TRINO_USER'],\n",
    "    host = os.environ['TRINO_HOST'],\n",
    "    port = os.environ['TRINO_PORT']\n",
    ")\n",
    "\n",
    "ingest_catalog = 'osc_datacommons_dev'\n",
    "ingest_schema = 'demo_dv'\n",
    "\n",
    "sqlargs = {\n",
    "    'auth': trino.auth.JWTAuthentication(os.environ['TRINO_PASSWD']),\n",
    "    'http_scheme': 'https',\n",
    "    'catalog': ingest_catalog,\n",
    "    'schema': ingest_schema,\n",
    "}\n",
    "engine = create_engine(sqlstring, connect_args = sqlargs)\n",
    "connection = engine.connect()"
   ]
  },
  {
   "cell_type": "markdown",
   "id": "a6b350ef-f3a0-4e59-9885-d6c830b040b3",
   "metadata": {},
   "source": [
    "The ITR Data Pipeline creates these tables.  We should not delete this data unless we created them as TRINO_USER1 as part of the construction of the vault."
   ]
  },
  {
   "cell_type": "raw",
   "id": "b83eb9bf-9ca2-4bba-a16d-662db030a2f6",
   "metadata": {},
   "source": [
    "for table in ['company_data', 'emissions_data', 'target_data', 'production_data', 'trajectory_data']:\n",
    "    print(f\"Dropping table {table}\")\n",
    "    engine.execute(f\"drop table if exists {table}\").fetchall()"
   ]
  },
  {
   "cell_type": "code",
   "execution_count": 2,
   "id": "6cfbc8a9-aa36-4b40-ae6d-7f0a91785855",
   "metadata": {},
   "outputs": [
    {
     "name": "stdout",
     "output_type": "stream",
     "text": [
      "Cleaning up Dev tables\n",
      "connecting with engine Engine(trino://os-climate-user1@trino-secure-odh-trino.apps.odh-cl2.apps.os-climate.org:443/)\n"
     ]
    },
    {
     "name": "stderr",
     "output_type": "stream",
     "text": [
      "/Users/michael/opt/miniconda3/envs/ITR/lib/python3.10/site-packages/sqlalchemy_trino/dialect.py:259: SAWarning: Dialect trino:rest will not make use of SQL compilation caching as it does not set the 'supports_statement_cache' attribute to ``True``.  This can have significant performance implications including some performance degradations in comparison to prior SQLAlchemy versions.  Dialect maintainers should seek to set this attribute to True after appropriate development and testing for SQLAlchemy 1.4 caching support.   Alternatively, this attribute may be set to False which will disable this warning. (Background on this error at: https://sqlalche.me/e/14/cprf)\n",
      "  res = connection.execute(sql.text(query)).scalar()\n"
     ]
    },
    {
     "data": {
      "text/plain": [
       "[('company_data',),\n",
       " ('emissions_data',),\n",
       " ('intensity_data',),\n",
       " ('isic_to_sector',),\n",
       " ('oecm_cumprod',),\n",
       " ('production_data',),\n",
       " ('target_data',),\n",
       " ('trajectory_data',)]"
      ]
     },
     "execution_count": 2,
     "metadata": {},
     "output_type": "execute_result"
    }
   ],
   "source": [
    "print(\"Cleaning up Dev tables\")\n",
    "\n",
    "sqlstring = 'trino://{user}@{host}:{port}/'.format(\n",
    "    user = os.environ['TRINO_USER_USER1'],\n",
    "    host = os.environ['TRINO_HOST'],\n",
    "    port = os.environ['TRINO_PORT']\n",
    ")\n",
    "\n",
    "ingest_catalog = 'osc_datacommons_dev'\n",
    "ingest_schema = 'demo_dv'\n",
    "\n",
    "sqlargs = {\n",
    "    'auth': trino.auth.JWTAuthentication(os.environ['TRINO_PASSWD_USER1']),\n",
    "    'http_scheme': 'https',\n",
    "    'catalog': ingest_catalog,\n",
    "    'schema': ingest_schema,\n",
    "}\n",
    "\n",
    "engine_dev = create_engine(sqlstring, connect_args = sqlargs)\n",
    "print(\"connecting with engine \" + str(engine_dev))\n",
    "connection_dev = engine_dev.connect()\n",
    "engine_dev.execute(f\"show tables in {ingest_schema}\").fetchall()"
   ]
  },
  {
   "cell_type": "code",
   "execution_count": 3,
   "id": "a6832b10-ea33-464b-a061-043757fe16d0",
   "metadata": {},
   "outputs": [
    {
     "name": "stdout",
     "output_type": "stream",
     "text": [
      "Dropping Dev table benchmark_ei\n",
      "Dropping Dev table benchmark_prod\n",
      "Dropping Dev table cumulative_budget_1\n",
      "Dropping Dev table cumulative_emissions\n"
     ]
    }
   ],
   "source": [
    "for table in ['benchmark_ei', 'benchmark_prod',\n",
    "              'cumulative_budget_1', 'cumulative_emissions']:\n",
    "    print(f\"Dropping Dev table {table}\")\n",
    "    engine_dev.execute(f\"drop table if exists {table}\").fetchall()"
   ]
  },
  {
   "cell_type": "code",
   "execution_count": 4,
   "id": "c95bcd2c-5884-4331-8233-a352bf52cec6",
   "metadata": {},
   "outputs": [
    {
     "name": "stdout",
     "output_type": "stream",
     "text": [
      "Cleaning up Quant tables\n",
      "connecting with engine Engine(trino://os-climate-user2@trino-secure-odh-trino.apps.odh-cl2.apps.os-climate.org:443/)\n"
     ]
    },
    {
     "data": {
      "text/plain": [
       "[('company_data',),\n",
       " ('emissions_data',),\n",
       " ('intensity_data',),\n",
       " ('isic_to_sector',),\n",
       " ('oecm_cumprod',),\n",
       " ('production_data',),\n",
       " ('target_data',),\n",
       " ('trajectory_data',)]"
      ]
     },
     "execution_count": 4,
     "metadata": {},
     "output_type": "execute_result"
    }
   ],
   "source": [
    "print(\"Cleaning up Quant tables\")\n",
    "\n",
    "sqlstring = 'trino://{user}@{host}:{port}/'.format(\n",
    "    user = os.environ['TRINO_USER_USER2'],\n",
    "    host = os.environ['TRINO_HOST'],\n",
    "    port = os.environ['TRINO_PORT']\n",
    ")\n",
    "\n",
    "ingest_catalog = 'osc_datacommons_dev'\n",
    "ingest_schema = 'demo_dv'\n",
    "\n",
    "sqlargs = {\n",
    "    'auth': trino.auth.JWTAuthentication(os.environ['TRINO_PASSWD_USER2']),\n",
    "    'http_scheme': 'https',\n",
    "    'catalog': ingest_catalog,\n",
    "    'schema': ingest_schema,\n",
    "}\n",
    "\n",
    "engine_quant = create_engine(sqlstring, connect_args = sqlargs)\n",
    "print(\"connecting with engine \" + str(engine_quant))\n",
    "connection_quant = engine_quant.connect()\n",
    "engine_quant.execute(f\"show tables in {ingest_schema}\").fetchall()"
   ]
  },
  {
   "cell_type": "code",
   "execution_count": 5,
   "id": "a4d4478e-997c-4641-9d4f-f4588318b90f",
   "metadata": {},
   "outputs": [
    {
     "name": "stdout",
     "output_type": "stream",
     "text": [
      "Dropping Quant table overshoot_ratios\n",
      "Dropping Quant table temperature_scores\n"
     ]
    }
   ],
   "source": [
    "for table in ['overshoot_ratios',\n",
    "              'temperature_scores']:\n",
    "    print(f\"Dropping Quant table {table}\")\n",
    "    engine_quant.execute(f\"drop table if exists {table}\").fetchall()"
   ]
  },
  {
   "cell_type": "code",
   "execution_count": null,
   "id": "96697928-5b47-4e5a-955c-5892f2311535",
   "metadata": {},
   "outputs": [],
   "source": []
  }
 ],
 "metadata": {
  "kernelspec": {
   "display_name": "Python 3 (ipykernel)",
   "language": "python",
   "name": "python3"
  },
  "language_info": {
   "codemirror_mode": {
    "name": "ipython",
    "version": 3
   },
   "file_extension": ".py",
   "mimetype": "text/x-python",
   "name": "python",
   "nbconvert_exporter": "python",
   "pygments_lexer": "ipython3",
   "version": "3.10.2"
  }
 },
 "nbformat": 4,
 "nbformat_minor": 5
}
