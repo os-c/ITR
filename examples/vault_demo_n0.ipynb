{
 "cells": [
  {
   "cell_type": "markdown",
   "id": "e3c5c7d5-63e0-47a5-ac4a-bb58beb98995",
   "metadata": {},
   "source": [
    "# Data Vault Demo\n",
    "\n",
    "The basic concept of the Data Vault is that when a user authenticates themself, they receive an engine that gives them access to all the data (rows, columns, tables, schema, etc.) for which they are authorized.  Users who can authenticate themselves for multiple roles can use those roles simultaneously.  Data accessed via such engines retains data lineage, so that users can prove they are using authorized data.\n",
    "\n",
    "The steps of this demo are:\n",
    "\n",
    "1. Authenticate and acquire an engine\n",
    "    1. Dev engine sees all\n",
    "    2. Quant engine can do temp scoring but not see fundamental company info\n",
    "    3. User engine can use temp scoring but not see cumulative emissions nor overshoot info\n",
    "2. Construct Vaults for:\n",
    "    1. Fundamental corporate financial information\n",
    "    2. Corporate emissions data (base year, historical)\n",
    "    3. Corporate target data (start year, end year, target start value, target end value)\n",
    "    4. Sector benchmark data (production, CO2e intensity)\n",
    "3. Dev Engine: Visualize projected emissions (targets and trajectories)\n",
    "4. Quant Engine: Using calculated cumulative emmisions values, visualize per-company trajectory and target temperature scores\n",
    "5. User Engine: Using consensus probability scoring\n",
    "    1. Publish per-company temperature alignment score\n",
    "    2. Based on aggregate portfolio information, produce weighting scores to yield overall portfolio alignment score"
   ]
  },
  {
   "cell_type": "code",
   "execution_count": 1,
   "id": "d1ab75f1-dc99-422d-b15b-ce043e32fff8",
   "metadata": {},
   "outputs": [],
   "source": [
    "import os\n",
    "import pathlib\n",
    "from dotenv import load_dotenv\n",
    "\n",
    "# Load some standard environment variables from a dot-env file, if it exists.\n",
    "# If no such file can be found, does not fail, and so allows these environment vars to\n",
    "# be populated in some other way\n",
    "dotenv_dir = os.environ.get('CREDENTIAL_DOTENV_DIR', os.environ.get('PWD', '/opt/app-root/src'))\n",
    "dotenv_path = pathlib.Path(dotenv_dir) / 'credentials.env'\n",
    "if os.path.exists(dotenv_path):\n",
    "    load_dotenv(dotenv_path=dotenv_path,override=True)"
   ]
  },
  {
   "cell_type": "code",
   "execution_count": 2,
   "id": "c28b54b2-61a7-4c7a-a82d-1277639a5096",
   "metadata": {},
   "outputs": [],
   "source": [
    "import trino\n",
    "from sqlalchemy.engine import create_engine\n",
    "\n",
    "sqlstring = 'trino://{user}@{host}:{port}/'.format(\n",
    "    user = os.environ['TRINO_USER'],\n",
    "    host = os.environ['TRINO_HOST'],\n",
    "    port = os.environ['TRINO_PORT']\n",
    ")\n",
    "sqlargs = {\n",
    "    'auth': trino.auth.JWTAuthentication(os.environ['TRINO_PASSWD']),\n",
    "    'http_scheme': 'https',\n",
    "    'catalog': 'osc_datacommons_dev',\n",
    "    'schema': 'itr_mdt',\n",
    "}\n",
    "engine = create_engine(sqlstring, connect_args = sqlargs)\n",
    "connection = engine.connect()\n",
    "\n",
    "ingest_schema = 'itr_mdt'"
   ]
  },
  {
   "cell_type": "code",
   "execution_count": 3,
   "id": "969b6d53-49d8-47d9-b218-6bdd790a7de4",
   "metadata": {},
   "outputs": [],
   "source": [
    "import json\n",
    "import os\n",
    "import pandas as pd\n",
    "from numpy.testing import assert_array_equal\n",
    "import ITR\n",
    "\n",
    "# from ITR.portfolio_aggregation import PortfolioAggregationMethod\n",
    "# from ITR.temperature_score import TemperatureScore\n",
    "# from ITR.configs import ColumnsConfig, TemperatureScoreConfig\n",
    "from ITR.data.data_warehouse import DataWarehouse\n",
    "from ITR.data.vault_providers import VaultCompanyDataProvider, VaultProviderProductionBenchmark, \\\n",
    "    VaultProviderIntensityBenchmark, DataVaultWarehouse\n",
    "from ITR.interfaces import ICompanyData, EScope, ETimeFrames, PortfolioCompany, IEmissionIntensityBenchmarkScopes, \\\n",
    "    IProductionBenchmarkScopes\n",
    "\n",
    "ingest_schema = 'itr_mdt'"
   ]
  },
  {
   "cell_type": "code",
   "execution_count": 4,
   "id": "022590f1-3359-4673-ae61-9c0dc035802e",
   "metadata": {},
   "outputs": [
    {
     "name": "stdout",
     "output_type": "stream",
     "text": [
      "connecting with engine Engine(trino://os-climate-user1@trino-secure-odh-trino.apps.odh-cl1.apps.os-climate.org:443/)\n"
     ]
    }
   ],
   "source": [
    "sqlstring = 'trino://{user}@{host}:{port}/'.format(\n",
    "    user = os.environ['TRINO_USER_USER1'],\n",
    "    host = os.environ['TRINO_HOST'],\n",
    "    port = os.environ['TRINO_PORT']\n",
    ")\n",
    "sqlargs = {\n",
    "    'auth': trino.auth.JWTAuthentication(os.environ['TRINO_PASSWD_USER1']),\n",
    "    'http_scheme': 'https'\n",
    "}\n",
    "engine_dev = create_engine(sqlstring, connect_args = sqlargs)\n",
    "print(\"connecting with engine \" + str(engine_dev))\n",
    "connection_dev = engine_dev.connect()"
   ]
  },
  {
   "cell_type": "code",
   "execution_count": null,
   "id": "51b02839-934d-4c12-a05d-6f8dea463dbc",
   "metadata": {},
   "outputs": [],
   "source": [
    "root = os.path.dirname(os.path.abspath(\"/opt/app-root/src/ITR/test/inputs\"))\n",
    "benchmark_prod_json = os.path.join(root, \"inputs\", \"json\", \"benchmark_production_OECM.json\")\n",
    "benchmark_EI_json = os.path.join(root, \"inputs\", \"json\", \"benchmark_EI_OECM.json\")\n",
    "\n",
    "# load production benchmarks\n",
    "with open(benchmark_prod_json) as json_file:\n",
    "    parsed_json = json.load(json_file)\n",
    "prod_bms = IProductionBenchmarkScopes.parse_obj(parsed_json)\n",
    "vault_production_bm = VaultProviderProductionBenchmark(engine=engine_dev, benchmark_name=\"benchmark_prod\", production_benchmarks=prod_bms)\n",
    "\n",
    "# load intensity benchmarks\n",
    "with open(benchmark_EI_json) as json_file:\n",
    "    parsed_json = json.load(json_file)\n",
    "ei_bms = IEmissionIntensityBenchmarkScopes.parse_obj(parsed_json)\n",
    "vault_EI_bm = VaultProviderIntensityBenchmark(benchmark_name=\"benchmark_ei\", EI_benchmarks=ei_bms)\n",
    "\n",
    "# load company data\n",
    "# TODO: ISIC code should read as int, not float\n",
    "vault_company_data = VaultCompanyDataProvider(ingest_schema, \"rmi_company_data\")\n",
    "\n",
    "vault_warehouse = DataVaultWarehouse(vault_company_data, vault_production_bm, vault_EI_bm)\n",
    "\n",
    "# Show projections for emissions trajectories, production, and emission targets (N0 only)\n",
    "# Show cumulative emissions (trajectory, target) and budget (N1 can also see)\n",
    "\n",
    "def test_N1_temp_scores(self):\n",
    "    # Show cumulative emissions (trajectory, target) and budget (N1 can see)\n",
    "    # Show overshoot ratios (trajectory, target) (N1 can see)\n",
    "    # Show trajectory and target temp scores (N2 can also see)\n",
    "    pass\n",
    "\n",
    "def test_N2_portfolio(self):\n",
    "    # Show weighted temp score over portfolio (N2 can see)\n",
    "    # Different weighting types give different coefficients\n",
    "    pass"
   ]
  },
  {
   "cell_type": "code",
   "execution_count": null,
   "id": "478870d4-a749-45f4-83b9-7cb2af23e6a0",
   "metadata": {},
   "outputs": [],
   "source": [
    "df = pd.read_sql_table(f\"rmi_emission_data\", engine)"
   ]
  },
  {
   "cell_type": "code",
   "execution_count": null,
   "id": "5462f5a1-0198-43f8-bf73-dad913dd45b6",
   "metadata": {},
   "outputs": [],
   "source": [
    "df = df.sort_values(['company_name', 'year']).reset_index(drop=True)"
   ]
  },
  {
   "cell_type": "code",
   "execution_count": null,
   "id": "ee1359d4-4ec2-44ea-8437-aebd0c083a18",
   "metadata": {},
   "outputs": [],
   "source": [
    "df"
   ]
  },
  {
   "cell_type": "code",
   "execution_count": null,
   "id": "d62463da-d900-4bff-8cd0-99748150a7a8",
   "metadata": {},
   "outputs": [],
   "source": [
    "df.pivot(index='year', columns='company_name', values='co2_target_by_year').reset_index().iloc[:, [x for x in list(range(0,3)) + list(range(3,90,3))]].plot(x='year', kind='line', figsize=(24,10))"
   ]
  },
  {
   "cell_type": "code",
   "execution_count": null,
   "id": "76d2ad90-ce27-484f-8de9-359153d32979",
   "metadata": {},
   "outputs": [],
   "source": []
  }
 ],
 "metadata": {
  "kernelspec": {
   "display_name": "Python 3",
   "language": "python",
   "name": "python3"
  },
  "language_info": {
   "codemirror_mode": {
    "name": "ipython",
    "version": 3
   },
   "file_extension": ".py",
   "mimetype": "text/x-python",
   "name": "python",
   "nbconvert_exporter": "python",
   "pygments_lexer": "ipython3",
   "version": "3.8.3"
  }
 },
 "nbformat": 4,
 "nbformat_minor": 5
}
