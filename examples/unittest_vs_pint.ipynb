{
 "cells": [
  {
   "cell_type": "code",
   "execution_count": 13,
   "id": "42085b49-fb8d-4d44-886b-316d5d6d8284",
   "metadata": {},
   "outputs": [
    {
     "name": "stdout",
     "output_type": "stream",
     "text": [
      "0    10.000000000000002\n",
      "1    50.000000000000014\n",
      "dtype: pint[CO2 * megametric_ton]\n",
      "expected_data = 0    10.0\n",
      "1    50.0\n",
      "dtype: pint[CO2 * megametric_ton]\n"
     ]
    },
    {
     "ename": "AssertionError",
     "evalue": "Series Expected type <class 'pandas.core.series.Series'>, found <class 'pint_pandas.pint_array.PintArray'> instead",
     "output_type": "error",
     "traceback": [
      "\u001b[0;31m---------------------------------------------------------------------------\u001b[0m",
      "\u001b[0;31mAssertionError\u001b[0m                            Traceback (most recent call last)",
      "\u001b[0;32m<ipython-input-13-fa3db4bfc359>\u001b[0m in \u001b[0;36m<module>\u001b[0;34m\u001b[0m\n\u001b[1;32m     41\u001b[0m \u001b[0;34m\u001b[0m\u001b[0m\n\u001b[1;32m     42\u001b[0m \u001b[0mx\u001b[0m \u001b[0;34m=\u001b[0m \u001b[0mTestBaseProvider\u001b[0m\u001b[0;34m(\u001b[0m\u001b[0;34m'test_pint_series_equality'\u001b[0m\u001b[0;34m)\u001b[0m\u001b[0;34m\u001b[0m\u001b[0;34m\u001b[0m\u001b[0m\n\u001b[0;32m---> 43\u001b[0;31m \u001b[0mTestBaseProvider\u001b[0m\u001b[0;34m.\u001b[0m\u001b[0mtest_pint_series_equality\u001b[0m\u001b[0;34m(\u001b[0m\u001b[0mx\u001b[0m\u001b[0;34m)\u001b[0m\u001b[0;34m\u001b[0m\u001b[0;34m\u001b[0m\u001b[0m\n\u001b[0m",
      "\u001b[0;32m<ipython-input-13-fa3db4bfc359>\u001b[0m in \u001b[0;36mtest_pint_series_equality\u001b[0;34m(self)\u001b[0m\n\u001b[1;32m     35\u001b[0m                                        projected_production=projected_production))\n\u001b[1;32m     36\u001b[0m         \u001b[0mprint\u001b[0m\u001b[0;34m(\u001b[0m\u001b[0;34mf\"expected_data = {expected_data}\"\u001b[0m\u001b[0;34m)\u001b[0m\u001b[0;34m\u001b[0m\u001b[0;34m\u001b[0m\u001b[0m\n\u001b[0;32m---> 37\u001b[0;31m         pd.testing.assert_series_equal(\n\u001b[0m\u001b[1;32m     38\u001b[0m             PA_._from_sequence(_get_cumulative_emission(projected_emission_intensity=projected_ei,\n\u001b[1;32m     39\u001b[0m                                      projected_production=projected_production)),\n",
      "    \u001b[0;31m[... skipping hidden 1 frame]\u001b[0m\n",
      "\u001b[0;32m/opt/app-root/lib64/python3.8/site-packages/pandas/_testing/asserters.py\u001b[0m in \u001b[0;36m_check_isinstance\u001b[0;34m(left, right, cls)\u001b[0m\n\u001b[1;32m    230\u001b[0m \u001b[0;34m\u001b[0m\u001b[0m\n\u001b[1;32m    231\u001b[0m     \u001b[0;32mif\u001b[0m \u001b[0;32mnot\u001b[0m \u001b[0misinstance\u001b[0m\u001b[0;34m(\u001b[0m\u001b[0mleft\u001b[0m\u001b[0;34m,\u001b[0m \u001b[0mcls\u001b[0m\u001b[0;34m)\u001b[0m\u001b[0;34m:\u001b[0m\u001b[0;34m\u001b[0m\u001b[0;34m\u001b[0m\u001b[0m\n\u001b[0;32m--> 232\u001b[0;31m         raise AssertionError(\n\u001b[0m\u001b[1;32m    233\u001b[0m             \u001b[0;34mf\"{cls_name} Expected type {cls}, found {type(left)} instead\"\u001b[0m\u001b[0;34m\u001b[0m\u001b[0;34m\u001b[0m\u001b[0m\n\u001b[1;32m    234\u001b[0m         )\n",
      "\u001b[0;31mAssertionError\u001b[0m: Series Expected type <class 'pandas.core.series.Series'>, found <class 'pint_pandas.pint_array.PintArray'> instead"
     ]
    }
   ],
   "source": [
    "import unittest\n",
    "import pandas as pd\n",
    "from numpy.testing import assert_array_equal\n",
    "\n",
    "from pint import set_application_registry\n",
    "from pint_pandas import PintArray, PintType\n",
    "from openscm_units import unit_registry\n",
    "PintType.ureg = unit_registry\n",
    "ureg = unit_registry\n",
    "set_application_registry(ureg)\n",
    "Q_ = ureg.Quantity\n",
    "PA_ = PintArray\n",
    "\n",
    "ureg.define(\"CO2e = CO2 = CO2eq = CO2_eq\")\n",
    "\n",
    "def _get_cumulative_emission(projected_emission_intensity, projected_production):\n",
    "    df = projected_emission_intensity.multiply(projected_production)\n",
    "    return df.sum(axis=1).astype('pint[Mt CO2]')\n",
    "\n",
    "class TestBaseProvider(unittest.TestCase):\n",
    "    \"\"\"\n",
    "    Test the Base provider\n",
    "    \"\"\"\n",
    "\n",
    "    def setUp(self) -> None:\n",
    "        pass\n",
    "    \n",
    "    def test_pint_series_equality(self):\n",
    "        projected_ei = pd.DataFrame([[Q_(1.0, 't CO2/MWh'), Q_(2.0, 't CO2/MWh')], [Q_(3.0, 't CO2/MWh'), Q_(4.0, 't CO2/MWh')]], dtype='pint[t CO2/MWh]')\n",
    "        projected_production = pd.DataFrame([[Q_(2.0, 'TWh'), Q_(4.0, 'TWh')], [Q_(6.0, 'TWh'), Q_(8.0, 'TWh')]], dtype='pint[TWh]')\n",
    "        expected_data = pd.Series([10.0, 50.0],\n",
    "                                    index=[0, 1],\n",
    "                                    dtype='pint[Mt CO2]')\n",
    "        print(_get_cumulative_emission(projected_emission_intensity=projected_ei,\n",
    "                                       projected_production=projected_production))\n",
    "        print(f\"expected_data = {expected_data}\")\n",
    "        pd.testing.assert_series_equal(\n",
    "            _get_cumulative_emission(projected_emission_intensity=projected_ei,\n",
    "                                     projected_production=projected_production), expected_data)\n",
    "\n",
    "x = TestBaseProvider('test_pint_series_equality')\n",
    "TestBaseProvider.test_pint_series_equality(x)"
   ]
  },
  {
   "cell_type": "code",
   "execution_count": null,
   "id": "9e730bfc-22ef-42c0-8d7f-3bfd14b30517",
   "metadata": {},
   "outputs": [],
   "source": []
  }
 ],
 "metadata": {
  "kernelspec": {
   "display_name": "Python 3",
   "language": "python",
   "name": "python3"
  },
  "language_info": {
   "codemirror_mode": {
    "name": "ipython",
    "version": 3
   },
   "file_extension": ".py",
   "mimetype": "text/x-python",
   "name": "python",
   "nbconvert_exporter": "python",
   "pygments_lexer": "ipython3",
   "version": "3.8.3"
  }
 },
 "nbformat": 4,
 "nbformat_minor": 5
}
